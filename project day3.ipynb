{
 "cells": [
  {
   "cell_type": "markdown",
   "id": "30263762",
   "metadata": {},
   "source": [
    "# Loading libraries"
   ]
  },
  {
   "cell_type": "code",
   "execution_count": 51,
   "id": "4e44c50b",
   "metadata": {},
   "outputs": [],
   "source": [
    "import pandas as pd\n",
    "import seaborn as sns\n",
    "import numpy as np\n",
    "from sklearn import linear_model\n",
    "from sklearn.metrics import mean_squared_error, r2_score"
   ]
  },
  {
   "cell_type": "markdown",
   "id": "41e57945",
   "metadata": {},
   "source": [
    "# Importing data"
   ]
  },
  {
   "cell_type": "code",
   "execution_count": 52,
   "id": "9f084ebb",
   "metadata": {},
   "outputs": [],
   "source": [
    "FDI2 = pd.read_excel('FDI2.xlsx')"
   ]
  },
  {
   "cell_type": "markdown",
   "id": "7bd6aaa5",
   "metadata": {},
   "source": [
    "# Exploring data"
   ]
  },
  {
   "cell_type": "code",
   "execution_count": 53,
   "id": "194bcc13",
   "metadata": {},
   "outputs": [
    {
     "data": {
      "text/html": [
       "<div>\n",
       "<style scoped>\n",
       "    .dataframe tbody tr th:only-of-type {\n",
       "        vertical-align: middle;\n",
       "    }\n",
       "\n",
       "    .dataframe tbody tr th {\n",
       "        vertical-align: top;\n",
       "    }\n",
       "\n",
       "    .dataframe thead th {\n",
       "        text-align: right;\n",
       "    }\n",
       "</style>\n",
       "<table border=\"1\" class=\"dataframe\">\n",
       "  <thead>\n",
       "    <tr style=\"text-align: right;\">\n",
       "      <th></th>\n",
       "      <th>payscode</th>\n",
       "      <th>codepays</th>\n",
       "      <th>Année</th>\n",
       "      <th>ide</th>\n",
       "      <th>toc</th>\n",
       "      <th>tcr</th>\n",
       "      <th>fbcf</th>\n",
       "      <th>climatdaffaire</th>\n",
       "      <th>scoreeasedoingbusiness</th>\n",
       "      <th>caff</th>\n",
       "      <th>edb</th>\n",
       "      <th>crp</th>\n",
       "      <th>BUF</th>\n",
       "      <th>invf</th>\n",
       "      <th>finfree</th>\n",
       "      <th>CM</th>\n",
       "    </tr>\n",
       "  </thead>\n",
       "  <tbody>\n",
       "    <tr>\n",
       "      <th>0</th>\n",
       "      <td>BGD</td>\n",
       "      <td>1</td>\n",
       "      <td>2004</td>\n",
       "      <td>4.489054e+08</td>\n",
       "      <td>38953960.63</td>\n",
       "      <td>59.512658</td>\n",
       "      <td>18286460936</td>\n",
       "      <td>47.380000</td>\n",
       "      <td>70.0</td>\n",
       "      <td>63.380000</td>\n",
       "      <td>66.00</td>\n",
       "      <td>0.11</td>\n",
       "      <td>55.0</td>\n",
       "      <td>50.0</td>\n",
       "      <td>70.0</td>\n",
       "      <td>10.671695</td>\n",
       "    </tr>\n",
       "    <tr>\n",
       "      <th>1</th>\n",
       "      <td>BGD</td>\n",
       "      <td>1</td>\n",
       "      <td>2005</td>\n",
       "      <td>7.605043e+08</td>\n",
       "      <td>51935441.53</td>\n",
       "      <td>64.327475</td>\n",
       "      <td>20071885132</td>\n",
       "      <td>42.400000</td>\n",
       "      <td>70.0</td>\n",
       "      <td>70.066667</td>\n",
       "      <td>61.30</td>\n",
       "      <td>0.06</td>\n",
       "      <td>55.0</td>\n",
       "      <td>50.0</td>\n",
       "      <td>70.0</td>\n",
       "      <td>4.751541</td>\n",
       "    </tr>\n",
       "    <tr>\n",
       "      <th>2</th>\n",
       "      <td>BGD</td>\n",
       "      <td>1</td>\n",
       "      <td>2006</td>\n",
       "      <td>4.565232e+08</td>\n",
       "      <td>59714312.41</td>\n",
       "      <td>68.933233</td>\n",
       "      <td>22056583775</td>\n",
       "      <td>50.916667</td>\n",
       "      <td>70.0</td>\n",
       "      <td>72.800000</td>\n",
       "      <td>63.90</td>\n",
       "      <td>-0.07</td>\n",
       "      <td>70.5</td>\n",
       "      <td>70.0</td>\n",
       "      <td>70.0</td>\n",
       "      <td>5.361124</td>\n",
       "    </tr>\n",
       "    <tr>\n",
       "      <th>3</th>\n",
       "      <td>BGD</td>\n",
       "      <td>1</td>\n",
       "      <td>2007</td>\n",
       "      <td>6.510297e+08</td>\n",
       "      <td>64798835.89</td>\n",
       "      <td>68.874875</td>\n",
       "      <td>23632938587</td>\n",
       "      <td>40.266667</td>\n",
       "      <td>70.0</td>\n",
       "      <td>69.450000</td>\n",
       "      <td>65.36</td>\n",
       "      <td>-0.18</td>\n",
       "      <td>70.3</td>\n",
       "      <td>60.0</td>\n",
       "      <td>60.0</td>\n",
       "      <td>10.969166</td>\n",
       "    </tr>\n",
       "    <tr>\n",
       "      <th>4</th>\n",
       "      <td>BGD</td>\n",
       "      <td>1</td>\n",
       "      <td>2008</td>\n",
       "      <td>1.328423e+09</td>\n",
       "      <td>62836842.93</td>\n",
       "      <td>68.598275</td>\n",
       "      <td>25952536543</td>\n",
       "      <td>36.650000</td>\n",
       "      <td>70.0</td>\n",
       "      <td>71.450000</td>\n",
       "      <td>67.00</td>\n",
       "      <td>-0.25</td>\n",
       "      <td>68.4</td>\n",
       "      <td>60.0</td>\n",
       "      <td>60.0</td>\n",
       "      <td>12.791560</td>\n",
       "    </tr>\n",
       "  </tbody>\n",
       "</table>\n",
       "</div>"
      ],
      "text/plain": [
       "  payscode  codepays  Année           ide          toc        tcr  \\\n",
       "0      BGD         1   2004  4.489054e+08  38953960.63  59.512658   \n",
       "1      BGD         1   2005  7.605043e+08  51935441.53  64.327475   \n",
       "2      BGD         1   2006  4.565232e+08  59714312.41  68.933233   \n",
       "3      BGD         1   2007  6.510297e+08  64798835.89  68.874875   \n",
       "4      BGD         1   2008  1.328423e+09  62836842.93  68.598275   \n",
       "\n",
       "          fbcf  climatdaffaire  scoreeasedoingbusiness       caff    edb  \\\n",
       "0  18286460936       47.380000                    70.0  63.380000  66.00   \n",
       "1  20071885132       42.400000                    70.0  70.066667  61.30   \n",
       "2  22056583775       50.916667                    70.0  72.800000  63.90   \n",
       "3  23632938587       40.266667                    70.0  69.450000  65.36   \n",
       "4  25952536543       36.650000                    70.0  71.450000  67.00   \n",
       "\n",
       "    crp   BUF  invf  finfree         CM  \n",
       "0  0.11  55.0  50.0     70.0  10.671695  \n",
       "1  0.06  55.0  50.0     70.0   4.751541  \n",
       "2 -0.07  70.5  70.0     70.0   5.361124  \n",
       "3 -0.18  70.3  60.0     60.0  10.969166  \n",
       "4 -0.25  68.4  60.0     60.0  12.791560  "
      ]
     },
     "execution_count": 53,
     "metadata": {},
     "output_type": "execute_result"
    }
   ],
   "source": [
    "FDI2.head()"
   ]
  },
  {
   "cell_type": "code",
   "execution_count": 54,
   "id": "ff96037d",
   "metadata": {
    "scrolled": true
   },
   "outputs": [
    {
     "data": {
      "text/html": [
       "<div>\n",
       "<style scoped>\n",
       "    .dataframe tbody tr th:only-of-type {\n",
       "        vertical-align: middle;\n",
       "    }\n",
       "\n",
       "    .dataframe tbody tr th {\n",
       "        vertical-align: top;\n",
       "    }\n",
       "\n",
       "    .dataframe thead th {\n",
       "        text-align: right;\n",
       "    }\n",
       "</style>\n",
       "<table border=\"1\" class=\"dataframe\">\n",
       "  <thead>\n",
       "    <tr style=\"text-align: right;\">\n",
       "      <th></th>\n",
       "      <th>payscode</th>\n",
       "      <th>codepays</th>\n",
       "      <th>Année</th>\n",
       "      <th>ide</th>\n",
       "      <th>toc</th>\n",
       "      <th>tcr</th>\n",
       "      <th>fbcf</th>\n",
       "      <th>climatdaffaire</th>\n",
       "      <th>scoreeasedoingbusiness</th>\n",
       "      <th>caff</th>\n",
       "      <th>edb</th>\n",
       "      <th>crp</th>\n",
       "      <th>BUF</th>\n",
       "      <th>invf</th>\n",
       "      <th>finfree</th>\n",
       "      <th>CM</th>\n",
       "    </tr>\n",
       "  </thead>\n",
       "  <tbody>\n",
       "    <tr>\n",
       "      <th>325</th>\n",
       "      <td>TUR</td>\n",
       "      <td>22</td>\n",
       "      <td>2014</td>\n",
       "      <td>1.333700e+10</td>\n",
       "      <td>35361166.84</td>\n",
       "      <td>2.188542</td>\n",
       "      <td>292106000000</td>\n",
       "      <td>68.933333</td>\n",
       "      <td>83.400</td>\n",
       "      <td>NaN</td>\n",
       "      <td>NaN</td>\n",
       "      <td>NaN</td>\n",
       "      <td>NaN</td>\n",
       "      <td>NaN</td>\n",
       "      <td>NaN</td>\n",
       "      <td>23.405529</td>\n",
       "    </tr>\n",
       "    <tr>\n",
       "      <th>326</th>\n",
       "      <td>TUR</td>\n",
       "      <td>22</td>\n",
       "      <td>2015</td>\n",
       "      <td>1.927400e+10</td>\n",
       "      <td>34868314.46</td>\n",
       "      <td>2.720009</td>\n",
       "      <td>319228000000</td>\n",
       "      <td>67.200000</td>\n",
       "      <td>77.500</td>\n",
       "      <td>NaN</td>\n",
       "      <td>NaN</td>\n",
       "      <td>NaN</td>\n",
       "      <td>NaN</td>\n",
       "      <td>NaN</td>\n",
       "      <td>NaN</td>\n",
       "      <td>21.851067</td>\n",
       "    </tr>\n",
       "    <tr>\n",
       "      <th>327</th>\n",
       "      <td>TUR</td>\n",
       "      <td>22</td>\n",
       "      <td>2016</td>\n",
       "      <td>1.395000e+10</td>\n",
       "      <td>34681331.76</td>\n",
       "      <td>3.020135</td>\n",
       "      <td>326401000000</td>\n",
       "      <td>67.483333</td>\n",
       "      <td>73.980</td>\n",
       "      <td>NaN</td>\n",
       "      <td>NaN</td>\n",
       "      <td>NaN</td>\n",
       "      <td>NaN</td>\n",
       "      <td>NaN</td>\n",
       "      <td>NaN</td>\n",
       "      <td>19.750290</td>\n",
       "    </tr>\n",
       "    <tr>\n",
       "      <th>328</th>\n",
       "      <td>TUR</td>\n",
       "      <td>22</td>\n",
       "      <td>2017</td>\n",
       "      <td>1.154600e+10</td>\n",
       "      <td>34774823.11</td>\n",
       "      <td>3.648133</td>\n",
       "      <td>353331000000</td>\n",
       "      <td>66.566667</td>\n",
       "      <td>72.900</td>\n",
       "      <td>NaN</td>\n",
       "      <td>NaN</td>\n",
       "      <td>NaN</td>\n",
       "      <td>NaN</td>\n",
       "      <td>NaN</td>\n",
       "      <td>NaN</td>\n",
       "      <td>26.486011</td>\n",
       "    </tr>\n",
       "    <tr>\n",
       "      <th>329</th>\n",
       "      <td>TUR</td>\n",
       "      <td>22</td>\n",
       "      <td>2018</td>\n",
       "      <td>1.306100e+10</td>\n",
       "      <td>34728077.44</td>\n",
       "      <td>4.828370</td>\n",
       "      <td>351244000000</td>\n",
       "      <td>66.133333</td>\n",
       "      <td>73.875</td>\n",
       "      <td>NaN</td>\n",
       "      <td>NaN</td>\n",
       "      <td>NaN</td>\n",
       "      <td>NaN</td>\n",
       "      <td>NaN</td>\n",
       "      <td>NaN</td>\n",
       "      <td>19.176135</td>\n",
       "    </tr>\n",
       "  </tbody>\n",
       "</table>\n",
       "</div>"
      ],
      "text/plain": [
       "    payscode  codepays  Année           ide          toc       tcr  \\\n",
       "325      TUR        22   2014  1.333700e+10  35361166.84  2.188542   \n",
       "326      TUR        22   2015  1.927400e+10  34868314.46  2.720009   \n",
       "327      TUR        22   2016  1.395000e+10  34681331.76  3.020135   \n",
       "328      TUR        22   2017  1.154600e+10  34774823.11  3.648133   \n",
       "329      TUR        22   2018  1.306100e+10  34728077.44  4.828370   \n",
       "\n",
       "             fbcf  climatdaffaire  scoreeasedoingbusiness  caff  edb  crp  \\\n",
       "325  292106000000       68.933333                  83.400   NaN  NaN  NaN   \n",
       "326  319228000000       67.200000                  77.500   NaN  NaN  NaN   \n",
       "327  326401000000       67.483333                  73.980   NaN  NaN  NaN   \n",
       "328  353331000000       66.566667                  72.900   NaN  NaN  NaN   \n",
       "329  351244000000       66.133333                  73.875   NaN  NaN  NaN   \n",
       "\n",
       "     BUF  invf  finfree         CM  \n",
       "325  NaN   NaN      NaN  23.405529  \n",
       "326  NaN   NaN      NaN  21.851067  \n",
       "327  NaN   NaN      NaN  19.750290  \n",
       "328  NaN   NaN      NaN  26.486011  \n",
       "329  NaN   NaN      NaN  19.176135  "
      ]
     },
     "execution_count": 54,
     "metadata": {},
     "output_type": "execute_result"
    }
   ],
   "source": [
    "FDI2.tail()"
   ]
  },
  {
   "cell_type": "code",
   "execution_count": null,
   "id": "a6ffd33b",
   "metadata": {},
   "outputs": [],
   "source": []
  },
  {
   "cell_type": "markdown",
   "id": "49a89a1e",
   "metadata": {},
   "source": [
    "# rename columns"
   ]
  },
  {
   "cell_type": "code",
   "execution_count": 55,
   "id": "82352976",
   "metadata": {},
   "outputs": [],
   "source": [
    "FDI2.rename(columns = {'payscode': 'id_countries', 'Année': 'year' , 'codepays': 'ID_countries' , 'ide' : 'fdi', 'toc' : 'commercial_opening_rate', 'CM' : 'Stock_Market'}, inplace = True)"
   ]
  },
  {
   "cell_type": "code",
   "execution_count": 56,
   "id": "e712ebd1",
   "metadata": {},
   "outputs": [],
   "source": [
    "FDI2.rename(columns = {'tcr' : 'Exchange_rate' , 'fbcf' : 'gross_fixed_capital_formation' ,  'climatdaffaire' : 'business_climate',   'cm' : 'stock_market'}, inplace = True)"
   ]
  },
  {
   "cell_type": "markdown",
   "id": "ed72e555",
   "metadata": {},
   "source": [
    "# Convert ID_countries and year to string"
   ]
  },
  {
   "cell_type": "code",
   "execution_count": 57,
   "id": "42e6cab9",
   "metadata": {},
   "outputs": [
    {
     "data": {
      "text/plain": [
       "id_countries                      object\n",
       "ID_countries                      string\n",
       "year                               int64\n",
       "fdi                              float64\n",
       "commercial_opening_rate          float64\n",
       "Exchange_rate                    float64\n",
       "gross_fixed_capital_formation      int64\n",
       "business_climate                 float64\n",
       "scoreeasedoingbusiness           float64\n",
       "caff                             float64\n",
       "edb                              float64\n",
       "crp                              float64\n",
       "BUF                              float64\n",
       "invf                             float64\n",
       "finfree                          float64\n",
       "Stock_Market                     float64\n",
       "dtype: object"
      ]
     },
     "execution_count": 57,
     "metadata": {},
     "output_type": "execute_result"
    }
   ],
   "source": [
    "FDI2['ID_countries'] = FDI2['ID_countries'].astype('string')\n",
    "FDI2.dtypes"
   ]
  },
  {
   "cell_type": "code",
   "execution_count": 58,
   "id": "a0722b6f",
   "metadata": {},
   "outputs": [
    {
     "data": {
      "text/plain": [
       "id_countries                      object\n",
       "ID_countries                      string\n",
       "year                              string\n",
       "fdi                              float64\n",
       "commercial_opening_rate          float64\n",
       "Exchange_rate                    float64\n",
       "gross_fixed_capital_formation      int64\n",
       "business_climate                 float64\n",
       "scoreeasedoingbusiness           float64\n",
       "caff                             float64\n",
       "edb                              float64\n",
       "crp                              float64\n",
       "BUF                              float64\n",
       "invf                             float64\n",
       "finfree                          float64\n",
       "Stock_Market                     float64\n",
       "dtype: object"
      ]
     },
     "execution_count": 58,
     "metadata": {},
     "output_type": "execute_result"
    }
   ],
   "source": [
    "FDI2['year'] = FDI2['year'].astype('string')\n",
    "FDI2.dtypes"
   ]
  },
  {
   "cell_type": "markdown",
   "id": "f2ad05cd",
   "metadata": {},
   "source": [
    "# convert year to datetime"
   ]
  },
  {
   "cell_type": "code",
   "execution_count": 59,
   "id": "179ebea0",
   "metadata": {},
   "outputs": [
    {
     "data": {
      "text/plain": [
       "id_countries                             object\n",
       "ID_countries                             string\n",
       "year                             datetime64[ns]\n",
       "fdi                                     float64\n",
       "commercial_opening_rate                 float64\n",
       "Exchange_rate                           float64\n",
       "gross_fixed_capital_formation             int64\n",
       "business_climate                        float64\n",
       "scoreeasedoingbusiness                  float64\n",
       "caff                                    float64\n",
       "edb                                     float64\n",
       "crp                                     float64\n",
       "BUF                                     float64\n",
       "invf                                    float64\n",
       "finfree                                 float64\n",
       "Stock_Market                            float64\n",
       "dtype: object"
      ]
     },
     "execution_count": 59,
     "metadata": {},
     "output_type": "execute_result"
    }
   ],
   "source": [
    "FDI2['year'] = pd.to_datetime(FDI2['year'])\n",
    "FDI2.dtypes"
   ]
  },
  {
   "cell_type": "code",
   "execution_count": 60,
   "id": "8729343b",
   "metadata": {},
   "outputs": [
    {
     "data": {
      "text/html": [
       "<div>\n",
       "<style scoped>\n",
       "    .dataframe tbody tr th:only-of-type {\n",
       "        vertical-align: middle;\n",
       "    }\n",
       "\n",
       "    .dataframe tbody tr th {\n",
       "        vertical-align: top;\n",
       "    }\n",
       "\n",
       "    .dataframe thead th {\n",
       "        text-align: right;\n",
       "    }\n",
       "</style>\n",
       "<table border=\"1\" class=\"dataframe\">\n",
       "  <thead>\n",
       "    <tr style=\"text-align: right;\">\n",
       "      <th></th>\n",
       "      <th>id_countries</th>\n",
       "      <th>ID_countries</th>\n",
       "      <th>year</th>\n",
       "      <th>fdi</th>\n",
       "      <th>commercial_opening_rate</th>\n",
       "      <th>Exchange_rate</th>\n",
       "      <th>gross_fixed_capital_formation</th>\n",
       "      <th>business_climate</th>\n",
       "      <th>scoreeasedoingbusiness</th>\n",
       "      <th>caff</th>\n",
       "      <th>edb</th>\n",
       "      <th>crp</th>\n",
       "      <th>BUF</th>\n",
       "      <th>invf</th>\n",
       "      <th>finfree</th>\n",
       "      <th>Stock_Market</th>\n",
       "    </tr>\n",
       "  </thead>\n",
       "  <tbody>\n",
       "    <tr>\n",
       "      <th>0</th>\n",
       "      <td>BGD</td>\n",
       "      <td>1</td>\n",
       "      <td>2004-01-01</td>\n",
       "      <td>4.489054e+08</td>\n",
       "      <td>38953960.63</td>\n",
       "      <td>59.512658</td>\n",
       "      <td>18286460936</td>\n",
       "      <td>47.380000</td>\n",
       "      <td>70.0</td>\n",
       "      <td>63.380000</td>\n",
       "      <td>66.00</td>\n",
       "      <td>0.11</td>\n",
       "      <td>55.0</td>\n",
       "      <td>50.0</td>\n",
       "      <td>70.0</td>\n",
       "      <td>10.671695</td>\n",
       "    </tr>\n",
       "    <tr>\n",
       "      <th>1</th>\n",
       "      <td>BGD</td>\n",
       "      <td>1</td>\n",
       "      <td>2005-01-01</td>\n",
       "      <td>7.605043e+08</td>\n",
       "      <td>51935441.53</td>\n",
       "      <td>64.327475</td>\n",
       "      <td>20071885132</td>\n",
       "      <td>42.400000</td>\n",
       "      <td>70.0</td>\n",
       "      <td>70.066667</td>\n",
       "      <td>61.30</td>\n",
       "      <td>0.06</td>\n",
       "      <td>55.0</td>\n",
       "      <td>50.0</td>\n",
       "      <td>70.0</td>\n",
       "      <td>4.751541</td>\n",
       "    </tr>\n",
       "    <tr>\n",
       "      <th>2</th>\n",
       "      <td>BGD</td>\n",
       "      <td>1</td>\n",
       "      <td>2006-01-01</td>\n",
       "      <td>4.565232e+08</td>\n",
       "      <td>59714312.41</td>\n",
       "      <td>68.933233</td>\n",
       "      <td>22056583775</td>\n",
       "      <td>50.916667</td>\n",
       "      <td>70.0</td>\n",
       "      <td>72.800000</td>\n",
       "      <td>63.90</td>\n",
       "      <td>-0.07</td>\n",
       "      <td>70.5</td>\n",
       "      <td>70.0</td>\n",
       "      <td>70.0</td>\n",
       "      <td>5.361124</td>\n",
       "    </tr>\n",
       "    <tr>\n",
       "      <th>3</th>\n",
       "      <td>BGD</td>\n",
       "      <td>1</td>\n",
       "      <td>2007-01-01</td>\n",
       "      <td>6.510297e+08</td>\n",
       "      <td>64798835.89</td>\n",
       "      <td>68.874875</td>\n",
       "      <td>23632938587</td>\n",
       "      <td>40.266667</td>\n",
       "      <td>70.0</td>\n",
       "      <td>69.450000</td>\n",
       "      <td>65.36</td>\n",
       "      <td>-0.18</td>\n",
       "      <td>70.3</td>\n",
       "      <td>60.0</td>\n",
       "      <td>60.0</td>\n",
       "      <td>10.969166</td>\n",
       "    </tr>\n",
       "    <tr>\n",
       "      <th>4</th>\n",
       "      <td>BGD</td>\n",
       "      <td>1</td>\n",
       "      <td>2008-01-01</td>\n",
       "      <td>1.328423e+09</td>\n",
       "      <td>62836842.93</td>\n",
       "      <td>68.598275</td>\n",
       "      <td>25952536543</td>\n",
       "      <td>36.650000</td>\n",
       "      <td>70.0</td>\n",
       "      <td>71.450000</td>\n",
       "      <td>67.00</td>\n",
       "      <td>-0.25</td>\n",
       "      <td>68.4</td>\n",
       "      <td>60.0</td>\n",
       "      <td>60.0</td>\n",
       "      <td>12.791560</td>\n",
       "    </tr>\n",
       "  </tbody>\n",
       "</table>\n",
       "</div>"
      ],
      "text/plain": [
       "  id_countries ID_countries       year           fdi  commercial_opening_rate  \\\n",
       "0          BGD            1 2004-01-01  4.489054e+08              38953960.63   \n",
       "1          BGD            1 2005-01-01  7.605043e+08              51935441.53   \n",
       "2          BGD            1 2006-01-01  4.565232e+08              59714312.41   \n",
       "3          BGD            1 2007-01-01  6.510297e+08              64798835.89   \n",
       "4          BGD            1 2008-01-01  1.328423e+09              62836842.93   \n",
       "\n",
       "   Exchange_rate  gross_fixed_capital_formation  business_climate  \\\n",
       "0      59.512658                    18286460936         47.380000   \n",
       "1      64.327475                    20071885132         42.400000   \n",
       "2      68.933233                    22056583775         50.916667   \n",
       "3      68.874875                    23632938587         40.266667   \n",
       "4      68.598275                    25952536543         36.650000   \n",
       "\n",
       "   scoreeasedoingbusiness       caff    edb   crp   BUF  invf  finfree  \\\n",
       "0                    70.0  63.380000  66.00  0.11  55.0  50.0     70.0   \n",
       "1                    70.0  70.066667  61.30  0.06  55.0  50.0     70.0   \n",
       "2                    70.0  72.800000  63.90 -0.07  70.5  70.0     70.0   \n",
       "3                    70.0  69.450000  65.36 -0.18  70.3  60.0     60.0   \n",
       "4                    70.0  71.450000  67.00 -0.25  68.4  60.0     60.0   \n",
       "\n",
       "   Stock_Market  \n",
       "0     10.671695  \n",
       "1      4.751541  \n",
       "2      5.361124  \n",
       "3     10.969166  \n",
       "4     12.791560  "
      ]
     },
     "execution_count": 60,
     "metadata": {},
     "output_type": "execute_result"
    }
   ],
   "source": [
    "FDI2.head()"
   ]
  },
  {
   "cell_type": "markdown",
   "id": "95d1d587",
   "metadata": {},
   "source": [
    "I decided to drop the following columns because of ..."
   ]
  },
  {
   "cell_type": "code",
   "execution_count": 61,
   "id": "d214ff28",
   "metadata": {},
   "outputs": [],
   "source": [
    "FDI3= FDI2.drop(['caff', 'edb', 'crp', 'ID_countries', 'Exchange_rate' ], axis=1)"
   ]
  },
  {
   "cell_type": "code",
   "execution_count": 62,
   "id": "212fab44",
   "metadata": {},
   "outputs": [
    {
     "data": {
      "text/html": [
       "<div>\n",
       "<style scoped>\n",
       "    .dataframe tbody tr th:only-of-type {\n",
       "        vertical-align: middle;\n",
       "    }\n",
       "\n",
       "    .dataframe tbody tr th {\n",
       "        vertical-align: top;\n",
       "    }\n",
       "\n",
       "    .dataframe thead th {\n",
       "        text-align: right;\n",
       "    }\n",
       "</style>\n",
       "<table border=\"1\" class=\"dataframe\">\n",
       "  <thead>\n",
       "    <tr style=\"text-align: right;\">\n",
       "      <th></th>\n",
       "      <th>id_countries</th>\n",
       "      <th>year</th>\n",
       "      <th>fdi</th>\n",
       "      <th>commercial_opening_rate</th>\n",
       "      <th>gross_fixed_capital_formation</th>\n",
       "      <th>business_climate</th>\n",
       "      <th>scoreeasedoingbusiness</th>\n",
       "      <th>BUF</th>\n",
       "      <th>invf</th>\n",
       "      <th>finfree</th>\n",
       "      <th>Stock_Market</th>\n",
       "    </tr>\n",
       "  </thead>\n",
       "  <tbody>\n",
       "    <tr>\n",
       "      <th>0</th>\n",
       "      <td>BGD</td>\n",
       "      <td>2004-01-01</td>\n",
       "      <td>4.489054e+08</td>\n",
       "      <td>38953960.63</td>\n",
       "      <td>18286460936</td>\n",
       "      <td>47.380000</td>\n",
       "      <td>70.000</td>\n",
       "      <td>55.0</td>\n",
       "      <td>50.0</td>\n",
       "      <td>70.0</td>\n",
       "      <td>10.671695</td>\n",
       "    </tr>\n",
       "    <tr>\n",
       "      <th>1</th>\n",
       "      <td>BGD</td>\n",
       "      <td>2005-01-01</td>\n",
       "      <td>7.605043e+08</td>\n",
       "      <td>51935441.53</td>\n",
       "      <td>20071885132</td>\n",
       "      <td>42.400000</td>\n",
       "      <td>70.000</td>\n",
       "      <td>55.0</td>\n",
       "      <td>50.0</td>\n",
       "      <td>70.0</td>\n",
       "      <td>4.751541</td>\n",
       "    </tr>\n",
       "    <tr>\n",
       "      <th>2</th>\n",
       "      <td>BGD</td>\n",
       "      <td>2006-01-01</td>\n",
       "      <td>4.565232e+08</td>\n",
       "      <td>59714312.41</td>\n",
       "      <td>22056583775</td>\n",
       "      <td>50.916667</td>\n",
       "      <td>70.000</td>\n",
       "      <td>70.5</td>\n",
       "      <td>70.0</td>\n",
       "      <td>70.0</td>\n",
       "      <td>5.361124</td>\n",
       "    </tr>\n",
       "    <tr>\n",
       "      <th>3</th>\n",
       "      <td>BGD</td>\n",
       "      <td>2007-01-01</td>\n",
       "      <td>6.510297e+08</td>\n",
       "      <td>64798835.89</td>\n",
       "      <td>23632938587</td>\n",
       "      <td>40.266667</td>\n",
       "      <td>70.000</td>\n",
       "      <td>70.3</td>\n",
       "      <td>60.0</td>\n",
       "      <td>60.0</td>\n",
       "      <td>10.969166</td>\n",
       "    </tr>\n",
       "    <tr>\n",
       "      <th>4</th>\n",
       "      <td>BGD</td>\n",
       "      <td>2008-01-01</td>\n",
       "      <td>1.328423e+09</td>\n",
       "      <td>62836842.93</td>\n",
       "      <td>25952536543</td>\n",
       "      <td>36.650000</td>\n",
       "      <td>70.000</td>\n",
       "      <td>68.4</td>\n",
       "      <td>60.0</td>\n",
       "      <td>60.0</td>\n",
       "      <td>12.791560</td>\n",
       "    </tr>\n",
       "    <tr>\n",
       "      <th>...</th>\n",
       "      <td>...</td>\n",
       "      <td>...</td>\n",
       "      <td>...</td>\n",
       "      <td>...</td>\n",
       "      <td>...</td>\n",
       "      <td>...</td>\n",
       "      <td>...</td>\n",
       "      <td>...</td>\n",
       "      <td>...</td>\n",
       "      <td>...</td>\n",
       "      <td>...</td>\n",
       "    </tr>\n",
       "    <tr>\n",
       "      <th>325</th>\n",
       "      <td>TUR</td>\n",
       "      <td>2014-01-01</td>\n",
       "      <td>1.333700e+10</td>\n",
       "      <td>35361166.84</td>\n",
       "      <td>292106000000</td>\n",
       "      <td>68.933333</td>\n",
       "      <td>83.400</td>\n",
       "      <td>NaN</td>\n",
       "      <td>NaN</td>\n",
       "      <td>NaN</td>\n",
       "      <td>23.405529</td>\n",
       "    </tr>\n",
       "    <tr>\n",
       "      <th>326</th>\n",
       "      <td>TUR</td>\n",
       "      <td>2015-01-01</td>\n",
       "      <td>1.927400e+10</td>\n",
       "      <td>34868314.46</td>\n",
       "      <td>319228000000</td>\n",
       "      <td>67.200000</td>\n",
       "      <td>77.500</td>\n",
       "      <td>NaN</td>\n",
       "      <td>NaN</td>\n",
       "      <td>NaN</td>\n",
       "      <td>21.851067</td>\n",
       "    </tr>\n",
       "    <tr>\n",
       "      <th>327</th>\n",
       "      <td>TUR</td>\n",
       "      <td>2016-01-01</td>\n",
       "      <td>1.395000e+10</td>\n",
       "      <td>34681331.76</td>\n",
       "      <td>326401000000</td>\n",
       "      <td>67.483333</td>\n",
       "      <td>73.980</td>\n",
       "      <td>NaN</td>\n",
       "      <td>NaN</td>\n",
       "      <td>NaN</td>\n",
       "      <td>19.750290</td>\n",
       "    </tr>\n",
       "    <tr>\n",
       "      <th>328</th>\n",
       "      <td>TUR</td>\n",
       "      <td>2017-01-01</td>\n",
       "      <td>1.154600e+10</td>\n",
       "      <td>34774823.11</td>\n",
       "      <td>353331000000</td>\n",
       "      <td>66.566667</td>\n",
       "      <td>72.900</td>\n",
       "      <td>NaN</td>\n",
       "      <td>NaN</td>\n",
       "      <td>NaN</td>\n",
       "      <td>26.486011</td>\n",
       "    </tr>\n",
       "    <tr>\n",
       "      <th>329</th>\n",
       "      <td>TUR</td>\n",
       "      <td>2018-01-01</td>\n",
       "      <td>1.306100e+10</td>\n",
       "      <td>34728077.44</td>\n",
       "      <td>351244000000</td>\n",
       "      <td>66.133333</td>\n",
       "      <td>73.875</td>\n",
       "      <td>NaN</td>\n",
       "      <td>NaN</td>\n",
       "      <td>NaN</td>\n",
       "      <td>19.176135</td>\n",
       "    </tr>\n",
       "  </tbody>\n",
       "</table>\n",
       "<p>330 rows × 11 columns</p>\n",
       "</div>"
      ],
      "text/plain": [
       "    id_countries       year           fdi  commercial_opening_rate  \\\n",
       "0            BGD 2004-01-01  4.489054e+08              38953960.63   \n",
       "1            BGD 2005-01-01  7.605043e+08              51935441.53   \n",
       "2            BGD 2006-01-01  4.565232e+08              59714312.41   \n",
       "3            BGD 2007-01-01  6.510297e+08              64798835.89   \n",
       "4            BGD 2008-01-01  1.328423e+09              62836842.93   \n",
       "..           ...        ...           ...                      ...   \n",
       "325          TUR 2014-01-01  1.333700e+10              35361166.84   \n",
       "326          TUR 2015-01-01  1.927400e+10              34868314.46   \n",
       "327          TUR 2016-01-01  1.395000e+10              34681331.76   \n",
       "328          TUR 2017-01-01  1.154600e+10              34774823.11   \n",
       "329          TUR 2018-01-01  1.306100e+10              34728077.44   \n",
       "\n",
       "     gross_fixed_capital_formation  business_climate  scoreeasedoingbusiness  \\\n",
       "0                      18286460936         47.380000                  70.000   \n",
       "1                      20071885132         42.400000                  70.000   \n",
       "2                      22056583775         50.916667                  70.000   \n",
       "3                      23632938587         40.266667                  70.000   \n",
       "4                      25952536543         36.650000                  70.000   \n",
       "..                             ...               ...                     ...   \n",
       "325                   292106000000         68.933333                  83.400   \n",
       "326                   319228000000         67.200000                  77.500   \n",
       "327                   326401000000         67.483333                  73.980   \n",
       "328                   353331000000         66.566667                  72.900   \n",
       "329                   351244000000         66.133333                  73.875   \n",
       "\n",
       "      BUF  invf  finfree  Stock_Market  \n",
       "0    55.0  50.0     70.0     10.671695  \n",
       "1    55.0  50.0     70.0      4.751541  \n",
       "2    70.5  70.0     70.0      5.361124  \n",
       "3    70.3  60.0     60.0     10.969166  \n",
       "4    68.4  60.0     60.0     12.791560  \n",
       "..    ...   ...      ...           ...  \n",
       "325   NaN   NaN      NaN     23.405529  \n",
       "326   NaN   NaN      NaN     21.851067  \n",
       "327   NaN   NaN      NaN     19.750290  \n",
       "328   NaN   NaN      NaN     26.486011  \n",
       "329   NaN   NaN      NaN     19.176135  \n",
       "\n",
       "[330 rows x 11 columns]"
      ]
     },
     "metadata": {},
     "output_type": "display_data"
    }
   ],
   "source": [
    "display (FDI3)"
   ]
  },
  {
   "cell_type": "markdown",
   "id": "2b692b67",
   "metadata": {},
   "source": [
    "# lower case the variables"
   ]
  },
  {
   "cell_type": "code",
   "execution_count": 63,
   "id": "a5b1d4e8",
   "metadata": {},
   "outputs": [
    {
     "data": {
      "text/plain": [
       "Index(['id_countries', 'year', 'fdi', 'commercial_opening_rate',\n",
       "       'gross_fixed_capital_formation', 'business_climate',\n",
       "       'scoreeasedoingbusiness', 'buf', 'invf', 'finfree', 'stock_market'],\n",
       "      dtype='object')"
      ]
     },
     "execution_count": 63,
     "metadata": {},
     "output_type": "execute_result"
    }
   ],
   "source": [
    "FDI3.columns = list(map(lambda x: x.lower(), FDI3.columns))\n",
    "FDI3.columns.unique()"
   ]
  },
  {
   "cell_type": "markdown",
   "id": "c1e488db",
   "metadata": {},
   "source": [
    "# exploring the data afer modification"
   ]
  },
  {
   "cell_type": "code",
   "execution_count": 64,
   "id": "a3756ee1",
   "metadata": {},
   "outputs": [
    {
     "data": {
      "text/plain": [
       "(330, 11)"
      ]
     },
     "execution_count": 64,
     "metadata": {},
     "output_type": "execute_result"
    }
   ],
   "source": [
    "FDI3.shape"
   ]
  },
  {
   "cell_type": "code",
   "execution_count": 65,
   "id": "ecfaa495",
   "metadata": {},
   "outputs": [
    {
     "data": {
      "text/plain": [
       "id_countries                             object\n",
       "year                             datetime64[ns]\n",
       "fdi                                     float64\n",
       "commercial_opening_rate                 float64\n",
       "gross_fixed_capital_formation             int64\n",
       "business_climate                        float64\n",
       "scoreeasedoingbusiness                  float64\n",
       "buf                                     float64\n",
       "invf                                    float64\n",
       "finfree                                 float64\n",
       "stock_market                            float64\n",
       "dtype: object"
      ]
     },
     "execution_count": 65,
     "metadata": {},
     "output_type": "execute_result"
    }
   ],
   "source": [
    "FDI3.dtypes"
   ]
  },
  {
   "cell_type": "code",
   "execution_count": 66,
   "id": "dca0ce90",
   "metadata": {},
   "outputs": [
    {
     "name": "stdout",
     "output_type": "stream",
     "text": [
      "<class 'pandas.core.frame.DataFrame'>\n",
      "RangeIndex: 330 entries, 0 to 329\n",
      "Data columns (total 11 columns):\n",
      " #   Column                         Non-Null Count  Dtype         \n",
      "---  ------                         --------------  -----         \n",
      " 0   id_countries                   330 non-null    object        \n",
      " 1   year                           330 non-null    datetime64[ns]\n",
      " 2   fdi                            330 non-null    float64       \n",
      " 3   commercial_opening_rate        330 non-null    float64       \n",
      " 4   gross_fixed_capital_formation  330 non-null    int64         \n",
      " 5   business_climate               330 non-null    float64       \n",
      " 6   scoreeasedoingbusiness         330 non-null    float64       \n",
      " 7   buf                            165 non-null    float64       \n",
      " 8   invf                           165 non-null    float64       \n",
      " 9   finfree                        165 non-null    float64       \n",
      " 10  stock_market                   330 non-null    float64       \n",
      "dtypes: datetime64[ns](1), float64(8), int64(1), object(1)\n",
      "memory usage: 28.5+ KB\n"
     ]
    }
   ],
   "source": [
    "FDI3.info()"
   ]
  },
  {
   "cell_type": "code",
   "execution_count": 67,
   "id": "49c6f34d",
   "metadata": {},
   "outputs": [
    {
     "data": {
      "text/plain": [
       "[448905400.7,\n",
       " 760504265.8,\n",
       " 456523167.7,\n",
       " 651029738.1,\n",
       " 1328422987.0,\n",
       " 901286583.1,\n",
       " 1232258247.0,\n",
       " 1264725163.0,\n",
       " 1584403460.0,\n",
       " 2602962095.0,\n",
       " 2539190940.0,\n",
       " 2831152765.0,\n",
       " 2332724781.0,\n",
       " 1810395804.0,\n",
       " 2940222420.0,\n",
       " 3072550962.0,\n",
       " 4098122931.0,\n",
       " 7874476255.0,\n",
       " 13875270457.0,\n",
       " 10296720634.0,\n",
       " 3896664559.0,\n",
       " 1842900000.0,\n",
       " 2103810000.0,\n",
       " 1788110000.0,\n",
       " 1989040000.0,\n",
       " 1093600000.0,\n",
       " 2609370000.0,\n",
       " 1562800000.0,\n",
       " 2020340000.0,\n",
       " 1222580000.0,\n",
       " 18181190855.0,\n",
       " 15459981604.0,\n",
       " 19378093068.0,\n",
       " 44579492464.0,\n",
       " 50716402711.0,\n",
       " 31480932200.0,\n",
       " 82389933624.0,\n",
       " 102427000000.0,\n",
       " 92568379495.0,\n",
       " 75211028087.0,\n",
       " 87713987797.0,\n",
       " 60334050668.0,\n",
       " 73377909022.0,\n",
       " 68885072606.0,\n",
       " 78162572753.0,\n",
       " 68117272181.0,\n",
       " 104109000000.0,\n",
       " 124082000000.0,\n",
       " 156249000000.0,\n",
       " 171535000000.0,\n",
       " 131057000000.0,\n",
       " 243703000000.0,\n",
       " 280072000000.0,\n",
       " 241214000000.0,\n",
       " 290928000000.0,\n",
       " 268097000000.0,\n",
       " 242489000000.0,\n",
       " 174750000000.0,\n",
       " 166084000000.0,\n",
       " 203492000000.0,\n",
       " 881851385.0,\n",
       " 1156000000.0,\n",
       " 1841000000.0,\n",
       " 1686736540.0,\n",
       " 2638607034.0,\n",
       " 2746930734.0,\n",
       " 2300369124.0,\n",
       " 2571237025.0,\n",
       " 1500402453.0,\n",
       " 1691886708.0,\n",
       " 1502206171.0,\n",
       " -537792920.9,\n",
       " 1638263954.0,\n",
       " 1200965280.0,\n",
       " 1506316886.0,\n",
       " 1253300000.0,\n",
       " 5375600000.0,\n",
       " 10042800000.0,\n",
       " 11578100000.0,\n",
       " 9494600000.0,\n",
       " 6711600000.0,\n",
       " 6385600000.0,\n",
       " -482700000.0,\n",
       " 2797700000.0,\n",
       " 4192200000.0,\n",
       " 4612200000.0,\n",
       " 6925200000.0,\n",
       " 8106800000.0,\n",
       " 7408700000.0,\n",
       " 6797600000.0,\n",
       " 1896082770.0,\n",
       " 8336257208.0,\n",
       " 4914201435.0,\n",
       " 6928480000.0,\n",
       " 9318453650.0,\n",
       " 4877369178.0,\n",
       " 15292009411.0,\n",
       " 20564938227.0,\n",
       " 21200778608.0,\n",
       " 23281742362.0,\n",
       " 25120732060.0,\n",
       " 19779127977.0,\n",
       " 4541713739.0,\n",
       " 20510310832.0,\n",
       " 19703343215.0,\n",
       " 5429250990.0,\n",
       " 7269407226.0,\n",
       " 20029119267.0,\n",
       " 25227740887.0,\n",
       " 43406277076.0,\n",
       " 35581372930.0,\n",
       " 27396885034.0,\n",
       " 36498654598.0,\n",
       " 23995685014.0,\n",
       " 28153031270.0,\n",
       " 34576643694.0,\n",
       " 44009492130.0,\n",
       " 44458571546.0,\n",
       " 39966091359.0,\n",
       " 42117450737.0,\n",
       " 3037299840.0,\n",
       " 2889191670.0,\n",
       " 2317538500.0,\n",
       " 2017791750.0,\n",
       " 1979988010.0,\n",
       " 2983421910.0,\n",
       " 3648972410.0,\n",
       " 4276718690.0,\n",
       " 4661734400.0,\n",
       " 3049945000.0,\n",
       " 2105494000.0,\n",
       " 2050000000.0,\n",
       " 3372000000.0,\n",
       " 5019000000.0,\n",
       " 3480333000.0,\n",
       " 559365888.0,\n",
       " 637901995.9,\n",
       " 842342788.3,\n",
       " 811902426.3,\n",
       " 1376602630.0,\n",
       " 485164640.1,\n",
       " 185775630.6,\n",
       " 172757165.4,\n",
       " 413333448.1,\n",
       " 544747561.8,\n",
       " 582148741.6,\n",
       " 924977863.7,\n",
       " 927976719.0,\n",
       " 888835228.5,\n",
       " 774620603.1,\n",
       " 46063931.45,\n",
       " 21211685.4,\n",
       " 50674725.18,\n",
       " 729044146.0,\n",
       " 95585680.23,\n",
       " 116257609.0,\n",
       " 178064606.8,\n",
       " 1450474757.0,\n",
       " 1380173662.0,\n",
       " 1118825000.0,\n",
       " 820937598.4,\n",
       " 619724470.5,\n",
       " 393359420.9,\n",
       " 671488392.9,\n",
       " 1625921494.0,\n",
       " 787053819.0,\n",
       " 1619752454.0,\n",
       " 2366000096.0,\n",
       " 2806642141.0,\n",
       " 2466288357.0,\n",
       " 1970323920.0,\n",
       " 1240625859.0,\n",
       " 2521362081.0,\n",
       " 2841954371.0,\n",
       " 3360909924.0,\n",
       " 3525384612.0,\n",
       " 3252913902.0,\n",
       " 2153363905.0,\n",
       " 2680109856.0,\n",
       " 3626012575.0,\n",
       " 24916054094.0,\n",
       " 26018159827.0,\n",
       " 20677861589.0,\n",
       " 33077991459.0,\n",
       " 32224048190.0,\n",
       " 19368616146.0,\n",
       " 20924974772.0,\n",
       " 24726664527.0,\n",
       " 17748634832.0,\n",
       " 47268722927.0,\n",
       " 31769832100.0,\n",
       " 37033334436.0,\n",
       " 35833921205.0,\n",
       " 32945032989.0,\n",
       " 37495592533.0,\n",
       " 4376052632.0,\n",
       " 3924786635.0,\n",
       " 7690731246.0,\n",
       " 9071369835.0,\n",
       " 7572512432.0,\n",
       " 114664434.6,\n",
       " 10885614182.0,\n",
       " 15119371191.0,\n",
       " 8895774251.0,\n",
       " 11296279514.0,\n",
       " 10619431583.0,\n",
       " 9857162112.0,\n",
       " 13470089921.0,\n",
       " 9368469823.0,\n",
       " 8570094243.0,\n",
       " 1874060887.0,\n",
       " 4982533930.0,\n",
       " 4854353979.0,\n",
       " 6036021405.0,\n",
       " 8195499253.0,\n",
       " 8554740717.0,\n",
       " 6026232041.0,\n",
       " 8841113287.0,\n",
       " 7069934205.0,\n",
       " 5562873606.0,\n",
       " 4651465948.0,\n",
       " 3137318700.0,\n",
       " 4445102771.0,\n",
       " 3502999131.0,\n",
       " 1997485165.0,\n",
       " 1118000000.0,\n",
       " 2201000000.0,\n",
       " 4273000000.0,\n",
       " 5590000000.0,\n",
       " 5438000000.0,\n",
       " 2338000000.0,\n",
       " 2022000000.0,\n",
       " 1326000000.0,\n",
       " 859000000.0,\n",
       " 1333000000.0,\n",
       " 1868000000.0,\n",
       " 1621000000.0,\n",
       " 2488000000.0,\n",
       " 3232000000.0,\n",
       " 2354000000.0,\n",
       " 1599038389.0,\n",
       " 2578719365.0,\n",
       " 3466531061.0,\n",
       " 5490961307.0,\n",
       " 6923651285.0,\n",
       " 6430652961.0,\n",
       " 8454627588.0,\n",
       " 7682261109.0,\n",
       " 13622485104.0,\n",
       " 9826002544.0,\n",
       " 3929942910.0,\n",
       " 8313966795.0,\n",
       " 6739051858.0,\n",
       " 6860492819.0,\n",
       " 6487906281.0,\n",
       " 592000000.0,\n",
       " 1664000000.0,\n",
       " 2707414997.0,\n",
       " 2918724841.0,\n",
       " 1340027563.0,\n",
       " 2064620678.0,\n",
       " 1070386940.0,\n",
       " 2007150725.0,\n",
       " 3215415155.0,\n",
       " 3737371740.0,\n",
       " 5739574024.0,\n",
       " 5639155962.0,\n",
       " 8279548275.0,\n",
       " 10256442399.0,\n",
       " 9832332891.0,\n",
       " 6443000000.0,\n",
       " 6498650463.0,\n",
       " 11006614842.0,\n",
       " 10103086514.0,\n",
       " 13667824245.0,\n",
       " 4637684880.0,\n",
       " 3213737652.0,\n",
       " 2370097223.0,\n",
       " 3047569714.0,\n",
       " 3854819398.0,\n",
       " 3869197075.0,\n",
       " 4317731472.0,\n",
       " 6252035766.0,\n",
       " 5952909608.0,\n",
       " 7343560129.0,\n",
       " 5860255943.0,\n",
       " 8215637195.0,\n",
       " 8917470351.0,\n",
       " 8633903441.0,\n",
       " 8561557725.0,\n",
       " 6411458545.0,\n",
       " 14746672920.0,\n",
       " 2473685996.0,\n",
       " 12899036061.0,\n",
       " 15935960663.0,\n",
       " 4975455660.0,\n",
       " 8927579181.0,\n",
       " 2810184390.0,\n",
       " 8045508383.0,\n",
       " 13398678284.0,\n",
       " 592147521.7,\n",
       " 712714847.3,\n",
       " 3239909093.0,\n",
       " 1515345044.0,\n",
       " 2600674976.0,\n",
       " 1525244858.0,\n",
       " 1334497695.0,\n",
       " 432666011.6,\n",
       " 1554269129.0,\n",
       " 1058622582.0,\n",
       " 1024754444.0,\n",
       " 970521888.7,\n",
       " 622569482.2,\n",
       " 810936482.8,\n",
       " 988942901.0,\n",
       " 2785000000.0,\n",
       " 10031000000.0,\n",
       " 20185000000.0,\n",
       " 22047000000.0,\n",
       " 19851000000.0,\n",
       " 8585000000.0,\n",
       " 9099000000.0,\n",
       " 16182000000.0,\n",
       " 13744000000.0,\n",
       " 13563000000.0,\n",
       " 13337000000.0,\n",
       " 19274000000.0,\n",
       " 13950000000.0,\n",
       " 11546000000.0,\n",
       " 13061000000.0]"
      ]
     },
     "execution_count": 67,
     "metadata": {},
     "output_type": "execute_result"
    }
   ],
   "source": [
    "list (FDI3 ['fdi'].unique())"
   ]
  },
  {
   "cell_type": "code",
   "execution_count": 68,
   "id": "d8d12242",
   "metadata": {
    "scrolled": true
   },
   "outputs": [
    {
     "data": {
      "text/plain": [
       "array([ 4.48905401e+08,  7.60504266e+08,  4.56523168e+08,  6.51029738e+08,\n",
       "        1.32842299e+09,  9.01286583e+08,  1.23225825e+09,  1.26472516e+09,\n",
       "        1.58440346e+09,  2.60296210e+09,  2.53919094e+09,  2.83115276e+09,\n",
       "        2.33272478e+09,  1.81039580e+09,  2.94022242e+09,  3.07255096e+09,\n",
       "        4.09812293e+09,  7.87447626e+09,  1.38752705e+10,  1.02967206e+10,\n",
       "        3.89666456e+09,  1.84290000e+09,  2.10381000e+09,  1.78811000e+09,\n",
       "        1.98904000e+09,  1.09360000e+09,  2.60937000e+09,  1.56280000e+09,\n",
       "        2.02034000e+09,  1.22258000e+09,  1.81811909e+10,  1.54599816e+10,\n",
       "        1.93780931e+10,  4.45794925e+10,  5.07164027e+10,  3.14809322e+10,\n",
       "        8.23899336e+10,  1.02427000e+11,  9.25683795e+10,  7.52110281e+10,\n",
       "        8.77139878e+10,  6.03340507e+10,  7.33779090e+10,  6.88850726e+10,\n",
       "        7.81625728e+10,  6.81172722e+10,  1.04109000e+11,  1.24082000e+11,\n",
       "        1.56249000e+11,  1.71535000e+11,  1.31057000e+11,  2.43703000e+11,\n",
       "        2.80072000e+11,  2.41214000e+11,  2.90928000e+11,  2.68097000e+11,\n",
       "        2.42489000e+11,  1.74750000e+11,  1.66084000e+11,  2.03492000e+11,\n",
       "        8.81851385e+08,  1.15600000e+09,  1.84100000e+09,  1.68673654e+09,\n",
       "        2.63860703e+09,  2.74693073e+09,  2.30036912e+09,  2.57123702e+09,\n",
       "        1.50040245e+09,  1.69188671e+09,  1.50220617e+09, -5.37792921e+08,\n",
       "        1.63826395e+09,  1.20096528e+09,  1.50631689e+09,  1.25330000e+09,\n",
       "        5.37560000e+09,  1.00428000e+10,  1.15781000e+10,  9.49460000e+09,\n",
       "        6.71160000e+09,  6.38560000e+09, -4.82700000e+08,  2.79770000e+09,\n",
       "        4.19220000e+09,  4.61220000e+09,  6.92520000e+09,  8.10680000e+09,\n",
       "        7.40870000e+09,  6.79760000e+09,  1.89608277e+09,  8.33625721e+09,\n",
       "        4.91420144e+09,  6.92848000e+09,  9.31845365e+09,  4.87736918e+09,\n",
       "        1.52920094e+10,  2.05649382e+10,  2.12007786e+10,  2.32817424e+10,\n",
       "        2.51207321e+10,  1.97791280e+10,  4.54171374e+09,  2.05103108e+10,\n",
       "        1.97033432e+10,  5.42925099e+09,  7.26940723e+09,  2.00291193e+10,\n",
       "        2.52277409e+10,  4.34062771e+10,  3.55813729e+10,  2.73968850e+10,\n",
       "        3.64986546e+10,  2.39956850e+10,  2.81530313e+10,  3.45766437e+10,\n",
       "        4.40094921e+10,  4.44585715e+10,  3.99660914e+10,  4.21174507e+10,\n",
       "        3.03729984e+09,  2.88919167e+09,  2.31753850e+09,  2.01779175e+09,\n",
       "        1.97998801e+09,  2.98342191e+09,  3.64897241e+09,  4.27671869e+09,\n",
       "        4.66173440e+09,  3.04994500e+09,  2.10549400e+09,  2.05000000e+09,\n",
       "        3.37200000e+09,  5.01900000e+09,  3.48033300e+09,  5.59365888e+08,\n",
       "        6.37901996e+08,  8.42342788e+08,  8.11902426e+08,  1.37660263e+09,\n",
       "        4.85164640e+08,  1.85775631e+08,  1.72757165e+08,  4.13333448e+08,\n",
       "        5.44747562e+08,  5.82148742e+08,  9.24977864e+08,  9.27976719e+08,\n",
       "        8.88835228e+08,  7.74620603e+08,  4.60639315e+07,  2.12116854e+07,\n",
       "        5.06747252e+07,  7.29044146e+08,  9.55856802e+07,  1.16257609e+08,\n",
       "        1.78064607e+08,  1.45047476e+09,  1.38017366e+09,  1.11882500e+09,\n",
       "        8.20937598e+08,  6.19724470e+08,  3.93359421e+08,  6.71488393e+08,\n",
       "        1.62592149e+09,  7.87053819e+08,  1.61975245e+09,  2.36600010e+09,\n",
       "        2.80664214e+09,  2.46628836e+09,  1.97032392e+09,  1.24062586e+09,\n",
       "        2.52136208e+09,  2.84195437e+09,  3.36090992e+09,  3.52538461e+09,\n",
       "        3.25291390e+09,  2.15336390e+09,  2.68010986e+09,  3.62601258e+09,\n",
       "        2.49160541e+10,  2.60181598e+10,  2.06778616e+10,  3.30779915e+10,\n",
       "        3.22240482e+10,  1.93686161e+10,  2.09249748e+10,  2.47266645e+10,\n",
       "        1.77486348e+10,  4.72687229e+10,  3.17698321e+10,  3.70333344e+10,\n",
       "        3.58339212e+10,  3.29450330e+10,  3.74955925e+10,  4.37605263e+09,\n",
       "        3.92478664e+09,  7.69073125e+09,  9.07136984e+09,  7.57251243e+09,\n",
       "        1.14664435e+08,  1.08856142e+10,  1.51193712e+10,  8.89577425e+09,\n",
       "        1.12962795e+10,  1.06194316e+10,  9.85716211e+09,  1.34700899e+10,\n",
       "        9.36846982e+09,  8.57009424e+09,  1.87406089e+09,  4.98253393e+09,\n",
       "        4.85435398e+09,  6.03602140e+09,  8.19549925e+09,  8.55474072e+09,\n",
       "        6.02623204e+09,  8.84111329e+09,  7.06993420e+09,  5.56287361e+09,\n",
       "        4.65146595e+09,  3.13731870e+09,  4.44510277e+09,  3.50299913e+09,\n",
       "        1.99748516e+09,  1.11800000e+09,  2.20100000e+09,  4.27300000e+09,\n",
       "        5.59000000e+09,  5.43800000e+09,  2.33800000e+09,  2.02200000e+09,\n",
       "        1.32600000e+09,  8.59000000e+08,  1.33300000e+09,  1.86800000e+09,\n",
       "        1.62100000e+09,  2.48800000e+09,  3.23200000e+09,  2.35400000e+09,\n",
       "        1.59903839e+09,  2.57871936e+09,  3.46653106e+09,  5.49096131e+09,\n",
       "        6.92365128e+09,  6.43065296e+09,  8.45462759e+09,  7.68226111e+09,\n",
       "        1.36224851e+10,  9.82600254e+09,  3.92994291e+09,  8.31396680e+09,\n",
       "        6.73905186e+09,  6.86049282e+09,  6.48790628e+09,  5.92000000e+08,\n",
       "        1.66400000e+09,  2.70741500e+09,  2.91872484e+09,  1.34002756e+09,\n",
       "        2.06462068e+09,  1.07038694e+09,  2.00715072e+09,  3.21541516e+09,\n",
       "        3.73737174e+09,  5.73957402e+09,  5.63915596e+09,  8.27954828e+09,\n",
       "        1.02564424e+10,  9.83233289e+09,  6.44300000e+09,  6.49865046e+09,\n",
       "        1.10066148e+10,  1.01030865e+10,  1.36678242e+10,  4.63768488e+09,\n",
       "        3.21373765e+09,  2.37009722e+09,  3.04756971e+09,  3.85481940e+09,\n",
       "        3.86919708e+09,  4.31773147e+09,  6.25203577e+09,  5.95290961e+09,\n",
       "        7.34356013e+09,  5.86025594e+09,  8.21563720e+09,  8.91747035e+09,\n",
       "        8.63390344e+09,  8.56155772e+09,  6.41145854e+09,  1.47466729e+10,\n",
       "        2.47368600e+09,  1.28990361e+10,  1.59359607e+10,  4.97545566e+09,\n",
       "        8.92757918e+09,  2.81018439e+09,  8.04550838e+09,  1.33986783e+10,\n",
       "        5.92147522e+08,  7.12714847e+08,  3.23990909e+09,  1.51534504e+09,\n",
       "        2.60067498e+09,  1.52524486e+09,  1.33449770e+09,  4.32666012e+08,\n",
       "        1.55426913e+09,  1.05862258e+09,  1.02475444e+09,  9.70521889e+08,\n",
       "        6.22569482e+08,  8.10936483e+08,  9.88942901e+08,  2.78500000e+09,\n",
       "        1.00310000e+10,  2.01850000e+10,  2.20470000e+10,  1.98510000e+10,\n",
       "        8.58500000e+09,  9.09900000e+09,  1.61820000e+10,  1.37440000e+10,\n",
       "        1.35630000e+10,  1.33370000e+10,  1.92740000e+10,  1.39500000e+10,\n",
       "        1.15460000e+10,  1.30610000e+10])"
      ]
     },
     "execution_count": 68,
     "metadata": {},
     "output_type": "execute_result"
    }
   ],
   "source": [
    "FDI3 ['fdi'].unique()"
   ]
  },
  {
   "cell_type": "markdown",
   "id": "0111a3d2",
   "metadata": {},
   "source": [
    "# cheking missing values"
   ]
  },
  {
   "cell_type": "code",
   "execution_count": 69,
   "id": "840ab5d5",
   "metadata": {},
   "outputs": [
    {
     "data": {
      "text/plain": [
       "330"
      ]
     },
     "execution_count": 69,
     "metadata": {},
     "output_type": "execute_result"
    }
   ],
   "source": [
    "FDI3.shape[0]"
   ]
  },
  {
   "cell_type": "code",
   "execution_count": 70,
   "id": "fd91d2dd",
   "metadata": {},
   "outputs": [
    {
     "data": {
      "text/plain": [
       "id_countries                      0.0\n",
       "year                              0.0\n",
       "fdi                               0.0\n",
       "commercial_opening_rate           0.0\n",
       "gross_fixed_capital_formation     0.0\n",
       "business_climate                  0.0\n",
       "scoreeasedoingbusiness            0.0\n",
       "buf                              50.0\n",
       "invf                             50.0\n",
       "finfree                          50.0\n",
       "stock_market                      0.0\n",
       "dtype: float64"
      ]
     },
     "execution_count": 70,
     "metadata": {},
     "output_type": "execute_result"
    }
   ],
   "source": [
    "FDI3.isna().sum()/FDI3.shape[0]*100"
   ]
  },
  {
   "cell_type": "markdown",
   "id": "a799dc07",
   "metadata": {},
   "source": [
    "### Replacing with knn imputer"
   ]
  },
  {
   "cell_type": "code",
   "execution_count": 71,
   "id": "cc69a0f4",
   "metadata": {},
   "outputs": [],
   "source": [
    "from sklearn.impute import KNNImputer\n",
    "imputer = KNNImputer(n_neighbors=3)\n",
    "imputed = imputer.fit_transform(FDI3.drop(columns=['year','id_countries','fdi']))\n",
    "imputed_df = pd.DataFrame(imputed, columns=(FDI3.drop(columns=['year','id_countries','fdi']).columns))\n",
    "FDI3_KNN = pd.concat([imputed_df, FDI3[['year','id_countries','fdi']]], axis = 1)"
   ]
  },
  {
   "cell_type": "code",
   "execution_count": 72,
   "id": "b75d7604",
   "metadata": {},
   "outputs": [
    {
     "data": {
      "text/html": [
       "<div>\n",
       "<style scoped>\n",
       "    .dataframe tbody tr th:only-of-type {\n",
       "        vertical-align: middle;\n",
       "    }\n",
       "\n",
       "    .dataframe tbody tr th {\n",
       "        vertical-align: top;\n",
       "    }\n",
       "\n",
       "    .dataframe thead th {\n",
       "        text-align: right;\n",
       "    }\n",
       "</style>\n",
       "<table border=\"1\" class=\"dataframe\">\n",
       "  <thead>\n",
       "    <tr style=\"text-align: right;\">\n",
       "      <th></th>\n",
       "      <th>commercial_opening_rate</th>\n",
       "      <th>gross_fixed_capital_formation</th>\n",
       "      <th>business_climate</th>\n",
       "      <th>scoreeasedoingbusiness</th>\n",
       "      <th>buf</th>\n",
       "      <th>invf</th>\n",
       "      <th>finfree</th>\n",
       "      <th>stock_market</th>\n",
       "      <th>year</th>\n",
       "      <th>id_countries</th>\n",
       "      <th>fdi</th>\n",
       "    </tr>\n",
       "  </thead>\n",
       "  <tbody>\n",
       "    <tr>\n",
       "      <th>0</th>\n",
       "      <td>38953960.63</td>\n",
       "      <td>1.828646e+10</td>\n",
       "      <td>47.380000</td>\n",
       "      <td>70.000</td>\n",
       "      <td>55.000000</td>\n",
       "      <td>50.000000</td>\n",
       "      <td>70.000000</td>\n",
       "      <td>10.671695</td>\n",
       "      <td>2004-01-01</td>\n",
       "      <td>BGD</td>\n",
       "      <td>4.489054e+08</td>\n",
       "    </tr>\n",
       "    <tr>\n",
       "      <th>1</th>\n",
       "      <td>51935441.53</td>\n",
       "      <td>2.007189e+10</td>\n",
       "      <td>42.400000</td>\n",
       "      <td>70.000</td>\n",
       "      <td>55.000000</td>\n",
       "      <td>50.000000</td>\n",
       "      <td>70.000000</td>\n",
       "      <td>4.751541</td>\n",
       "      <td>2005-01-01</td>\n",
       "      <td>BGD</td>\n",
       "      <td>7.605043e+08</td>\n",
       "    </tr>\n",
       "    <tr>\n",
       "      <th>2</th>\n",
       "      <td>59714312.41</td>\n",
       "      <td>2.205658e+10</td>\n",
       "      <td>50.916667</td>\n",
       "      <td>70.000</td>\n",
       "      <td>70.500000</td>\n",
       "      <td>70.000000</td>\n",
       "      <td>70.000000</td>\n",
       "      <td>5.361124</td>\n",
       "      <td>2006-01-01</td>\n",
       "      <td>BGD</td>\n",
       "      <td>4.565232e+08</td>\n",
       "    </tr>\n",
       "    <tr>\n",
       "      <th>3</th>\n",
       "      <td>64798835.89</td>\n",
       "      <td>2.363294e+10</td>\n",
       "      <td>40.266667</td>\n",
       "      <td>70.000</td>\n",
       "      <td>70.300000</td>\n",
       "      <td>60.000000</td>\n",
       "      <td>60.000000</td>\n",
       "      <td>10.969166</td>\n",
       "      <td>2007-01-01</td>\n",
       "      <td>BGD</td>\n",
       "      <td>6.510297e+08</td>\n",
       "    </tr>\n",
       "    <tr>\n",
       "      <th>4</th>\n",
       "      <td>62836842.93</td>\n",
       "      <td>2.595254e+10</td>\n",
       "      <td>36.650000</td>\n",
       "      <td>70.000</td>\n",
       "      <td>68.400000</td>\n",
       "      <td>60.000000</td>\n",
       "      <td>60.000000</td>\n",
       "      <td>12.791560</td>\n",
       "      <td>2008-01-01</td>\n",
       "      <td>BGD</td>\n",
       "      <td>1.328423e+09</td>\n",
       "    </tr>\n",
       "    <tr>\n",
       "      <th>...</th>\n",
       "      <td>...</td>\n",
       "      <td>...</td>\n",
       "      <td>...</td>\n",
       "      <td>...</td>\n",
       "      <td>...</td>\n",
       "      <td>...</td>\n",
       "      <td>...</td>\n",
       "      <td>...</td>\n",
       "      <td>...</td>\n",
       "      <td>...</td>\n",
       "      <td>...</td>\n",
       "    </tr>\n",
       "    <tr>\n",
       "      <th>325</th>\n",
       "      <td>35361166.84</td>\n",
       "      <td>2.921060e+11</td>\n",
       "      <td>68.933333</td>\n",
       "      <td>83.400</td>\n",
       "      <td>63.800000</td>\n",
       "      <td>56.666667</td>\n",
       "      <td>53.333333</td>\n",
       "      <td>23.405529</td>\n",
       "      <td>2014-01-01</td>\n",
       "      <td>TUR</td>\n",
       "      <td>1.333700e+10</td>\n",
       "    </tr>\n",
       "    <tr>\n",
       "      <th>326</th>\n",
       "      <td>34868314.46</td>\n",
       "      <td>3.192280e+11</td>\n",
       "      <td>67.200000</td>\n",
       "      <td>77.500</td>\n",
       "      <td>63.800000</td>\n",
       "      <td>56.666667</td>\n",
       "      <td>50.000000</td>\n",
       "      <td>21.851067</td>\n",
       "      <td>2015-01-01</td>\n",
       "      <td>TUR</td>\n",
       "      <td>1.927400e+10</td>\n",
       "    </tr>\n",
       "    <tr>\n",
       "      <th>327</th>\n",
       "      <td>34681331.76</td>\n",
       "      <td>3.264010e+11</td>\n",
       "      <td>67.483333</td>\n",
       "      <td>73.980</td>\n",
       "      <td>65.733333</td>\n",
       "      <td>70.000000</td>\n",
       "      <td>63.333333</td>\n",
       "      <td>19.750290</td>\n",
       "      <td>2016-01-01</td>\n",
       "      <td>TUR</td>\n",
       "      <td>1.395000e+10</td>\n",
       "    </tr>\n",
       "    <tr>\n",
       "      <th>328</th>\n",
       "      <td>34774823.11</td>\n",
       "      <td>3.533310e+11</td>\n",
       "      <td>66.566667</td>\n",
       "      <td>72.900</td>\n",
       "      <td>57.166667</td>\n",
       "      <td>40.000000</td>\n",
       "      <td>36.666667</td>\n",
       "      <td>26.486011</td>\n",
       "      <td>2017-01-01</td>\n",
       "      <td>TUR</td>\n",
       "      <td>1.154600e+10</td>\n",
       "    </tr>\n",
       "    <tr>\n",
       "      <th>329</th>\n",
       "      <td>34728077.44</td>\n",
       "      <td>3.512440e+11</td>\n",
       "      <td>66.133333</td>\n",
       "      <td>73.875</td>\n",
       "      <td>57.533333</td>\n",
       "      <td>56.666667</td>\n",
       "      <td>53.333333</td>\n",
       "      <td>19.176135</td>\n",
       "      <td>2018-01-01</td>\n",
       "      <td>TUR</td>\n",
       "      <td>1.306100e+10</td>\n",
       "    </tr>\n",
       "  </tbody>\n",
       "</table>\n",
       "<p>330 rows × 11 columns</p>\n",
       "</div>"
      ],
      "text/plain": [
       "     commercial_opening_rate  gross_fixed_capital_formation  business_climate  \\\n",
       "0                38953960.63                   1.828646e+10         47.380000   \n",
       "1                51935441.53                   2.007189e+10         42.400000   \n",
       "2                59714312.41                   2.205658e+10         50.916667   \n",
       "3                64798835.89                   2.363294e+10         40.266667   \n",
       "4                62836842.93                   2.595254e+10         36.650000   \n",
       "..                       ...                            ...               ...   \n",
       "325              35361166.84                   2.921060e+11         68.933333   \n",
       "326              34868314.46                   3.192280e+11         67.200000   \n",
       "327              34681331.76                   3.264010e+11         67.483333   \n",
       "328              34774823.11                   3.533310e+11         66.566667   \n",
       "329              34728077.44                   3.512440e+11         66.133333   \n",
       "\n",
       "     scoreeasedoingbusiness        buf       invf    finfree  stock_market  \\\n",
       "0                    70.000  55.000000  50.000000  70.000000     10.671695   \n",
       "1                    70.000  55.000000  50.000000  70.000000      4.751541   \n",
       "2                    70.000  70.500000  70.000000  70.000000      5.361124   \n",
       "3                    70.000  70.300000  60.000000  60.000000     10.969166   \n",
       "4                    70.000  68.400000  60.000000  60.000000     12.791560   \n",
       "..                      ...        ...        ...        ...           ...   \n",
       "325                  83.400  63.800000  56.666667  53.333333     23.405529   \n",
       "326                  77.500  63.800000  56.666667  50.000000     21.851067   \n",
       "327                  73.980  65.733333  70.000000  63.333333     19.750290   \n",
       "328                  72.900  57.166667  40.000000  36.666667     26.486011   \n",
       "329                  73.875  57.533333  56.666667  53.333333     19.176135   \n",
       "\n",
       "          year id_countries           fdi  \n",
       "0   2004-01-01          BGD  4.489054e+08  \n",
       "1   2005-01-01          BGD  7.605043e+08  \n",
       "2   2006-01-01          BGD  4.565232e+08  \n",
       "3   2007-01-01          BGD  6.510297e+08  \n",
       "4   2008-01-01          BGD  1.328423e+09  \n",
       "..         ...          ...           ...  \n",
       "325 2014-01-01          TUR  1.333700e+10  \n",
       "326 2015-01-01          TUR  1.927400e+10  \n",
       "327 2016-01-01          TUR  1.395000e+10  \n",
       "328 2017-01-01          TUR  1.154600e+10  \n",
       "329 2018-01-01          TUR  1.306100e+10  \n",
       "\n",
       "[330 rows x 11 columns]"
      ]
     },
     "execution_count": 72,
     "metadata": {},
     "output_type": "execute_result"
    }
   ],
   "source": [
    "FDI3_KNN"
   ]
  },
  {
   "cell_type": "markdown",
   "id": "98807688",
   "metadata": {},
   "source": [
    "# Replacing the NAN values by the median \n"
   ]
  },
  {
   "cell_type": "code",
   "execution_count": 73,
   "id": "181d46bd",
   "metadata": {},
   "outputs": [],
   "source": [
    "# FDI3[(FDI3['buf'].isna() == True) & (FDI3['invf'].isna()==True) & (FDI3['finfree'].isna()==True)]\n",
    "# display (FDI3)"
   ]
  },
  {
   "cell_type": "code",
   "execution_count": 74,
   "id": "6bcc100e",
   "metadata": {},
   "outputs": [],
   "source": [
    "# FDI3['buf'].fillna(FDI3['buf'].median(), inplace=True)"
   ]
  },
  {
   "cell_type": "code",
   "execution_count": 75,
   "id": "972866d1",
   "metadata": {},
   "outputs": [],
   "source": [
    "# display(FDI3)"
   ]
  },
  {
   "cell_type": "code",
   "execution_count": 76,
   "id": "59f31667",
   "metadata": {},
   "outputs": [],
   "source": [
    "# FDI3['invf'].fillna(FDI3['invf'].median(), inplace=True)"
   ]
  },
  {
   "cell_type": "code",
   "execution_count": 77,
   "id": "c552b368",
   "metadata": {},
   "outputs": [],
   "source": [
    "# FDI3['finfree'].fillna(FDI3['finfree'].median(), inplace=True)"
   ]
  },
  {
   "cell_type": "markdown",
   "id": "82e0551e",
   "metadata": {},
   "source": [
    "# Check again the missing values"
   ]
  },
  {
   "cell_type": "code",
   "execution_count": 78,
   "id": "50db1b22",
   "metadata": {},
   "outputs": [
    {
     "data": {
      "text/plain": [
       "commercial_opening_rate          0\n",
       "gross_fixed_capital_formation    0\n",
       "business_climate                 0\n",
       "scoreeasedoingbusiness           0\n",
       "buf                              0\n",
       "invf                             0\n",
       "finfree                          0\n",
       "stock_market                     0\n",
       "year                             0\n",
       "id_countries                     0\n",
       "fdi                              0\n",
       "dtype: int64"
      ]
     },
     "execution_count": 78,
     "metadata": {},
     "output_type": "execute_result"
    }
   ],
   "source": [
    "FDI3_KNN.isna().sum()"
   ]
  },
  {
   "cell_type": "markdown",
   "id": "e5180ed4",
   "metadata": {},
   "source": [
    "we have here a clean data"
   ]
  },
  {
   "cell_type": "markdown",
   "id": "58f64e47",
   "metadata": {},
   "source": [
    "# describing the data"
   ]
  },
  {
   "cell_type": "code",
   "execution_count": 79,
   "id": "ecbe2599",
   "metadata": {},
   "outputs": [
    {
     "data": {
      "text/html": [
       "<div>\n",
       "<style scoped>\n",
       "    .dataframe tbody tr th:only-of-type {\n",
       "        vertical-align: middle;\n",
       "    }\n",
       "\n",
       "    .dataframe tbody tr th {\n",
       "        vertical-align: top;\n",
       "    }\n",
       "\n",
       "    .dataframe thead th {\n",
       "        text-align: right;\n",
       "    }\n",
       "</style>\n",
       "<table border=\"1\" class=\"dataframe\">\n",
       "  <thead>\n",
       "    <tr style=\"text-align: right;\">\n",
       "      <th></th>\n",
       "      <th>count</th>\n",
       "      <th>mean</th>\n",
       "      <th>std</th>\n",
       "      <th>min</th>\n",
       "      <th>25%</th>\n",
       "      <th>50%</th>\n",
       "      <th>75%</th>\n",
       "      <th>max</th>\n",
       "    </tr>\n",
       "  </thead>\n",
       "  <tbody>\n",
       "    <tr>\n",
       "      <th>commercial_opening_rate</th>\n",
       "      <td>330.0</td>\n",
       "      <td>6.454303e+07</td>\n",
       "      <td>1.170231e+08</td>\n",
       "      <td>-6.412492e-01</td>\n",
       "      <td>1.577948e+07</td>\n",
       "      <td>3.510331e+07</td>\n",
       "      <td>6.330626e+07</td>\n",
       "      <td>7.038409e+08</td>\n",
       "    </tr>\n",
       "    <tr>\n",
       "      <th>gross_fixed_capital_formation</th>\n",
       "      <td>330.0</td>\n",
       "      <td>2.416401e+11</td>\n",
       "      <td>6.508859e+11</td>\n",
       "      <td>2.625409e+09</td>\n",
       "      <td>2.613547e+10</td>\n",
       "      <td>5.002675e+10</td>\n",
       "      <td>1.882652e+11</td>\n",
       "      <td>4.414250e+12</td>\n",
       "    </tr>\n",
       "    <tr>\n",
       "      <th>business_climate</th>\n",
       "      <td>330.0</td>\n",
       "      <td>5.992981e+01</td>\n",
       "      <td>8.639142e+00</td>\n",
       "      <td>3.378333e+01</td>\n",
       "      <td>5.419167e+01</td>\n",
       "      <td>5.926667e+01</td>\n",
       "      <td>6.659167e+01</td>\n",
       "      <td>7.495000e+01</td>\n",
       "    </tr>\n",
       "    <tr>\n",
       "      <th>scoreeasedoingbusiness</th>\n",
       "      <td>330.0</td>\n",
       "      <td>6.275875e+01</td>\n",
       "      <td>1.065464e+01</td>\n",
       "      <td>2.610000e+01</td>\n",
       "      <td>5.577375e+01</td>\n",
       "      <td>6.330000e+01</td>\n",
       "      <td>7.081500e+01</td>\n",
       "      <td>8.610000e+01</td>\n",
       "    </tr>\n",
       "    <tr>\n",
       "      <th>buf</th>\n",
       "      <td>330.0</td>\n",
       "      <td>6.837566e+01</td>\n",
       "      <td>9.082720e+00</td>\n",
       "      <td>4.000000e+01</td>\n",
       "      <td>6.283333e+01</td>\n",
       "      <td>6.873333e+01</td>\n",
       "      <td>7.379167e+01</td>\n",
       "      <td>8.780000e+01</td>\n",
       "    </tr>\n",
       "    <tr>\n",
       "      <th>invf</th>\n",
       "      <td>330.0</td>\n",
       "      <td>5.115657e+01</td>\n",
       "      <td>2.180826e+01</td>\n",
       "      <td>0.000000e+00</td>\n",
       "      <td>4.666667e+01</td>\n",
       "      <td>5.333333e+01</td>\n",
       "      <td>6.666667e+01</td>\n",
       "      <td>9.000000e+01</td>\n",
       "    </tr>\n",
       "    <tr>\n",
       "      <th>finfree</th>\n",
       "      <td>330.0</td>\n",
       "      <td>4.773737e+01</td>\n",
       "      <td>1.707598e+01</td>\n",
       "      <td>1.000000e+01</td>\n",
       "      <td>4.000000e+01</td>\n",
       "      <td>5.000000e+01</td>\n",
       "      <td>6.000000e+01</td>\n",
       "      <td>7.000000e+01</td>\n",
       "    </tr>\n",
       "    <tr>\n",
       "      <th>stock_market</th>\n",
       "      <td>330.0</td>\n",
       "      <td>4.147970e+01</td>\n",
       "      <td>3.298583e+01</td>\n",
       "      <td>5.339774e-02</td>\n",
       "      <td>1.847838e+01</td>\n",
       "      <td>3.291624e+01</td>\n",
       "      <td>5.383899e+01</td>\n",
       "      <td>1.680671e+02</td>\n",
       "    </tr>\n",
       "    <tr>\n",
       "      <th>fdi</th>\n",
       "      <td>330.0</td>\n",
       "      <td>1.828205e+10</td>\n",
       "      <td>4.312849e+10</td>\n",
       "      <td>-5.377929e+08</td>\n",
       "      <td>1.818047e+09</td>\n",
       "      <td>4.576957e+09</td>\n",
       "      <td>1.326800e+10</td>\n",
       "      <td>2.909280e+11</td>\n",
       "    </tr>\n",
       "  </tbody>\n",
       "</table>\n",
       "</div>"
      ],
      "text/plain": [
       "                               count          mean           std  \\\n",
       "commercial_opening_rate        330.0  6.454303e+07  1.170231e+08   \n",
       "gross_fixed_capital_formation  330.0  2.416401e+11  6.508859e+11   \n",
       "business_climate               330.0  5.992981e+01  8.639142e+00   \n",
       "scoreeasedoingbusiness         330.0  6.275875e+01  1.065464e+01   \n",
       "buf                            330.0  6.837566e+01  9.082720e+00   \n",
       "invf                           330.0  5.115657e+01  2.180826e+01   \n",
       "finfree                        330.0  4.773737e+01  1.707598e+01   \n",
       "stock_market                   330.0  4.147970e+01  3.298583e+01   \n",
       "fdi                            330.0  1.828205e+10  4.312849e+10   \n",
       "\n",
       "                                        min           25%           50%  \\\n",
       "commercial_opening_rate       -6.412492e-01  1.577948e+07  3.510331e+07   \n",
       "gross_fixed_capital_formation  2.625409e+09  2.613547e+10  5.002675e+10   \n",
       "business_climate               3.378333e+01  5.419167e+01  5.926667e+01   \n",
       "scoreeasedoingbusiness         2.610000e+01  5.577375e+01  6.330000e+01   \n",
       "buf                            4.000000e+01  6.283333e+01  6.873333e+01   \n",
       "invf                           0.000000e+00  4.666667e+01  5.333333e+01   \n",
       "finfree                        1.000000e+01  4.000000e+01  5.000000e+01   \n",
       "stock_market                   5.339774e-02  1.847838e+01  3.291624e+01   \n",
       "fdi                           -5.377929e+08  1.818047e+09  4.576957e+09   \n",
       "\n",
       "                                        75%           max  \n",
       "commercial_opening_rate        6.330626e+07  7.038409e+08  \n",
       "gross_fixed_capital_formation  1.882652e+11  4.414250e+12  \n",
       "business_climate               6.659167e+01  7.495000e+01  \n",
       "scoreeasedoingbusiness         7.081500e+01  8.610000e+01  \n",
       "buf                            7.379167e+01  8.780000e+01  \n",
       "invf                           6.666667e+01  9.000000e+01  \n",
       "finfree                        6.000000e+01  7.000000e+01  \n",
       "stock_market                   5.383899e+01  1.680671e+02  \n",
       "fdi                            1.326800e+10  2.909280e+11  "
      ]
     },
     "execution_count": 79,
     "metadata": {},
     "output_type": "execute_result"
    }
   ],
   "source": [
    "FDI3_KNN.describe().T"
   ]
  },
  {
   "cell_type": "markdown",
   "id": "324b2590",
   "metadata": {},
   "source": [
    "# number and object"
   ]
  },
  {
   "cell_type": "code",
   "execution_count": 80,
   "id": "7c085e3a",
   "metadata": {},
   "outputs": [
    {
     "data": {
      "text/html": [
       "<div>\n",
       "<style scoped>\n",
       "    .dataframe tbody tr th:only-of-type {\n",
       "        vertical-align: middle;\n",
       "    }\n",
       "\n",
       "    .dataframe tbody tr th {\n",
       "        vertical-align: top;\n",
       "    }\n",
       "\n",
       "    .dataframe thead th {\n",
       "        text-align: right;\n",
       "    }\n",
       "</style>\n",
       "<table border=\"1\" class=\"dataframe\">\n",
       "  <thead>\n",
       "    <tr style=\"text-align: right;\">\n",
       "      <th></th>\n",
       "      <th>commercial_opening_rate</th>\n",
       "      <th>gross_fixed_capital_formation</th>\n",
       "      <th>business_climate</th>\n",
       "      <th>scoreeasedoingbusiness</th>\n",
       "      <th>buf</th>\n",
       "      <th>invf</th>\n",
       "      <th>finfree</th>\n",
       "      <th>stock_market</th>\n",
       "      <th>fdi</th>\n",
       "    </tr>\n",
       "  </thead>\n",
       "  <tbody>\n",
       "    <tr>\n",
       "      <th>0</th>\n",
       "      <td>38953960.63</td>\n",
       "      <td>1.828646e+10</td>\n",
       "      <td>47.380000</td>\n",
       "      <td>70.0</td>\n",
       "      <td>55.0</td>\n",
       "      <td>50.0</td>\n",
       "      <td>70.0</td>\n",
       "      <td>10.671695</td>\n",
       "      <td>4.489054e+08</td>\n",
       "    </tr>\n",
       "    <tr>\n",
       "      <th>1</th>\n",
       "      <td>51935441.53</td>\n",
       "      <td>2.007189e+10</td>\n",
       "      <td>42.400000</td>\n",
       "      <td>70.0</td>\n",
       "      <td>55.0</td>\n",
       "      <td>50.0</td>\n",
       "      <td>70.0</td>\n",
       "      <td>4.751541</td>\n",
       "      <td>7.605043e+08</td>\n",
       "    </tr>\n",
       "    <tr>\n",
       "      <th>2</th>\n",
       "      <td>59714312.41</td>\n",
       "      <td>2.205658e+10</td>\n",
       "      <td>50.916667</td>\n",
       "      <td>70.0</td>\n",
       "      <td>70.5</td>\n",
       "      <td>70.0</td>\n",
       "      <td>70.0</td>\n",
       "      <td>5.361124</td>\n",
       "      <td>4.565232e+08</td>\n",
       "    </tr>\n",
       "    <tr>\n",
       "      <th>3</th>\n",
       "      <td>64798835.89</td>\n",
       "      <td>2.363294e+10</td>\n",
       "      <td>40.266667</td>\n",
       "      <td>70.0</td>\n",
       "      <td>70.3</td>\n",
       "      <td>60.0</td>\n",
       "      <td>60.0</td>\n",
       "      <td>10.969166</td>\n",
       "      <td>6.510297e+08</td>\n",
       "    </tr>\n",
       "    <tr>\n",
       "      <th>4</th>\n",
       "      <td>62836842.93</td>\n",
       "      <td>2.595254e+10</td>\n",
       "      <td>36.650000</td>\n",
       "      <td>70.0</td>\n",
       "      <td>68.4</td>\n",
       "      <td>60.0</td>\n",
       "      <td>60.0</td>\n",
       "      <td>12.791560</td>\n",
       "      <td>1.328423e+09</td>\n",
       "    </tr>\n",
       "  </tbody>\n",
       "</table>\n",
       "</div>"
      ],
      "text/plain": [
       "   commercial_opening_rate  gross_fixed_capital_formation  business_climate  \\\n",
       "0              38953960.63                   1.828646e+10         47.380000   \n",
       "1              51935441.53                   2.007189e+10         42.400000   \n",
       "2              59714312.41                   2.205658e+10         50.916667   \n",
       "3              64798835.89                   2.363294e+10         40.266667   \n",
       "4              62836842.93                   2.595254e+10         36.650000   \n",
       "\n",
       "   scoreeasedoingbusiness   buf  invf  finfree  stock_market           fdi  \n",
       "0                    70.0  55.0  50.0     70.0     10.671695  4.489054e+08  \n",
       "1                    70.0  55.0  50.0     70.0      4.751541  7.605043e+08  \n",
       "2                    70.0  70.5  70.0     70.0      5.361124  4.565232e+08  \n",
       "3                    70.0  70.3  60.0     60.0     10.969166  6.510297e+08  \n",
       "4                    70.0  68.4  60.0     60.0     12.791560  1.328423e+09  "
      ]
     },
     "metadata": {},
     "output_type": "display_data"
    },
    {
     "data": {
      "text/html": [
       "<div>\n",
       "<style scoped>\n",
       "    .dataframe tbody tr th:only-of-type {\n",
       "        vertical-align: middle;\n",
       "    }\n",
       "\n",
       "    .dataframe tbody tr th {\n",
       "        vertical-align: top;\n",
       "    }\n",
       "\n",
       "    .dataframe thead th {\n",
       "        text-align: right;\n",
       "    }\n",
       "</style>\n",
       "<table border=\"1\" class=\"dataframe\">\n",
       "  <thead>\n",
       "    <tr style=\"text-align: right;\">\n",
       "      <th></th>\n",
       "      <th>id_countries</th>\n",
       "    </tr>\n",
       "  </thead>\n",
       "  <tbody>\n",
       "    <tr>\n",
       "      <th>0</th>\n",
       "      <td>BGD</td>\n",
       "    </tr>\n",
       "    <tr>\n",
       "      <th>1</th>\n",
       "      <td>BGD</td>\n",
       "    </tr>\n",
       "    <tr>\n",
       "      <th>2</th>\n",
       "      <td>BGD</td>\n",
       "    </tr>\n",
       "    <tr>\n",
       "      <th>3</th>\n",
       "      <td>BGD</td>\n",
       "    </tr>\n",
       "    <tr>\n",
       "      <th>4</th>\n",
       "      <td>BGD</td>\n",
       "    </tr>\n",
       "  </tbody>\n",
       "</table>\n",
       "</div>"
      ],
      "text/plain": [
       "  id_countries\n",
       "0          BGD\n",
       "1          BGD\n",
       "2          BGD\n",
       "3          BGD\n",
       "4          BGD"
      ]
     },
     "metadata": {},
     "output_type": "display_data"
    }
   ],
   "source": [
    "numericals = FDI3_KNN.select_dtypes(np.number)\n",
    "display(numericals.head())\n",
    "categoricals = FDI3_KNN.select_dtypes(object)\n",
    "display(categoricals.head())"
   ]
  },
  {
   "cell_type": "markdown",
   "id": "9e5d1b25",
   "metadata": {},
   "source": [
    "# Use seaborn library to construct distribution plots for the numerical variables"
   ]
  },
  {
   "cell_type": "code",
   "execution_count": 81,
   "id": "2010ae99",
   "metadata": {
    "scrolled": false
   },
   "outputs": [
    {
     "name": "stderr",
     "output_type": "stream",
     "text": [
      "C:\\Users\\NON\\anaconda3\\lib\\site-packages\\seaborn\\distributions.py:2619: FutureWarning: `distplot` is a deprecated function and will be removed in a future version. Please adapt your code to use either `displot` (a figure-level function with similar flexibility) or `histplot` (an axes-level function for histograms).\n",
      "  warnings.warn(msg, FutureWarning)\n"
     ]
    },
    {
     "data": {
      "image/png": "[encoded data removed]",
      "text/plain": [
       "<Figure size 432x288 with 1 Axes>"
      ]
     },
     "metadata": {
      "needs_background": "light"
     },
     "output_type": "display_data"
    },
    {
     "name": "stderr",
     "output_type": "stream",
     "text": [
      "C:\\Users\\NON\\anaconda3\\lib\\site-packages\\seaborn\\distributions.py:2619: FutureWarning: `distplot` is a deprecated function and will be removed in a future version. Please adapt your code to use either `displot` (a figure-level function with similar flexibility) or `histplot` (an axes-level function for histograms).\n",
      "  warnings.warn(msg, FutureWarning)\n"
     ]
    },
    {
     "data": {
      "image/png": "[encoded data removed]",
      "text/plain": [
       "<Figure size 432x288 with 1 Axes>"
      ]
     },
     "metadata": {
      "needs_background": "light"
     },
     "output_type": "display_data"
    },
    {
     "name": "stderr",
     "output_type": "stream",
     "text": [
      "C:\\Users\\NON\\anaconda3\\lib\\site-packages\\seaborn\\distributions.py:2619: FutureWarning: `distplot` is a deprecated function and will be removed in a future version. Please adapt your code to use either `displot` (a figure-level function with similar flexibility) or `histplot` (an axes-level function for histograms).\n",
      "  warnings.warn(msg, FutureWarning)\n"
     ]
    },
    {
     "data": {
      "image/png": "[encoded data removed]",
      "text/plain": [
       "<Figure size 432x288 with 1 Axes>"
      ]
     },
     "metadata": {
      "needs_background": "light"
     },
     "output_type": "display_data"
    },
    {
     "name": "stderr",
     "output_type": "stream",
     "text": [
      "C:\\Users\\NON\\anaconda3\\lib\\site-packages\\seaborn\\distributions.py:2619: FutureWarning: `distplot` is a deprecated function and will be removed in a future version. Please adapt your code to use either `displot` (a figure-level function with similar flexibility) or `histplot` (an axes-level function for histograms).\n",
      "  warnings.warn(msg, FutureWarning)\n"
     ]
    },
    {
     "data": {
      "image/png": "[encoded data removed]",
      "text/plain": [
       "<Figure size 432x288 with 1 Axes>"
      ]
     },
     "metadata": {
      "needs_background": "light"
     },
     "output_type": "display_data"
    },
    {
     "name": "stderr",
     "output_type": "stream",
     "text": [
      "C:\\Users\\NON\\anaconda3\\lib\\site-packages\\seaborn\\distributions.py:2619: FutureWarning: `distplot` is a deprecated function and will be removed in a future version. Please adapt your code to use either `displot` (a figure-level function with similar flexibility) or `histplot` (an axes-level function for histograms).\n",
      "  warnings.warn(msg, FutureWarning)\n"
     ]
    },
    {
     "data": {
      "image/png": "[encoded data removed]",
      "text/plain": [
       "<Figure size 432x288 with 1 Axes>"
      ]
     },
     "metadata": {
      "needs_background": "light"
     },
     "output_type": "display_data"
    },
    {
     "name": "stderr",
     "output_type": "stream",
     "text": [
      "C:\\Users\\NON\\anaconda3\\lib\\site-packages\\seaborn\\distributions.py:2619: FutureWarning: `distplot` is a deprecated function and will be removed in a future version. Please adapt your code to use either `displot` (a figure-level function with similar flexibility) or `histplot` (an axes-level function for histograms).\n",
      "  warnings.warn(msg, FutureWarning)\n"
     ]
    },
    {
     "data": {
      "image/png": "[encoded data removed]",
      "text/plain": [
       "<Figure size 432x288 with 1 Axes>"
      ]
     },
     "metadata": {
      "needs_background": "light"
     },
     "output_type": "display_data"
    },
    {
     "name": "stderr",
     "output_type": "stream",
     "text": [
      "C:\\Users\\NON\\anaconda3\\lib\\site-packages\\seaborn\\distributions.py:2619: FutureWarning: `distplot` is a deprecated function and will be removed in a future version. Please adapt your code to use either `displot` (a figure-level function with similar flexibility) or `histplot` (an axes-level function for histograms).\n",
      "  warnings.warn(msg, FutureWarning)\n"
     ]
    },
    {
     "data": {
      "image/png": "[encoded data removed]",
      "text/plain": [
       "<Figure size 432x288 with 1 Axes>"
      ]
     },
     "metadata": {
      "needs_background": "light"
     },
     "output_type": "display_data"
    },
    {
     "name": "stderr",
     "output_type": "stream",
     "text": [
      "C:\\Users\\NON\\anaconda3\\lib\\site-packages\\seaborn\\distributions.py:2619: FutureWarning: `distplot` is a deprecated function and will be removed in a future version. Please adapt your code to use either `displot` (a figure-level function with similar flexibility) or `histplot` (an axes-level function for histograms).\n",
      "  warnings.warn(msg, FutureWarning)\n"
     ]
    },
    {
     "data": {
      "image/png": "[encoded data removed]",
      "text/plain": [
       "<Figure size 432x288 with 1 Axes>"
      ]
     },
     "metadata": {
      "needs_background": "light"
     },
     "output_type": "display_data"
    },
    {
     "name": "stderr",
     "output_type": "stream",
     "text": [
      "C:\\Users\\NON\\anaconda3\\lib\\site-packages\\seaborn\\distributions.py:2619: FutureWarning: `distplot` is a deprecated function and will be removed in a future version. Please adapt your code to use either `displot` (a figure-level function with similar flexibility) or `histplot` (an axes-level function for histograms).\n",
      "  warnings.warn(msg, FutureWarning)\n"
     ]
    },
    {
     "data": {
      "image/png": "[encoded data removed]",
      "text/plain": [
       "<Figure size 432x288 with 1 Axes>"
      ]
     },
     "metadata": {
      "needs_background": "light"
     },
     "output_type": "display_data"
    }
   ],
   "source": [
    "for col in numericals:\n",
    "     sns.distplot(numericals[col],bins= 100)\n",
    "     plt.show()"
   ]
  },
  {
   "cell_type": "markdown",
   "id": "c132f9e2",
   "metadata": {},
   "source": [
    "# plotting "
   ]
  },
  {
   "cell_type": "code",
   "execution_count": 82,
   "id": "bbd84c8a",
   "metadata": {
    "scrolled": false
   },
   "outputs": [
    {
     "data": {
      "image/png": "[encoded data removed]",
      "text/plain": [
       "<Figure size 432x288 with 1 Axes>"
      ]
     },
     "metadata": {
      "needs_background": "light"
     },
     "output_type": "display_data"
    },
    {
     "data": {
      "image/png": "[encoded data removed]",
      "text/plain": [
       "<Figure size 432x288 with 1 Axes>"
      ]
     },
     "metadata": {
      "needs_background": "light"
     },
     "output_type": "display_data"
    },
    {
     "data": {
      "image/png": "[encoded data removed]",
      "text/plain": [
       "<Figure size 432x288 with 1 Axes>"
      ]
     },
     "metadata": {
      "needs_background": "light"
     },
     "output_type": "display_data"
    },
    {
     "data": {
      "image/png": "[encoded data removed]",
      "text/plain": [
       "<Figure size 432x288 with 1 Axes>"
      ]
     },
     "metadata": {
      "needs_background": "light"
     },
     "output_type": "display_data"
    },
    {
     "data": {
      "image/png": "[encoded data removed]",
      "text/plain": [
       "<Figure size 432x288 with 1 Axes>"
      ]
     },
     "metadata": {
      "needs_background": "light"
     },
     "output_type": "display_data"
    },
    {
     "data": {
      "image/png": "[encoded data removed]",
      "text/plain": [
       "<Figure size 432x288 with 1 Axes>"
      ]
     },
     "metadata": {
      "needs_background": "light"
     },
     "output_type": "display_data"
    },
    {
     "data": {
      "image/png": "[encoded data removed]",
      "text/plain": [
       "<Figure size 432x288 with 1 Axes>"
      ]
     },
     "metadata": {
      "needs_background": "light"
     },
     "output_type": "display_data"
    },
    {
     "data": {
      "image/png": "[encoded data removed]",
      "text/plain": [
       "<Figure size 432x288 with 1 Axes>"
      ]
     },
     "metadata": {
      "needs_background": "light"
     },
     "output_type": "display_data"
    },
    {
     "data": {
      "image/png": "[encoded data removed]",
      "text/plain": [
       "<Figure size 432x288 with 1 Axes>"
      ]
     },
     "metadata": {
      "needs_background": "light"
     },
     "output_type": "display_data"
    }
   ],
   "source": [
    "import matplotlib.pyplot as plt\n",
    "def numericals_plot(df):\n",
    "    for i in df.columns:\n",
    "        sns.histplot(x=i, data = df);\n",
    "        plt.show()\n",
    "    return\n",
    "    \n",
    "numericals_plot(numericals)"
   ]
  },
  {
   "cell_type": "code",
   "execution_count": 83,
   "id": "d2cd1fe5",
   "metadata": {},
   "outputs": [],
   "source": [
    "#numeric_FDI3"
   ]
  },
  {
   "cell_type": "code",
   "execution_count": 84,
   "id": "2ae7f797",
   "metadata": {},
   "outputs": [
    {
     "data": {
      "image/png": "[encoded data removed]",
      "text/plain": [
       "<Figure size 432x288 with 1 Axes>"
      ]
     },
     "metadata": {
      "needs_background": "light"
     },
     "output_type": "display_data"
    }
   ],
   "source": [
    "sns.boxplot(x=numericals['fdi'])\n",
    "plt.show()"
   ]
  },
  {
   "cell_type": "code",
   "execution_count": 85,
   "id": "0f380374",
   "metadata": {},
   "outputs": [],
   "source": [
    "iqr = np.percentile(numericals['fdi'],75) - np.percentile(numericals['fdi'],25)\n",
    "upper_limit = np.percentile(numericals['fdi'],75) + 1.5*iqr\n",
    "lower_limit = np.percentile(numericals['fdi'],25) - 1.5*iqr"
   ]
  },
  {
   "cell_type": "code",
   "execution_count": 86,
   "id": "df92b3c2",
   "metadata": {},
   "outputs": [],
   "source": [
    "numeric_FDI3 = numericals[(numericals['fdi']>lower_limit) & (numericals['fdi']<upper_limit)]"
   ]
  },
  {
   "cell_type": "code",
   "execution_count": 87,
   "id": "83f9c67e",
   "metadata": {},
   "outputs": [
    {
     "data": {
      "image/png": "[encoded data removed]",
      "text/plain": [
       "<Figure size 432x288 with 1 Axes>"
      ]
     },
     "metadata": {
      "needs_background": "light"
     },
     "output_type": "display_data"
    }
   ],
   "source": [
    "sns.boxplot(x=numeric_FDI3['fdi'])\n",
    "plt.show()"
   ]
  },
  {
   "cell_type": "markdown",
   "id": "a9c87795",
   "metadata": {},
   "source": [
    "### Logaritmic transformation"
   ]
  },
  {
   "cell_type": "code",
   "execution_count": 88,
   "id": "5d48ea29",
   "metadata": {},
   "outputs": [],
   "source": [
    "# numeric_FDI3['fdi_log'] = np.log(numeric_FDI3['fdi'])"
   ]
  },
  {
   "cell_type": "code",
   "execution_count": 89,
   "id": "cdcf59ee",
   "metadata": {},
   "outputs": [
    {
     "data": {
      "text/html": [
       "<div>\n",
       "<style scoped>\n",
       "    .dataframe tbody tr th:only-of-type {\n",
       "        vertical-align: middle;\n",
       "    }\n",
       "\n",
       "    .dataframe tbody tr th {\n",
       "        vertical-align: top;\n",
       "    }\n",
       "\n",
       "    .dataframe thead th {\n",
       "        text-align: right;\n",
       "    }\n",
       "</style>\n",
       "<table border=\"1\" class=\"dataframe\">\n",
       "  <thead>\n",
       "    <tr style=\"text-align: right;\">\n",
       "      <th></th>\n",
       "      <th>commercial_opening_rate</th>\n",
       "      <th>gross_fixed_capital_formation</th>\n",
       "      <th>business_climate</th>\n",
       "      <th>scoreeasedoingbusiness</th>\n",
       "      <th>buf</th>\n",
       "      <th>invf</th>\n",
       "      <th>finfree</th>\n",
       "      <th>stock_market</th>\n",
       "      <th>fdi</th>\n",
       "    </tr>\n",
       "  </thead>\n",
       "  <tbody>\n",
       "    <tr>\n",
       "      <th>0</th>\n",
       "      <td>38953960.63</td>\n",
       "      <td>1.828646e+10</td>\n",
       "      <td>47.380000</td>\n",
       "      <td>70.0</td>\n",
       "      <td>55.0</td>\n",
       "      <td>50.0</td>\n",
       "      <td>70.0</td>\n",
       "      <td>10.671695</td>\n",
       "      <td>4.489054e+08</td>\n",
       "    </tr>\n",
       "    <tr>\n",
       "      <th>1</th>\n",
       "      <td>51935441.53</td>\n",
       "      <td>2.007189e+10</td>\n",
       "      <td>42.400000</td>\n",
       "      <td>70.0</td>\n",
       "      <td>55.0</td>\n",
       "      <td>50.0</td>\n",
       "      <td>70.0</td>\n",
       "      <td>4.751541</td>\n",
       "      <td>7.605043e+08</td>\n",
       "    </tr>\n",
       "    <tr>\n",
       "      <th>2</th>\n",
       "      <td>59714312.41</td>\n",
       "      <td>2.205658e+10</td>\n",
       "      <td>50.916667</td>\n",
       "      <td>70.0</td>\n",
       "      <td>70.5</td>\n",
       "      <td>70.0</td>\n",
       "      <td>70.0</td>\n",
       "      <td>5.361124</td>\n",
       "      <td>4.565232e+08</td>\n",
       "    </tr>\n",
       "    <tr>\n",
       "      <th>3</th>\n",
       "      <td>64798835.89</td>\n",
       "      <td>2.363294e+10</td>\n",
       "      <td>40.266667</td>\n",
       "      <td>70.0</td>\n",
       "      <td>70.3</td>\n",
       "      <td>60.0</td>\n",
       "      <td>60.0</td>\n",
       "      <td>10.969166</td>\n",
       "      <td>6.510297e+08</td>\n",
       "    </tr>\n",
       "    <tr>\n",
       "      <th>4</th>\n",
       "      <td>62836842.93</td>\n",
       "      <td>2.595254e+10</td>\n",
       "      <td>36.650000</td>\n",
       "      <td>70.0</td>\n",
       "      <td>68.4</td>\n",
       "      <td>60.0</td>\n",
       "      <td>60.0</td>\n",
       "      <td>12.791560</td>\n",
       "      <td>1.328423e+09</td>\n",
       "    </tr>\n",
       "  </tbody>\n",
       "</table>\n",
       "</div>"
      ],
      "text/plain": [
       "   commercial_opening_rate  gross_fixed_capital_formation  business_climate  \\\n",
       "0              38953960.63                   1.828646e+10         47.380000   \n",
       "1              51935441.53                   2.007189e+10         42.400000   \n",
       "2              59714312.41                   2.205658e+10         50.916667   \n",
       "3              64798835.89                   2.363294e+10         40.266667   \n",
       "4              62836842.93                   2.595254e+10         36.650000   \n",
       "\n",
       "   scoreeasedoingbusiness   buf  invf  finfree  stock_market           fdi  \n",
       "0                    70.0  55.0  50.0     70.0     10.671695  4.489054e+08  \n",
       "1                    70.0  55.0  50.0     70.0      4.751541  7.605043e+08  \n",
       "2                    70.0  70.5  70.0     70.0      5.361124  4.565232e+08  \n",
       "3                    70.0  70.3  60.0     60.0     10.969166  6.510297e+08  \n",
       "4                    70.0  68.4  60.0     60.0     12.791560  1.328423e+09  "
      ]
     },
     "execution_count": 89,
     "metadata": {},
     "output_type": "execute_result"
    }
   ],
   "source": [
    "numeric_FDI3.head()"
   ]
  },
  {
   "cell_type": "markdown",
   "id": "db36351a",
   "metadata": {},
   "source": [
    "# power transormation"
   ]
  },
  {
   "cell_type": "markdown",
   "id": "6379644a",
   "metadata": {},
   "source": [
    "Check if any of the log transformations changes the result."
   ]
  },
  {
   "cell_type": "code",
   "execution_count": 90,
   "id": "8de0c234",
   "metadata": {},
   "outputs": [
    {
     "data": {
      "text/html": [
       "<div>\n",
       "<style scoped>\n",
       "    .dataframe tbody tr th:only-of-type {\n",
       "        vertical-align: middle;\n",
       "    }\n",
       "\n",
       "    .dataframe tbody tr th {\n",
       "        vertical-align: top;\n",
       "    }\n",
       "\n",
       "    .dataframe thead th {\n",
       "        text-align: right;\n",
       "    }\n",
       "</style>\n",
       "<table border=\"1\" class=\"dataframe\">\n",
       "  <thead>\n",
       "    <tr style=\"text-align: right;\">\n",
       "      <th></th>\n",
       "      <th>commercial_opening_rate</th>\n",
       "      <th>gross_fixed_capital_formation</th>\n",
       "      <th>business_climate</th>\n",
       "      <th>scoreeasedoingbusiness</th>\n",
       "      <th>buf</th>\n",
       "      <th>invf</th>\n",
       "      <th>finfree</th>\n",
       "      <th>stock_market</th>\n",
       "      <th>fdi</th>\n",
       "    </tr>\n",
       "  </thead>\n",
       "  <tbody>\n",
       "    <tr>\n",
       "      <th>0</th>\n",
       "      <td>0.091316</td>\n",
       "      <td>-0.774379</td>\n",
       "      <td>-1.417695</td>\n",
       "      <td>0.661596</td>\n",
       "      <td>-1.440617</td>\n",
       "      <td>-0.106297</td>\n",
       "      <td>1.591057</td>\n",
       "      <td>-1.081706</td>\n",
       "      <td>-0.444693</td>\n",
       "    </tr>\n",
       "    <tr>\n",
       "      <th>1</th>\n",
       "      <td>0.305318</td>\n",
       "      <td>-0.707284</td>\n",
       "      <td>-1.895417</td>\n",
       "      <td>0.661596</td>\n",
       "      <td>-1.440617</td>\n",
       "      <td>-0.106297</td>\n",
       "      <td>1.591057</td>\n",
       "      <td>-1.580889</td>\n",
       "      <td>-0.431908</td>\n",
       "    </tr>\n",
       "    <tr>\n",
       "      <th>2</th>\n",
       "      <td>0.414890</td>\n",
       "      <td>-0.639883</td>\n",
       "      <td>-1.055946</td>\n",
       "      <td>0.661596</td>\n",
       "      <td>0.198081</td>\n",
       "      <td>0.896537</td>\n",
       "      <td>1.591057</td>\n",
       "      <td>-1.517545</td>\n",
       "      <td>-0.444369</td>\n",
       "    </tr>\n",
       "    <tr>\n",
       "      <th>3</th>\n",
       "      <td>0.480856</td>\n",
       "      <td>-0.590864</td>\n",
       "      <td>-2.088493</td>\n",
       "      <td>0.661596</td>\n",
       "      <td>0.175398</td>\n",
       "      <td>0.387938</td>\n",
       "      <td>0.742700</td>\n",
       "      <td>-1.061439</td>\n",
       "      <td>-0.436306</td>\n",
       "    </tr>\n",
       "    <tr>\n",
       "      <th>4</th>\n",
       "      <td>0.455876</td>\n",
       "      <td>-0.524810</td>\n",
       "      <td>-2.399586</td>\n",
       "      <td>0.661596</td>\n",
       "      <td>-0.038130</td>\n",
       "      <td>0.387938</td>\n",
       "      <td>0.742700</td>\n",
       "      <td>-0.943724</td>\n",
       "      <td>-0.410158</td>\n",
       "    </tr>\n",
       "  </tbody>\n",
       "</table>\n",
       "</div>"
      ],
      "text/plain": [
       "   commercial_opening_rate  gross_fixed_capital_formation  business_climate  \\\n",
       "0                 0.091316                      -0.774379         -1.417695   \n",
       "1                 0.305318                      -0.707284         -1.895417   \n",
       "2                 0.414890                      -0.639883         -1.055946   \n",
       "3                 0.480856                      -0.590864         -2.088493   \n",
       "4                 0.455876                      -0.524810         -2.399586   \n",
       "\n",
       "   scoreeasedoingbusiness       buf      invf   finfree  stock_market  \\\n",
       "0                0.661596 -1.440617 -0.106297  1.591057     -1.081706   \n",
       "1                0.661596 -1.440617 -0.106297  1.591057     -1.580889   \n",
       "2                0.661596  0.198081  0.896537  1.591057     -1.517545   \n",
       "3                0.661596  0.175398  0.387938  0.742700     -1.061439   \n",
       "4                0.661596 -0.038130  0.387938  0.742700     -0.943724   \n",
       "\n",
       "        fdi  \n",
       "0 -0.444693  \n",
       "1 -0.431908  \n",
       "2 -0.444369  \n",
       "3 -0.436306  \n",
       "4 -0.410158  "
      ]
     },
     "execution_count": 90,
     "metadata": {},
     "output_type": "execute_result"
    }
   ],
   "source": [
    "from sklearn.preprocessing import PowerTransformer\n",
    "pt = PowerTransformer()\n",
    "pt.fit(numericals)\n",
    "numeric_FDI3 = pd.DataFrame(pt.transform(numericals), columns = numericals.columns  )\n",
    "numeric_FDI3.head()"
   ]
  },
  {
   "cell_type": "code",
   "execution_count": 91,
   "id": "622e68df",
   "metadata": {},
   "outputs": [],
   "source": [
    "# numeric_FDI3 = FDI3.apply(lambda x: np.log(x) if np.issubdtype(x.dtype, np.number) else x)"
   ]
  },
  {
   "cell_type": "code",
   "execution_count": null,
   "id": "b44a74e6",
   "metadata": {},
   "outputs": [],
   "source": []
  },
  {
   "cell_type": "code",
   "execution_count": 92,
   "id": "946afd21",
   "metadata": {},
   "outputs": [
    {
     "data": {
      "text/html": [
       "<div>\n",
       "<style scoped>\n",
       "    .dataframe tbody tr th:only-of-type {\n",
       "        vertical-align: middle;\n",
       "    }\n",
       "\n",
       "    .dataframe tbody tr th {\n",
       "        vertical-align: top;\n",
       "    }\n",
       "\n",
       "    .dataframe thead th {\n",
       "        text-align: right;\n",
       "    }\n",
       "</style>\n",
       "<table border=\"1\" class=\"dataframe\">\n",
       "  <thead>\n",
       "    <tr style=\"text-align: right;\">\n",
       "      <th></th>\n",
       "      <th>count</th>\n",
       "      <th>mean</th>\n",
       "      <th>std</th>\n",
       "      <th>min</th>\n",
       "      <th>25%</th>\n",
       "      <th>50%</th>\n",
       "      <th>75%</th>\n",
       "      <th>max</th>\n",
       "    </tr>\n",
       "  </thead>\n",
       "  <tbody>\n",
       "    <tr>\n",
       "      <th>commercial_opening_rate</th>\n",
       "      <td>330.0</td>\n",
       "      <td>-7.175447e-17</td>\n",
       "      <td>1.001519</td>\n",
       "      <td>-2.726421</td>\n",
       "      <td>-0.488424</td>\n",
       "      <td>0.017606</td>\n",
       "      <td>0.461905</td>\n",
       "      <td>3.148435</td>\n",
       "    </tr>\n",
       "    <tr>\n",
       "      <th>gross_fixed_capital_formation</th>\n",
       "      <td>330.0</td>\n",
       "      <td>4.642751e-16</td>\n",
       "      <td>1.001519</td>\n",
       "      <td>-2.293179</td>\n",
       "      <td>-0.519930</td>\n",
       "      <td>-0.075541</td>\n",
       "      <td>0.762421</td>\n",
       "      <td>2.431483</td>\n",
       "    </tr>\n",
       "    <tr>\n",
       "      <th>business_climate</th>\n",
       "      <td>330.0</td>\n",
       "      <td>1.685520e-16</td>\n",
       "      <td>1.001519</td>\n",
       "      <td>-2.631364</td>\n",
       "      <td>-0.704674</td>\n",
       "      <td>-0.130020</td>\n",
       "      <td>0.762803</td>\n",
       "      <td>1.870386</td>\n",
       "    </tr>\n",
       "    <tr>\n",
       "      <th>scoreeasedoingbusiness</th>\n",
       "      <td>330.0</td>\n",
       "      <td>2.462677e-16</td>\n",
       "      <td>1.001519</td>\n",
       "      <td>-2.735960</td>\n",
       "      <td>-0.716744</td>\n",
       "      <td>-0.019406</td>\n",
       "      <td>0.748255</td>\n",
       "      <td>2.524387</td>\n",
       "    </tr>\n",
       "    <tr>\n",
       "      <th>buf</th>\n",
       "      <td>330.0</td>\n",
       "      <td>-6.546952e-16</td>\n",
       "      <td>1.001519</td>\n",
       "      <td>-2.780774</td>\n",
       "      <td>-0.643083</td>\n",
       "      <td>-0.000925</td>\n",
       "      <td>0.576968</td>\n",
       "      <td>2.303536</td>\n",
       "    </tr>\n",
       "    <tr>\n",
       "      <th>invf</th>\n",
       "      <td>330.0</td>\n",
       "      <td>6.341728e-17</td>\n",
       "      <td>1.001519</td>\n",
       "      <td>-2.198074</td>\n",
       "      <td>-0.267474</td>\n",
       "      <td>0.056725</td>\n",
       "      <td>0.725522</td>\n",
       "      <td>1.950404</td>\n",
       "    </tr>\n",
       "    <tr>\n",
       "      <th>finfree</th>\n",
       "      <td>330.0</td>\n",
       "      <td>2.714159e-16</td>\n",
       "      <td>1.001519</td>\n",
       "      <td>-1.879919</td>\n",
       "      <td>-0.647929</td>\n",
       "      <td>-0.005062</td>\n",
       "      <td>0.742700</td>\n",
       "      <td>1.591057</td>\n",
       "    </tr>\n",
       "    <tr>\n",
       "      <th>stock_market</th>\n",
       "      <td>330.0</td>\n",
       "      <td>-1.147230e-16</td>\n",
       "      <td>1.001519</td>\n",
       "      <td>-2.359208</td>\n",
       "      <td>-0.629804</td>\n",
       "      <td>-0.033728</td>\n",
       "      <td>0.591233</td>\n",
       "      <td>2.573010</td>\n",
       "    </tr>\n",
       "    <tr>\n",
       "      <th>fdi</th>\n",
       "      <td>330.0</td>\n",
       "      <td>5.744563e-17</td>\n",
       "      <td>1.001519</td>\n",
       "      <td>-3.671186</td>\n",
       "      <td>-0.392375</td>\n",
       "      <td>-0.300387</td>\n",
       "      <td>-0.045516</td>\n",
       "      <td>5.781305</td>\n",
       "    </tr>\n",
       "  </tbody>\n",
       "</table>\n",
       "</div>"
      ],
      "text/plain": [
       "                               count          mean       std       min  \\\n",
       "commercial_opening_rate        330.0 -7.175447e-17  1.001519 -2.726421   \n",
       "gross_fixed_capital_formation  330.0  4.642751e-16  1.001519 -2.293179   \n",
       "business_climate               330.0  1.685520e-16  1.001519 -2.631364   \n",
       "scoreeasedoingbusiness         330.0  2.462677e-16  1.001519 -2.735960   \n",
       "buf                            330.0 -6.546952e-16  1.001519 -2.780774   \n",
       "invf                           330.0  6.341728e-17  1.001519 -2.198074   \n",
       "finfree                        330.0  2.714159e-16  1.001519 -1.879919   \n",
       "stock_market                   330.0 -1.147230e-16  1.001519 -2.359208   \n",
       "fdi                            330.0  5.744563e-17  1.001519 -3.671186   \n",
       "\n",
       "                                    25%       50%       75%       max  \n",
       "commercial_opening_rate       -0.488424  0.017606  0.461905  3.148435  \n",
       "gross_fixed_capital_formation -0.519930 -0.075541  0.762421  2.431483  \n",
       "business_climate              -0.704674 -0.130020  0.762803  1.870386  \n",
       "scoreeasedoingbusiness        -0.716744 -0.019406  0.748255  2.524387  \n",
       "buf                           -0.643083 -0.000925  0.576968  2.303536  \n",
       "invf                          -0.267474  0.056725  0.725522  1.950404  \n",
       "finfree                       -0.647929 -0.005062  0.742700  1.591057  \n",
       "stock_market                  -0.629804 -0.033728  0.591233  2.573010  \n",
       "fdi                           -0.392375 -0.300387 -0.045516  5.781305  "
      ]
     },
     "execution_count": 92,
     "metadata": {},
     "output_type": "execute_result"
    }
   ],
   "source": [
    "numeric_FDI3.describe().T"
   ]
  },
  {
   "cell_type": "markdown",
   "id": "5d26108f",
   "metadata": {},
   "source": [
    "# PLOTTING with transf\n"
   ]
  },
  {
   "cell_type": "code",
   "execution_count": 93,
   "id": "f3bc4ae3",
   "metadata": {},
   "outputs": [
    {
     "data": {
      "text/plain": [
       "<seaborn.axisgrid.PairGrid at 0x138f8ccfd90>"
      ]
     },
     "execution_count": 93,
     "metadata": {},
     "output_type": "execute_result"
    },
    {
     "data": {
      "image/png": "[encoded data removed]",
      "text/plain": [
       "<Figure size 360x360 with 6 Axes>"
      ]
     },
     "metadata": {
      "needs_background": "light"
     },
     "output_type": "display_data"
    }
   ],
   "source": [
    "import seaborn as sns\n",
    "sns.pairplot(numeric_FDI3[['fdi','stock_market' ]])\n"
   ]
  },
  {
   "cell_type": "code",
   "execution_count": 94,
   "id": "2e0f44a4",
   "metadata": {},
   "outputs": [
    {
     "data": {
      "image/png": "[encoded data removed]",
      "text/plain": [
       "<Figure size 432x288 with 1 Axes>"
      ]
     },
     "metadata": {
      "needs_background": "light"
     },
     "output_type": "display_data"
    },
    {
     "data": {
      "image/png": "[encoded data removed]",
      "text/plain": [
       "<Figure size 432x288 with 1 Axes>"
      ]
     },
     "metadata": {
      "needs_background": "light"
     },
     "output_type": "display_data"
    },
    {
     "data": {
      "image/png": "[encoded data removed]",
      "text/plain": [
       "<Figure size 432x288 with 1 Axes>"
      ]
     },
     "metadata": {
      "needs_background": "light"
     },
     "output_type": "display_data"
    },
    {
     "data": {
      "image/png": "[encoded data removed]",
      "text/plain": [
       "<Figure size 432x288 with 1 Axes>"
      ]
     },
     "metadata": {
      "needs_background": "light"
     },
     "output_type": "display_data"
    },
    {
     "data": {
      "image/png": "[encoded data removed]",
      "text/plain": [
       "<Figure size 432x288 with 1 Axes>"
      ]
     },
     "metadata": {
      "needs_background": "light"
     },
     "output_type": "display_data"
    },
    {
     "data": {
      "image/png": "[encoded data removed]",
      "text/plain": [
       "<Figure size 432x288 with 1 Axes>"
      ]
     },
     "metadata": {
      "needs_background": "light"
     },
     "output_type": "display_data"
    },
    {
     "data": {
      "image/png": "[encoded data removed]",
      "text/plain": [
       "<Figure size 432x288 with 1 Axes>"
      ]
     },
     "metadata": {
      "needs_background": "light"
     },
     "output_type": "display_data"
    },
    {
     "data": {
      "image/png": "[encoded data removed]",
      "text/plain": [
       "<Figure size 432x288 with 1 Axes>"
      ]
     },
     "metadata": {
      "needs_background": "light"
     },
     "output_type": "display_data"
    },
    {
     "data": {
      "image/png": "[encoded data removed]",
      "text/plain": [
       "<Figure size 432x288 with 1 Axes>"
      ]
     },
     "metadata": {
      "needs_background": "light"
     },
     "output_type": "display_data"
    }
   ],
   "source": [
    "def numericals_plot2(df):\n",
    "    for i in df.columns:\n",
    "        sns.histplot(x=i, data = df, bins=10);\n",
    "        plt.show()\n",
    "    \n",
    "numericals_plot2(numeric_FDI3)\n"
   ]
  },
  {
   "cell_type": "markdown",
   "id": "39abf64f",
   "metadata": {},
   "source": [
    "# correlation"
   ]
  },
  {
   "cell_type": "code",
   "execution_count": 95,
   "id": "86f67cc2",
   "metadata": {},
   "outputs": [
    {
     "data": {
      "image/png": "[encoded data removed]",
      "text/plain": [
       "<Figure size 1080x576 with 2 Axes>"
      ]
     },
     "metadata": {
      "needs_background": "light"
     },
     "output_type": "display_data"
    }
   ],
   "source": [
    "import seaborn as sb\n",
    "dataplot=sb.heatmap(numeric_FDI3.corr(), annot=True,  )\n",
    "plt.gcf().set_size_inches(15, 8)"
   ]
  },
  {
   "cell_type": "code",
   "execution_count": 96,
   "id": "c180492c",
   "metadata": {},
   "outputs": [],
   "source": [
    "#corr_FDI3 = numeric_FDI3[['fdi','gross_fixed_capital_formation','invf','finfree', 'stock market']].corr()\n",
    "#corr_FDI3"
   ]
  },
  {
   "cell_type": "markdown",
   "id": "433a35d9",
   "metadata": {},
   "source": [
    " we have multicolinearity here with gross_fixed_capital_formation . We need to drop one of these columns. \n",
    "We will drop gross_fixed_capital_formation "
   ]
  },
  {
   "cell_type": "code",
   "execution_count": 97,
   "id": "3b66a314",
   "metadata": {},
   "outputs": [],
   "source": [
    "# we have multicolinearity here with gross_fixed_capital_formation . We need to drop one of these columns. \n",
    "# We will drop gross_fixed_capital_formation \n",
    "\n",
    "# numeric_FDI3 = numeric_FDI3.drop(['gross_fixed_capital_formation'], axis=1)"
   ]
  },
  {
   "cell_type": "markdown",
   "id": "9999ad0d",
   "metadata": {},
   "source": [
    "# Ploting fdi"
   ]
  },
  {
   "cell_type": "code",
   "execution_count": 98,
   "id": "4585d2fb",
   "metadata": {},
   "outputs": [
    {
     "data": {
      "image/png": "[encoded data removed]",
      "text/plain": [
       "<Figure size 360x360 with 1 Axes>"
      ]
     },
     "metadata": {
      "needs_background": "light"
     },
     "output_type": "display_data"
    }
   ],
   "source": [
    "sns.displot(numeric_FDI3['fdi'])\n",
    "plt.show()"
   ]
  },
  {
   "cell_type": "code",
   "execution_count": 99,
   "id": "0ca56ef1",
   "metadata": {},
   "outputs": [
    {
     "data": {
      "image/png": "[encoded data removed]",
      "text/plain": [
       "<Figure size 432x288 with 1 Axes>"
      ]
     },
     "metadata": {
      "needs_background": "light"
     },
     "output_type": "display_data"
    }
   ],
   "source": [
    "sns.boxplot(x=numeric_FDI3['fdi'])\n",
    "plt.show()"
   ]
  },
  {
   "cell_type": "code",
   "execution_count": 100,
   "id": "3a37f8c9",
   "metadata": {},
   "outputs": [],
   "source": [
    "iqr = np.percentile(numeric_FDI3['fdi'],75) - np.percentile(numeric_FDI3['fdi'],25)\n",
    "upper_limit = np.percentile(numeric_FDI3['fdi'],75) + 1.5*iqr\n",
    "lower_limit = np.percentile(numeric_FDI3['fdi'],25) - 1.5*iqr"
   ]
  },
  {
   "cell_type": "code",
   "execution_count": 101,
   "id": "0795f0a6",
   "metadata": {},
   "outputs": [],
   "source": [
    "numeric_FDI3 = numeric_FDI3[(numeric_FDI3['fdi']>lower_limit) & (numeric_FDI3['fdi']<upper_limit)]"
   ]
  },
  {
   "cell_type": "code",
   "execution_count": 102,
   "id": "b4d9970b",
   "metadata": {},
   "outputs": [],
   "source": [
    "# numeric_FDI3['fdi_log'] = np.log(numeric_FDI3['fdi']+1)"
   ]
  },
  {
   "cell_type": "code",
   "execution_count": 103,
   "id": "84b0e2a4",
   "metadata": {},
   "outputs": [],
   "source": [
    "# sns.displot(numeric_FDI3['fdi_log'])"
   ]
  },
  {
   "cell_type": "code",
   "execution_count": 104,
   "id": "b5515fbd",
   "metadata": {},
   "outputs": [
    {
     "data": {
      "text/plain": [
       "<seaborn.axisgrid.FacetGrid at 0x138f8ccf910>"
      ]
     },
     "execution_count": 104,
     "metadata": {},
     "output_type": "execute_result"
    },
    {
     "data": {
      "image/png": "[encoded data removed]",
      "text/plain": [
       "<Figure size 360x360 with 1 Axes>"
      ]
     },
     "metadata": {
      "needs_background": "light"
     },
     "output_type": "display_data"
    }
   ],
   "source": [
    "sns.displot(numeric_FDI3['fdi'])"
   ]
  },
  {
   "cell_type": "code",
   "execution_count": 105,
   "id": "41d83019",
   "metadata": {},
   "outputs": [
    {
     "data": {
      "image/png": "[encoded data removed]",
      "text/plain": [
       "<Figure size 432x288 with 1 Axes>"
      ]
     },
     "metadata": {
      "needs_background": "light"
     },
     "output_type": "display_data"
    }
   ],
   "source": [
    "sns.boxplot(x=numeric_FDI3['fdi'])\n",
    "plt.show()"
   ]
  },
  {
   "cell_type": "code",
   "execution_count": 106,
   "id": "498f25f0",
   "metadata": {},
   "outputs": [],
   "source": [
    "#regression_line = lm.intercept_ + lm.coef_[0]*numeric_FDI3['stock market'] # b_0 + b_1 * x\n",
    "#plt.plot(numeric_FDI3['stock market'], regression_line, c = 'orange')\n",
    "#sns.scatterplot(x='stock market',y='fdi',data=numeric_FDI3)\n",
    "#plt.show()"
   ]
  },
  {
   "cell_type": "code",
   "execution_count": 107,
   "id": "30d0229d",
   "metadata": {},
   "outputs": [
    {
     "data": {
      "image/png": "[encoded data removed]",
      "text/plain": [
       "<Figure size 432x288 with 1 Axes>"
      ]
     },
     "metadata": {
      "needs_background": "light"
     },
     "output_type": "display_data"
    }
   ],
   "source": [
    "sns.boxplot(x=numeric_FDI3['stock_market'])\n",
    "plt.show()"
   ]
  },
  {
   "cell_type": "code",
   "execution_count": 108,
   "id": "9bf24a20",
   "metadata": {},
   "outputs": [
    {
     "data": {
      "image/png": "[encoded data removed]",
      "text/plain": [
       "<Figure size 432x288 with 1 Axes>"
      ]
     },
     "metadata": {
      "needs_background": "light"
     },
     "output_type": "display_data"
    }
   ],
   "source": [
    "sns.boxplot(x=numeric_FDI3['gross_fixed_capital_formation'])\n",
    "plt.show()"
   ]
  },
  {
   "cell_type": "markdown",
   "id": "05bd92e4",
   "metadata": {},
   "source": [
    "# split another variable"
   ]
  },
  {
   "cell_type": "code",
   "execution_count": 109,
   "id": "b3a0b43c",
   "metadata": {},
   "outputs": [],
   "source": [
    "#y = numeric_FDI3['stock market']\n",
    "#X = numeric_FDI3[['buf']] \n",
    "\n",
    "#from sklearn.model_selection import train_test_split\n",
    "\n",
    "#X_train, X_test, y_train, y_test = train_test_split(X,y,test_size=0.3)"
   ]
  },
  {
   "cell_type": "code",
   "execution_count": 110,
   "id": "eb786edc",
   "metadata": {},
   "outputs": [],
   "source": [
    "from sklearn.preprocessing import MinMaxScaler\n",
    "\n",
    "# PowerTransformer()\n",
    "#MinMaxtransformer = MinMaxScaler()\n",
    "#MinMaxtransformer.fit(X_train)\n",
    "\n",
    "#X_train_scaled = MinMaxtransformer.transform(X_train)\n",
    "#X_test_scaled  = MinMaxtransformer.transform(X_test)\n",
    "\n",
    "#X_train_scaled_df = pd.DataFrame(X_train_scaled, columns=X_train.columns)\n",
    "#X_test_scaled_df  = pd.DataFrame(X_test_scaled, columns=X_test.columns)"
   ]
  },
  {
   "cell_type": "code",
   "execution_count": 111,
   "id": "57c02324",
   "metadata": {},
   "outputs": [],
   "source": [
    "#from sklearn import linear_model\n",
    "#from sklearn.metrics import mean_squared_error, r2_score\n",
    "\n",
    "#y = y_train\n",
    "#X = X_train_scaled_df\n",
    "\n",
    "#lm = linear_model.LinearRegression()\n",
    "#lm.fit(X_train_scaled_df,y_train)\n",
    "#print(lm.intercept_)\n",
    "#print(lm.coef_)\n",
    "#print(lm.score(X,y))"
   ]
  },
  {
   "cell_type": "code",
   "execution_count": 112,
   "id": "7f4c45bf",
   "metadata": {},
   "outputs": [],
   "source": [
    "#from sklearn.metrics import r2_score\n",
    "\n",
    "#y_pred_train = lm.predict(X_train_scaled_df)\n",
    "#y_pred_test  = lm.predict(X_test_scaled_df)\n",
    "#r2_score(y_train, y_pred_train)\n",
    "\n",
    "\n",
    "#from sklearn.metrics import r2_score\n",
    "#y_pred = lm.predict(X)\n",
    "#r2_score(y, y_pred)"
   ]
  },
  {
   "cell_type": "code",
   "execution_count": 113,
   "id": "3a165d31",
   "metadata": {},
   "outputs": [],
   "source": [
    "#fig, ax = plt.subplots(2,2,figsize=(20,10))\n",
    "#sns.scatterplot(x=y_train, y=y_pred_train, ax = ax[0,0])\n",
    "#sns.histplot(x=y_train-y_pred_train, ax = ax[0,1], bins = 50)\n",
    "#ax[0,0].plot(y_train, y_train, color = \"black\")\n",
    "#sns.scatterplot(x=y_test, y=y_pred_test, ax = ax[1,0])\n",
    "#sns.histplot(x=y_test-y_pred_test, ax = ax[1,1], bins=50)\n",
    "#ax[1,0].plot(y_test, y_test, color=\"black\")\n",
    "#plt.show()"
   ]
  },
  {
   "cell_type": "code",
   "execution_count": null,
   "id": "0933f611",
   "metadata": {},
   "outputs": [],
   "source": []
  },
  {
   "cell_type": "markdown",
   "id": "a8705436",
   "metadata": {},
   "source": [
    "# split"
   ]
  },
  {
   "cell_type": "code",
   "execution_count": 114,
   "id": "54b4d731",
   "metadata": {},
   "outputs": [],
   "source": [
    "y = numeric_FDI3['fdi']\n",
    "X = numeric_FDI3.drop(columns='fdi') \n",
    "\n",
    "from sklearn.model_selection import train_test_split\n",
    "\n",
    "X_train, X_test, y_train, y_test = train_test_split(X,y,test_size=0.3)"
   ]
  },
  {
   "cell_type": "code",
   "execution_count": 115,
   "id": "2edbd16d",
   "metadata": {},
   "outputs": [
    {
     "data": {
      "image/png": "[encoded data removed]",
      "text/plain": [
       "<Figure size 432x288 with 1 Axes>"
      ]
     },
     "metadata": {
      "needs_background": "light"
     },
     "output_type": "display_data"
    }
   ],
   "source": [
    "sns.histplot(y);"
   ]
  },
  {
   "cell_type": "code",
   "execution_count": 116,
   "id": "c196b64c",
   "metadata": {},
   "outputs": [],
   "source": [
    "#y_powertransformer = PowerTransformer()\n",
    "#y_powertransformer.fit(y)\n",
    "#y_transformed = y_powertransformer.transform(y)\n",
    "#y_transformed_s = pd.Series(y_transformed)\n",
    "\n",
    "#y_powertransformer.inverse_transform(y_transformed_s)\n",
    "\n",
    "#x_powertransformer = PowerTransformer()\n"
   ]
  },
  {
   "cell_type": "markdown",
   "id": "5e81c73f",
   "metadata": {},
   "source": [
    "\n",
    "# Normalization"
   ]
  },
  {
   "cell_type": "code",
   "execution_count": 117,
   "id": "0269a842",
   "metadata": {},
   "outputs": [],
   "source": [
    "\n",
    "from sklearn.preprocessing import MinMaxScaler\n",
    "\n",
    "PowerTransformer()\n",
    "MinMaxtransformer = MinMaxScaler()\n",
    "MinMaxtransformer.fit(X_train)\n",
    "\n",
    "X_train_minmax_scaled = MinMaxtransformer.transform(X_train)\n",
    "X_test_minmax_scaled  = MinMaxtransformer.transform(X_test)\n",
    "\n",
    "X_train_minmax_scaled_df = pd.DataFrame(X_train_minmax_scaled, columns=X_train.columns)\n",
    "X_test_minmax_scaled_df  = pd.DataFrame(X_test_minmax_scaled, columns=X_test.columns)"
   ]
  },
  {
   "cell_type": "code",
   "execution_count": 118,
   "id": "cd40843f",
   "metadata": {},
   "outputs": [],
   "source": [
    "#from sklearn.preprocessing import PowerTransformer\n",
    "#powertransformer = PowerTransformer()\n",
    "#powertransformer.fit(X_train)\n",
    "#print(powertransformer.lambdas_)\n",
    "\n",
    "#X_train_scaled = powertransformer.transform(X_train)\n",
    "#X_test_scaled  = powertransformer.transform(X_test)\n",
    "\n",
    "#X_train_scaled_df = pd.DataFrame(X_train_scaled, columns=X_train.columns)\n",
    "#X_test_scaled_df  = pd.DataFrame(X_test_scaled, columns=X_test.columns)"
   ]
  },
  {
   "cell_type": "markdown",
   "id": "cbaf7ab3",
   "metadata": {},
   "source": [
    "# Let us have a look at the error rate for different k values"
   ]
  },
  {
   "cell_type": "code",
   "execution_count": 119,
   "id": "ba3647f8",
   "metadata": {},
   "outputs": [],
   "source": [
    "#import required packages\n",
    "from sklearn import neighbors\n",
    "from sklearn.metrics import mean_squared_error \n",
    "from math import sqrt\n",
    "import matplotlib.pyplot as plt\n",
    "%matplotlib inline"
   ]
  },
  {
   "cell_type": "code",
   "execution_count": 120,
   "id": "af7243be",
   "metadata": {},
   "outputs": [
    {
     "name": "stdout",
     "output_type": "stream",
     "text": [
      "r2_score value for k=  1 is: 0.5766303392623823\n",
      "r2_score value for k=  2 is: 0.6277387671252306\n",
      "r2_score value for k=  3 is: 0.6348054004390093\n",
      "r2_score value for k=  4 is: 0.6435863411057585\n",
      "r2_score value for k=  5 is: 0.6446875765251456\n",
      "r2_score value for k=  6 is: 0.6232701710061698\n",
      "r2_score value for k=  7 is: 0.6140802794119726\n",
      "r2_score value for k=  8 is: 0.6125965424701203\n",
      "r2_score value for k=  9 is: 0.6214127463614698\n",
      "r2_score value for k=  10 is: 0.6062796073293224\n",
      "r2_score value for k=  11 is: 0.6045773585156056\n",
      "r2_score value for k=  12 is: 0.603873904178654\n",
      "r2_score value for k=  13 is: 0.5828346672872453\n",
      "r2_score value for k=  14 is: 0.5672064235165888\n",
      "r2_score value for k=  15 is: 0.5638260313591458\n",
      "r2_score value for k=  16 is: 0.5425933675444918\n",
      "r2_score value for k=  17 is: 0.5398198853511628\n",
      "r2_score value for k=  18 is: 0.5173992366788662\n",
      "r2_score value for k=  19 is: 0.5294525010963473\n"
     ]
    }
   ],
   "source": [
    "rmse_val = [] #to store rmse values for different k\n",
    "knn_models = {}\n",
    "for K in range(1,20):\n",
    "    \n",
    "    model_knn = neighbors.KNeighborsRegressor(n_neighbors = K)\n",
    "    model_knn.fit(X_train, y_train)  #fit the model\n",
    "    \n",
    "    knn_models[K] = model_knn \n",
    "    pred=model_knn.predict(X_test) #make prediction on test set\n",
    "    error = (r2_score(y_test,pred)) #calculate rmse\n",
    "    rmse_val.append(error) #store rmse values\n",
    "    print('r2_score value for k= ' , K , 'is:', error)"
   ]
  },
  {
   "cell_type": "code",
   "execution_count": 121,
   "id": "ee0aac05",
   "metadata": {},
   "outputs": [
    {
     "data": {
      "text/html": [
       "<style>#sk-container-id-1 {color: black;background-color: white;}#sk-container-id-1 pre{padding: 0;}#sk-container-id-1 div.sk-toggleable {background-color: white;}#sk-container-id-1 label.sk-toggleable__label {cursor: pointer;display: block;width: 100%;margin-bottom: 0;padding: 0.3em;box-sizing: border-box;text-align: center;}#sk-container-id-1 label.sk-toggleable__label-arrow:before {content: \"▸\";float: left;margin-right: 0.25em;color: #696969;}#sk-container-id-1 label.sk-toggleable__label-arrow:hover:before {color: black;}#sk-container-id-1 div.sk-estimator:hover label.sk-toggleable__label-arrow:before {color: black;}#sk-container-id-1 div.sk-toggleable__content {max-height: 0;max-width: 0;overflow: hidden;text-align: left;background-color: #f0f8ff;}#sk-container-id-1 div.sk-toggleable__content pre {margin: 0.2em;color: black;border-radius: 0.25em;background-color: #f0f8ff;}#sk-container-id-1 input.sk-toggleable__control:checked~div.sk-toggleable__content {max-height: 200px;max-width: 100%;overflow: auto;}#sk-container-id-1 input.sk-toggleable__control:checked~label.sk-toggleable__label-arrow:before {content: \"▾\";}#sk-container-id-1 div.sk-estimator input.sk-toggleable__control:checked~label.sk-toggleable__label {background-color: #d4ebff;}#sk-container-id-1 div.sk-label input.sk-toggleable__control:checked~label.sk-toggleable__label {background-color: #d4ebff;}#sk-container-id-1 input.sk-hidden--visually {border: 0;clip: rect(1px 1px 1px 1px);clip: rect(1px, 1px, 1px, 1px);height: 1px;margin: -1px;overflow: hidden;padding: 0;position: absolute;width: 1px;}#sk-container-id-1 div.sk-estimator {font-family: monospace;background-color: #f0f8ff;border: 1px dotted black;border-radius: 0.25em;box-sizing: border-box;margin-bottom: 0.5em;}#sk-container-id-1 div.sk-estimator:hover {background-color: #d4ebff;}#sk-container-id-1 div.sk-parallel-item::after {content: \"\";width: 100%;border-bottom: 1px solid gray;flex-grow: 1;}#sk-container-id-1 div.sk-label:hover label.sk-toggleable__label {background-color: #d4ebff;}#sk-container-id-1 div.sk-serial::before {content: \"\";position: absolute;border-left: 1px solid gray;box-sizing: border-box;top: 0;bottom: 0;left: 50%;z-index: 0;}#sk-container-id-1 div.sk-serial {display: flex;flex-direction: column;align-items: center;background-color: white;padding-right: 0.2em;padding-left: 0.2em;position: relative;}#sk-container-id-1 div.sk-item {position: relative;z-index: 1;}#sk-container-id-1 div.sk-parallel {display: flex;align-items: stretch;justify-content: center;background-color: white;position: relative;}#sk-container-id-1 div.sk-item::before, #sk-container-id-1 div.sk-parallel-item::before {content: \"\";position: absolute;border-left: 1px solid gray;box-sizing: border-box;top: 0;bottom: 0;left: 50%;z-index: -1;}#sk-container-id-1 div.sk-parallel-item {display: flex;flex-direction: column;z-index: 1;position: relative;background-color: white;}#sk-container-id-1 div.sk-parallel-item:first-child::after {align-self: flex-end;width: 50%;}#sk-container-id-1 div.sk-parallel-item:last-child::after {align-self: flex-start;width: 50%;}#sk-container-id-1 div.sk-parallel-item:only-child::after {width: 0;}#sk-container-id-1 div.sk-dashed-wrapped {border: 1px dashed gray;margin: 0 0.4em 0.5em 0.4em;box-sizing: border-box;padding-bottom: 0.4em;background-color: white;}#sk-container-id-1 div.sk-label label {font-family: monospace;font-weight: bold;display: inline-block;line-height: 1.2em;}#sk-container-id-1 div.sk-label-container {text-align: center;}#sk-container-id-1 div.sk-container {/* jupyter's `normalize.less` sets `[hidden] { display: none; }` but bootstrap.min.css set `[hidden] { display: none !important; }` so we also need the `!important` here to be able to override the default hidden behavior on the sphinx rendered scikit-learn.org. See: https://github.com/scikit-learn/scikit-learn/issues/21755 */display: inline-block !important;position: relative;}#sk-container-id-1 div.sk-text-repr-fallback {display: none;}</style><div id=\"sk-container-id-1\" class=\"sk-top-container\"><div class=\"sk-text-repr-fallback\"><pre>KNeighborsRegressor(n_neighbors=19)</pre><b>In a Jupyter environment, please rerun this cell to show the HTML representation or trust the notebook. <br />On GitHub, the HTML representation is unable to render, please try loading this page with nbviewer.org.</b></div><div class=\"sk-container\" hidden><div class=\"sk-item\"><div class=\"sk-estimator sk-toggleable\"><input class=\"sk-toggleable__control sk-hidden--visually\" id=\"sk-estimator-id-1\" type=\"checkbox\" checked><label for=\"sk-estimator-id-1\" class=\"sk-toggleable__label sk-toggleable__label-arrow\">KNeighborsRegressor</label><div class=\"sk-toggleable__content\"><pre>KNeighborsRegressor(n_neighbors=19)</pre></div></div></div></div></div>"
      ],
      "text/plain": [
       "KNeighborsRegressor(n_neighbors=19)"
      ]
     },
     "execution_count": 121,
     "metadata": {},
     "output_type": "execute_result"
    }
   ],
   "source": [
    "model_knn"
   ]
  },
  {
   "cell_type": "code",
   "execution_count": 122,
   "id": "0c7e4ccd",
   "metadata": {},
   "outputs": [
    {
     "name": "stdout",
     "output_type": "stream",
     "text": [
      "r2_score_test:  0.6435863411057585\n",
      "r2_score_train:  0.8567736659941534\n"
     ]
    }
   ],
   "source": [
    "# Choose K=4\n",
    "model_knn = neighbors.KNeighborsRegressor(n_neighbors = 4)\n",
    "model_knn.fit(X_train, y_train)  #fit the model\n",
    "    \n",
    "knn_models[K] = model_knn \n",
    "pred_test=model_knn.predict(X_test) #make prediction on test set\n",
    "pred_train=model_knn.predict(X_train) #make prediction on test set\n",
    "print('r2_score_test: ', r2_score(y_test,pred_test))\n",
    "print('r2_score_train: ', r2_score(y_train,pred_train))"
   ]
  },
  {
   "cell_type": "code",
   "execution_count": 226,
   "id": "98145dfd",
   "metadata": {},
   "outputs": [],
   "source": [
    "# rmse_lm_test_KNN= sqrt(mean_squared_error(y_test,pred))\n",
    "# print (rmse_lm_test_KNN)"
   ]
  },
  {
   "cell_type": "code",
   "execution_count": 227,
   "id": "8219dfe5",
   "metadata": {},
   "outputs": [],
   "source": [
    "# knn_models[K] = model_knn \n",
    "# pred=model_knn.predict(X_train) #make prediction on train set\n",
    "# rmse_lm_train_KNN=sqrt(mean_squared_error(y_train,pred))\n",
    "# print (rmse_lm_train_KNN)"
   ]
  },
  {
   "cell_type": "code",
   "execution_count": 123,
   "id": "e28ab57f",
   "metadata": {},
   "outputs": [],
   "source": [
    "r2_score_test_knn = r2_score(y_test,pred_test)"
   ]
  },
  {
   "cell_type": "code",
   "execution_count": 124,
   "id": "b7b437e3",
   "metadata": {},
   "outputs": [],
   "source": [
    "r2_score_train_knn = r2_score(y_train,pred_train)"
   ]
  },
  {
   "cell_type": "code",
   "execution_count": 151,
   "id": "f974733b",
   "metadata": {},
   "outputs": [],
   "source": [
    "matrix2= pd.DataFrame({'y_train': y_train, 'y_train_pred_lm': y_pred_train_lm, 'Residuals_train_lm': y_train - y_pred_train_lm, 'y_train_pred_knn': y_train_pred_knn, 'Residuals_train_knn':  y_train - y_train_pred_knn })"
   ]
  },
  {
   "cell_type": "code",
   "execution_count": 154,
   "id": "4f8cbe80",
   "metadata": {},
   "outputs": [
    {
     "data": {
      "text/html": [
       "<div>\n",
       "<style scoped>\n",
       "    .dataframe tbody tr th:only-of-type {\n",
       "        vertical-align: middle;\n",
       "    }\n",
       "\n",
       "    .dataframe tbody tr th {\n",
       "        vertical-align: top;\n",
       "    }\n",
       "\n",
       "    .dataframe thead th {\n",
       "        text-align: right;\n",
       "    }\n",
       "</style>\n",
       "<table border=\"1\" class=\"dataframe\">\n",
       "  <thead>\n",
       "    <tr style=\"text-align: right;\">\n",
       "      <th></th>\n",
       "      <th>y_train</th>\n",
       "      <th>y_train_pred_lm</th>\n",
       "      <th>Residuals_train_lm</th>\n",
       "      <th>y_train_pred_knn</th>\n",
       "      <th>Residuals_train_knn</th>\n",
       "    </tr>\n",
       "  </thead>\n",
       "  <tbody>\n",
       "    <tr>\n",
       "      <th>318</th>\n",
       "      <td>0.189559</td>\n",
       "      <td>0.008644</td>\n",
       "      <td>0.180915</td>\n",
       "      <td>0.083081</td>\n",
       "      <td>0.106478</td>\n",
       "    </tr>\n",
       "    <tr>\n",
       "      <th>264</th>\n",
       "      <td>-0.327345</td>\n",
       "      <td>-0.052517</td>\n",
       "      <td>-0.274828</td>\n",
       "      <td>-0.286120</td>\n",
       "      <td>-0.041225</td>\n",
       "    </tr>\n",
       "    <tr>\n",
       "      <th>240</th>\n",
       "      <td>-0.400243</td>\n",
       "      <td>-0.081447</td>\n",
       "      <td>-0.318795</td>\n",
       "      <td>-0.325489</td>\n",
       "      <td>-0.074754</td>\n",
       "    </tr>\n",
       "    <tr>\n",
       "      <th>249</th>\n",
       "      <td>-0.142671</td>\n",
       "      <td>-0.029094</td>\n",
       "      <td>-0.113577</td>\n",
       "      <td>-0.257884</td>\n",
       "      <td>0.115213</td>\n",
       "    </tr>\n",
       "    <tr>\n",
       "      <th>278</th>\n",
       "      <td>-0.350072</td>\n",
       "      <td>-0.037681</td>\n",
       "      <td>-0.312391</td>\n",
       "      <td>-0.336159</td>\n",
       "      <td>-0.013912</td>\n",
       "    </tr>\n",
       "    <tr>\n",
       "      <th>...</th>\n",
       "      <td>...</td>\n",
       "      <td>...</td>\n",
       "      <td>...</td>\n",
       "      <td>...</td>\n",
       "      <td>...</td>\n",
       "    </tr>\n",
       "    <tr>\n",
       "      <th>17</th>\n",
       "      <td>-0.199627</td>\n",
       "      <td>-0.077092</td>\n",
       "      <td>-0.122534</td>\n",
       "      <td>-0.256186</td>\n",
       "      <td>0.056559</td>\n",
       "    </tr>\n",
       "    <tr>\n",
       "      <th>13</th>\n",
       "      <td>-0.392647</td>\n",
       "      <td>-0.052859</td>\n",
       "      <td>-0.339788</td>\n",
       "      <td>-0.369492</td>\n",
       "      <td>-0.023155</td>\n",
       "    </tr>\n",
       "    <tr>\n",
       "      <th>11</th>\n",
       "      <td>-0.357331</td>\n",
       "      <td>-0.058347</td>\n",
       "      <td>-0.298983</td>\n",
       "      <td>-0.369492</td>\n",
       "      <td>0.012162</td>\n",
       "    </tr>\n",
       "    <tr>\n",
       "      <th>5</th>\n",
       "      <td>-0.426367</td>\n",
       "      <td>-0.093810</td>\n",
       "      <td>-0.332558</td>\n",
       "      <td>-0.418993</td>\n",
       "      <td>-0.007374</td>\n",
       "    </tr>\n",
       "    <tr>\n",
       "      <th>250</th>\n",
       "      <td>-0.321099</td>\n",
       "      <td>-0.030254</td>\n",
       "      <td>-0.290846</td>\n",
       "      <td>-0.257884</td>\n",
       "      <td>-0.063215</td>\n",
       "    </tr>\n",
       "  </tbody>\n",
       "</table>\n",
       "<p>203 rows × 5 columns</p>\n",
       "</div>"
      ],
      "text/plain": [
       "      y_train  y_train_pred_lm  Residuals_train_lm  y_train_pred_knn  \\\n",
       "318  0.189559         0.008644            0.180915          0.083081   \n",
       "264 -0.327345        -0.052517           -0.274828         -0.286120   \n",
       "240 -0.400243        -0.081447           -0.318795         -0.325489   \n",
       "249 -0.142671        -0.029094           -0.113577         -0.257884   \n",
       "278 -0.350072        -0.037681           -0.312391         -0.336159   \n",
       "..        ...              ...                 ...               ...   \n",
       "17  -0.199627        -0.077092           -0.122534         -0.256186   \n",
       "13  -0.392647        -0.052859           -0.339788         -0.369492   \n",
       "11  -0.357331        -0.058347           -0.298983         -0.369492   \n",
       "5   -0.426367        -0.093810           -0.332558         -0.418993   \n",
       "250 -0.321099        -0.030254           -0.290846         -0.257884   \n",
       "\n",
       "     Residuals_train_knn  \n",
       "318             0.106478  \n",
       "264            -0.041225  \n",
       "240            -0.074754  \n",
       "249             0.115213  \n",
       "278            -0.013912  \n",
       "..                   ...  \n",
       "17              0.056559  \n",
       "13             -0.023155  \n",
       "11              0.012162  \n",
       "5              -0.007374  \n",
       "250            -0.063215  \n",
       "\n",
       "[203 rows x 5 columns]"
      ]
     },
     "execution_count": 154,
     "metadata": {},
     "output_type": "execute_result"
    }
   ],
   "source": [
    "matrix2"
   ]
  },
  {
   "cell_type": "code",
   "execution_count": 152,
   "id": "0a0a3f91",
   "metadata": {},
   "outputs": [],
   "source": [
    "matrix= pd.DataFrame({'Model': ['model_lm', 'model_knn'], 'Train': [r2_score_train,r2_score_train_knn], 'Test': [r2_score_test, r2_score_test_knn]})\n"
   ]
  },
  {
   "cell_type": "code",
   "execution_count": 153,
   "id": "7527b8a2",
   "metadata": {},
   "outputs": [
    {
     "data": {
      "text/html": [
       "<div>\n",
       "<style scoped>\n",
       "    .dataframe tbody tr th:only-of-type {\n",
       "        vertical-align: middle;\n",
       "    }\n",
       "\n",
       "    .dataframe tbody tr th {\n",
       "        vertical-align: top;\n",
       "    }\n",
       "\n",
       "    .dataframe thead th {\n",
       "        text-align: right;\n",
       "    }\n",
       "</style>\n",
       "<table border=\"1\" class=\"dataframe\">\n",
       "  <thead>\n",
       "    <tr style=\"text-align: right;\">\n",
       "      <th></th>\n",
       "      <th>Model</th>\n",
       "      <th>Train</th>\n",
       "      <th>Test</th>\n",
       "    </tr>\n",
       "  </thead>\n",
       "  <tbody>\n",
       "    <tr>\n",
       "      <th>0</th>\n",
       "      <td>model_lm</td>\n",
       "      <td>0.654549</td>\n",
       "      <td>0.653463</td>\n",
       "    </tr>\n",
       "    <tr>\n",
       "      <th>1</th>\n",
       "      <td>model_knn</td>\n",
       "      <td>0.856774</td>\n",
       "      <td>0.643586</td>\n",
       "    </tr>\n",
       "  </tbody>\n",
       "</table>\n",
       "</div>"
      ],
      "text/plain": [
       "       Model     Train      Test\n",
       "0   model_lm  0.654549  0.653463\n",
       "1  model_knn  0.856774  0.643586"
      ]
     },
     "execution_count": 153,
     "metadata": {},
     "output_type": "execute_result"
    }
   ],
   "source": [
    "matrix"
   ]
  },
  {
   "cell_type": "code",
   "execution_count": 155,
   "id": "e72a1688",
   "metadata": {},
   "outputs": [
    {
     "data": {
      "text/plain": [
       "318    0.180915\n",
       "264   -0.274828\n",
       "240   -0.318795\n",
       "249   -0.113577\n",
       "278   -0.312391\n",
       "         ...   \n",
       "17    -0.122534\n",
       "13    -0.339788\n",
       "11    -0.298983\n",
       "5     -0.332558\n",
       "250   -0.290846\n",
       "Name: fdi, Length: 203, dtype: float64"
      ]
     },
     "execution_count": 155,
     "metadata": {},
     "output_type": "execute_result"
    }
   ],
   "source": [
    "y_train - y_pred_train_lm"
   ]
  },
  {
   "cell_type": "code",
   "execution_count": 156,
   "id": "4c31ffa0",
   "metadata": {},
   "outputs": [
    {
     "data": {
      "text/plain": [
       "318    0.106478\n",
       "264   -0.041225\n",
       "240   -0.074754\n",
       "249    0.115213\n",
       "278   -0.013912\n",
       "         ...   \n",
       "17     0.056559\n",
       "13    -0.023155\n",
       "11     0.012162\n",
       "5     -0.007374\n",
       "250   -0.063215\n",
       "Name: fdi, Length: 203, dtype: float64"
      ]
     },
     "execution_count": 156,
     "metadata": {},
     "output_type": "execute_result"
    }
   ],
   "source": [
    "y_train - y_train_pred_knn"
   ]
  },
  {
   "cell_type": "code",
   "execution_count": 71,
   "id": "598740e3",
   "metadata": {},
   "outputs": [
    {
     "data": {
      "text/plain": [
       "array([-0.13009192, -0.42427708, -0.3466287 , -0.43071895, -0.44004462,\n",
       "       -0.44004462, -0.38909847, -0.28658833,  0.33049093, -0.17860422,\n",
       "       -0.30412957, -0.32386619, -0.33708532,  0.15146812, -0.41642149,\n",
       "       -0.38067653,  0.21608705, -0.37069947, -0.38884856,  0.03249803,\n",
       "       -0.31262484,  0.05058064, -0.08554325, -0.43248666, -0.43248666,\n",
       "       -0.15979694, -0.41418535, -0.11708436, -0.41642149, -0.24836472,\n",
       "       -0.37369963, -0.37981699,  0.10240295, -0.38877694, -0.260517  ,\n",
       "       -0.2861857 ,  0.11667885, -0.30936047, -0.24042109, -0.25505648,\n",
       "       -0.2230325 , -0.2861857 , -0.30097727,  0.24083258, -0.17075657,\n",
       "       -0.42758189,  0.11650634,  0.21928258, -0.46396514, -0.40122344,\n",
       "       -0.32953939, -0.389763  , -0.37369963, -0.2849105 , -0.21267904,\n",
       "       -0.31262484, -0.46033327, -0.23999649, -0.33671746, -0.39241863,\n",
       "       -0.32106226, -0.05719572, -0.00795643, -0.2034401 , -0.29969153,\n",
       "       -0.3896851 , -0.11708436, -0.46033327, -0.11816691, -0.21267904,\n",
       "        0.24083258, -0.42758189, -0.37613182, -0.42441195, -0.31262484,\n",
       "        0.3977469 , -0.13009192, -0.35032036, -0.17860422, -0.17409789,\n",
       "       -0.32050173, -0.40901368, -0.42427708, -0.33922642, -0.39044908,\n",
       "       -0.2230325 , -0.44907116, -0.33922642, -0.14298071, -0.44777328,\n",
       "       -0.42142076, -0.30850592, -0.42441195, -0.30850592, -0.32346095,\n",
       "       -0.42823912, -0.34727273, -0.40901368, -0.27996153, -0.17684127,\n",
       "       -0.18604257, -0.39157712, -0.40585597, -0.2230325 , -0.27019869,\n",
       "       -0.34899218, -0.36390429, -0.39957599, -0.36130134, -0.32953939,\n",
       "        0.33049093, -0.06562889, -0.39044908, -0.3865493 , -0.10533583,\n",
       "        0.33049093, -0.38416052, -0.42076837, -0.2314548 , -0.18483131,\n",
       "       -0.12714201, -0.21861344, -0.13009192,  0.10240295, -0.36934989,\n",
       "       -0.39315977, -0.14883013, -0.40901368, -0.39251058, -0.17860422,\n",
       "       -0.44777328, -0.21267904, -0.36934989, -0.35905659, -0.18696719,\n",
       "       -0.37069947, -0.3082164 , -0.36390429, -0.11618269, -0.04342258,\n",
       "       -0.43071895, -0.2314548 , -0.42427708, -0.00795643, -0.37369963,\n",
       "        0.12155694, -0.19679186, -0.35827017, -0.39157712,  0.1541808 ,\n",
       "        0.20684829, -0.11816691, -0.25064264, -0.41433026, -0.24755365,\n",
       "        0.21608705, -0.3896851 ,  0.15146812, -0.19679186, -0.30936047,\n",
       "       -0.40117559, -0.42648144, -0.38274374, -0.32050173, -0.43429537,\n",
       "       -0.17931041, -0.40585597, -0.41507757, -0.36934989,  0.11044558,\n",
       "       -0.22536422, -0.39241863, -0.26810278, -0.32953939, -0.24042109,\n",
       "       -0.21861344, -0.2861857 , -0.42076837, -0.38632917, -0.38597192,\n",
       "       -0.38877694, -0.28658833, -0.46396514, -0.00729048, -0.3082164 ,\n",
       "       -0.38153346, -0.24042109, -0.39315977, -0.39806363, -0.16648647,\n",
       "       -0.32050173, -0.26688185, -0.2314548 , -0.38632917, -0.27540369,\n",
       "       -0.28658833, -0.12714201, -0.15587316,  0.05373025, -0.05689354,\n",
       "       -0.29899197,  0.15146812, -0.44777328])"
      ]
     },
     "execution_count": 71,
     "metadata": {},
     "output_type": "execute_result"
    }
   ],
   "source": [
    "y_train_pred_knn"
   ]
  },
  {
   "cell_type": "code",
   "execution_count": 157,
   "id": "08978789",
   "metadata": {},
   "outputs": [
    {
     "data": {
      "text/plain": [
       "318    0.189559\n",
       "264   -0.327345\n",
       "240   -0.400243\n",
       "249   -0.142671\n",
       "278   -0.350072\n",
       "         ...   \n",
       "17    -0.199627\n",
       "13    -0.392647\n",
       "11    -0.357331\n",
       "5     -0.426367\n",
       "250   -0.321099\n",
       "Name: fdi, Length: 203, dtype: float64"
      ]
     },
     "execution_count": 157,
     "metadata": {},
     "output_type": "execute_result"
    }
   ],
   "source": [
    "y_train"
   ]
  },
  {
   "cell_type": "code",
   "execution_count": 158,
   "id": "51022747",
   "metadata": {},
   "outputs": [
    {
     "name": "stdout",
     "output_type": "stream",
     "text": [
      "[-0.41729136 -0.43055774 -0.30169055 -0.13560544 -0.35977027  0.14789916\n",
      " -0.36135982 -0.40359831 -0.22756817 -0.13775322 -0.35249514 -0.28950746\n",
      " -0.4354099  -0.1691305  -0.14285765 -0.31367868 -0.09019359 -0.201612\n",
      "  0.15367473 -0.28435973 -0.43417021 -0.42102579 -0.33459284 -0.31173969\n",
      " -0.35949082  0.0228981  -0.33236901 -0.36066791 -0.37826249  0.25769411\n",
      " -0.4314782  -0.35949082  0.04550951 -0.3732225  -0.35884871 -0.33292499\n",
      " -0.27937337 -0.2599831  -0.38815942 -0.31816716 -0.39376098 -0.26607751\n",
      " -0.31144969 -0.4277105  -0.38304631 -0.36983906 -0.36369753 -0.37898849\n",
      " -0.11732491  0.00231263 -0.38305224 -0.4189151  -0.22756817 -0.29433684\n",
      " -0.36064943 -0.42850759 -0.37315996 -0.20690969 -0.3512208  -0.12808358\n",
      "  0.15367473 -0.35249514 -0.38988524 -0.4277105  -0.29433684 -0.22756817\n",
      " -0.27937337 -0.37607151 -0.27151774 -0.27274753 -0.40355661 -0.35117604\n",
      "  0.08308063  0.01823547 -0.39777053 -0.42102579 -0.2078731  -0.23331581\n",
      " -0.39376098 -0.40305089 -0.1049233  -0.4354099  -0.2599831  -0.45327683\n",
      " -0.41158814 -0.34530705 -0.29489232]\n"
     ]
    }
   ],
   "source": [
    "pred_X_test_knn=model_knn.predict(X_test) #make prediction on test set\n",
    "print (pred_X_test_knn)"
   ]
  },
  {
   "cell_type": "code",
   "execution_count": 129,
   "id": "e33ec7b7",
   "metadata": {},
   "outputs": [
    {
     "name": "stdout",
     "output_type": "stream",
     "text": [
      "[ 0.08308063 -0.28611974 -0.32548894 -0.25788395 -0.33615939 -0.00695621\n",
      " -0.35249514 -0.29958585 -0.38329568 -0.10933701  0.00231263 -0.273066\n",
      "  0.15367473 -0.45327683 -0.41241385 -0.45327683 -0.36983906 -0.41979343\n",
      " -0.39121118 -0.33494925 -0.42732975  0.15367473 -0.42850759 -0.2599831\n",
      " -0.35540347 -0.28201098 -0.42826305 -0.21876136 -0.39376098 -0.18197233\n",
      " -0.38864403 -0.39578965 -0.39135374 -0.29433684 -0.43319884 -0.40484984\n",
      " -0.27770387 -0.35249514 -0.42724365 -0.12808358  0.12241757 -0.29958585\n",
      " -0.45009507 -0.45009507 -0.29489232 -0.1691305   0.0228981  -0.32506902\n",
      " -0.40484984 -0.36934073 -0.32190992 -0.36598916 -0.19674493 -0.14881799\n",
      " -0.29489232 -0.38719305 -0.1691305  -0.33292499 -0.36949248 -0.10136238\n",
      " -0.36064943  0.15691453 -0.42102579 -0.2486211   0.36419983 -0.3631341\n",
      " -0.36983906  0.25769411 -0.19674493 -0.38593383 -0.36064943 -0.40355661\n",
      " -0.28276419 -0.17687988 -0.33878506 -0.27937337 -0.17280745 -0.00695621\n",
      " -0.341699   -0.39537251 -0.35146271 -0.41729136 -0.40484984 -0.40359831\n",
      " -0.45327683 -0.1691305   0.12241757 -0.45009507 -0.42695397 -0.38658783\n",
      "  0.12419195 -0.43092667 -0.20690969 -0.4230536  -0.36949248 -0.42102579\n",
      " -0.22045543 -0.33615939 -0.42724365 -0.37607151 -0.22077634 -0.21371069\n",
      " -0.29958585 -0.20690969 -0.25619786 -0.2599831  -0.34767956 -0.39578965\n",
      " -0.42102579 -0.30169055 -0.14881799 -0.10422816 -0.42732975 -0.26886665\n",
      " -0.32770221 -0.32190992 -0.42865666 -0.24572764 -0.18140041 -0.36983906\n",
      "  0.00231263 -0.36934073  0.00231263 -0.34071896 -0.40999418  0.00231263\n",
      " -0.42766245 -0.45009507 -0.3686428  -0.35822647 -0.38329568 -0.2599831\n",
      "  0.06871513 -0.38988524 -0.38864403  0.15367473 -0.39446379 -0.24502385\n",
      "  0.16279594 -0.41979343 -0.2266019  -0.25788395 -0.33292499 -0.31367868\n",
      " -0.28816146  0.16279594  0.14789916 -0.38988524 -0.38408555  0.36419983\n",
      " -0.29433684 -0.36125394 -0.27274753 -0.37031966  0.06871513 -0.38815942\n",
      " -0.10136238 -0.18197233 -0.29958585 -0.18197233 -0.37315996 -0.18425379\n",
      " -0.38988524 -0.29433684  0.15367473 -0.37458581 -0.38864403 -0.44041824\n",
      " -0.2599831  -0.35831715  0.0228981  -0.34767956 -0.17390716  0.18244781\n",
      "  0.0228981  -0.39578965  0.20796318 -0.41805942 -0.42724365 -0.34071896\n",
      " -0.27611974 -0.23331581 -0.42724365 -0.4230536  -0.44483024 -0.41241385\n",
      " -0.33236901  0.14789916 -0.36064943 -0.34895148 -0.37544765 -0.12808358\n",
      "  0.1274534  -0.42102579 -0.38815942 -0.40484984 -0.37142321 -0.14285765\n",
      " -0.25618572 -0.36949248 -0.36949248 -0.41899343 -0.25788395]\n"
     ]
    }
   ],
   "source": [
    "\n",
    "pred_X_train_knn=model_knn.predict(X_train) #make prediction on test set\n",
    "print (pred_X_train_knn)"
   ]
  },
  {
   "cell_type": "markdown",
   "id": "122f1f3e",
   "metadata": {},
   "source": [
    "# plotting the rmse values against k values\n"
   ]
  },
  {
   "cell_type": "code",
   "execution_count": 130,
   "id": "09db9adb",
   "metadata": {},
   "outputs": [
    {
     "data": {
      "text/plain": [
       "<AxesSubplot:>"
      ]
     },
     "execution_count": 130,
     "metadata": {},
     "output_type": "execute_result"
    },
    {
     "data": {
      "image/png": "[encoded data removed]",
      "text/plain": [
       "<Figure size 432x288 with 1 Axes>"
      ]
     },
     "metadata": {
      "needs_background": "light"
     },
     "output_type": "display_data"
    }
   ],
   "source": [
    "curve = pd.DataFrame(rmse_val) #elbow curve \n",
    "curve.plot()"
   ]
  },
  {
   "cell_type": "code",
   "execution_count": 131,
   "id": "6aad5f8b",
   "metadata": {},
   "outputs": [
    {
     "ename": "ValueError",
     "evalue": "x and y must have same first dimension, but have shapes (13,) and (1,)",
     "output_type": "error",
     "traceback": [
      "\u001b[1;31m---------------------------------------------------------------------------\u001b[0m",
      "\u001b[1;31mValueError\u001b[0m                                Traceback (most recent call last)",
      "\u001b[1;32m~\\AppData\\Local\\Temp/ipykernel_33304/2548719904.py\u001b[0m in \u001b[0;36m<module>\u001b[1;34m\u001b[0m\n\u001b[0;32m      1\u001b[0m \u001b[0mplt\u001b[0m\u001b[1;33m.\u001b[0m\u001b[0mfigure\u001b[0m\u001b[1;33m(\u001b[0m\u001b[0mfigsize\u001b[0m\u001b[1;33m=\u001b[0m\u001b[1;33m(\u001b[0m\u001b[1;36m10\u001b[0m\u001b[1;33m,\u001b[0m\u001b[1;36m6\u001b[0m\u001b[1;33m)\u001b[0m\u001b[1;33m)\u001b[0m\u001b[1;33m\u001b[0m\u001b[1;33m\u001b[0m\u001b[0m\n\u001b[1;32m----> 2\u001b[1;33m \u001b[0mplt\u001b[0m\u001b[1;33m.\u001b[0m\u001b[0mplot\u001b[0m\u001b[1;33m(\u001b[0m\u001b[0mrange\u001b[0m\u001b[1;33m(\u001b[0m\u001b[1;36m2\u001b[0m\u001b[1;33m,\u001b[0m\u001b[1;36m15\u001b[0m\u001b[1;33m)\u001b[0m\u001b[1;33m,\u001b[0m\u001b[0merror\u001b[0m\u001b[1;33m,\u001b[0m\u001b[0mcolor\u001b[0m \u001b[1;33m=\u001b[0m \u001b[1;34m'blue'\u001b[0m\u001b[1;33m,\u001b[0m \u001b[0mlinestyle\u001b[0m\u001b[1;33m=\u001b[0m\u001b[1;34m'dashed'\u001b[0m\u001b[1;33m,\u001b[0m \u001b[0mmarker\u001b[0m\u001b[1;33m=\u001b[0m\u001b[1;34m'o'\u001b[0m\u001b[1;33m,\u001b[0m \u001b[0mmarkerfacecolor\u001b[0m\u001b[1;33m=\u001b[0m\u001b[1;34m'red'\u001b[0m\u001b[1;33m,\u001b[0m \u001b[0mmarkersize\u001b[0m\u001b[1;33m=\u001b[0m\u001b[1;36m10\u001b[0m\u001b[1;33m)\u001b[0m\u001b[1;33m\u001b[0m\u001b[1;33m\u001b[0m\u001b[0m\n\u001b[0m\u001b[0;32m      3\u001b[0m \u001b[0mplt\u001b[0m\u001b[1;33m.\u001b[0m\u001b[0mtitle\u001b[0m\u001b[1;33m(\u001b[0m\u001b[1;34m'r2_score vs. k value'\u001b[0m\u001b[1;33m)\u001b[0m\u001b[1;33m\u001b[0m\u001b[1;33m\u001b[0m\u001b[0m\n\u001b[0;32m      4\u001b[0m \u001b[0mplt\u001b[0m\u001b[1;33m.\u001b[0m\u001b[0mxticks\u001b[0m\u001b[1;33m(\u001b[0m\u001b[0mrange\u001b[0m\u001b[1;33m(\u001b[0m\u001b[1;36m1\u001b[0m\u001b[1;33m,\u001b[0m\u001b[1;36m16\u001b[0m\u001b[1;33m)\u001b[0m\u001b[1;33m)\u001b[0m\u001b[1;33m\u001b[0m\u001b[1;33m\u001b[0m\u001b[0m\n\u001b[0;32m      5\u001b[0m \u001b[0mplt\u001b[0m\u001b[1;33m.\u001b[0m\u001b[0mxlabel\u001b[0m\u001b[1;33m(\u001b[0m\u001b[1;34m'K'\u001b[0m\u001b[1;33m)\u001b[0m\u001b[1;33m\u001b[0m\u001b[1;33m\u001b[0m\u001b[0m\n",
      "\u001b[1;32m~\\anaconda3\\lib\\site-packages\\matplotlib\\pyplot.py\u001b[0m in \u001b[0;36mplot\u001b[1;34m(scalex, scaley, data, *args, **kwargs)\u001b[0m\n\u001b[0;32m   3017\u001b[0m \u001b[1;33m@\u001b[0m\u001b[0m_copy_docstring_and_deprecators\u001b[0m\u001b[1;33m(\u001b[0m\u001b[0mAxes\u001b[0m\u001b[1;33m.\u001b[0m\u001b[0mplot\u001b[0m\u001b[1;33m)\u001b[0m\u001b[1;33m\u001b[0m\u001b[1;33m\u001b[0m\u001b[0m\n\u001b[0;32m   3018\u001b[0m \u001b[1;32mdef\u001b[0m \u001b[0mplot\u001b[0m\u001b[1;33m(\u001b[0m\u001b[1;33m*\u001b[0m\u001b[0margs\u001b[0m\u001b[1;33m,\u001b[0m \u001b[0mscalex\u001b[0m\u001b[1;33m=\u001b[0m\u001b[1;32mTrue\u001b[0m\u001b[1;33m,\u001b[0m \u001b[0mscaley\u001b[0m\u001b[1;33m=\u001b[0m\u001b[1;32mTrue\u001b[0m\u001b[1;33m,\u001b[0m \u001b[0mdata\u001b[0m\u001b[1;33m=\u001b[0m\u001b[1;32mNone\u001b[0m\u001b[1;33m,\u001b[0m \u001b[1;33m**\u001b[0m\u001b[0mkwargs\u001b[0m\u001b[1;33m)\u001b[0m\u001b[1;33m:\u001b[0m\u001b[1;33m\u001b[0m\u001b[1;33m\u001b[0m\u001b[0m\n\u001b[1;32m-> 3019\u001b[1;33m     return gca().plot(\n\u001b[0m\u001b[0;32m   3020\u001b[0m         \u001b[1;33m*\u001b[0m\u001b[0margs\u001b[0m\u001b[1;33m,\u001b[0m \u001b[0mscalex\u001b[0m\u001b[1;33m=\u001b[0m\u001b[0mscalex\u001b[0m\u001b[1;33m,\u001b[0m \u001b[0mscaley\u001b[0m\u001b[1;33m=\u001b[0m\u001b[0mscaley\u001b[0m\u001b[1;33m,\u001b[0m\u001b[1;33m\u001b[0m\u001b[1;33m\u001b[0m\u001b[0m\n\u001b[0;32m   3021\u001b[0m         **({\"data\": data} if data is not None else {}), **kwargs)\n",
      "\u001b[1;32m~\\anaconda3\\lib\\site-packages\\matplotlib\\axes\\_axes.py\u001b[0m in \u001b[0;36mplot\u001b[1;34m(self, scalex, scaley, data, *args, **kwargs)\u001b[0m\n\u001b[0;32m   1603\u001b[0m         \"\"\"\n\u001b[0;32m   1604\u001b[0m         \u001b[0mkwargs\u001b[0m \u001b[1;33m=\u001b[0m \u001b[0mcbook\u001b[0m\u001b[1;33m.\u001b[0m\u001b[0mnormalize_kwargs\u001b[0m\u001b[1;33m(\u001b[0m\u001b[0mkwargs\u001b[0m\u001b[1;33m,\u001b[0m \u001b[0mmlines\u001b[0m\u001b[1;33m.\u001b[0m\u001b[0mLine2D\u001b[0m\u001b[1;33m)\u001b[0m\u001b[1;33m\u001b[0m\u001b[1;33m\u001b[0m\u001b[0m\n\u001b[1;32m-> 1605\u001b[1;33m         \u001b[0mlines\u001b[0m \u001b[1;33m=\u001b[0m \u001b[1;33m[\u001b[0m\u001b[1;33m*\u001b[0m\u001b[0mself\u001b[0m\u001b[1;33m.\u001b[0m\u001b[0m_get_lines\u001b[0m\u001b[1;33m(\u001b[0m\u001b[1;33m*\u001b[0m\u001b[0margs\u001b[0m\u001b[1;33m,\u001b[0m \u001b[0mdata\u001b[0m\u001b[1;33m=\u001b[0m\u001b[0mdata\u001b[0m\u001b[1;33m,\u001b[0m \u001b[1;33m**\u001b[0m\u001b[0mkwargs\u001b[0m\u001b[1;33m)\u001b[0m\u001b[1;33m]\u001b[0m\u001b[1;33m\u001b[0m\u001b[1;33m\u001b[0m\u001b[0m\n\u001b[0m\u001b[0;32m   1606\u001b[0m         \u001b[1;32mfor\u001b[0m \u001b[0mline\u001b[0m \u001b[1;32min\u001b[0m \u001b[0mlines\u001b[0m\u001b[1;33m:\u001b[0m\u001b[1;33m\u001b[0m\u001b[1;33m\u001b[0m\u001b[0m\n\u001b[0;32m   1607\u001b[0m             \u001b[0mself\u001b[0m\u001b[1;33m.\u001b[0m\u001b[0madd_line\u001b[0m\u001b[1;33m(\u001b[0m\u001b[0mline\u001b[0m\u001b[1;33m)\u001b[0m\u001b[1;33m\u001b[0m\u001b[1;33m\u001b[0m\u001b[0m\n",
      "\u001b[1;32m~\\anaconda3\\lib\\site-packages\\matplotlib\\axes\\_base.py\u001b[0m in \u001b[0;36m__call__\u001b[1;34m(self, data, *args, **kwargs)\u001b[0m\n\u001b[0;32m    313\u001b[0m                 \u001b[0mthis\u001b[0m \u001b[1;33m+=\u001b[0m \u001b[0margs\u001b[0m\u001b[1;33m[\u001b[0m\u001b[1;36m0\u001b[0m\u001b[1;33m]\u001b[0m\u001b[1;33m,\u001b[0m\u001b[1;33m\u001b[0m\u001b[1;33m\u001b[0m\u001b[0m\n\u001b[0;32m    314\u001b[0m                 \u001b[0margs\u001b[0m \u001b[1;33m=\u001b[0m \u001b[0margs\u001b[0m\u001b[1;33m[\u001b[0m\u001b[1;36m1\u001b[0m\u001b[1;33m:\u001b[0m\u001b[1;33m]\u001b[0m\u001b[1;33m\u001b[0m\u001b[1;33m\u001b[0m\u001b[0m\n\u001b[1;32m--> 315\u001b[1;33m             \u001b[1;32myield\u001b[0m \u001b[1;32mfrom\u001b[0m \u001b[0mself\u001b[0m\u001b[1;33m.\u001b[0m\u001b[0m_plot_args\u001b[0m\u001b[1;33m(\u001b[0m\u001b[0mthis\u001b[0m\u001b[1;33m,\u001b[0m \u001b[0mkwargs\u001b[0m\u001b[1;33m)\u001b[0m\u001b[1;33m\u001b[0m\u001b[1;33m\u001b[0m\u001b[0m\n\u001b[0m\u001b[0;32m    316\u001b[0m \u001b[1;33m\u001b[0m\u001b[0m\n\u001b[0;32m    317\u001b[0m     \u001b[1;32mdef\u001b[0m \u001b[0mget_next_color\u001b[0m\u001b[1;33m(\u001b[0m\u001b[0mself\u001b[0m\u001b[1;33m)\u001b[0m\u001b[1;33m:\u001b[0m\u001b[1;33m\u001b[0m\u001b[1;33m\u001b[0m\u001b[0m\n",
      "\u001b[1;32m~\\anaconda3\\lib\\site-packages\\matplotlib\\axes\\_base.py\u001b[0m in \u001b[0;36m_plot_args\u001b[1;34m(self, tup, kwargs, return_kwargs)\u001b[0m\n\u001b[0;32m    499\u001b[0m \u001b[1;33m\u001b[0m\u001b[0m\n\u001b[0;32m    500\u001b[0m         \u001b[1;32mif\u001b[0m \u001b[0mx\u001b[0m\u001b[1;33m.\u001b[0m\u001b[0mshape\u001b[0m\u001b[1;33m[\u001b[0m\u001b[1;36m0\u001b[0m\u001b[1;33m]\u001b[0m \u001b[1;33m!=\u001b[0m \u001b[0my\u001b[0m\u001b[1;33m.\u001b[0m\u001b[0mshape\u001b[0m\u001b[1;33m[\u001b[0m\u001b[1;36m0\u001b[0m\u001b[1;33m]\u001b[0m\u001b[1;33m:\u001b[0m\u001b[1;33m\u001b[0m\u001b[1;33m\u001b[0m\u001b[0m\n\u001b[1;32m--> 501\u001b[1;33m             raise ValueError(f\"x and y must have same first dimension, but \"\n\u001b[0m\u001b[0;32m    502\u001b[0m                              f\"have shapes {x.shape} and {y.shape}\")\n\u001b[0;32m    503\u001b[0m         \u001b[1;32mif\u001b[0m \u001b[0mx\u001b[0m\u001b[1;33m.\u001b[0m\u001b[0mndim\u001b[0m \u001b[1;33m>\u001b[0m \u001b[1;36m2\u001b[0m \u001b[1;32mor\u001b[0m \u001b[0my\u001b[0m\u001b[1;33m.\u001b[0m\u001b[0mndim\u001b[0m \u001b[1;33m>\u001b[0m \u001b[1;36m2\u001b[0m\u001b[1;33m:\u001b[0m\u001b[1;33m\u001b[0m\u001b[1;33m\u001b[0m\u001b[0m\n",
      "\u001b[1;31mValueError\u001b[0m: x and y must have same first dimension, but have shapes (13,) and (1,)"
     ]
    },
    {
     "data": {
      "image/png": "[encoded data removed]",
      "text/plain": [
       "<Figure size 720x432 with 1 Axes>"
      ]
     },
     "metadata": {
      "needs_background": "light"
     },
     "output_type": "display_data"
    }
   ],
   "source": [
    "plt.figure(figsize=(10,6))\n",
    "plt.plot(range(2,15),error,color = 'blue', linestyle='dashed', marker='o', markerfacecolor='red', markersize=10)\n",
    "plt.title('r2_score vs. k value')\n",
    "plt.xticks(range(1,16))\n",
    "plt.xlabel('K')\n",
    "plt.ylabel('RMSE')"
   ]
  },
  {
   "cell_type": "code",
   "execution_count": 132,
   "id": "53464dd3",
   "metadata": {},
   "outputs": [
    {
     "data": {
      "image/png": "[encoded data removed]",
      "text/plain": [
       "<Figure size 400x400 with 1 Axes>"
      ]
     },
     "metadata": {
      "needs_background": "light"
     },
     "output_type": "display_data"
    }
   ],
   "source": [
    "from matplotlib.ticker import MultipleLocator\n",
    "\n",
    "fig, ax = plt.subplots(figsize=(4,4), dpi = 100)\n",
    "ax.plot(list(range(1,20)),rmse_val);\n",
    "ax.set_xlim(0,20)\n",
    "ax.xaxis.set_minor_locator(MultipleLocator(1))\n",
    "ax.set_xlabel(\"K\")\n",
    "ax.set_ylabel(\"RMSE\")\n",
    "plt.show()"
   ]
  },
  {
   "cell_type": "raw",
   "id": "a40f1eb4",
   "metadata": {},
   "source": [
    "# As we can see, when we take k=1, we get the very high RMSE value. The RMSE value decreases as we increase the k value. At k= , the RMSE is approximately 1219.06, and shoots up on further increasing the k value. We can safely say that k=3 the RMSE is approximately 0,32 and shoots up on further increasing the k value"
   ]
  },
  {
   "cell_type": "code",
   "execution_count": 159,
   "id": "5ad727cf",
   "metadata": {},
   "outputs": [
    {
     "name": "stdout",
     "output_type": "stream",
     "text": [
      "[-0.41729136 -0.43055774 -0.30169055 -0.13560544 -0.35977027  0.14789916\n",
      " -0.36135982 -0.40359831 -0.22756817 -0.13775322 -0.35249514 -0.28950746\n",
      " -0.4354099  -0.1691305  -0.14285765 -0.31367868 -0.09019359 -0.201612\n",
      "  0.15367473 -0.28435973 -0.43417021 -0.42102579 -0.33459284 -0.31173969\n",
      " -0.35949082  0.0228981  -0.33236901 -0.36066791 -0.37826249  0.25769411\n",
      " -0.4314782  -0.35949082  0.04550951 -0.3732225  -0.35884871 -0.33292499\n",
      " -0.27937337 -0.2599831  -0.38815942 -0.31816716 -0.39376098 -0.26607751\n",
      " -0.31144969 -0.4277105  -0.38304631 -0.36983906 -0.36369753 -0.37898849\n",
      " -0.11732491  0.00231263 -0.38305224 -0.4189151  -0.22756817 -0.29433684\n",
      " -0.36064943 -0.42850759 -0.37315996 -0.20690969 -0.3512208  -0.12808358\n",
      "  0.15367473 -0.35249514 -0.38988524 -0.4277105  -0.29433684 -0.22756817\n",
      " -0.27937337 -0.37607151 -0.27151774 -0.27274753 -0.40355661 -0.35117604\n",
      "  0.08308063  0.01823547 -0.39777053 -0.42102579 -0.2078731  -0.23331581\n",
      " -0.39376098 -0.40305089 -0.1049233  -0.4354099  -0.2599831  -0.45327683\n",
      " -0.41158814 -0.34530705 -0.29489232]\n"
     ]
    }
   ],
   "source": [
    "y_test_pred_knn = knn_models[4].predict(X_test)\n",
    "print (y_test_pred_knn)"
   ]
  },
  {
   "cell_type": "code",
   "execution_count": 135,
   "id": "113a808e",
   "metadata": {},
   "outputs": [
    {
     "name": "stdout",
     "output_type": "stream",
     "text": [
      "[ 0.08308063 -0.28611974 -0.32548894 -0.25788395 -0.33615939 -0.00695621\n",
      " -0.35249514 -0.29958585 -0.38329568 -0.10933701  0.00231263 -0.273066\n",
      "  0.15367473 -0.45327683 -0.41241385 -0.45327683 -0.36983906 -0.41979343\n",
      " -0.39121118 -0.33494925 -0.42732975  0.15367473 -0.42850759 -0.2599831\n",
      " -0.35540347 -0.28201098 -0.42826305 -0.21876136 -0.39376098 -0.18197233\n",
      " -0.38864403 -0.39578965 -0.39135374 -0.29433684 -0.43319884 -0.40484984\n",
      " -0.27770387 -0.35249514 -0.42724365 -0.12808358  0.12241757 -0.29958585\n",
      " -0.45009507 -0.45009507 -0.29489232 -0.1691305   0.0228981  -0.32506902\n",
      " -0.40484984 -0.36934073 -0.32190992 -0.36598916 -0.19674493 -0.14881799\n",
      " -0.29489232 -0.38719305 -0.1691305  -0.33292499 -0.36949248 -0.10136238\n",
      " -0.36064943  0.15691453 -0.42102579 -0.2486211   0.36419983 -0.3631341\n",
      " -0.36983906  0.25769411 -0.19674493 -0.38593383 -0.36064943 -0.40355661\n",
      " -0.28276419 -0.17687988 -0.33878506 -0.27937337 -0.17280745 -0.00695621\n",
      " -0.341699   -0.39537251 -0.35146271 -0.41729136 -0.40484984 -0.40359831\n",
      " -0.45327683 -0.1691305   0.12241757 -0.45009507 -0.42695397 -0.38658783\n",
      "  0.12419195 -0.43092667 -0.20690969 -0.4230536  -0.36949248 -0.42102579\n",
      " -0.22045543 -0.33615939 -0.42724365 -0.37607151 -0.22077634 -0.21371069\n",
      " -0.29958585 -0.20690969 -0.25619786 -0.2599831  -0.34767956 -0.39578965\n",
      " -0.42102579 -0.30169055 -0.14881799 -0.10422816 -0.42732975 -0.26886665\n",
      " -0.32770221 -0.32190992 -0.42865666 -0.24572764 -0.18140041 -0.36983906\n",
      "  0.00231263 -0.36934073  0.00231263 -0.34071896 -0.40999418  0.00231263\n",
      " -0.42766245 -0.45009507 -0.3686428  -0.35822647 -0.38329568 -0.2599831\n",
      "  0.06871513 -0.38988524 -0.38864403  0.15367473 -0.39446379 -0.24502385\n",
      "  0.16279594 -0.41979343 -0.2266019  -0.25788395 -0.33292499 -0.31367868\n",
      " -0.28816146  0.16279594  0.14789916 -0.38988524 -0.38408555  0.36419983\n",
      " -0.29433684 -0.36125394 -0.27274753 -0.37031966  0.06871513 -0.38815942\n",
      " -0.10136238 -0.18197233 -0.29958585 -0.18197233 -0.37315996 -0.18425379\n",
      " -0.38988524 -0.29433684  0.15367473 -0.37458581 -0.38864403 -0.44041824\n",
      " -0.2599831  -0.35831715  0.0228981  -0.34767956 -0.17390716  0.18244781\n",
      "  0.0228981  -0.39578965  0.20796318 -0.41805942 -0.42724365 -0.34071896\n",
      " -0.27611974 -0.23331581 -0.42724365 -0.4230536  -0.44483024 -0.41241385\n",
      " -0.33236901  0.14789916 -0.36064943 -0.34895148 -0.37544765 -0.12808358\n",
      "  0.1274534  -0.42102579 -0.38815942 -0.40484984 -0.37142321 -0.14285765\n",
      " -0.25618572 -0.36949248 -0.36949248 -0.41899343 -0.25788395]\n"
     ]
    }
   ],
   "source": [
    "y_train_pred_knn = knn_models[4].predict(X_train)\n",
    "print (y_train_pred_knn)"
   ]
  },
  {
   "cell_type": "markdown",
   "id": "3c69b6ed",
   "metadata": {},
   "source": [
    "# Plotting with KNN regression"
   ]
  },
  {
   "cell_type": "code",
   "execution_count": 136,
   "id": "6f308208",
   "metadata": {
    "scrolled": true
   },
   "outputs": [
    {
     "data": {
      "image/png": "[encoded data removed]",
      "text/plain": [
       "<Figure size 1440x720 with 4 Axes>"
      ]
     },
     "metadata": {
      "needs_background": "light"
     },
     "output_type": "display_data"
    }
   ],
   "source": [
    "fig, ax = plt.subplots(2,2,figsize=(20,10))\n",
    "sns.scatterplot(x=y_train, y=y_train_pred_knn, ax = ax[0,0])\n",
    "sns.histplot(x=y_train-y_train_pred_knn, ax = ax[0,1], bins = 50)\n",
    "ax[0,0].plot(y_train, y_train, color = \"black\")\n",
    "sns.scatterplot(x=y_test, y=y_test_pred_knn, ax = ax[1,0])\n",
    "sns.histplot(x=y_test-y_test_pred_knn, ax = ax[1,1], bins=50)\n",
    "ax[1,0].plot(y_test, y_test, color=\"black\")\n",
    "plt.show()"
   ]
  },
  {
   "cell_type": "code",
   "execution_count": null,
   "id": "125d1df0",
   "metadata": {},
   "outputs": [],
   "source": [
    "#metrics = pd.DataFrame({'Model': ['Linear Model', 'K-NN'], 'Train': ['RMSE_LM','RMSE_KNN'], 'Test': ['RMSE_LM', 'RMSE_KNN']})"
   ]
  },
  {
   "cell_type": "code",
   "execution_count": null,
   "id": "7f9bf96f",
   "metadata": {},
   "outputs": [],
   "source": [
    "#pd.DataFrame{'y_train': y_train, 'y_train_pred_lm': y_train_pred_lm, 'Residuals_train_lm': y_train - y_train_pred_lm, 'y_train_pred_knn': y_train_pred_knn, 'Residuals_train_knn': }"
   ]
  },
  {
   "cell_type": "markdown",
   "id": "44fdf9dc",
   "metadata": {},
   "source": [
    "# Predictions on the test dataset"
   ]
  },
  {
   "cell_type": "code",
   "execution_count": null,
   "id": "08ca3229",
   "metadata": {},
   "outputs": [],
   "source": [
    "#from sklearn.neighbors import KNeighborsRegressor\n",
    "#neigh = KNeighborsRegressor(n_neighbors=1)\n",
    "#neigh.fit(X, y)\n",
    "#KNeighborsRegressor(n_neighbors=2)\n",
    "#print(neigh.predict([[1.5]]))\n"
   ]
  },
  {
   "cell_type": "markdown",
   "id": "080fe79a",
   "metadata": {},
   "source": [
    "# lm regression"
   ]
  },
  {
   "cell_type": "code",
   "execution_count": 137,
   "id": "58e510ea",
   "metadata": {},
   "outputs": [
    {
     "name": "stdout",
     "output_type": "stream",
     "text": [
      "-0.2267956091765536\n",
      "[ 0.01478203  0.18322635  0.07856044 -0.00229247  0.0208721  -0.02817038\n",
      "  0.03628236  0.01548879]\n",
      "0.6545491680488735\n"
     ]
    }
   ],
   "source": [
    "\n",
    "\n",
    "from sklearn import linear_model\n",
    "from sklearn.metrics import mean_squared_error, r2_score\n",
    "\n",
    "y = y_train\n",
    "X = X_train\n",
    "\n",
    "model_lm = linear_model.LinearRegression()\n",
    "model_lm.fit(X_train,y_train)\n",
    "print(model_lm.intercept_)\n",
    "print(model_lm.coef_)\n",
    "print(model_lm.score(X,y))"
   ]
  },
  {
   "cell_type": "code",
   "execution_count": 138,
   "id": "21baf306",
   "metadata": {},
   "outputs": [
    {
     "data": {
      "text/html": [
       "<style>#sk-container-id-2 {color: black;background-color: white;}#sk-container-id-2 pre{padding: 0;}#sk-container-id-2 div.sk-toggleable {background-color: white;}#sk-container-id-2 label.sk-toggleable__label {cursor: pointer;display: block;width: 100%;margin-bottom: 0;padding: 0.3em;box-sizing: border-box;text-align: center;}#sk-container-id-2 label.sk-toggleable__label-arrow:before {content: \"▸\";float: left;margin-right: 0.25em;color: #696969;}#sk-container-id-2 label.sk-toggleable__label-arrow:hover:before {color: black;}#sk-container-id-2 div.sk-estimator:hover label.sk-toggleable__label-arrow:before {color: black;}#sk-container-id-2 div.sk-toggleable__content {max-height: 0;max-width: 0;overflow: hidden;text-align: left;background-color: #f0f8ff;}#sk-container-id-2 div.sk-toggleable__content pre {margin: 0.2em;color: black;border-radius: 0.25em;background-color: #f0f8ff;}#sk-container-id-2 input.sk-toggleable__control:checked~div.sk-toggleable__content {max-height: 200px;max-width: 100%;overflow: auto;}#sk-container-id-2 input.sk-toggleable__control:checked~label.sk-toggleable__label-arrow:before {content: \"▾\";}#sk-container-id-2 div.sk-estimator input.sk-toggleable__control:checked~label.sk-toggleable__label {background-color: #d4ebff;}#sk-container-id-2 div.sk-label input.sk-toggleable__control:checked~label.sk-toggleable__label {background-color: #d4ebff;}#sk-container-id-2 input.sk-hidden--visually {border: 0;clip: rect(1px 1px 1px 1px);clip: rect(1px, 1px, 1px, 1px);height: 1px;margin: -1px;overflow: hidden;padding: 0;position: absolute;width: 1px;}#sk-container-id-2 div.sk-estimator {font-family: monospace;background-color: #f0f8ff;border: 1px dotted black;border-radius: 0.25em;box-sizing: border-box;margin-bottom: 0.5em;}#sk-container-id-2 div.sk-estimator:hover {background-color: #d4ebff;}#sk-container-id-2 div.sk-parallel-item::after {content: \"\";width: 100%;border-bottom: 1px solid gray;flex-grow: 1;}#sk-container-id-2 div.sk-label:hover label.sk-toggleable__label {background-color: #d4ebff;}#sk-container-id-2 div.sk-serial::before {content: \"\";position: absolute;border-left: 1px solid gray;box-sizing: border-box;top: 0;bottom: 0;left: 50%;z-index: 0;}#sk-container-id-2 div.sk-serial {display: flex;flex-direction: column;align-items: center;background-color: white;padding-right: 0.2em;padding-left: 0.2em;position: relative;}#sk-container-id-2 div.sk-item {position: relative;z-index: 1;}#sk-container-id-2 div.sk-parallel {display: flex;align-items: stretch;justify-content: center;background-color: white;position: relative;}#sk-container-id-2 div.sk-item::before, #sk-container-id-2 div.sk-parallel-item::before {content: \"\";position: absolute;border-left: 1px solid gray;box-sizing: border-box;top: 0;bottom: 0;left: 50%;z-index: -1;}#sk-container-id-2 div.sk-parallel-item {display: flex;flex-direction: column;z-index: 1;position: relative;background-color: white;}#sk-container-id-2 div.sk-parallel-item:first-child::after {align-self: flex-end;width: 50%;}#sk-container-id-2 div.sk-parallel-item:last-child::after {align-self: flex-start;width: 50%;}#sk-container-id-2 div.sk-parallel-item:only-child::after {width: 0;}#sk-container-id-2 div.sk-dashed-wrapped {border: 1px dashed gray;margin: 0 0.4em 0.5em 0.4em;box-sizing: border-box;padding-bottom: 0.4em;background-color: white;}#sk-container-id-2 div.sk-label label {font-family: monospace;font-weight: bold;display: inline-block;line-height: 1.2em;}#sk-container-id-2 div.sk-label-container {text-align: center;}#sk-container-id-2 div.sk-container {/* jupyter's `normalize.less` sets `[hidden] { display: none; }` but bootstrap.min.css set `[hidden] { display: none !important; }` so we also need the `!important` here to be able to override the default hidden behavior on the sphinx rendered scikit-learn.org. See: https://github.com/scikit-learn/scikit-learn/issues/21755 */display: inline-block !important;position: relative;}#sk-container-id-2 div.sk-text-repr-fallback {display: none;}</style><div id=\"sk-container-id-2\" class=\"sk-top-container\"><div class=\"sk-text-repr-fallback\"><pre>LinearRegression()</pre><b>In a Jupyter environment, please rerun this cell to show the HTML representation or trust the notebook. <br />On GitHub, the HTML representation is unable to render, please try loading this page with nbviewer.org.</b></div><div class=\"sk-container\" hidden><div class=\"sk-item\"><div class=\"sk-estimator sk-toggleable\"><input class=\"sk-toggleable__control sk-hidden--visually\" id=\"sk-estimator-id-2\" type=\"checkbox\" checked><label for=\"sk-estimator-id-2\" class=\"sk-toggleable__label sk-toggleable__label-arrow\">LinearRegression</label><div class=\"sk-toggleable__content\"><pre>LinearRegression()</pre></div></div></div></div></div>"
      ],
      "text/plain": [
       "LinearRegression()"
      ]
     },
     "execution_count": 138,
     "metadata": {},
     "output_type": "execute_result"
    }
   ],
   "source": [
    "model_lm"
   ]
  },
  {
   "cell_type": "code",
   "execution_count": 139,
   "id": "72d5fa4f",
   "metadata": {},
   "outputs": [
    {
     "data": {
      "text/html": [
       "<div>\n",
       "<style scoped>\n",
       "    .dataframe tbody tr th:only-of-type {\n",
       "        vertical-align: middle;\n",
       "    }\n",
       "\n",
       "    .dataframe tbody tr th {\n",
       "        vertical-align: top;\n",
       "    }\n",
       "\n",
       "    .dataframe thead th {\n",
       "        text-align: right;\n",
       "    }\n",
       "</style>\n",
       "<table border=\"1\" class=\"dataframe\">\n",
       "  <thead>\n",
       "    <tr style=\"text-align: right;\">\n",
       "      <th></th>\n",
       "      <th>commercial_opening_rate</th>\n",
       "      <th>gross_fixed_capital_formation</th>\n",
       "      <th>business_climate</th>\n",
       "      <th>scoreeasedoingbusiness</th>\n",
       "      <th>buf</th>\n",
       "      <th>invf</th>\n",
       "      <th>finfree</th>\n",
       "      <th>stock_market</th>\n",
       "    </tr>\n",
       "  </thead>\n",
       "  <tbody>\n",
       "    <tr>\n",
       "      <th>count</th>\n",
       "      <td>203.000000</td>\n",
       "      <td>203.000000</td>\n",
       "      <td>203.000000</td>\n",
       "      <td>203.000000</td>\n",
       "      <td>203.000000</td>\n",
       "      <td>203.000000</td>\n",
       "      <td>203.000000</td>\n",
       "      <td>203.000000</td>\n",
       "    </tr>\n",
       "    <tr>\n",
       "      <th>mean</th>\n",
       "      <td>0.046611</td>\n",
       "      <td>-0.225361</td>\n",
       "      <td>0.097597</td>\n",
       "      <td>0.087058</td>\n",
       "      <td>0.023140</td>\n",
       "      <td>0.024908</td>\n",
       "      <td>0.098602</td>\n",
       "      <td>-0.048445</td>\n",
       "    </tr>\n",
       "    <tr>\n",
       "      <th>std</th>\n",
       "      <td>0.721053</td>\n",
       "      <td>0.849574</td>\n",
       "      <td>0.999381</td>\n",
       "      <td>1.041409</td>\n",
       "      <td>0.981163</td>\n",
       "      <td>0.976559</td>\n",
       "      <td>0.991671</td>\n",
       "      <td>1.034293</td>\n",
       "    </tr>\n",
       "    <tr>\n",
       "      <th>min</th>\n",
       "      <td>-1.371351</td>\n",
       "      <td>-2.293179</td>\n",
       "      <td>-2.349406</td>\n",
       "      <td>-2.735960</td>\n",
       "      <td>-2.780774</td>\n",
       "      <td>-2.198074</td>\n",
       "      <td>-1.879919</td>\n",
       "      <td>-2.355461</td>\n",
       "    </tr>\n",
       "    <tr>\n",
       "      <th>25%</th>\n",
       "      <td>-0.455350</td>\n",
       "      <td>-0.664991</td>\n",
       "      <td>-0.598959</td>\n",
       "      <td>-0.634833</td>\n",
       "      <td>-0.643083</td>\n",
       "      <td>-0.106297</td>\n",
       "      <td>-0.445604</td>\n",
       "      <td>-0.695551</td>\n",
       "    </tr>\n",
       "    <tr>\n",
       "      <th>50%</th>\n",
       "      <td>0.022737</td>\n",
       "      <td>-0.167822</td>\n",
       "      <td>0.052720</td>\n",
       "      <td>0.063871</td>\n",
       "      <td>-0.000925</td>\n",
       "      <td>0.056725</td>\n",
       "      <td>-0.005062</td>\n",
       "      <td>-0.109380</td>\n",
       "    </tr>\n",
       "    <tr>\n",
       "      <th>75%</th>\n",
       "      <td>0.479890</td>\n",
       "      <td>0.333627</td>\n",
       "      <td>0.847710</td>\n",
       "      <td>0.824959</td>\n",
       "      <td>0.620859</td>\n",
       "      <td>0.683041</td>\n",
       "      <td>0.742700</td>\n",
       "      <td>0.574470</td>\n",
       "    </tr>\n",
       "    <tr>\n",
       "      <th>max</th>\n",
       "      <td>3.059378</td>\n",
       "      <td>1.479084</td>\n",
       "      <td>1.870386</td>\n",
       "      <td>2.349911</td>\n",
       "      <td>2.238813</td>\n",
       "      <td>1.950404</td>\n",
       "      <td>1.591057</td>\n",
       "      <td>2.573010</td>\n",
       "    </tr>\n",
       "  </tbody>\n",
       "</table>\n",
       "</div>"
      ],
      "text/plain": [
       "       commercial_opening_rate  gross_fixed_capital_formation  \\\n",
       "count               203.000000                     203.000000   \n",
       "mean                  0.046611                      -0.225361   \n",
       "std                   0.721053                       0.849574   \n",
       "min                  -1.371351                      -2.293179   \n",
       "25%                  -0.455350                      -0.664991   \n",
       "50%                   0.022737                      -0.167822   \n",
       "75%                   0.479890                       0.333627   \n",
       "max                   3.059378                       1.479084   \n",
       "\n",
       "       business_climate  scoreeasedoingbusiness         buf        invf  \\\n",
       "count        203.000000              203.000000  203.000000  203.000000   \n",
       "mean           0.097597                0.087058    0.023140    0.024908   \n",
       "std            0.999381                1.041409    0.981163    0.976559   \n",
       "min           -2.349406               -2.735960   -2.780774   -2.198074   \n",
       "25%           -0.598959               -0.634833   -0.643083   -0.106297   \n",
       "50%            0.052720                0.063871   -0.000925    0.056725   \n",
       "75%            0.847710                0.824959    0.620859    0.683041   \n",
       "max            1.870386                2.349911    2.238813    1.950404   \n",
       "\n",
       "          finfree  stock_market  \n",
       "count  203.000000    203.000000  \n",
       "mean     0.098602     -0.048445  \n",
       "std      0.991671      1.034293  \n",
       "min     -1.879919     -2.355461  \n",
       "25%     -0.445604     -0.695551  \n",
       "50%     -0.005062     -0.109380  \n",
       "75%      0.742700      0.574470  \n",
       "max      1.591057      2.573010  "
      ]
     },
     "execution_count": 139,
     "metadata": {},
     "output_type": "execute_result"
    }
   ],
   "source": [
    "X_train.describe()"
   ]
  },
  {
   "cell_type": "markdown",
   "id": "08063a01",
   "metadata": {},
   "source": [
    "# we train/fit our model and evaluate it"
   ]
  },
  {
   "cell_type": "code",
   "execution_count": 140,
   "id": "d4005351",
   "metadata": {},
   "outputs": [
    {
     "name": "stdout",
     "output_type": "stream",
     "text": [
      "0.6545491680488735\n"
     ]
    },
    {
     "name": "stderr",
     "output_type": "stream",
     "text": [
      "C:\\Users\\NON\\anaconda3\\lib\\site-packages\\sklearn\\base.py:450: UserWarning: X does not have valid feature names, but LinearRegression was fitted with feature names\n",
      "  warnings.warn(\n",
      "C:\\Users\\NON\\anaconda3\\lib\\site-packages\\sklearn\\base.py:450: UserWarning: X does not have valid feature names, but LinearRegression was fitted with feature names\n",
      "  warnings.warn(\n"
     ]
    }
   ],
   "source": [
    "from sklearn.metrics import r2_score\n",
    "\n",
    "y_pred_train = model_lm.predict(X_train_minmax_scaled)\n",
    "y_pred_test  = model_lm.predict(X_test_minmax_scaled)\n",
    "r2_score(y_train, y_pred_train)\n",
    "\n",
    "\n",
    "from sklearn.metrics import r2_score\n",
    "y_pred = model_lm.predict(X)\n",
    "r2_score_train= r2_score(y, y_pred)\n",
    "print (r2_score_train)\n"
   ]
  },
  {
   "cell_type": "code",
   "execution_count": 141,
   "id": "8db1d795",
   "metadata": {},
   "outputs": [
    {
     "name": "stdout",
     "output_type": "stream",
     "text": [
      "-0.2\n",
      "[ 0.   0.2  0.1 -0.   0.  -0.   0.   0. ]\n",
      "r^2:  -0.71\n"
     ]
    },
    {
     "name": "stderr",
     "output_type": "stream",
     "text": [
      "C:\\Users\\NON\\anaconda3\\lib\\site-packages\\sklearn\\base.py:450: UserWarning: X does not have valid feature names, but LinearRegression was fitted with feature names\n",
      "  warnings.warn(\n"
     ]
    }
   ],
   "source": [
    "print(round(model_lm.intercept_,1))\n",
    "print(model_lm.coef_.round(1))\n",
    "print(\"r^2: \",round(model_lm.score(X_train_minmax_scaled,y_train),2))"
   ]
  },
  {
   "cell_type": "code",
   "execution_count": 142,
   "id": "b414ef1f",
   "metadata": {},
   "outputs": [
    {
     "name": "stdout",
     "output_type": "stream",
     "text": [
      "[ 0.00864396 -0.05251733 -0.08144713 -0.02909352 -0.03768106 -0.00805891\n",
      " -0.04325325 -0.06412779 -0.07459293 -0.03114739  0.01390061 -0.03389659\n",
      "  0.02996763 -0.11179753 -0.06261387 -0.12522428 -0.07033946 -0.11582187\n",
      " -0.06594618 -0.04531799 -0.1094747   0.03505231 -0.1100729  -0.05663032\n",
      " -0.05076947 -0.02533987 -0.15852442 -0.04384531 -0.08380058 -0.00205377\n",
      " -0.09427493 -0.08049327 -0.09641031 -0.03634617 -0.14655422 -0.06883273\n",
      " -0.06272401 -0.05958581 -0.11444233 -0.02163273 -0.00205848 -0.07550861\n",
      " -0.10500206 -0.10001073 -0.05697147 -0.03056036  0.00781585 -0.05559599\n",
      " -0.06492523 -0.06135591 -0.07266543 -0.06148871 -0.02020034 -0.00061031\n",
      " -0.0588427  -0.06013194 -0.02466442 -0.06498969 -0.05331441 -0.01845484\n",
      " -0.06327419  0.0246237  -0.09946599 -0.08540746  0.03258752 -0.07004635\n",
      " -0.07990885  0.02689424 -0.02206309 -0.0867709  -0.05208591 -0.10890703\n",
      " -0.08995682  0.01376574 -0.08390045 -0.0438987  -0.03927507  0.00724686\n",
      " -0.07768848 -0.06130708 -0.08216828 -0.12437317 -0.06914364 -0.06325476\n",
      " -0.12087496 -0.03227968 -0.00084302 -0.1028071  -0.10839243 -0.10242188\n",
      "  0.00623254 -0.1127602  -0.04037342 -0.1112744  -0.05850953 -0.10281311\n",
      " -0.06529751 -0.03769391 -0.11691317 -0.06436745 -0.04049445 -0.00572562\n",
      " -0.06693573 -0.02388254 -0.04784134 -0.05588398 -0.03715441 -0.0791234\n",
      " -0.1049564  -0.05237927 -0.00078158 -0.00049112 -0.10334981 -0.06086943\n",
      " -0.0542047  -0.07487743 -0.11451343 -0.00802902 -0.03413308 -0.07935549\n",
      "  0.02526503 -0.06324071  0.02126267 -0.06071056 -0.08769525  0.01716987\n",
      " -0.10880732 -0.10801944 -0.08509471 -0.0746886  -0.07147999 -0.05441823\n",
      "  0.00726653 -0.07559323 -0.10067665  0.03939233 -0.08139793 -0.04971805\n",
      " -0.00460343 -0.11320474 -0.03746299 -0.03498503 -0.06670172 -0.0415966\n",
      " -0.02165367  0.00579859  0.01871727 -0.07508107 -0.05912321  0.02673739\n",
      " -0.03691965 -0.04765631 -0.04774269 -0.0661699   0.01935521 -0.07831719\n",
      " -0.01738192 -0.00525071 -0.05314957 -0.00344568 -0.01265949 -0.01457853\n",
      " -0.0708702  -0.0473961   0.04068659 -0.05321907 -0.10716633 -0.10258213\n",
      " -0.05388941 -0.08317653  0.00708021 -0.04272508 -0.036253    0.04054339\n",
      "  0.00170358 -0.08276347  0.02924728 -0.10956856 -0.11442967 -0.06305944\n",
      " -0.00623874 -0.07072327 -0.11797218 -0.10360997 -0.11655713 -0.06433429\n",
      " -0.07187425  0.01763668 -0.05698508 -0.04373601 -0.05498681 -0.01968951\n",
      "  0.02732614 -0.0982291  -0.07717241 -0.06630738 -0.06800446 -0.01730963\n",
      " -0.07709234 -0.05285871 -0.05834745 -0.09380956 -0.0302536 ]\n"
     ]
    },
    {
     "name": "stderr",
     "output_type": "stream",
     "text": [
      "C:\\Users\\NON\\anaconda3\\lib\\site-packages\\sklearn\\base.py:450: UserWarning: X does not have valid feature names, but LinearRegression was fitted with feature names\n",
      "  warnings.warn(\n"
     ]
    }
   ],
   "source": [
    "y_pred_train_lm = model_lm.predict(X_train_minmax_scaled)\n",
    "print(y_pred_train_lm )"
   ]
  },
  {
   "cell_type": "code",
   "execution_count": 143,
   "id": "ea2d0037",
   "metadata": {},
   "outputs": [
    {
     "name": "stdout",
     "output_type": "stream",
     "text": [
      "[-0.12036431 -0.10751828 -0.05039596 -0.00420944 -0.04962557  0.02303083\n",
      " -0.01261248 -0.06501775 -0.03314177 -0.03223514 -0.04265627 -0.03225256\n",
      " -0.11470496 -0.02856275 -0.01362738 -0.04806162  0.01345901  0.00049603\n",
      "  0.03222017 -0.05205703 -0.11713523 -0.10391425 -0.07551542 -0.09022823\n",
      " -0.08229104  0.00908516 -0.08185165 -0.08036837 -0.07137685  0.02617584\n",
      " -0.16051241 -0.07718561  0.01324032 -0.06732331 -0.06866217 -0.07519199\n",
      " -0.06066945 -0.05168675 -0.07265066 -0.04874833 -0.08599135  0.01206303\n",
      " -0.05636542 -0.11464261 -0.0828753  -0.08003154 -0.07823466 -0.05736656\n",
      "  0.01809548  0.01687071 -0.08591365 -0.13625204 -0.03010853 -0.03588977\n",
      " -0.05864599 -0.10575359 -0.00817651 -0.05002364 -0.05695262 -0.01798535\n",
      "  0.03140142 -0.04441892 -0.07855597 -0.11186875 -0.03504524 -0.02778315\n",
      " -0.05571309 -0.06169194 -0.03086483 -0.03917389 -0.13459124 -0.04640584\n",
      "  0.01825347  0.00856624 -0.06902882 -0.10737492  0.00918873 -0.0662506\n",
      " -0.07704147 -0.06449697 -0.00419223 -0.1056472  -0.05543347 -0.11718011\n",
      " -0.11157704 -0.07733378 -0.05533484]\n"
     ]
    },
    {
     "name": "stderr",
     "output_type": "stream",
     "text": [
      "C:\\Users\\NON\\anaconda3\\lib\\site-packages\\sklearn\\base.py:450: UserWarning: X does not have valid feature names, but LinearRegression was fitted with feature names\n",
      "  warnings.warn(\n"
     ]
    }
   ],
   "source": [
    "y_pred_test_lm  = model_lm.predict(X_test_minmax_scaled)\n",
    "print (y_pred_test_lm)"
   ]
  },
  {
   "cell_type": "code",
   "execution_count": 144,
   "id": "0343f9d9",
   "metadata": {},
   "outputs": [
    {
     "data": {
      "image/png": "[encoded data removed]",
      "text/plain": [
       "<Figure size 1440x720 with 4 Axes>"
      ]
     },
     "metadata": {
      "needs_background": "light"
     },
     "output_type": "display_data"
    }
   ],
   "source": [
    "fig, ax = plt.subplots(2,2,figsize=(20,10))\n",
    "sns.scatterplot(x=y_train, y=y_pred_train, ax = ax[0,0])\n",
    "sns.histplot(x=y_train-y_pred_train, ax = ax[0,1], bins = 50)\n",
    "ax[0,0].plot(y_train, y_train, color = \"black\")\n",
    "sns.scatterplot(x=y_test, y=y_pred_test, ax = ax[1,0])\n",
    "sns.histplot(x=y_test-y_pred_test, ax = ax[1,1], bins=50)\n",
    "ax[1,0].plot(y_test, y_test, color=\"black\")\n",
    "plt.show()"
   ]
  },
  {
   "cell_type": "code",
   "execution_count": 80,
   "id": "cbb80fb6",
   "metadata": {},
   "outputs": [
    {
     "ename": "IndexError",
     "evalue": "only integers, slices (`:`), ellipsis (`...`), numpy.newaxis (`None`) and integer or boolean arrays are valid indices",
     "output_type": "error",
     "traceback": [
      "\u001b[1;31m---------------------------------------------------------------------------\u001b[0m",
      "\u001b[1;31mIndexError\u001b[0m                                Traceback (most recent call last)",
      "\u001b[1;32m~\\AppData\\Local\\Temp/ipykernel_18932/4275194278.py\u001b[0m in \u001b[0;36m<module>\u001b[1;34m\u001b[0m\n\u001b[0;32m      1\u001b[0m \u001b[0mfig\u001b[0m\u001b[1;33m,\u001b[0m \u001b[0max\u001b[0m \u001b[1;33m=\u001b[0m \u001b[0mplt\u001b[0m\u001b[1;33m.\u001b[0m\u001b[0msubplots\u001b[0m\u001b[1;33m(\u001b[0m\u001b[1;33m)\u001b[0m\u001b[1;33m\u001b[0m\u001b[1;33m\u001b[0m\u001b[0m\n\u001b[1;32m----> 2\u001b[1;33m \u001b[0msns\u001b[0m\u001b[1;33m.\u001b[0m\u001b[0mscatterplot\u001b[0m\u001b[1;33m(\u001b[0m\u001b[0mX_train_minmax_scaled\u001b[0m\u001b[1;33m[\u001b[0m\u001b[1;34m'gross_fixed_capital_formation'\u001b[0m\u001b[1;33m]\u001b[0m\u001b[1;33m.\u001b[0m\u001b[0mvalues\u001b[0m\u001b[1;33m,\u001b[0m\u001b[0my_train\u001b[0m\u001b[1;33m)\u001b[0m\u001b[1;33m\u001b[0m\u001b[1;33m\u001b[0m\u001b[0m\n\u001b[0m\u001b[0;32m      3\u001b[0m \u001b[0mplt\u001b[0m\u001b[1;33m.\u001b[0m\u001b[0mshow\u001b[0m\u001b[1;33m(\u001b[0m\u001b[1;33m)\u001b[0m\u001b[1;33m\u001b[0m\u001b[1;33m\u001b[0m\u001b[0m\n",
      "\u001b[1;31mIndexError\u001b[0m: only integers, slices (`:`), ellipsis (`...`), numpy.newaxis (`None`) and integer or boolean arrays are valid indices"
     ]
    },
    {
     "data": {
      "image/png": "[encoded data removed]",
      "text/plain": [
       "<Figure size 432x288 with 1 Axes>"
      ]
     },
     "metadata": {
      "needs_background": "light"
     },
     "output_type": "display_data"
    }
   ],
   "source": [
    "fig, ax = plt.subplots()\n",
    "sns.scatterplot(X_train_minmax_scaled['gross_fixed_capital_formation'].values,y_train)\n",
    "plt.show()"
   ]
  },
  {
   "cell_type": "raw",
   "id": "0d69c04e",
   "metadata": {},
   "source": [
    "powertransformer.lambdas_"
   ]
  },
  {
   "cell_type": "markdown",
   "id": "bd4f0117",
   "metadata": {},
   "source": [
    "# Evaluation of the TEST portion of the data, that we did not use for training."
   ]
  },
  {
   "cell_type": "code",
   "execution_count": 160,
   "id": "723e2f5a",
   "metadata": {},
   "outputs": [
    {
     "name": "stdout",
     "output_type": "stream",
     "text": [
      "0.6534633311601568\n"
     ]
    }
   ],
   "source": [
    "y_pred_test = model_lm.predict(X_test)\n",
    "r2_score_test = r2_score(y_test, y_pred_test)\n",
    "print (r2_score_test)"
   ]
  },
  {
   "cell_type": "code",
   "execution_count": null,
   "id": "4b6ca5de",
   "metadata": {},
   "outputs": [],
   "source": [
    "#regression_line = lm.intercept_ + lm.coef_[0]*numeric_FDI3['stock market'] # b_0 + b_1 * x\n",
    "#plt.plot(numeric_FDI3['stock market'], regression_line, c = 'orange')\n",
    "#sns.scatterplot(x='stock market',y='fdi',data=numeric_FDI3)\n",
    "#plt.show()"
   ]
  },
  {
   "cell_type": "code",
   "execution_count": 169,
   "id": "6b2fc4ce",
   "metadata": {},
   "outputs": [
    {
     "name": "stdout",
     "output_type": "stream",
     "text": [
      "-0.2267956091765536\n",
      "0.014782030890494978\n"
     ]
    }
   ],
   "source": [
    "print(model_lm.intercept_)   \n",
    "print(model_lm.coef_[0])"
   ]
  },
  {
   "cell_type": "code",
   "execution_count": 172,
   "id": "c8214c5d",
   "metadata": {},
   "outputs": [
    {
     "data": {
      "image/png": "[encoded data removed]",
      "text/plain": [
       "<Figure size 432x288 with 1 Axes>"
      ]
     },
     "metadata": {
      "needs_background": "light"
     },
     "output_type": "display_data"
    }
   ],
   "source": [
    "regression_line = model_lm.intercept_ + model_lm.coef_[0]*numeric_FDI3['fdi']   #b_0 + b_1 * x\n",
    "plt.plot(numeric_FDI3['stock_market'], regression_line, c = 'orange')\n",
    "sns.scatterplot(x='stock_market',y='fdi',data=numeric_FDI3)\n",
    "plt.show()"
   ]
  },
  {
   "cell_type": "markdown",
   "id": "481f5aa3",
   "metadata": {},
   "source": [
    "# Checking linearity"
   ]
  },
  {
   "cell_type": "markdown",
   "id": "2ff26bc1",
   "metadata": {},
   "source": [
    "# checking relation"
   ]
  },
  {
   "cell_type": "code",
   "execution_count": 162,
   "id": "b9926c83",
   "metadata": {},
   "outputs": [],
   "source": [
    "import scipy.stats as st"
   ]
  },
  {
   "cell_type": "code",
   "execution_count": 163,
   "id": "1353a406",
   "metadata": {},
   "outputs": [
    {
     "data": {
      "text/html": [
       "<div>\n",
       "<style scoped>\n",
       "    .dataframe tbody tr th:only-of-type {\n",
       "        vertical-align: middle;\n",
       "    }\n",
       "\n",
       "    .dataframe tbody tr th {\n",
       "        vertical-align: top;\n",
       "    }\n",
       "\n",
       "    .dataframe thead th {\n",
       "        text-align: right;\n",
       "    }\n",
       "</style>\n",
       "<table border=\"1\" class=\"dataframe\">\n",
       "  <thead>\n",
       "    <tr style=\"text-align: right;\">\n",
       "      <th></th>\n",
       "      <th>commercial_opening_rate</th>\n",
       "      <th>gross_fixed_capital_formation</th>\n",
       "      <th>business_climate</th>\n",
       "      <th>scoreeasedoingbusiness</th>\n",
       "      <th>buf</th>\n",
       "      <th>invf</th>\n",
       "      <th>finfree</th>\n",
       "      <th>stock_market</th>\n",
       "      <th>fdi</th>\n",
       "    </tr>\n",
       "  </thead>\n",
       "  <tbody>\n",
       "    <tr>\n",
       "      <th>0</th>\n",
       "      <td>0.091316</td>\n",
       "      <td>-0.774379</td>\n",
       "      <td>-1.417695</td>\n",
       "      <td>0.661596</td>\n",
       "      <td>-1.440617</td>\n",
       "      <td>-0.106297</td>\n",
       "      <td>1.591057</td>\n",
       "      <td>-1.081706</td>\n",
       "      <td>-0.444693</td>\n",
       "    </tr>\n",
       "    <tr>\n",
       "      <th>1</th>\n",
       "      <td>0.305318</td>\n",
       "      <td>-0.707284</td>\n",
       "      <td>-1.895417</td>\n",
       "      <td>0.661596</td>\n",
       "      <td>-1.440617</td>\n",
       "      <td>-0.106297</td>\n",
       "      <td>1.591057</td>\n",
       "      <td>-1.580889</td>\n",
       "      <td>-0.431908</td>\n",
       "    </tr>\n",
       "    <tr>\n",
       "      <th>2</th>\n",
       "      <td>0.414890</td>\n",
       "      <td>-0.639883</td>\n",
       "      <td>-1.055946</td>\n",
       "      <td>0.661596</td>\n",
       "      <td>0.198081</td>\n",
       "      <td>0.896537</td>\n",
       "      <td>1.591057</td>\n",
       "      <td>-1.517545</td>\n",
       "      <td>-0.444369</td>\n",
       "    </tr>\n",
       "    <tr>\n",
       "      <th>3</th>\n",
       "      <td>0.480856</td>\n",
       "      <td>-0.590864</td>\n",
       "      <td>-2.088493</td>\n",
       "      <td>0.661596</td>\n",
       "      <td>0.175398</td>\n",
       "      <td>0.387938</td>\n",
       "      <td>0.742700</td>\n",
       "      <td>-1.061439</td>\n",
       "      <td>-0.436306</td>\n",
       "    </tr>\n",
       "    <tr>\n",
       "      <th>4</th>\n",
       "      <td>0.455876</td>\n",
       "      <td>-0.524810</td>\n",
       "      <td>-2.399586</td>\n",
       "      <td>0.661596</td>\n",
       "      <td>-0.038130</td>\n",
       "      <td>0.387938</td>\n",
       "      <td>0.742700</td>\n",
       "      <td>-0.943724</td>\n",
       "      <td>-0.410158</td>\n",
       "    </tr>\n",
       "    <tr>\n",
       "      <th>...</th>\n",
       "      <td>...</td>\n",
       "      <td>...</td>\n",
       "      <td>...</td>\n",
       "      <td>...</td>\n",
       "      <td>...</td>\n",
       "      <td>...</td>\n",
       "      <td>...</td>\n",
       "      <td>...</td>\n",
       "      <td>...</td>\n",
       "    </tr>\n",
       "    <tr>\n",
       "      <th>325</th>\n",
       "      <td>0.022737</td>\n",
       "      <td>1.021005</td>\n",
       "      <td>1.063682</td>\n",
       "      <td>2.190009</td>\n",
       "      <td>-0.540268</td>\n",
       "      <td>0.221498</td>\n",
       "      <td>0.232769</td>\n",
       "      <td>-0.402052</td>\n",
       "      <td>-0.043602</td>\n",
       "    </tr>\n",
       "    <tr>\n",
       "      <th>326</th>\n",
       "      <td>0.012928</td>\n",
       "      <td>1.072169</td>\n",
       "      <td>0.840255</td>\n",
       "      <td>1.490001</td>\n",
       "      <td>-0.540268</td>\n",
       "      <td>0.221498</td>\n",
       "      <td>-0.005062</td>\n",
       "      <td>-0.470490</td>\n",
       "      <td>0.116868</td>\n",
       "    </tr>\n",
       "    <tr>\n",
       "      <th>327</th>\n",
       "      <td>0.009179</td>\n",
       "      <td>1.084916</td>\n",
       "      <td>0.876499</td>\n",
       "      <td>1.092581</td>\n",
       "      <td>-0.331803</td>\n",
       "      <td>0.896537</td>\n",
       "      <td>1.014495</td>\n",
       "      <td>-0.567819</td>\n",
       "      <td>-0.026669</td>\n",
       "    </tr>\n",
       "    <tr>\n",
       "      <th>328</th>\n",
       "      <td>0.011055</td>\n",
       "      <td>1.130210</td>\n",
       "      <td>0.759630</td>\n",
       "      <td>0.973696</td>\n",
       "      <td>-1.226457</td>\n",
       "      <td>-0.583853</td>\n",
       "      <td>-0.838003</td>\n",
       "      <td>-0.274145</td>\n",
       "      <td>-0.093661</td>\n",
       "    </tr>\n",
       "    <tr>\n",
       "      <th>329</th>\n",
       "      <td>0.010118</td>\n",
       "      <td>1.126836</td>\n",
       "      <td>0.704780</td>\n",
       "      <td>1.080960</td>\n",
       "      <td>-1.189723</td>\n",
       "      <td>0.221498</td>\n",
       "      <td>0.232769</td>\n",
       "      <td>-0.595492</td>\n",
       "      <td>-0.051258</td>\n",
       "    </tr>\n",
       "  </tbody>\n",
       "</table>\n",
       "<p>290 rows × 9 columns</p>\n",
       "</div>"
      ],
      "text/plain": [
       "     commercial_opening_rate  gross_fixed_capital_formation  business_climate  \\\n",
       "0                   0.091316                      -0.774379         -1.417695   \n",
       "1                   0.305318                      -0.707284         -1.895417   \n",
       "2                   0.414890                      -0.639883         -1.055946   \n",
       "3                   0.480856                      -0.590864         -2.088493   \n",
       "4                   0.455876                      -0.524810         -2.399586   \n",
       "..                       ...                            ...               ...   \n",
       "325                 0.022737                       1.021005          1.063682   \n",
       "326                 0.012928                       1.072169          0.840255   \n",
       "327                 0.009179                       1.084916          0.876499   \n",
       "328                 0.011055                       1.130210          0.759630   \n",
       "329                 0.010118                       1.126836          0.704780   \n",
       "\n",
       "     scoreeasedoingbusiness       buf      invf   finfree  stock_market  \\\n",
       "0                  0.661596 -1.440617 -0.106297  1.591057     -1.081706   \n",
       "1                  0.661596 -1.440617 -0.106297  1.591057     -1.580889   \n",
       "2                  0.661596  0.198081  0.896537  1.591057     -1.517545   \n",
       "3                  0.661596  0.175398  0.387938  0.742700     -1.061439   \n",
       "4                  0.661596 -0.038130  0.387938  0.742700     -0.943724   \n",
       "..                      ...       ...       ...       ...           ...   \n",
       "325                2.190009 -0.540268  0.221498  0.232769     -0.402052   \n",
       "326                1.490001 -0.540268  0.221498 -0.005062     -0.470490   \n",
       "327                1.092581 -0.331803  0.896537  1.014495     -0.567819   \n",
       "328                0.973696 -1.226457 -0.583853 -0.838003     -0.274145   \n",
       "329                1.080960 -1.189723  0.221498  0.232769     -0.595492   \n",
       "\n",
       "          fdi  \n",
       "0   -0.444693  \n",
       "1   -0.431908  \n",
       "2   -0.444369  \n",
       "3   -0.436306  \n",
       "4   -0.410158  \n",
       "..        ...  \n",
       "325 -0.043602  \n",
       "326  0.116868  \n",
       "327 -0.026669  \n",
       "328 -0.093661  \n",
       "329 -0.051258  \n",
       "\n",
       "[290 rows x 9 columns]"
      ]
     },
     "execution_count": 163,
     "metadata": {},
     "output_type": "execute_result"
    }
   ],
   "source": [
    "numeric_FDI3"
   ]
  },
  {
   "cell_type": "code",
   "execution_count": 165,
   "id": "36952d99",
   "metadata": {},
   "outputs": [
    {
     "data": {
      "text/plain": [
       "0     -0.444693\n",
       "1     -0.431908\n",
       "2     -0.444369\n",
       "3     -0.436306\n",
       "4     -0.410158\n",
       "         ...   \n",
       "325   -0.043602\n",
       "326    0.116868\n",
       "327   -0.026669\n",
       "328   -0.093661\n",
       "329   -0.051258\n",
       "Name: fdi, Length: 290, dtype: float64"
      ]
     },
     "execution_count": 165,
     "metadata": {},
     "output_type": "execute_result"
    }
   ],
   "source": [
    "matrix_donors = numeric_FDI3['fdi']\n",
    "matrix_donors"
   ]
  },
  {
   "cell_type": "code",
   "execution_count": 166,
   "id": "7ed5f4ab",
   "metadata": {},
   "outputs": [
    {
     "data": {
      "text/html": [
       "<div>\n",
       "<style scoped>\n",
       "    .dataframe tbody tr th:only-of-type {\n",
       "        vertical-align: middle;\n",
       "    }\n",
       "\n",
       "    .dataframe tbody tr th {\n",
       "        vertical-align: top;\n",
       "    }\n",
       "\n",
       "    .dataframe thead th {\n",
       "        text-align: right;\n",
       "    }\n",
       "</style>\n",
       "<table border=\"1\" class=\"dataframe\">\n",
       "  <thead>\n",
       "    <tr style=\"text-align: right;\">\n",
       "      <th>fdi</th>\n",
       "      <th>-0.465033</th>\n",
       "      <th>-0.463561</th>\n",
       "      <th>-0.463301</th>\n",
       "      <th>-0.460892</th>\n",
       "      <th>-0.459917</th>\n",
       "      <th>-0.459837</th>\n",
       "      <th>-0.457060</th>\n",
       "      <th>-0.456806</th>\n",
       "      <th>-0.456438</th>\n",
       "      <th>-0.447075</th>\n",
       "      <th>...</th>\n",
       "      <th>0.268795</th>\n",
       "      <th>0.271531</th>\n",
       "      <th>0.291692</th>\n",
       "      <th>0.326676</th>\n",
       "      <th>0.345767</th>\n",
       "      <th>0.429047</th>\n",
       "      <th>0.436222</th>\n",
       "      <th>0.447487</th>\n",
       "      <th>0.465327</th>\n",
       "      <th>0.468611</th>\n",
       "    </tr>\n",
       "    <tr>\n",
       "      <th>stock_market</th>\n",
       "      <th></th>\n",
       "      <th></th>\n",
       "      <th></th>\n",
       "      <th></th>\n",
       "      <th></th>\n",
       "      <th></th>\n",
       "      <th></th>\n",
       "      <th></th>\n",
       "      <th></th>\n",
       "      <th></th>\n",
       "      <th></th>\n",
       "      <th></th>\n",
       "      <th></th>\n",
       "      <th></th>\n",
       "      <th></th>\n",
       "      <th></th>\n",
       "      <th></th>\n",
       "      <th></th>\n",
       "      <th></th>\n",
       "      <th></th>\n",
       "      <th></th>\n",
       "    </tr>\n",
       "  </thead>\n",
       "  <tbody>\n",
       "    <tr>\n",
       "      <th>-2.359208</th>\n",
       "      <td>0</td>\n",
       "      <td>0</td>\n",
       "      <td>0</td>\n",
       "      <td>0</td>\n",
       "      <td>0</td>\n",
       "      <td>0</td>\n",
       "      <td>0</td>\n",
       "      <td>0</td>\n",
       "      <td>0</td>\n",
       "      <td>0</td>\n",
       "      <td>...</td>\n",
       "      <td>0</td>\n",
       "      <td>0</td>\n",
       "      <td>0</td>\n",
       "      <td>0</td>\n",
       "      <td>0</td>\n",
       "      <td>0</td>\n",
       "      <td>0</td>\n",
       "      <td>0</td>\n",
       "      <td>0</td>\n",
       "      <td>0</td>\n",
       "    </tr>\n",
       "    <tr>\n",
       "      <th>-2.355461</th>\n",
       "      <td>0</td>\n",
       "      <td>0</td>\n",
       "      <td>0</td>\n",
       "      <td>0</td>\n",
       "      <td>0</td>\n",
       "      <td>0</td>\n",
       "      <td>0</td>\n",
       "      <td>0</td>\n",
       "      <td>0</td>\n",
       "      <td>0</td>\n",
       "      <td>...</td>\n",
       "      <td>0</td>\n",
       "      <td>0</td>\n",
       "      <td>0</td>\n",
       "      <td>0</td>\n",
       "      <td>0</td>\n",
       "      <td>0</td>\n",
       "      <td>0</td>\n",
       "      <td>0</td>\n",
       "      <td>0</td>\n",
       "      <td>0</td>\n",
       "    </tr>\n",
       "    <tr>\n",
       "      <th>-2.355391</th>\n",
       "      <td>0</td>\n",
       "      <td>0</td>\n",
       "      <td>0</td>\n",
       "      <td>0</td>\n",
       "      <td>0</td>\n",
       "      <td>0</td>\n",
       "      <td>0</td>\n",
       "      <td>0</td>\n",
       "      <td>0</td>\n",
       "      <td>0</td>\n",
       "      <td>...</td>\n",
       "      <td>0</td>\n",
       "      <td>0</td>\n",
       "      <td>0</td>\n",
       "      <td>0</td>\n",
       "      <td>0</td>\n",
       "      <td>0</td>\n",
       "      <td>0</td>\n",
       "      <td>0</td>\n",
       "      <td>0</td>\n",
       "      <td>0</td>\n",
       "    </tr>\n",
       "    <tr>\n",
       "      <th>-2.353515</th>\n",
       "      <td>0</td>\n",
       "      <td>0</td>\n",
       "      <td>0</td>\n",
       "      <td>0</td>\n",
       "      <td>0</td>\n",
       "      <td>0</td>\n",
       "      <td>0</td>\n",
       "      <td>0</td>\n",
       "      <td>0</td>\n",
       "      <td>0</td>\n",
       "      <td>...</td>\n",
       "      <td>0</td>\n",
       "      <td>0</td>\n",
       "      <td>0</td>\n",
       "      <td>0</td>\n",
       "      <td>0</td>\n",
       "      <td>0</td>\n",
       "      <td>0</td>\n",
       "      <td>0</td>\n",
       "      <td>0</td>\n",
       "      <td>0</td>\n",
       "    </tr>\n",
       "    <tr>\n",
       "      <th>-2.351350</th>\n",
       "      <td>0</td>\n",
       "      <td>0</td>\n",
       "      <td>0</td>\n",
       "      <td>0</td>\n",
       "      <td>0</td>\n",
       "      <td>0</td>\n",
       "      <td>0</td>\n",
       "      <td>0</td>\n",
       "      <td>0</td>\n",
       "      <td>0</td>\n",
       "      <td>...</td>\n",
       "      <td>0</td>\n",
       "      <td>0</td>\n",
       "      <td>0</td>\n",
       "      <td>0</td>\n",
       "      <td>0</td>\n",
       "      <td>0</td>\n",
       "      <td>0</td>\n",
       "      <td>0</td>\n",
       "      <td>0</td>\n",
       "      <td>0</td>\n",
       "    </tr>\n",
       "    <tr>\n",
       "      <th>...</th>\n",
       "      <td>...</td>\n",
       "      <td>...</td>\n",
       "      <td>...</td>\n",
       "      <td>...</td>\n",
       "      <td>...</td>\n",
       "      <td>...</td>\n",
       "      <td>...</td>\n",
       "      <td>...</td>\n",
       "      <td>...</td>\n",
       "      <td>...</td>\n",
       "      <td>...</td>\n",
       "      <td>...</td>\n",
       "      <td>...</td>\n",
       "      <td>...</td>\n",
       "      <td>...</td>\n",
       "      <td>...</td>\n",
       "      <td>...</td>\n",
       "      <td>...</td>\n",
       "      <td>...</td>\n",
       "      <td>...</td>\n",
       "      <td>...</td>\n",
       "    </tr>\n",
       "    <tr>\n",
       "      <th>2.312726</th>\n",
       "      <td>0</td>\n",
       "      <td>0</td>\n",
       "      <td>0</td>\n",
       "      <td>0</td>\n",
       "      <td>0</td>\n",
       "      <td>0</td>\n",
       "      <td>0</td>\n",
       "      <td>0</td>\n",
       "      <td>0</td>\n",
       "      <td>0</td>\n",
       "      <td>...</td>\n",
       "      <td>0</td>\n",
       "      <td>0</td>\n",
       "      <td>0</td>\n",
       "      <td>0</td>\n",
       "      <td>0</td>\n",
       "      <td>0</td>\n",
       "      <td>0</td>\n",
       "      <td>0</td>\n",
       "      <td>0</td>\n",
       "      <td>0</td>\n",
       "    </tr>\n",
       "    <tr>\n",
       "      <th>2.328118</th>\n",
       "      <td>0</td>\n",
       "      <td>0</td>\n",
       "      <td>0</td>\n",
       "      <td>0</td>\n",
       "      <td>0</td>\n",
       "      <td>0</td>\n",
       "      <td>0</td>\n",
       "      <td>0</td>\n",
       "      <td>0</td>\n",
       "      <td>0</td>\n",
       "      <td>...</td>\n",
       "      <td>0</td>\n",
       "      <td>1</td>\n",
       "      <td>0</td>\n",
       "      <td>0</td>\n",
       "      <td>0</td>\n",
       "      <td>0</td>\n",
       "      <td>0</td>\n",
       "      <td>0</td>\n",
       "      <td>0</td>\n",
       "      <td>0</td>\n",
       "    </tr>\n",
       "    <tr>\n",
       "      <th>2.399625</th>\n",
       "      <td>0</td>\n",
       "      <td>0</td>\n",
       "      <td>0</td>\n",
       "      <td>0</td>\n",
       "      <td>0</td>\n",
       "      <td>0</td>\n",
       "      <td>0</td>\n",
       "      <td>0</td>\n",
       "      <td>0</td>\n",
       "      <td>0</td>\n",
       "      <td>...</td>\n",
       "      <td>0</td>\n",
       "      <td>0</td>\n",
       "      <td>0</td>\n",
       "      <td>0</td>\n",
       "      <td>0</td>\n",
       "      <td>0</td>\n",
       "      <td>0</td>\n",
       "      <td>0</td>\n",
       "      <td>0</td>\n",
       "      <td>0</td>\n",
       "    </tr>\n",
       "    <tr>\n",
       "      <th>2.472174</th>\n",
       "      <td>0</td>\n",
       "      <td>0</td>\n",
       "      <td>0</td>\n",
       "      <td>0</td>\n",
       "      <td>0</td>\n",
       "      <td>0</td>\n",
       "      <td>0</td>\n",
       "      <td>0</td>\n",
       "      <td>0</td>\n",
       "      <td>0</td>\n",
       "      <td>...</td>\n",
       "      <td>0</td>\n",
       "      <td>0</td>\n",
       "      <td>0</td>\n",
       "      <td>0</td>\n",
       "      <td>0</td>\n",
       "      <td>0</td>\n",
       "      <td>0</td>\n",
       "      <td>0</td>\n",
       "      <td>0</td>\n",
       "      <td>0</td>\n",
       "    </tr>\n",
       "    <tr>\n",
       "      <th>2.573010</th>\n",
       "      <td>0</td>\n",
       "      <td>0</td>\n",
       "      <td>0</td>\n",
       "      <td>0</td>\n",
       "      <td>0</td>\n",
       "      <td>0</td>\n",
       "      <td>0</td>\n",
       "      <td>0</td>\n",
       "      <td>0</td>\n",
       "      <td>0</td>\n",
       "      <td>...</td>\n",
       "      <td>0</td>\n",
       "      <td>0</td>\n",
       "      <td>0</td>\n",
       "      <td>0</td>\n",
       "      <td>0</td>\n",
       "      <td>0</td>\n",
       "      <td>0</td>\n",
       "      <td>0</td>\n",
       "      <td>0</td>\n",
       "      <td>0</td>\n",
       "    </tr>\n",
       "  </tbody>\n",
       "</table>\n",
       "<p>290 rows × 290 columns</p>\n",
       "</div>"
      ],
      "text/plain": [
       "fdi           -0.465033  -0.463561  -0.463301  -0.460892  -0.459917  \\\n",
       "stock_market                                                          \n",
       "-2.359208             0          0          0          0          0   \n",
       "-2.355461             0          0          0          0          0   \n",
       "-2.355391             0          0          0          0          0   \n",
       "-2.353515             0          0          0          0          0   \n",
       "-2.351350             0          0          0          0          0   \n",
       "...                 ...        ...        ...        ...        ...   \n",
       " 2.312726             0          0          0          0          0   \n",
       " 2.328118             0          0          0          0          0   \n",
       " 2.399625             0          0          0          0          0   \n",
       " 2.472174             0          0          0          0          0   \n",
       " 2.573010             0          0          0          0          0   \n",
       "\n",
       "fdi           -0.459837  -0.457060  -0.456806  -0.456438  -0.447075  ...  \\\n",
       "stock_market                                                         ...   \n",
       "-2.359208             0          0          0          0          0  ...   \n",
       "-2.355461             0          0          0          0          0  ...   \n",
       "-2.355391             0          0          0          0          0  ...   \n",
       "-2.353515             0          0          0          0          0  ...   \n",
       "-2.351350             0          0          0          0          0  ...   \n",
       "...                 ...        ...        ...        ...        ...  ...   \n",
       " 2.312726             0          0          0          0          0  ...   \n",
       " 2.328118             0          0          0          0          0  ...   \n",
       " 2.399625             0          0          0          0          0  ...   \n",
       " 2.472174             0          0          0          0          0  ...   \n",
       " 2.573010             0          0          0          0          0  ...   \n",
       "\n",
       "fdi            0.268795   0.271531   0.291692   0.326676   0.345767  \\\n",
       "stock_market                                                          \n",
       "-2.359208             0          0          0          0          0   \n",
       "-2.355461             0          0          0          0          0   \n",
       "-2.355391             0          0          0          0          0   \n",
       "-2.353515             0          0          0          0          0   \n",
       "-2.351350             0          0          0          0          0   \n",
       "...                 ...        ...        ...        ...        ...   \n",
       " 2.312726             0          0          0          0          0   \n",
       " 2.328118             0          1          0          0          0   \n",
       " 2.399625             0          0          0          0          0   \n",
       " 2.472174             0          0          0          0          0   \n",
       " 2.573010             0          0          0          0          0   \n",
       "\n",
       "fdi            0.429047   0.436222   0.447487   0.465327   0.468611  \n",
       "stock_market                                                         \n",
       "-2.359208             0          0          0          0          0  \n",
       "-2.355461             0          0          0          0          0  \n",
       "-2.355391             0          0          0          0          0  \n",
       "-2.353515             0          0          0          0          0  \n",
       "-2.351350             0          0          0          0          0  \n",
       "...                 ...        ...        ...        ...        ...  \n",
       " 2.312726             0          0          0          0          0  \n",
       " 2.328118             0          0          0          0          0  \n",
       " 2.399625             0          0          0          0          0  \n",
       " 2.472174             0          0          0          0          0  \n",
       " 2.573010             0          0          0          0          0  \n",
       "\n",
       "[290 rows x 290 columns]"
      ]
     },
     "execution_count": 166,
     "metadata": {},
     "output_type": "execute_result"
    }
   ],
   "source": [
    "\n",
    "FDI4 = pd.crosstab(numeric_FDI3['stock_market'] , numeric_FDI3['fdi'], margins = False)\n",
    "FDI4"
   ]
  },
  {
   "cell_type": "markdown",
   "id": "6387660a",
   "metadata": {},
   "source": [
    "# compute chi2 "
   ]
  },
  {
   "cell_type": "code",
   "execution_count": 167,
   "id": "97462f4b",
   "metadata": {},
   "outputs": [
    {
     "data": {
      "text/plain": [
       "(83810.0,\n",
       " 0.23949637231211704,\n",
       " 83521,\n",
       " array([[0.00344828, 0.00344828, 0.00344828, ..., 0.00344828, 0.00344828,\n",
       "         0.00344828],\n",
       "        [0.00344828, 0.00344828, 0.00344828, ..., 0.00344828, 0.00344828,\n",
       "         0.00344828],\n",
       "        [0.00344828, 0.00344828, 0.00344828, ..., 0.00344828, 0.00344828,\n",
       "         0.00344828],\n",
       "        ...,\n",
       "        [0.00344828, 0.00344828, 0.00344828, ..., 0.00344828, 0.00344828,\n",
       "         0.00344828],\n",
       "        [0.00344828, 0.00344828, 0.00344828, ..., 0.00344828, 0.00344828,\n",
       "         0.00344828],\n",
       "        [0.00344828, 0.00344828, 0.00344828, ..., 0.00344828, 0.00344828,\n",
       "         0.00344828]]))"
      ]
     },
     "execution_count": 167,
     "metadata": {},
     "output_type": "execute_result"
    }
   ],
   "source": [
    "st.chi2_contingency(FDI4)"
   ]
  },
  {
   "cell_type": "raw",
   "id": "028cdbef",
   "metadata": {},
   "source": [
    "#Ho: no relationship , here the pvalue is 0.2394963723121170\n",
    "\n",
    "#pvalue > 0.05 so we accept the null hypothesis there is no relationship between stock market and fdi"
   ]
  },
  {
   "cell_type": "markdown",
   "id": "fad340cf",
   "metadata": {},
   "source": [
    "# CHEcKING Multicollinearity and  Variance Inflation Factor"
   ]
  },
  {
   "cell_type": "code",
   "execution_count": 90,
   "id": "d6921197",
   "metadata": {},
   "outputs": [
    {
     "data": {
      "image/png": "[encoded data removed]",
      "text/plain": [
       "<Figure size 432x288 with 2 Axes>"
      ]
     },
     "metadata": {
      "needs_background": "light"
     },
     "output_type": "display_data"
    }
   ],
   "source": [
    "sns.heatmap(numeric_FDI3.corr(), annot=True)\n",
    "plt.show()"
   ]
  },
  {
   "cell_type": "markdown",
   "id": "803e6481",
   "metadata": {},
   "source": [
    "#we suspect that fdi correlated with the other"
   ]
  },
  {
   "cell_type": "code",
   "execution_count": 102,
   "id": "a96f2cfb",
   "metadata": {},
   "outputs": [
    {
     "data": {
      "text/html": [
       "<div>\n",
       "<style scoped>\n",
       "    .dataframe tbody tr th:only-of-type {\n",
       "        vertical-align: middle;\n",
       "    }\n",
       "\n",
       "    .dataframe tbody tr th {\n",
       "        vertical-align: top;\n",
       "    }\n",
       "\n",
       "    .dataframe thead th {\n",
       "        text-align: right;\n",
       "    }\n",
       "</style>\n",
       "<table border=\"1\" class=\"dataframe\">\n",
       "  <thead>\n",
       "    <tr style=\"text-align: right;\">\n",
       "      <th></th>\n",
       "      <th>commercial_opening_rate</th>\n",
       "      <th>exchange_rate</th>\n",
       "      <th>gross_fixed_capital_formation</th>\n",
       "      <th>business_climate</th>\n",
       "      <th>scoreeasedoingbusiness</th>\n",
       "      <th>buf</th>\n",
       "      <th>invf</th>\n",
       "      <th>finfree</th>\n",
       "      <th>stock_market</th>\n",
       "      <th>fdi</th>\n",
       "      <th>total</th>\n",
       "    </tr>\n",
       "  </thead>\n",
       "  <tbody>\n",
       "    <tr>\n",
       "      <th>0</th>\n",
       "      <td>0.091316</td>\n",
       "      <td>0.587494</td>\n",
       "      <td>-0.774379</td>\n",
       "      <td>-1.417695</td>\n",
       "      <td>0.661596</td>\n",
       "      <td>-1.440617</td>\n",
       "      <td>-0.106297</td>\n",
       "      <td>1.591057</td>\n",
       "      <td>-1.081706</td>\n",
       "      <td>-0.444693</td>\n",
       "      <td>-2.476724</td>\n",
       "    </tr>\n",
       "    <tr>\n",
       "      <th>1</th>\n",
       "      <td>0.305318</td>\n",
       "      <td>0.619904</td>\n",
       "      <td>-0.707284</td>\n",
       "      <td>-1.895417</td>\n",
       "      <td>0.661596</td>\n",
       "      <td>-1.440617</td>\n",
       "      <td>-0.106297</td>\n",
       "      <td>1.591057</td>\n",
       "      <td>-1.580889</td>\n",
       "      <td>-0.431908</td>\n",
       "      <td>-3.172532</td>\n",
       "    </tr>\n",
       "    <tr>\n",
       "      <th>2</th>\n",
       "      <td>0.414890</td>\n",
       "      <td>0.648266</td>\n",
       "      <td>-0.639883</td>\n",
       "      <td>-1.055946</td>\n",
       "      <td>0.661596</td>\n",
       "      <td>0.198081</td>\n",
       "      <td>0.896537</td>\n",
       "      <td>1.591057</td>\n",
       "      <td>-1.517545</td>\n",
       "      <td>-0.444369</td>\n",
       "      <td>0.548787</td>\n",
       "    </tr>\n",
       "    <tr>\n",
       "      <th>3</th>\n",
       "      <td>0.480856</td>\n",
       "      <td>0.647921</td>\n",
       "      <td>-0.590864</td>\n",
       "      <td>-2.088493</td>\n",
       "      <td>0.661596</td>\n",
       "      <td>0.175398</td>\n",
       "      <td>0.387938</td>\n",
       "      <td>0.742700</td>\n",
       "      <td>-1.061439</td>\n",
       "      <td>-0.436306</td>\n",
       "      <td>-1.292307</td>\n",
       "    </tr>\n",
       "    <tr>\n",
       "      <th>4</th>\n",
       "      <td>0.455876</td>\n",
       "      <td>0.646282</td>\n",
       "      <td>-0.524810</td>\n",
       "      <td>-2.399586</td>\n",
       "      <td>0.661596</td>\n",
       "      <td>-0.038130</td>\n",
       "      <td>0.387938</td>\n",
       "      <td>0.742700</td>\n",
       "      <td>-0.943724</td>\n",
       "      <td>-0.410158</td>\n",
       "      <td>-1.658141</td>\n",
       "    </tr>\n",
       "  </tbody>\n",
       "</table>\n",
       "</div>"
      ],
      "text/plain": [
       "   commercial_opening_rate  exchange_rate  gross_fixed_capital_formation  \\\n",
       "0                 0.091316       0.587494                      -0.774379   \n",
       "1                 0.305318       0.619904                      -0.707284   \n",
       "2                 0.414890       0.648266                      -0.639883   \n",
       "3                 0.480856       0.647921                      -0.590864   \n",
       "4                 0.455876       0.646282                      -0.524810   \n",
       "\n",
       "   business_climate  scoreeasedoingbusiness       buf      invf   finfree  \\\n",
       "0         -1.417695                0.661596 -1.440617 -0.106297  1.591057   \n",
       "1         -1.895417                0.661596 -1.440617 -0.106297  1.591057   \n",
       "2         -1.055946                0.661596  0.198081  0.896537  1.591057   \n",
       "3         -2.088493                0.661596  0.175398  0.387938  0.742700   \n",
       "4         -2.399586                0.661596 -0.038130  0.387938  0.742700   \n",
       "\n",
       "   stock_market       fdi     total  \n",
       "0     -1.081706 -0.444693 -2.476724  \n",
       "1     -1.580889 -0.431908 -3.172532  \n",
       "2     -1.517545 -0.444369  0.548787  \n",
       "3     -1.061439 -0.436306 -1.292307  \n",
       "4     -0.943724 -0.410158 -1.658141  "
      ]
     },
     "execution_count": 102,
     "metadata": {},
     "output_type": "execute_result"
    }
   ],
   "source": [
    "numeric_FDI3['total'] = numeric_FDI3['commercial_opening_rate'] +numeric_FDI3['gross_fixed_capital_formation'] +numeric_FDI3['business_climate'] +numeric_FDI3['scoreeasedoingbusiness'] +numeric_FDI3['buf'] +numeric_FDI3['invf']+numeric_FDI3['finfree']+numeric_FDI3['stock_market'] \n",
    "numeric_FDI3.head()"
   ]
  },
  {
   "cell_type": "code",
   "execution_count": 93,
   "id": "535d646d",
   "metadata": {},
   "outputs": [],
   "source": [
    "from sklearn import neighbors\n",
    "from sklearn.model_selection import train_test_split\n",
    "from sklearn.metrics import r2_score"
   ]
  },
  {
   "cell_type": "code",
   "execution_count": 94,
   "id": "45fdd92f",
   "metadata": {},
   "outputs": [],
   "source": [
    "y = numeric_FDI3['fdi']\n",
    "X = numeric_FDI3[['commercial_opening_rate','gross_fixed_capital_formation','business_climate','scoreeasedoingbusiness','buf','invf','finfree','stock_market']] \n",
    "X_train, X_test, y_train, y_test = train_test_split(X,y)"
   ]
  },
  {
   "cell_type": "code",
   "execution_count": 103,
   "id": "ba0580e6",
   "metadata": {},
   "outputs": [],
   "source": [
    "KNN = model_knn.fit(X_train, y_train)"
   ]
  },
  {
   "cell_type": "code",
   "execution_count": 104,
   "id": "aed8e5e2",
   "metadata": {},
   "outputs": [],
   "source": [
    "y_pred = model_knn.predict(X_test)"
   ]
  },
  {
   "cell_type": "code",
   "execution_count": 105,
   "id": "c101a606",
   "metadata": {},
   "outputs": [
    {
     "data": {
      "text/plain": [
       "0.43400252072584566"
      ]
     },
     "execution_count": 105,
     "metadata": {},
     "output_type": "execute_result"
    }
   ],
   "source": [
    "r2_score(y_pred,y_test)"
   ]
  }
 ],
 "metadata": {
  "kernelspec": {
   "display_name": "Python 3 (ipykernel)",
   "language": "python",
   "name": "python3"
  },
  "language_info": {
   "codemirror_mode": {
    "name": "ipython",
    "version": 3
   },
   "file_extension": ".py",
   "mimetype": "text/x-python",
   "name": "python",
   "nbconvert_exporter": "python",
   "pygments_lexer": "ipython3",
   "version": "3.9.7"
  }
 },
 "nbformat": 4,
 "nbformat_minor": 5
}
