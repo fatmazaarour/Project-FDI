{
 "cells": [
  {
   "cell_type": "markdown",
   "id": "30263762",
   "metadata": {},
   "source": [
    "# Loading libraries"
   ]
  },
  {
   "cell_type": "code",
   "execution_count": 59,
   "id": "4e44c50b",
   "metadata": {},
   "outputs": [],
   "source": [
    "import pandas as pd\n",
    "import seaborn as sns\n",
    "import numpy as np\n",
    "from sklearn import linear_model\n",
    "from sklearn.metrics import mean_squared_error, r2_score"
   ]
  },
  {
   "cell_type": "markdown",
   "id": "41e57945",
   "metadata": {},
   "source": [
    "# Importing data"
   ]
  },
  {
   "cell_type": "code",
   "execution_count": 7,
   "id": "9f084ebb",
   "metadata": {},
   "outputs": [],
   "source": [
    "FDI2 = pd.read_excel('FDI2.xlsx')"
   ]
  },
  {
   "cell_type": "markdown",
   "id": "7bd6aaa5",
   "metadata": {},
   "source": [
    "# Exploring data"
   ]
  },
  {
   "cell_type": "code",
   "execution_count": 8,
   "id": "194bcc13",
   "metadata": {},
   "outputs": [
    {
     "data": {
      "text/html": [
       "<div>\n",
       "<style scoped>\n",
       "    .dataframe tbody tr th:only-of-type {\n",
       "        vertical-align: middle;\n",
       "    }\n",
       "\n",
       "    .dataframe tbody tr th {\n",
       "        vertical-align: top;\n",
       "    }\n",
       "\n",
       "    .dataframe thead th {\n",
       "        text-align: right;\n",
       "    }\n",
       "</style>\n",
       "<table border=\"1\" class=\"dataframe\">\n",
       "  <thead>\n",
       "    <tr style=\"text-align: right;\">\n",
       "      <th></th>\n",
       "      <th>payscode</th>\n",
       "      <th>codepays</th>\n",
       "      <th>Année</th>\n",
       "      <th>ide</th>\n",
       "      <th>toc</th>\n",
       "      <th>tcr</th>\n",
       "      <th>fbcf</th>\n",
       "      <th>climatdaffaire</th>\n",
       "      <th>scoreeasedoingbusiness</th>\n",
       "      <th>caff</th>\n",
       "      <th>edb</th>\n",
       "      <th>crp</th>\n",
       "      <th>BUF</th>\n",
       "      <th>invf</th>\n",
       "      <th>finfree</th>\n",
       "      <th>CM</th>\n",
       "    </tr>\n",
       "  </thead>\n",
       "  <tbody>\n",
       "    <tr>\n",
       "      <th>0</th>\n",
       "      <td>BGD</td>\n",
       "      <td>1</td>\n",
       "      <td>2004</td>\n",
       "      <td>4.489054e+08</td>\n",
       "      <td>38953960.63</td>\n",
       "      <td>59.512658</td>\n",
       "      <td>18286460936</td>\n",
       "      <td>47.380000</td>\n",
       "      <td>70.0</td>\n",
       "      <td>63.380000</td>\n",
       "      <td>66.00</td>\n",
       "      <td>0.11</td>\n",
       "      <td>55.0</td>\n",
       "      <td>50.0</td>\n",
       "      <td>70.0</td>\n",
       "      <td>10.671695</td>\n",
       "    </tr>\n",
       "    <tr>\n",
       "      <th>1</th>\n",
       "      <td>BGD</td>\n",
       "      <td>1</td>\n",
       "      <td>2005</td>\n",
       "      <td>7.605043e+08</td>\n",
       "      <td>51935441.53</td>\n",
       "      <td>64.327475</td>\n",
       "      <td>20071885132</td>\n",
       "      <td>42.400000</td>\n",
       "      <td>70.0</td>\n",
       "      <td>70.066667</td>\n",
       "      <td>61.30</td>\n",
       "      <td>0.06</td>\n",
       "      <td>55.0</td>\n",
       "      <td>50.0</td>\n",
       "      <td>70.0</td>\n",
       "      <td>4.751541</td>\n",
       "    </tr>\n",
       "    <tr>\n",
       "      <th>2</th>\n",
       "      <td>BGD</td>\n",
       "      <td>1</td>\n",
       "      <td>2006</td>\n",
       "      <td>4.565232e+08</td>\n",
       "      <td>59714312.41</td>\n",
       "      <td>68.933233</td>\n",
       "      <td>22056583775</td>\n",
       "      <td>50.916667</td>\n",
       "      <td>70.0</td>\n",
       "      <td>72.800000</td>\n",
       "      <td>63.90</td>\n",
       "      <td>-0.07</td>\n",
       "      <td>70.5</td>\n",
       "      <td>70.0</td>\n",
       "      <td>70.0</td>\n",
       "      <td>5.361124</td>\n",
       "    </tr>\n",
       "    <tr>\n",
       "      <th>3</th>\n",
       "      <td>BGD</td>\n",
       "      <td>1</td>\n",
       "      <td>2007</td>\n",
       "      <td>6.510297e+08</td>\n",
       "      <td>64798835.89</td>\n",
       "      <td>68.874875</td>\n",
       "      <td>23632938587</td>\n",
       "      <td>40.266667</td>\n",
       "      <td>70.0</td>\n",
       "      <td>69.450000</td>\n",
       "      <td>65.36</td>\n",
       "      <td>-0.18</td>\n",
       "      <td>70.3</td>\n",
       "      <td>60.0</td>\n",
       "      <td>60.0</td>\n",
       "      <td>10.969166</td>\n",
       "    </tr>\n",
       "    <tr>\n",
       "      <th>4</th>\n",
       "      <td>BGD</td>\n",
       "      <td>1</td>\n",
       "      <td>2008</td>\n",
       "      <td>1.328423e+09</td>\n",
       "      <td>62836842.93</td>\n",
       "      <td>68.598275</td>\n",
       "      <td>25952536543</td>\n",
       "      <td>36.650000</td>\n",
       "      <td>70.0</td>\n",
       "      <td>71.450000</td>\n",
       "      <td>67.00</td>\n",
       "      <td>-0.25</td>\n",
       "      <td>68.4</td>\n",
       "      <td>60.0</td>\n",
       "      <td>60.0</td>\n",
       "      <td>12.791560</td>\n",
       "    </tr>\n",
       "  </tbody>\n",
       "</table>\n",
       "</div>"
      ],
      "text/plain": [
       "  payscode  codepays  Année           ide          toc        tcr  \\\n",
       "0      BGD         1   2004  4.489054e+08  38953960.63  59.512658   \n",
       "1      BGD         1   2005  7.605043e+08  51935441.53  64.327475   \n",
       "2      BGD         1   2006  4.565232e+08  59714312.41  68.933233   \n",
       "3      BGD         1   2007  6.510297e+08  64798835.89  68.874875   \n",
       "4      BGD         1   2008  1.328423e+09  62836842.93  68.598275   \n",
       "\n",
       "          fbcf  climatdaffaire  scoreeasedoingbusiness       caff    edb  \\\n",
       "0  18286460936       47.380000                    70.0  63.380000  66.00   \n",
       "1  20071885132       42.400000                    70.0  70.066667  61.30   \n",
       "2  22056583775       50.916667                    70.0  72.800000  63.90   \n",
       "3  23632938587       40.266667                    70.0  69.450000  65.36   \n",
       "4  25952536543       36.650000                    70.0  71.450000  67.00   \n",
       "\n",
       "    crp   BUF  invf  finfree         CM  \n",
       "0  0.11  55.0  50.0     70.0  10.671695  \n",
       "1  0.06  55.0  50.0     70.0   4.751541  \n",
       "2 -0.07  70.5  70.0     70.0   5.361124  \n",
       "3 -0.18  70.3  60.0     60.0  10.969166  \n",
       "4 -0.25  68.4  60.0     60.0  12.791560  "
      ]
     },
     "execution_count": 8,
     "metadata": {},
     "output_type": "execute_result"
    }
   ],
   "source": [
    "FDI2.head()"
   ]
  },
  {
   "cell_type": "code",
   "execution_count": 9,
   "id": "ff96037d",
   "metadata": {
    "scrolled": true
   },
   "outputs": [
    {
     "data": {
      "text/html": [
       "<div>\n",
       "<style scoped>\n",
       "    .dataframe tbody tr th:only-of-type {\n",
       "        vertical-align: middle;\n",
       "    }\n",
       "\n",
       "    .dataframe tbody tr th {\n",
       "        vertical-align: top;\n",
       "    }\n",
       "\n",
       "    .dataframe thead th {\n",
       "        text-align: right;\n",
       "    }\n",
       "</style>\n",
       "<table border=\"1\" class=\"dataframe\">\n",
       "  <thead>\n",
       "    <tr style=\"text-align: right;\">\n",
       "      <th></th>\n",
       "      <th>payscode</th>\n",
       "      <th>codepays</th>\n",
       "      <th>Année</th>\n",
       "      <th>ide</th>\n",
       "      <th>toc</th>\n",
       "      <th>tcr</th>\n",
       "      <th>fbcf</th>\n",
       "      <th>climatdaffaire</th>\n",
       "      <th>scoreeasedoingbusiness</th>\n",
       "      <th>caff</th>\n",
       "      <th>edb</th>\n",
       "      <th>crp</th>\n",
       "      <th>BUF</th>\n",
       "      <th>invf</th>\n",
       "      <th>finfree</th>\n",
       "      <th>CM</th>\n",
       "    </tr>\n",
       "  </thead>\n",
       "  <tbody>\n",
       "    <tr>\n",
       "      <th>325</th>\n",
       "      <td>TUR</td>\n",
       "      <td>22</td>\n",
       "      <td>2014</td>\n",
       "      <td>1.333700e+10</td>\n",
       "      <td>35361166.84</td>\n",
       "      <td>2.188542</td>\n",
       "      <td>292106000000</td>\n",
       "      <td>68.933333</td>\n",
       "      <td>83.400</td>\n",
       "      <td>NaN</td>\n",
       "      <td>NaN</td>\n",
       "      <td>NaN</td>\n",
       "      <td>NaN</td>\n",
       "      <td>NaN</td>\n",
       "      <td>NaN</td>\n",
       "      <td>23.405529</td>\n",
       "    </tr>\n",
       "    <tr>\n",
       "      <th>326</th>\n",
       "      <td>TUR</td>\n",
       "      <td>22</td>\n",
       "      <td>2015</td>\n",
       "      <td>1.927400e+10</td>\n",
       "      <td>34868314.46</td>\n",
       "      <td>2.720009</td>\n",
       "      <td>319228000000</td>\n",
       "      <td>67.200000</td>\n",
       "      <td>77.500</td>\n",
       "      <td>NaN</td>\n",
       "      <td>NaN</td>\n",
       "      <td>NaN</td>\n",
       "      <td>NaN</td>\n",
       "      <td>NaN</td>\n",
       "      <td>NaN</td>\n",
       "      <td>21.851067</td>\n",
       "    </tr>\n",
       "    <tr>\n",
       "      <th>327</th>\n",
       "      <td>TUR</td>\n",
       "      <td>22</td>\n",
       "      <td>2016</td>\n",
       "      <td>1.395000e+10</td>\n",
       "      <td>34681331.76</td>\n",
       "      <td>3.020135</td>\n",
       "      <td>326401000000</td>\n",
       "      <td>67.483333</td>\n",
       "      <td>73.980</td>\n",
       "      <td>NaN</td>\n",
       "      <td>NaN</td>\n",
       "      <td>NaN</td>\n",
       "      <td>NaN</td>\n",
       "      <td>NaN</td>\n",
       "      <td>NaN</td>\n",
       "      <td>19.750290</td>\n",
       "    </tr>\n",
       "    <tr>\n",
       "      <th>328</th>\n",
       "      <td>TUR</td>\n",
       "      <td>22</td>\n",
       "      <td>2017</td>\n",
       "      <td>1.154600e+10</td>\n",
       "      <td>34774823.11</td>\n",
       "      <td>3.648133</td>\n",
       "      <td>353331000000</td>\n",
       "      <td>66.566667</td>\n",
       "      <td>72.900</td>\n",
       "      <td>NaN</td>\n",
       "      <td>NaN</td>\n",
       "      <td>NaN</td>\n",
       "      <td>NaN</td>\n",
       "      <td>NaN</td>\n",
       "      <td>NaN</td>\n",
       "      <td>26.486011</td>\n",
       "    </tr>\n",
       "    <tr>\n",
       "      <th>329</th>\n",
       "      <td>TUR</td>\n",
       "      <td>22</td>\n",
       "      <td>2018</td>\n",
       "      <td>1.306100e+10</td>\n",
       "      <td>34728077.44</td>\n",
       "      <td>4.828370</td>\n",
       "      <td>351244000000</td>\n",
       "      <td>66.133333</td>\n",
       "      <td>73.875</td>\n",
       "      <td>NaN</td>\n",
       "      <td>NaN</td>\n",
       "      <td>NaN</td>\n",
       "      <td>NaN</td>\n",
       "      <td>NaN</td>\n",
       "      <td>NaN</td>\n",
       "      <td>19.176135</td>\n",
       "    </tr>\n",
       "  </tbody>\n",
       "</table>\n",
       "</div>"
      ],
      "text/plain": [
       "    payscode  codepays  Année           ide          toc       tcr  \\\n",
       "325      TUR        22   2014  1.333700e+10  35361166.84  2.188542   \n",
       "326      TUR        22   2015  1.927400e+10  34868314.46  2.720009   \n",
       "327      TUR        22   2016  1.395000e+10  34681331.76  3.020135   \n",
       "328      TUR        22   2017  1.154600e+10  34774823.11  3.648133   \n",
       "329      TUR        22   2018  1.306100e+10  34728077.44  4.828370   \n",
       "\n",
       "             fbcf  climatdaffaire  scoreeasedoingbusiness  caff  edb  crp  \\\n",
       "325  292106000000       68.933333                  83.400   NaN  NaN  NaN   \n",
       "326  319228000000       67.200000                  77.500   NaN  NaN  NaN   \n",
       "327  326401000000       67.483333                  73.980   NaN  NaN  NaN   \n",
       "328  353331000000       66.566667                  72.900   NaN  NaN  NaN   \n",
       "329  351244000000       66.133333                  73.875   NaN  NaN  NaN   \n",
       "\n",
       "     BUF  invf  finfree         CM  \n",
       "325  NaN   NaN      NaN  23.405529  \n",
       "326  NaN   NaN      NaN  21.851067  \n",
       "327  NaN   NaN      NaN  19.750290  \n",
       "328  NaN   NaN      NaN  26.486011  \n",
       "329  NaN   NaN      NaN  19.176135  "
      ]
     },
     "execution_count": 9,
     "metadata": {},
     "output_type": "execute_result"
    }
   ],
   "source": [
    "FDI2.tail()"
   ]
  },
  {
   "cell_type": "code",
   "execution_count": null,
   "id": "a6ffd33b",
   "metadata": {},
   "outputs": [],
   "source": []
  },
  {
   "cell_type": "markdown",
   "id": "49a89a1e",
   "metadata": {},
   "source": [
    "# rename columns"
   ]
  },
  {
   "cell_type": "code",
   "execution_count": 10,
   "id": "82352976",
   "metadata": {},
   "outputs": [],
   "source": [
    "FDI2.rename(columns = {'payscode': 'id_countries', 'Année': 'year' , 'codepays': 'ID_countries' , 'ide' : 'fdi', 'toc' : 'commercial_opening_rate', 'CM' : 'Stock_Market'}, inplace = True)"
   ]
  },
  {
   "cell_type": "code",
   "execution_count": 11,
   "id": "e712ebd1",
   "metadata": {},
   "outputs": [],
   "source": [
    "FDI2.rename(columns = {'tcr' : 'Exchange_rate' , 'fbcf' : 'gross_fixed_capital_formation' ,  'climatdaffaire' : 'business_climate',   'cm' : 'stock_market'}, inplace = True)"
   ]
  },
  {
   "cell_type": "markdown",
   "id": "ed72e555",
   "metadata": {},
   "source": [
    "# Convert ID_countries and year to string"
   ]
  },
  {
   "cell_type": "code",
   "execution_count": 12,
   "id": "42e6cab9",
   "metadata": {},
   "outputs": [
    {
     "data": {
      "text/plain": [
       "id_countries                      object\n",
       "ID_countries                      string\n",
       "year                               int64\n",
       "fdi                              float64\n",
       "commercial_opening_rate          float64\n",
       "Exchange_rate                    float64\n",
       "gross_fixed_capital_formation      int64\n",
       "business_climate                 float64\n",
       "scoreeasedoingbusiness           float64\n",
       "caff                             float64\n",
       "edb                              float64\n",
       "crp                              float64\n",
       "BUF                              float64\n",
       "invf                             float64\n",
       "finfree                          float64\n",
       "Stock_Market                     float64\n",
       "dtype: object"
      ]
     },
     "execution_count": 12,
     "metadata": {},
     "output_type": "execute_result"
    }
   ],
   "source": [
    "FDI2['ID_countries'] = FDI2['ID_countries'].astype('string')\n",
    "FDI2.dtypes"
   ]
  },
  {
   "cell_type": "code",
   "execution_count": 13,
   "id": "a0722b6f",
   "metadata": {},
   "outputs": [
    {
     "data": {
      "text/plain": [
       "id_countries                      object\n",
       "ID_countries                      string\n",
       "year                              string\n",
       "fdi                              float64\n",
       "commercial_opening_rate          float64\n",
       "Exchange_rate                    float64\n",
       "gross_fixed_capital_formation      int64\n",
       "business_climate                 float64\n",
       "scoreeasedoingbusiness           float64\n",
       "caff                             float64\n",
       "edb                              float64\n",
       "crp                              float64\n",
       "BUF                              float64\n",
       "invf                             float64\n",
       "finfree                          float64\n",
       "Stock_Market                     float64\n",
       "dtype: object"
      ]
     },
     "execution_count": 13,
     "metadata": {},
     "output_type": "execute_result"
    }
   ],
   "source": [
    "FDI2['year'] = FDI2['year'].astype('string')\n",
    "FDI2.dtypes"
   ]
  },
  {
   "cell_type": "markdown",
   "id": "f2ad05cd",
   "metadata": {},
   "source": [
    "# convert year to datetime"
   ]
  },
  {
   "cell_type": "code",
   "execution_count": 14,
   "id": "179ebea0",
   "metadata": {},
   "outputs": [
    {
     "data": {
      "text/plain": [
       "id_countries                             object\n",
       "ID_countries                             string\n",
       "year                             datetime64[ns]\n",
       "fdi                                     float64\n",
       "commercial_opening_rate                 float64\n",
       "Exchange_rate                           float64\n",
       "gross_fixed_capital_formation             int64\n",
       "business_climate                        float64\n",
       "scoreeasedoingbusiness                  float64\n",
       "caff                                    float64\n",
       "edb                                     float64\n",
       "crp                                     float64\n",
       "BUF                                     float64\n",
       "invf                                    float64\n",
       "finfree                                 float64\n",
       "Stock_Market                            float64\n",
       "dtype: object"
      ]
     },
     "execution_count": 14,
     "metadata": {},
     "output_type": "execute_result"
    }
   ],
   "source": [
    "FDI2['year'] = pd.to_datetime(FDI2['year'])\n",
    "FDI2.dtypes"
   ]
  },
  {
   "cell_type": "code",
   "execution_count": 15,
   "id": "8729343b",
   "metadata": {},
   "outputs": [
    {
     "data": {
      "text/html": [
       "<div>\n",
       "<style scoped>\n",
       "    .dataframe tbody tr th:only-of-type {\n",
       "        vertical-align: middle;\n",
       "    }\n",
       "\n",
       "    .dataframe tbody tr th {\n",
       "        vertical-align: top;\n",
       "    }\n",
       "\n",
       "    .dataframe thead th {\n",
       "        text-align: right;\n",
       "    }\n",
       "</style>\n",
       "<table border=\"1\" class=\"dataframe\">\n",
       "  <thead>\n",
       "    <tr style=\"text-align: right;\">\n",
       "      <th></th>\n",
       "      <th>id_countries</th>\n",
       "      <th>ID_countries</th>\n",
       "      <th>year</th>\n",
       "      <th>fdi</th>\n",
       "      <th>commercial_opening_rate</th>\n",
       "      <th>Exchange_rate</th>\n",
       "      <th>gross_fixed_capital_formation</th>\n",
       "      <th>business_climate</th>\n",
       "      <th>scoreeasedoingbusiness</th>\n",
       "      <th>caff</th>\n",
       "      <th>edb</th>\n",
       "      <th>crp</th>\n",
       "      <th>BUF</th>\n",
       "      <th>invf</th>\n",
       "      <th>finfree</th>\n",
       "      <th>Stock_Market</th>\n",
       "    </tr>\n",
       "  </thead>\n",
       "  <tbody>\n",
       "    <tr>\n",
       "      <th>0</th>\n",
       "      <td>BGD</td>\n",
       "      <td>1</td>\n",
       "      <td>2004-01-01</td>\n",
       "      <td>4.489054e+08</td>\n",
       "      <td>38953960.63</td>\n",
       "      <td>59.512658</td>\n",
       "      <td>18286460936</td>\n",
       "      <td>47.380000</td>\n",
       "      <td>70.0</td>\n",
       "      <td>63.380000</td>\n",
       "      <td>66.00</td>\n",
       "      <td>0.11</td>\n",
       "      <td>55.0</td>\n",
       "      <td>50.0</td>\n",
       "      <td>70.0</td>\n",
       "      <td>10.671695</td>\n",
       "    </tr>\n",
       "    <tr>\n",
       "      <th>1</th>\n",
       "      <td>BGD</td>\n",
       "      <td>1</td>\n",
       "      <td>2005-01-01</td>\n",
       "      <td>7.605043e+08</td>\n",
       "      <td>51935441.53</td>\n",
       "      <td>64.327475</td>\n",
       "      <td>20071885132</td>\n",
       "      <td>42.400000</td>\n",
       "      <td>70.0</td>\n",
       "      <td>70.066667</td>\n",
       "      <td>61.30</td>\n",
       "      <td>0.06</td>\n",
       "      <td>55.0</td>\n",
       "      <td>50.0</td>\n",
       "      <td>70.0</td>\n",
       "      <td>4.751541</td>\n",
       "    </tr>\n",
       "    <tr>\n",
       "      <th>2</th>\n",
       "      <td>BGD</td>\n",
       "      <td>1</td>\n",
       "      <td>2006-01-01</td>\n",
       "      <td>4.565232e+08</td>\n",
       "      <td>59714312.41</td>\n",
       "      <td>68.933233</td>\n",
       "      <td>22056583775</td>\n",
       "      <td>50.916667</td>\n",
       "      <td>70.0</td>\n",
       "      <td>72.800000</td>\n",
       "      <td>63.90</td>\n",
       "      <td>-0.07</td>\n",
       "      <td>70.5</td>\n",
       "      <td>70.0</td>\n",
       "      <td>70.0</td>\n",
       "      <td>5.361124</td>\n",
       "    </tr>\n",
       "    <tr>\n",
       "      <th>3</th>\n",
       "      <td>BGD</td>\n",
       "      <td>1</td>\n",
       "      <td>2007-01-01</td>\n",
       "      <td>6.510297e+08</td>\n",
       "      <td>64798835.89</td>\n",
       "      <td>68.874875</td>\n",
       "      <td>23632938587</td>\n",
       "      <td>40.266667</td>\n",
       "      <td>70.0</td>\n",
       "      <td>69.450000</td>\n",
       "      <td>65.36</td>\n",
       "      <td>-0.18</td>\n",
       "      <td>70.3</td>\n",
       "      <td>60.0</td>\n",
       "      <td>60.0</td>\n",
       "      <td>10.969166</td>\n",
       "    </tr>\n",
       "    <tr>\n",
       "      <th>4</th>\n",
       "      <td>BGD</td>\n",
       "      <td>1</td>\n",
       "      <td>2008-01-01</td>\n",
       "      <td>1.328423e+09</td>\n",
       "      <td>62836842.93</td>\n",
       "      <td>68.598275</td>\n",
       "      <td>25952536543</td>\n",
       "      <td>36.650000</td>\n",
       "      <td>70.0</td>\n",
       "      <td>71.450000</td>\n",
       "      <td>67.00</td>\n",
       "      <td>-0.25</td>\n",
       "      <td>68.4</td>\n",
       "      <td>60.0</td>\n",
       "      <td>60.0</td>\n",
       "      <td>12.791560</td>\n",
       "    </tr>\n",
       "  </tbody>\n",
       "</table>\n",
       "</div>"
      ],
      "text/plain": [
       "  id_countries ID_countries       year           fdi  commercial_opening_rate  \\\n",
       "0          BGD            1 2004-01-01  4.489054e+08              38953960.63   \n",
       "1          BGD            1 2005-01-01  7.605043e+08              51935441.53   \n",
       "2          BGD            1 2006-01-01  4.565232e+08              59714312.41   \n",
       "3          BGD            1 2007-01-01  6.510297e+08              64798835.89   \n",
       "4          BGD            1 2008-01-01  1.328423e+09              62836842.93   \n",
       "\n",
       "   Exchange_rate  gross_fixed_capital_formation  business_climate  \\\n",
       "0      59.512658                    18286460936         47.380000   \n",
       "1      64.327475                    20071885132         42.400000   \n",
       "2      68.933233                    22056583775         50.916667   \n",
       "3      68.874875                    23632938587         40.266667   \n",
       "4      68.598275                    25952536543         36.650000   \n",
       "\n",
       "   scoreeasedoingbusiness       caff    edb   crp   BUF  invf  finfree  \\\n",
       "0                    70.0  63.380000  66.00  0.11  55.0  50.0     70.0   \n",
       "1                    70.0  70.066667  61.30  0.06  55.0  50.0     70.0   \n",
       "2                    70.0  72.800000  63.90 -0.07  70.5  70.0     70.0   \n",
       "3                    70.0  69.450000  65.36 -0.18  70.3  60.0     60.0   \n",
       "4                    70.0  71.450000  67.00 -0.25  68.4  60.0     60.0   \n",
       "\n",
       "   Stock_Market  \n",
       "0     10.671695  \n",
       "1      4.751541  \n",
       "2      5.361124  \n",
       "3     10.969166  \n",
       "4     12.791560  "
      ]
     },
     "execution_count": 15,
     "metadata": {},
     "output_type": "execute_result"
    }
   ],
   "source": [
    "FDI2.head()"
   ]
  },
  {
   "cell_type": "markdown",
   "id": "95d1d587",
   "metadata": {},
   "source": [
    "I decided to drop the following columns because of ..."
   ]
  },
  {
   "cell_type": "code",
   "execution_count": 16,
   "id": "d214ff28",
   "metadata": {},
   "outputs": [],
   "source": [
    "FDI3= FDI2.drop(['caff', 'edb', 'crp', 'ID_countries'], axis=1)"
   ]
  },
  {
   "cell_type": "code",
   "execution_count": 17,
   "id": "212fab44",
   "metadata": {},
   "outputs": [
    {
     "data": {
      "text/html": [
       "<div>\n",
       "<style scoped>\n",
       "    .dataframe tbody tr th:only-of-type {\n",
       "        vertical-align: middle;\n",
       "    }\n",
       "\n",
       "    .dataframe tbody tr th {\n",
       "        vertical-align: top;\n",
       "    }\n",
       "\n",
       "    .dataframe thead th {\n",
       "        text-align: right;\n",
       "    }\n",
       "</style>\n",
       "<table border=\"1\" class=\"dataframe\">\n",
       "  <thead>\n",
       "    <tr style=\"text-align: right;\">\n",
       "      <th></th>\n",
       "      <th>id_countries</th>\n",
       "      <th>year</th>\n",
       "      <th>fdi</th>\n",
       "      <th>commercial_opening_rate</th>\n",
       "      <th>Exchange_rate</th>\n",
       "      <th>gross_fixed_capital_formation</th>\n",
       "      <th>business_climate</th>\n",
       "      <th>scoreeasedoingbusiness</th>\n",
       "      <th>BUF</th>\n",
       "      <th>invf</th>\n",
       "      <th>finfree</th>\n",
       "      <th>Stock_Market</th>\n",
       "    </tr>\n",
       "  </thead>\n",
       "  <tbody>\n",
       "    <tr>\n",
       "      <th>0</th>\n",
       "      <td>BGD</td>\n",
       "      <td>2004-01-01</td>\n",
       "      <td>4.489054e+08</td>\n",
       "      <td>38953960.63</td>\n",
       "      <td>59.512658</td>\n",
       "      <td>18286460936</td>\n",
       "      <td>47.380000</td>\n",
       "      <td>70.000</td>\n",
       "      <td>55.0</td>\n",
       "      <td>50.0</td>\n",
       "      <td>70.0</td>\n",
       "      <td>10.671695</td>\n",
       "    </tr>\n",
       "    <tr>\n",
       "      <th>1</th>\n",
       "      <td>BGD</td>\n",
       "      <td>2005-01-01</td>\n",
       "      <td>7.605043e+08</td>\n",
       "      <td>51935441.53</td>\n",
       "      <td>64.327475</td>\n",
       "      <td>20071885132</td>\n",
       "      <td>42.400000</td>\n",
       "      <td>70.000</td>\n",
       "      <td>55.0</td>\n",
       "      <td>50.0</td>\n",
       "      <td>70.0</td>\n",
       "      <td>4.751541</td>\n",
       "    </tr>\n",
       "    <tr>\n",
       "      <th>2</th>\n",
       "      <td>BGD</td>\n",
       "      <td>2006-01-01</td>\n",
       "      <td>4.565232e+08</td>\n",
       "      <td>59714312.41</td>\n",
       "      <td>68.933233</td>\n",
       "      <td>22056583775</td>\n",
       "      <td>50.916667</td>\n",
       "      <td>70.000</td>\n",
       "      <td>70.5</td>\n",
       "      <td>70.0</td>\n",
       "      <td>70.0</td>\n",
       "      <td>5.361124</td>\n",
       "    </tr>\n",
       "    <tr>\n",
       "      <th>3</th>\n",
       "      <td>BGD</td>\n",
       "      <td>2007-01-01</td>\n",
       "      <td>6.510297e+08</td>\n",
       "      <td>64798835.89</td>\n",
       "      <td>68.874875</td>\n",
       "      <td>23632938587</td>\n",
       "      <td>40.266667</td>\n",
       "      <td>70.000</td>\n",
       "      <td>70.3</td>\n",
       "      <td>60.0</td>\n",
       "      <td>60.0</td>\n",
       "      <td>10.969166</td>\n",
       "    </tr>\n",
       "    <tr>\n",
       "      <th>4</th>\n",
       "      <td>BGD</td>\n",
       "      <td>2008-01-01</td>\n",
       "      <td>1.328423e+09</td>\n",
       "      <td>62836842.93</td>\n",
       "      <td>68.598275</td>\n",
       "      <td>25952536543</td>\n",
       "      <td>36.650000</td>\n",
       "      <td>70.000</td>\n",
       "      <td>68.4</td>\n",
       "      <td>60.0</td>\n",
       "      <td>60.0</td>\n",
       "      <td>12.791560</td>\n",
       "    </tr>\n",
       "    <tr>\n",
       "      <th>...</th>\n",
       "      <td>...</td>\n",
       "      <td>...</td>\n",
       "      <td>...</td>\n",
       "      <td>...</td>\n",
       "      <td>...</td>\n",
       "      <td>...</td>\n",
       "      <td>...</td>\n",
       "      <td>...</td>\n",
       "      <td>...</td>\n",
       "      <td>...</td>\n",
       "      <td>...</td>\n",
       "      <td>...</td>\n",
       "    </tr>\n",
       "    <tr>\n",
       "      <th>325</th>\n",
       "      <td>TUR</td>\n",
       "      <td>2014-01-01</td>\n",
       "      <td>1.333700e+10</td>\n",
       "      <td>35361166.84</td>\n",
       "      <td>2.188542</td>\n",
       "      <td>292106000000</td>\n",
       "      <td>68.933333</td>\n",
       "      <td>83.400</td>\n",
       "      <td>NaN</td>\n",
       "      <td>NaN</td>\n",
       "      <td>NaN</td>\n",
       "      <td>23.405529</td>\n",
       "    </tr>\n",
       "    <tr>\n",
       "      <th>326</th>\n",
       "      <td>TUR</td>\n",
       "      <td>2015-01-01</td>\n",
       "      <td>1.927400e+10</td>\n",
       "      <td>34868314.46</td>\n",
       "      <td>2.720009</td>\n",
       "      <td>319228000000</td>\n",
       "      <td>67.200000</td>\n",
       "      <td>77.500</td>\n",
       "      <td>NaN</td>\n",
       "      <td>NaN</td>\n",
       "      <td>NaN</td>\n",
       "      <td>21.851067</td>\n",
       "    </tr>\n",
       "    <tr>\n",
       "      <th>327</th>\n",
       "      <td>TUR</td>\n",
       "      <td>2016-01-01</td>\n",
       "      <td>1.395000e+10</td>\n",
       "      <td>34681331.76</td>\n",
       "      <td>3.020135</td>\n",
       "      <td>326401000000</td>\n",
       "      <td>67.483333</td>\n",
       "      <td>73.980</td>\n",
       "      <td>NaN</td>\n",
       "      <td>NaN</td>\n",
       "      <td>NaN</td>\n",
       "      <td>19.750290</td>\n",
       "    </tr>\n",
       "    <tr>\n",
       "      <th>328</th>\n",
       "      <td>TUR</td>\n",
       "      <td>2017-01-01</td>\n",
       "      <td>1.154600e+10</td>\n",
       "      <td>34774823.11</td>\n",
       "      <td>3.648133</td>\n",
       "      <td>353331000000</td>\n",
       "      <td>66.566667</td>\n",
       "      <td>72.900</td>\n",
       "      <td>NaN</td>\n",
       "      <td>NaN</td>\n",
       "      <td>NaN</td>\n",
       "      <td>26.486011</td>\n",
       "    </tr>\n",
       "    <tr>\n",
       "      <th>329</th>\n",
       "      <td>TUR</td>\n",
       "      <td>2018-01-01</td>\n",
       "      <td>1.306100e+10</td>\n",
       "      <td>34728077.44</td>\n",
       "      <td>4.828370</td>\n",
       "      <td>351244000000</td>\n",
       "      <td>66.133333</td>\n",
       "      <td>73.875</td>\n",
       "      <td>NaN</td>\n",
       "      <td>NaN</td>\n",
       "      <td>NaN</td>\n",
       "      <td>19.176135</td>\n",
       "    </tr>\n",
       "  </tbody>\n",
       "</table>\n",
       "<p>330 rows × 12 columns</p>\n",
       "</div>"
      ],
      "text/plain": [
       "    id_countries       year           fdi  commercial_opening_rate  \\\n",
       "0            BGD 2004-01-01  4.489054e+08              38953960.63   \n",
       "1            BGD 2005-01-01  7.605043e+08              51935441.53   \n",
       "2            BGD 2006-01-01  4.565232e+08              59714312.41   \n",
       "3            BGD 2007-01-01  6.510297e+08              64798835.89   \n",
       "4            BGD 2008-01-01  1.328423e+09              62836842.93   \n",
       "..           ...        ...           ...                      ...   \n",
       "325          TUR 2014-01-01  1.333700e+10              35361166.84   \n",
       "326          TUR 2015-01-01  1.927400e+10              34868314.46   \n",
       "327          TUR 2016-01-01  1.395000e+10              34681331.76   \n",
       "328          TUR 2017-01-01  1.154600e+10              34774823.11   \n",
       "329          TUR 2018-01-01  1.306100e+10              34728077.44   \n",
       "\n",
       "     Exchange_rate  gross_fixed_capital_formation  business_climate  \\\n",
       "0        59.512658                    18286460936         47.380000   \n",
       "1        64.327475                    20071885132         42.400000   \n",
       "2        68.933233                    22056583775         50.916667   \n",
       "3        68.874875                    23632938587         40.266667   \n",
       "4        68.598275                    25952536543         36.650000   \n",
       "..             ...                            ...               ...   \n",
       "325       2.188542                   292106000000         68.933333   \n",
       "326       2.720009                   319228000000         67.200000   \n",
       "327       3.020135                   326401000000         67.483333   \n",
       "328       3.648133                   353331000000         66.566667   \n",
       "329       4.828370                   351244000000         66.133333   \n",
       "\n",
       "     scoreeasedoingbusiness   BUF  invf  finfree  Stock_Market  \n",
       "0                    70.000  55.0  50.0     70.0     10.671695  \n",
       "1                    70.000  55.0  50.0     70.0      4.751541  \n",
       "2                    70.000  70.5  70.0     70.0      5.361124  \n",
       "3                    70.000  70.3  60.0     60.0     10.969166  \n",
       "4                    70.000  68.4  60.0     60.0     12.791560  \n",
       "..                      ...   ...   ...      ...           ...  \n",
       "325                  83.400   NaN   NaN      NaN     23.405529  \n",
       "326                  77.500   NaN   NaN      NaN     21.851067  \n",
       "327                  73.980   NaN   NaN      NaN     19.750290  \n",
       "328                  72.900   NaN   NaN      NaN     26.486011  \n",
       "329                  73.875   NaN   NaN      NaN     19.176135  \n",
       "\n",
       "[330 rows x 12 columns]"
      ]
     },
     "metadata": {},
     "output_type": "display_data"
    }
   ],
   "source": [
    "display (FDI3)"
   ]
  },
  {
   "cell_type": "markdown",
   "id": "2b692b67",
   "metadata": {},
   "source": [
    "# lower case the variables"
   ]
  },
  {
   "cell_type": "code",
   "execution_count": 18,
   "id": "a5b1d4e8",
   "metadata": {},
   "outputs": [
    {
     "data": {
      "text/plain": [
       "Index(['id_countries', 'year', 'fdi', 'commercial_opening_rate',\n",
       "       'exchange_rate', 'gross_fixed_capital_formation', 'business_climate',\n",
       "       'scoreeasedoingbusiness', 'buf', 'invf', 'finfree', 'stock_market'],\n",
       "      dtype='object')"
      ]
     },
     "execution_count": 18,
     "metadata": {},
     "output_type": "execute_result"
    }
   ],
   "source": [
    "FDI3.columns = list(map(lambda x: x.lower(), FDI3.columns))\n",
    "FDI3.columns.unique()"
   ]
  },
  {
   "cell_type": "markdown",
   "id": "c1e488db",
   "metadata": {},
   "source": [
    "# exploring the data afer modification"
   ]
  },
  {
   "cell_type": "code",
   "execution_count": 19,
   "id": "a3756ee1",
   "metadata": {},
   "outputs": [
    {
     "data": {
      "text/plain": [
       "(330, 12)"
      ]
     },
     "execution_count": 19,
     "metadata": {},
     "output_type": "execute_result"
    }
   ],
   "source": [
    "FDI3.shape"
   ]
  },
  {
   "cell_type": "code",
   "execution_count": 20,
   "id": "ecfaa495",
   "metadata": {},
   "outputs": [
    {
     "data": {
      "text/plain": [
       "id_countries                             object\n",
       "year                             datetime64[ns]\n",
       "fdi                                     float64\n",
       "commercial_opening_rate                 float64\n",
       "exchange_rate                           float64\n",
       "gross_fixed_capital_formation             int64\n",
       "business_climate                        float64\n",
       "scoreeasedoingbusiness                  float64\n",
       "buf                                     float64\n",
       "invf                                    float64\n",
       "finfree                                 float64\n",
       "stock_market                            float64\n",
       "dtype: object"
      ]
     },
     "execution_count": 20,
     "metadata": {},
     "output_type": "execute_result"
    }
   ],
   "source": [
    "FDI3.dtypes"
   ]
  },
  {
   "cell_type": "code",
   "execution_count": 21,
   "id": "dca0ce90",
   "metadata": {},
   "outputs": [
    {
     "name": "stdout",
     "output_type": "stream",
     "text": [
      "<class 'pandas.core.frame.DataFrame'>\n",
      "RangeIndex: 330 entries, 0 to 329\n",
      "Data columns (total 12 columns):\n",
      " #   Column                         Non-Null Count  Dtype         \n",
      "---  ------                         --------------  -----         \n",
      " 0   id_countries                   330 non-null    object        \n",
      " 1   year                           330 non-null    datetime64[ns]\n",
      " 2   fdi                            330 non-null    float64       \n",
      " 3   commercial_opening_rate        330 non-null    float64       \n",
      " 4   exchange_rate                  330 non-null    float64       \n",
      " 5   gross_fixed_capital_formation  330 non-null    int64         \n",
      " 6   business_climate               330 non-null    float64       \n",
      " 7   scoreeasedoingbusiness         330 non-null    float64       \n",
      " 8   buf                            165 non-null    float64       \n",
      " 9   invf                           165 non-null    float64       \n",
      " 10  finfree                        165 non-null    float64       \n",
      " 11  stock_market                   330 non-null    float64       \n",
      "dtypes: datetime64[ns](1), float64(9), int64(1), object(1)\n",
      "memory usage: 31.1+ KB\n"
     ]
    }
   ],
   "source": [
    "FDI3.info()"
   ]
  },
  {
   "cell_type": "code",
   "execution_count": 22,
   "id": "49c6f34d",
   "metadata": {},
   "outputs": [
    {
     "data": {
      "text/plain": [
       "[448905400.7,\n",
       " 760504265.8,\n",
       " 456523167.7,\n",
       " 651029738.1,\n",
       " 1328422987.0,\n",
       " 901286583.1,\n",
       " 1232258247.0,\n",
       " 1264725163.0,\n",
       " 1584403460.0,\n",
       " 2602962095.0,\n",
       " 2539190940.0,\n",
       " 2831152765.0,\n",
       " 2332724781.0,\n",
       " 1810395804.0,\n",
       " 2940222420.0,\n",
       " 3072550962.0,\n",
       " 4098122931.0,\n",
       " 7874476255.0,\n",
       " 13875270457.0,\n",
       " 10296720634.0,\n",
       " 3896664559.0,\n",
       " 1842900000.0,\n",
       " 2103810000.0,\n",
       " 1788110000.0,\n",
       " 1989040000.0,\n",
       " 1093600000.0,\n",
       " 2609370000.0,\n",
       " 1562800000.0,\n",
       " 2020340000.0,\n",
       " 1222580000.0,\n",
       " 18181190855.0,\n",
       " 15459981604.0,\n",
       " 19378093068.0,\n",
       " 44579492464.0,\n",
       " 50716402711.0,\n",
       " 31480932200.0,\n",
       " 82389933624.0,\n",
       " 102427000000.0,\n",
       " 92568379495.0,\n",
       " 75211028087.0,\n",
       " 87713987797.0,\n",
       " 60334050668.0,\n",
       " 73377909022.0,\n",
       " 68885072606.0,\n",
       " 78162572753.0,\n",
       " 68117272181.0,\n",
       " 104109000000.0,\n",
       " 124082000000.0,\n",
       " 156249000000.0,\n",
       " 171535000000.0,\n",
       " 131057000000.0,\n",
       " 243703000000.0,\n",
       " 280072000000.0,\n",
       " 241214000000.0,\n",
       " 290928000000.0,\n",
       " 268097000000.0,\n",
       " 242489000000.0,\n",
       " 174750000000.0,\n",
       " 166084000000.0,\n",
       " 203492000000.0,\n",
       " 881851385.0,\n",
       " 1156000000.0,\n",
       " 1841000000.0,\n",
       " 1686736540.0,\n",
       " 2638607034.0,\n",
       " 2746930734.0,\n",
       " 2300369124.0,\n",
       " 2571237025.0,\n",
       " 1500402453.0,\n",
       " 1691886708.0,\n",
       " 1502206171.0,\n",
       " -537792920.9,\n",
       " 1638263954.0,\n",
       " 1200965280.0,\n",
       " 1506316886.0,\n",
       " 1253300000.0,\n",
       " 5375600000.0,\n",
       " 10042800000.0,\n",
       " 11578100000.0,\n",
       " 9494600000.0,\n",
       " 6711600000.0,\n",
       " 6385600000.0,\n",
       " -482700000.0,\n",
       " 2797700000.0,\n",
       " 4192200000.0,\n",
       " 4612200000.0,\n",
       " 6925200000.0,\n",
       " 8106800000.0,\n",
       " 7408700000.0,\n",
       " 6797600000.0,\n",
       " 1896082770.0,\n",
       " 8336257208.0,\n",
       " 4914201435.0,\n",
       " 6928480000.0,\n",
       " 9318453650.0,\n",
       " 4877369178.0,\n",
       " 15292009411.0,\n",
       " 20564938227.0,\n",
       " 21200778608.0,\n",
       " 23281742362.0,\n",
       " 25120732060.0,\n",
       " 19779127977.0,\n",
       " 4541713739.0,\n",
       " 20510310832.0,\n",
       " 19703343215.0,\n",
       " 5429250990.0,\n",
       " 7269407226.0,\n",
       " 20029119267.0,\n",
       " 25227740887.0,\n",
       " 43406277076.0,\n",
       " 35581372930.0,\n",
       " 27396885034.0,\n",
       " 36498654598.0,\n",
       " 23995685014.0,\n",
       " 28153031270.0,\n",
       " 34576643694.0,\n",
       " 44009492130.0,\n",
       " 44458571546.0,\n",
       " 39966091359.0,\n",
       " 42117450737.0,\n",
       " 3037299840.0,\n",
       " 2889191670.0,\n",
       " 2317538500.0,\n",
       " 2017791750.0,\n",
       " 1979988010.0,\n",
       " 2983421910.0,\n",
       " 3648972410.0,\n",
       " 4276718690.0,\n",
       " 4661734400.0,\n",
       " 3049945000.0,\n",
       " 2105494000.0,\n",
       " 2050000000.0,\n",
       " 3372000000.0,\n",
       " 5019000000.0,\n",
       " 3480333000.0,\n",
       " 559365888.0,\n",
       " 637901995.9,\n",
       " 842342788.3,\n",
       " 811902426.3,\n",
       " 1376602630.0,\n",
       " 485164640.1,\n",
       " 185775630.6,\n",
       " 172757165.4,\n",
       " 413333448.1,\n",
       " 544747561.8,\n",
       " 582148741.6,\n",
       " 924977863.7,\n",
       " 927976719.0,\n",
       " 888835228.5,\n",
       " 774620603.1,\n",
       " 46063931.45,\n",
       " 21211685.4,\n",
       " 50674725.18,\n",
       " 729044146.0,\n",
       " 95585680.23,\n",
       " 116257609.0,\n",
       " 178064606.8,\n",
       " 1450474757.0,\n",
       " 1380173662.0,\n",
       " 1118825000.0,\n",
       " 820937598.4,\n",
       " 619724470.5,\n",
       " 393359420.9,\n",
       " 671488392.9,\n",
       " 1625921494.0,\n",
       " 787053819.0,\n",
       " 1619752454.0,\n",
       " 2366000096.0,\n",
       " 2806642141.0,\n",
       " 2466288357.0,\n",
       " 1970323920.0,\n",
       " 1240625859.0,\n",
       " 2521362081.0,\n",
       " 2841954371.0,\n",
       " 3360909924.0,\n",
       " 3525384612.0,\n",
       " 3252913902.0,\n",
       " 2153363905.0,\n",
       " 2680109856.0,\n",
       " 3626012575.0,\n",
       " 24916054094.0,\n",
       " 26018159827.0,\n",
       " 20677861589.0,\n",
       " 33077991459.0,\n",
       " 32224048190.0,\n",
       " 19368616146.0,\n",
       " 20924974772.0,\n",
       " 24726664527.0,\n",
       " 17748634832.0,\n",
       " 47268722927.0,\n",
       " 31769832100.0,\n",
       " 37033334436.0,\n",
       " 35833921205.0,\n",
       " 32945032989.0,\n",
       " 37495592533.0,\n",
       " 4376052632.0,\n",
       " 3924786635.0,\n",
       " 7690731246.0,\n",
       " 9071369835.0,\n",
       " 7572512432.0,\n",
       " 114664434.6,\n",
       " 10885614182.0,\n",
       " 15119371191.0,\n",
       " 8895774251.0,\n",
       " 11296279514.0,\n",
       " 10619431583.0,\n",
       " 9857162112.0,\n",
       " 13470089921.0,\n",
       " 9368469823.0,\n",
       " 8570094243.0,\n",
       " 1874060887.0,\n",
       " 4982533930.0,\n",
       " 4854353979.0,\n",
       " 6036021405.0,\n",
       " 8195499253.0,\n",
       " 8554740717.0,\n",
       " 6026232041.0,\n",
       " 8841113287.0,\n",
       " 7069934205.0,\n",
       " 5562873606.0,\n",
       " 4651465948.0,\n",
       " 3137318700.0,\n",
       " 4445102771.0,\n",
       " 3502999131.0,\n",
       " 1997485165.0,\n",
       " 1118000000.0,\n",
       " 2201000000.0,\n",
       " 4273000000.0,\n",
       " 5590000000.0,\n",
       " 5438000000.0,\n",
       " 2338000000.0,\n",
       " 2022000000.0,\n",
       " 1326000000.0,\n",
       " 859000000.0,\n",
       " 1333000000.0,\n",
       " 1868000000.0,\n",
       " 1621000000.0,\n",
       " 2488000000.0,\n",
       " 3232000000.0,\n",
       " 2354000000.0,\n",
       " 1599038389.0,\n",
       " 2578719365.0,\n",
       " 3466531061.0,\n",
       " 5490961307.0,\n",
       " 6923651285.0,\n",
       " 6430652961.0,\n",
       " 8454627588.0,\n",
       " 7682261109.0,\n",
       " 13622485104.0,\n",
       " 9826002544.0,\n",
       " 3929942910.0,\n",
       " 8313966795.0,\n",
       " 6739051858.0,\n",
       " 6860492819.0,\n",
       " 6487906281.0,\n",
       " 592000000.0,\n",
       " 1664000000.0,\n",
       " 2707414997.0,\n",
       " 2918724841.0,\n",
       " 1340027563.0,\n",
       " 2064620678.0,\n",
       " 1070386940.0,\n",
       " 2007150725.0,\n",
       " 3215415155.0,\n",
       " 3737371740.0,\n",
       " 5739574024.0,\n",
       " 5639155962.0,\n",
       " 8279548275.0,\n",
       " 10256442399.0,\n",
       " 9832332891.0,\n",
       " 6443000000.0,\n",
       " 6498650463.0,\n",
       " 11006614842.0,\n",
       " 10103086514.0,\n",
       " 13667824245.0,\n",
       " 4637684880.0,\n",
       " 3213737652.0,\n",
       " 2370097223.0,\n",
       " 3047569714.0,\n",
       " 3854819398.0,\n",
       " 3869197075.0,\n",
       " 4317731472.0,\n",
       " 6252035766.0,\n",
       " 5952909608.0,\n",
       " 7343560129.0,\n",
       " 5860255943.0,\n",
       " 8215637195.0,\n",
       " 8917470351.0,\n",
       " 8633903441.0,\n",
       " 8561557725.0,\n",
       " 6411458545.0,\n",
       " 14746672920.0,\n",
       " 2473685996.0,\n",
       " 12899036061.0,\n",
       " 15935960663.0,\n",
       " 4975455660.0,\n",
       " 8927579181.0,\n",
       " 2810184390.0,\n",
       " 8045508383.0,\n",
       " 13398678284.0,\n",
       " 592147521.7,\n",
       " 712714847.3,\n",
       " 3239909093.0,\n",
       " 1515345044.0,\n",
       " 2600674976.0,\n",
       " 1525244858.0,\n",
       " 1334497695.0,\n",
       " 432666011.6,\n",
       " 1554269129.0,\n",
       " 1058622582.0,\n",
       " 1024754444.0,\n",
       " 970521888.7,\n",
       " 622569482.2,\n",
       " 810936482.8,\n",
       " 988942901.0,\n",
       " 2785000000.0,\n",
       " 10031000000.0,\n",
       " 20185000000.0,\n",
       " 22047000000.0,\n",
       " 19851000000.0,\n",
       " 8585000000.0,\n",
       " 9099000000.0,\n",
       " 16182000000.0,\n",
       " 13744000000.0,\n",
       " 13563000000.0,\n",
       " 13337000000.0,\n",
       " 19274000000.0,\n",
       " 13950000000.0,\n",
       " 11546000000.0,\n",
       " 13061000000.0]"
      ]
     },
     "execution_count": 22,
     "metadata": {},
     "output_type": "execute_result"
    }
   ],
   "source": [
    "list (FDI3 ['fdi'].unique())"
   ]
  },
  {
   "cell_type": "code",
   "execution_count": 136,
   "id": "d8d12242",
   "metadata": {
    "scrolled": true
   },
   "outputs": [
    {
     "data": {
      "text/plain": [
       "array([ 4.48905401e+08,  7.60504266e+08,  4.56523168e+08,  6.51029738e+08,\n",
       "        1.32842299e+09,  9.01286583e+08,  1.23225825e+09,  1.26472516e+09,\n",
       "        1.58440346e+09,  2.60296210e+09,  2.53919094e+09,  2.83115276e+09,\n",
       "        2.33272478e+09,  1.81039580e+09,  2.94022242e+09,  3.07255096e+09,\n",
       "        4.09812293e+09,  7.87447626e+09,  1.38752705e+10,  1.02967206e+10,\n",
       "        3.89666456e+09,  1.84290000e+09,  2.10381000e+09,  1.78811000e+09,\n",
       "        1.98904000e+09,  1.09360000e+09,  2.60937000e+09,  1.56280000e+09,\n",
       "        2.02034000e+09,  1.22258000e+09,  1.81811909e+10,  1.54599816e+10,\n",
       "        1.93780931e+10,  4.45794925e+10,  5.07164027e+10,  3.14809322e+10,\n",
       "        8.23899336e+10,  1.02427000e+11,  9.25683795e+10,  7.52110281e+10,\n",
       "        8.77139878e+10,  6.03340507e+10,  7.33779090e+10,  6.88850726e+10,\n",
       "        7.81625728e+10,  6.81172722e+10,  1.04109000e+11,  1.24082000e+11,\n",
       "        1.56249000e+11,  1.71535000e+11,  1.31057000e+11,  2.43703000e+11,\n",
       "        2.80072000e+11,  2.41214000e+11,  2.90928000e+11,  2.68097000e+11,\n",
       "        2.42489000e+11,  1.74750000e+11,  1.66084000e+11,  2.03492000e+11,\n",
       "        8.81851385e+08,  1.15600000e+09,  1.84100000e+09,  1.68673654e+09,\n",
       "        2.63860703e+09,  2.74693073e+09,  2.30036912e+09,  2.57123702e+09,\n",
       "        1.50040245e+09,  1.69188671e+09,  1.50220617e+09, -5.37792921e+08,\n",
       "        1.63826395e+09,  1.20096528e+09,  1.50631689e+09,  1.25330000e+09,\n",
       "        5.37560000e+09,  1.00428000e+10,  1.15781000e+10,  9.49460000e+09,\n",
       "        6.71160000e+09,  6.38560000e+09, -4.82700000e+08,  2.79770000e+09,\n",
       "        4.19220000e+09,  4.61220000e+09,  6.92520000e+09,  8.10680000e+09,\n",
       "        7.40870000e+09,  6.79760000e+09,  1.89608277e+09,  8.33625721e+09,\n",
       "        4.91420144e+09,  6.92848000e+09,  9.31845365e+09,  4.87736918e+09,\n",
       "        1.52920094e+10,  2.05649382e+10,  2.12007786e+10,  2.32817424e+10,\n",
       "        2.51207321e+10,  1.97791280e+10,  4.54171374e+09,  2.05103108e+10,\n",
       "        1.97033432e+10,  5.42925099e+09,  7.26940723e+09,  2.00291193e+10,\n",
       "        2.52277409e+10,  4.34062771e+10,  3.55813729e+10,  2.73968850e+10,\n",
       "        3.64986546e+10,  2.39956850e+10,  2.81530313e+10,  3.45766437e+10,\n",
       "        4.40094921e+10,  4.44585715e+10,  3.99660914e+10,  4.21174507e+10,\n",
       "        3.03729984e+09,  2.88919167e+09,  2.31753850e+09,  2.01779175e+09,\n",
       "        1.97998801e+09,  2.98342191e+09,  3.64897241e+09,  4.27671869e+09,\n",
       "        4.66173440e+09,  3.04994500e+09,  2.10549400e+09,  2.05000000e+09,\n",
       "        3.37200000e+09,  5.01900000e+09,  3.48033300e+09,  5.59365888e+08,\n",
       "        6.37901996e+08,  8.42342788e+08,  8.11902426e+08,  1.37660263e+09,\n",
       "        4.85164640e+08,  1.85775631e+08,  1.72757165e+08,  4.13333448e+08,\n",
       "        5.44747562e+08,  5.82148742e+08,  9.24977864e+08,  9.27976719e+08,\n",
       "        8.88835228e+08,  7.74620603e+08,  4.60639315e+07,  2.12116854e+07,\n",
       "        5.06747252e+07,  7.29044146e+08,  9.55856802e+07,  1.16257609e+08,\n",
       "        1.78064607e+08,  1.45047476e+09,  1.38017366e+09,  1.11882500e+09,\n",
       "        8.20937598e+08,  6.19724470e+08,  3.93359421e+08,  6.71488393e+08,\n",
       "        1.62592149e+09,  7.87053819e+08,  1.61975245e+09,  2.36600010e+09,\n",
       "        2.80664214e+09,  2.46628836e+09,  1.97032392e+09,  1.24062586e+09,\n",
       "        2.52136208e+09,  2.84195437e+09,  3.36090992e+09,  3.52538461e+09,\n",
       "        3.25291390e+09,  2.15336390e+09,  2.68010986e+09,  3.62601258e+09,\n",
       "        2.49160541e+10,  2.60181598e+10,  2.06778616e+10,  3.30779915e+10,\n",
       "        3.22240482e+10,  1.93686161e+10,  2.09249748e+10,  2.47266645e+10,\n",
       "        1.77486348e+10,  4.72687229e+10,  3.17698321e+10,  3.70333344e+10,\n",
       "        3.58339212e+10,  3.29450330e+10,  3.74955925e+10,  4.37605263e+09,\n",
       "        3.92478664e+09,  7.69073125e+09,  9.07136984e+09,  7.57251243e+09,\n",
       "        1.14664435e+08,  1.08856142e+10,  1.51193712e+10,  8.89577425e+09,\n",
       "        1.12962795e+10,  1.06194316e+10,  9.85716211e+09,  1.34700899e+10,\n",
       "        9.36846982e+09,  8.57009424e+09,  1.87406089e+09,  4.98253393e+09,\n",
       "        4.85435398e+09,  6.03602140e+09,  8.19549925e+09,  8.55474072e+09,\n",
       "        6.02623204e+09,  8.84111329e+09,  7.06993420e+09,  5.56287361e+09,\n",
       "        4.65146595e+09,  3.13731870e+09,  4.44510277e+09,  3.50299913e+09,\n",
       "        1.99748516e+09,  1.11800000e+09,  2.20100000e+09,  4.27300000e+09,\n",
       "        5.59000000e+09,  5.43800000e+09,  2.33800000e+09,  2.02200000e+09,\n",
       "        1.32600000e+09,  8.59000000e+08,  1.33300000e+09,  1.86800000e+09,\n",
       "        1.62100000e+09,  2.48800000e+09,  3.23200000e+09,  2.35400000e+09,\n",
       "        1.59903839e+09,  2.57871936e+09,  3.46653106e+09,  5.49096131e+09,\n",
       "        6.92365128e+09,  6.43065296e+09,  8.45462759e+09,  7.68226111e+09,\n",
       "        1.36224851e+10,  9.82600254e+09,  3.92994291e+09,  8.31396680e+09,\n",
       "        6.73905186e+09,  6.86049282e+09,  6.48790628e+09,  5.92000000e+08,\n",
       "        1.66400000e+09,  2.70741500e+09,  2.91872484e+09,  1.34002756e+09,\n",
       "        2.06462068e+09,  1.07038694e+09,  2.00715072e+09,  3.21541516e+09,\n",
       "        3.73737174e+09,  5.73957402e+09,  5.63915596e+09,  8.27954828e+09,\n",
       "        1.02564424e+10,  9.83233289e+09,  6.44300000e+09,  6.49865046e+09,\n",
       "        1.10066148e+10,  1.01030865e+10,  1.36678242e+10,  4.63768488e+09,\n",
       "        3.21373765e+09,  2.37009722e+09,  3.04756971e+09,  3.85481940e+09,\n",
       "        3.86919708e+09,  4.31773147e+09,  6.25203577e+09,  5.95290961e+09,\n",
       "        7.34356013e+09,  5.86025594e+09,  8.21563720e+09,  8.91747035e+09,\n",
       "        8.63390344e+09,  8.56155772e+09,  6.41145854e+09,  1.47466729e+10,\n",
       "        2.47368600e+09,  1.28990361e+10,  1.59359607e+10,  4.97545566e+09,\n",
       "        8.92757918e+09,  2.81018439e+09,  8.04550838e+09,  1.33986783e+10,\n",
       "        5.92147522e+08,  7.12714847e+08,  3.23990909e+09,  1.51534504e+09,\n",
       "        2.60067498e+09,  1.52524486e+09,  1.33449770e+09,  4.32666012e+08,\n",
       "        1.55426913e+09,  1.05862258e+09,  1.02475444e+09,  9.70521889e+08,\n",
       "        6.22569482e+08,  8.10936483e+08,  9.88942901e+08,  2.78500000e+09,\n",
       "        1.00310000e+10,  2.01850000e+10,  2.20470000e+10,  1.98510000e+10,\n",
       "        8.58500000e+09,  9.09900000e+09,  1.61820000e+10,  1.37440000e+10,\n",
       "        1.35630000e+10,  1.33370000e+10,  1.92740000e+10,  1.39500000e+10,\n",
       "        1.15460000e+10,  1.30610000e+10])"
      ]
     },
     "execution_count": 136,
     "metadata": {},
     "output_type": "execute_result"
    }
   ],
   "source": [
    "FDI3 ['fdi'].unique()"
   ]
  },
  {
   "cell_type": "markdown",
   "id": "0111a3d2",
   "metadata": {},
   "source": [
    "# cheking missing values"
   ]
  },
  {
   "cell_type": "code",
   "execution_count": 23,
   "id": "840ab5d5",
   "metadata": {},
   "outputs": [
    {
     "data": {
      "text/plain": [
       "330"
      ]
     },
     "execution_count": 23,
     "metadata": {},
     "output_type": "execute_result"
    }
   ],
   "source": [
    "FDI3.shape[0]"
   ]
  },
  {
   "cell_type": "code",
   "execution_count": 24,
   "id": "fd91d2dd",
   "metadata": {},
   "outputs": [
    {
     "data": {
      "text/plain": [
       "id_countries                      0.0\n",
       "year                              0.0\n",
       "fdi                               0.0\n",
       "commercial_opening_rate           0.0\n",
       "exchange_rate                     0.0\n",
       "gross_fixed_capital_formation     0.0\n",
       "business_climate                  0.0\n",
       "scoreeasedoingbusiness            0.0\n",
       "buf                              50.0\n",
       "invf                             50.0\n",
       "finfree                          50.0\n",
       "stock_market                      0.0\n",
       "dtype: float64"
      ]
     },
     "execution_count": 24,
     "metadata": {},
     "output_type": "execute_result"
    }
   ],
   "source": [
    "FDI3.isna().sum()/FDI3.shape[0]*100"
   ]
  },
  {
   "cell_type": "markdown",
   "id": "a799dc07",
   "metadata": {},
   "source": [
    "### Replacing with knn imputer"
   ]
  },
  {
   "cell_type": "code",
   "execution_count": 27,
   "id": "cc69a0f4",
   "metadata": {},
   "outputs": [],
   "source": [
    "from sklearn.impute import KNNImputer\n",
    "imputer = KNNImputer(n_neighbors=3)\n",
    "imputed = imputer.fit_transform(FDI3.drop(columns=['year','id_countries','fdi']))\n",
    "imputed_df = pd.DataFrame(imputed, columns=(FDI3.drop(columns=['year','id_countries','fdi']).columns))\n",
    "FDI3_KNN = pd.concat([imputed_df, FDI3[['year','id_countries','fdi']]], axis = 1)"
   ]
  },
  {
   "cell_type": "code",
   "execution_count": 28,
   "id": "b75d7604",
   "metadata": {},
   "outputs": [
    {
     "data": {
      "text/html": [
       "<div>\n",
       "<style scoped>\n",
       "    .dataframe tbody tr th:only-of-type {\n",
       "        vertical-align: middle;\n",
       "    }\n",
       "\n",
       "    .dataframe tbody tr th {\n",
       "        vertical-align: top;\n",
       "    }\n",
       "\n",
       "    .dataframe thead th {\n",
       "        text-align: right;\n",
       "    }\n",
       "</style>\n",
       "<table border=\"1\" class=\"dataframe\">\n",
       "  <thead>\n",
       "    <tr style=\"text-align: right;\">\n",
       "      <th></th>\n",
       "      <th>commercial_opening_rate</th>\n",
       "      <th>exchange_rate</th>\n",
       "      <th>gross_fixed_capital_formation</th>\n",
       "      <th>business_climate</th>\n",
       "      <th>scoreeasedoingbusiness</th>\n",
       "      <th>buf</th>\n",
       "      <th>invf</th>\n",
       "      <th>finfree</th>\n",
       "      <th>stock_market</th>\n",
       "      <th>year</th>\n",
       "      <th>id_countries</th>\n",
       "      <th>fdi</th>\n",
       "    </tr>\n",
       "  </thead>\n",
       "  <tbody>\n",
       "    <tr>\n",
       "      <th>0</th>\n",
       "      <td>38953960.63</td>\n",
       "      <td>59.512658</td>\n",
       "      <td>1.828646e+10</td>\n",
       "      <td>47.380000</td>\n",
       "      <td>70.000</td>\n",
       "      <td>55.000000</td>\n",
       "      <td>50.000000</td>\n",
       "      <td>70.000000</td>\n",
       "      <td>10.671695</td>\n",
       "      <td>2004-01-01</td>\n",
       "      <td>BGD</td>\n",
       "      <td>4.489054e+08</td>\n",
       "    </tr>\n",
       "    <tr>\n",
       "      <th>1</th>\n",
       "      <td>51935441.53</td>\n",
       "      <td>64.327475</td>\n",
       "      <td>2.007189e+10</td>\n",
       "      <td>42.400000</td>\n",
       "      <td>70.000</td>\n",
       "      <td>55.000000</td>\n",
       "      <td>50.000000</td>\n",
       "      <td>70.000000</td>\n",
       "      <td>4.751541</td>\n",
       "      <td>2005-01-01</td>\n",
       "      <td>BGD</td>\n",
       "      <td>7.605043e+08</td>\n",
       "    </tr>\n",
       "    <tr>\n",
       "      <th>2</th>\n",
       "      <td>59714312.41</td>\n",
       "      <td>68.933233</td>\n",
       "      <td>2.205658e+10</td>\n",
       "      <td>50.916667</td>\n",
       "      <td>70.000</td>\n",
       "      <td>70.500000</td>\n",
       "      <td>70.000000</td>\n",
       "      <td>70.000000</td>\n",
       "      <td>5.361124</td>\n",
       "      <td>2006-01-01</td>\n",
       "      <td>BGD</td>\n",
       "      <td>4.565232e+08</td>\n",
       "    </tr>\n",
       "    <tr>\n",
       "      <th>3</th>\n",
       "      <td>64798835.89</td>\n",
       "      <td>68.874875</td>\n",
       "      <td>2.363294e+10</td>\n",
       "      <td>40.266667</td>\n",
       "      <td>70.000</td>\n",
       "      <td>70.300000</td>\n",
       "      <td>60.000000</td>\n",
       "      <td>60.000000</td>\n",
       "      <td>10.969166</td>\n",
       "      <td>2007-01-01</td>\n",
       "      <td>BGD</td>\n",
       "      <td>6.510297e+08</td>\n",
       "    </tr>\n",
       "    <tr>\n",
       "      <th>4</th>\n",
       "      <td>62836842.93</td>\n",
       "      <td>68.598275</td>\n",
       "      <td>2.595254e+10</td>\n",
       "      <td>36.650000</td>\n",
       "      <td>70.000</td>\n",
       "      <td>68.400000</td>\n",
       "      <td>60.000000</td>\n",
       "      <td>60.000000</td>\n",
       "      <td>12.791560</td>\n",
       "      <td>2008-01-01</td>\n",
       "      <td>BGD</td>\n",
       "      <td>1.328423e+09</td>\n",
       "    </tr>\n",
       "    <tr>\n",
       "      <th>...</th>\n",
       "      <td>...</td>\n",
       "      <td>...</td>\n",
       "      <td>...</td>\n",
       "      <td>...</td>\n",
       "      <td>...</td>\n",
       "      <td>...</td>\n",
       "      <td>...</td>\n",
       "      <td>...</td>\n",
       "      <td>...</td>\n",
       "      <td>...</td>\n",
       "      <td>...</td>\n",
       "      <td>...</td>\n",
       "    </tr>\n",
       "    <tr>\n",
       "      <th>325</th>\n",
       "      <td>35361166.84</td>\n",
       "      <td>2.188542</td>\n",
       "      <td>2.921060e+11</td>\n",
       "      <td>68.933333</td>\n",
       "      <td>83.400</td>\n",
       "      <td>63.800000</td>\n",
       "      <td>56.666667</td>\n",
       "      <td>53.333333</td>\n",
       "      <td>23.405529</td>\n",
       "      <td>2014-01-01</td>\n",
       "      <td>TUR</td>\n",
       "      <td>1.333700e+10</td>\n",
       "    </tr>\n",
       "    <tr>\n",
       "      <th>326</th>\n",
       "      <td>34868314.46</td>\n",
       "      <td>2.720009</td>\n",
       "      <td>3.192280e+11</td>\n",
       "      <td>67.200000</td>\n",
       "      <td>77.500</td>\n",
       "      <td>63.800000</td>\n",
       "      <td>56.666667</td>\n",
       "      <td>50.000000</td>\n",
       "      <td>21.851067</td>\n",
       "      <td>2015-01-01</td>\n",
       "      <td>TUR</td>\n",
       "      <td>1.927400e+10</td>\n",
       "    </tr>\n",
       "    <tr>\n",
       "      <th>327</th>\n",
       "      <td>34681331.76</td>\n",
       "      <td>3.020135</td>\n",
       "      <td>3.264010e+11</td>\n",
       "      <td>67.483333</td>\n",
       "      <td>73.980</td>\n",
       "      <td>65.733333</td>\n",
       "      <td>70.000000</td>\n",
       "      <td>63.333333</td>\n",
       "      <td>19.750290</td>\n",
       "      <td>2016-01-01</td>\n",
       "      <td>TUR</td>\n",
       "      <td>1.395000e+10</td>\n",
       "    </tr>\n",
       "    <tr>\n",
       "      <th>328</th>\n",
       "      <td>34774823.11</td>\n",
       "      <td>3.648133</td>\n",
       "      <td>3.533310e+11</td>\n",
       "      <td>66.566667</td>\n",
       "      <td>72.900</td>\n",
       "      <td>57.166667</td>\n",
       "      <td>40.000000</td>\n",
       "      <td>36.666667</td>\n",
       "      <td>26.486011</td>\n",
       "      <td>2017-01-01</td>\n",
       "      <td>TUR</td>\n",
       "      <td>1.154600e+10</td>\n",
       "    </tr>\n",
       "    <tr>\n",
       "      <th>329</th>\n",
       "      <td>34728077.44</td>\n",
       "      <td>4.828370</td>\n",
       "      <td>3.512440e+11</td>\n",
       "      <td>66.133333</td>\n",
       "      <td>73.875</td>\n",
       "      <td>57.533333</td>\n",
       "      <td>56.666667</td>\n",
       "      <td>53.333333</td>\n",
       "      <td>19.176135</td>\n",
       "      <td>2018-01-01</td>\n",
       "      <td>TUR</td>\n",
       "      <td>1.306100e+10</td>\n",
       "    </tr>\n",
       "  </tbody>\n",
       "</table>\n",
       "<p>330 rows × 12 columns</p>\n",
       "</div>"
      ],
      "text/plain": [
       "     commercial_opening_rate  exchange_rate  gross_fixed_capital_formation  \\\n",
       "0                38953960.63      59.512658                   1.828646e+10   \n",
       "1                51935441.53      64.327475                   2.007189e+10   \n",
       "2                59714312.41      68.933233                   2.205658e+10   \n",
       "3                64798835.89      68.874875                   2.363294e+10   \n",
       "4                62836842.93      68.598275                   2.595254e+10   \n",
       "..                       ...            ...                            ...   \n",
       "325              35361166.84       2.188542                   2.921060e+11   \n",
       "326              34868314.46       2.720009                   3.192280e+11   \n",
       "327              34681331.76       3.020135                   3.264010e+11   \n",
       "328              34774823.11       3.648133                   3.533310e+11   \n",
       "329              34728077.44       4.828370                   3.512440e+11   \n",
       "\n",
       "     business_climate  scoreeasedoingbusiness        buf       invf  \\\n",
       "0           47.380000                  70.000  55.000000  50.000000   \n",
       "1           42.400000                  70.000  55.000000  50.000000   \n",
       "2           50.916667                  70.000  70.500000  70.000000   \n",
       "3           40.266667                  70.000  70.300000  60.000000   \n",
       "4           36.650000                  70.000  68.400000  60.000000   \n",
       "..                ...                     ...        ...        ...   \n",
       "325         68.933333                  83.400  63.800000  56.666667   \n",
       "326         67.200000                  77.500  63.800000  56.666667   \n",
       "327         67.483333                  73.980  65.733333  70.000000   \n",
       "328         66.566667                  72.900  57.166667  40.000000   \n",
       "329         66.133333                  73.875  57.533333  56.666667   \n",
       "\n",
       "       finfree  stock_market       year id_countries           fdi  \n",
       "0    70.000000     10.671695 2004-01-01          BGD  4.489054e+08  \n",
       "1    70.000000      4.751541 2005-01-01          BGD  7.605043e+08  \n",
       "2    70.000000      5.361124 2006-01-01          BGD  4.565232e+08  \n",
       "3    60.000000     10.969166 2007-01-01          BGD  6.510297e+08  \n",
       "4    60.000000     12.791560 2008-01-01          BGD  1.328423e+09  \n",
       "..         ...           ...        ...          ...           ...  \n",
       "325  53.333333     23.405529 2014-01-01          TUR  1.333700e+10  \n",
       "326  50.000000     21.851067 2015-01-01          TUR  1.927400e+10  \n",
       "327  63.333333     19.750290 2016-01-01          TUR  1.395000e+10  \n",
       "328  36.666667     26.486011 2017-01-01          TUR  1.154600e+10  \n",
       "329  53.333333     19.176135 2018-01-01          TUR  1.306100e+10  \n",
       "\n",
       "[330 rows x 12 columns]"
      ]
     },
     "execution_count": 28,
     "metadata": {},
     "output_type": "execute_result"
    }
   ],
   "source": [
    "FDI3_KNN"
   ]
  },
  {
   "cell_type": "markdown",
   "id": "98807688",
   "metadata": {},
   "source": [
    "# Replacing the NAN values by the median \n"
   ]
  },
  {
   "cell_type": "code",
   "execution_count": 140,
   "id": "181d46bd",
   "metadata": {},
   "outputs": [],
   "source": [
    "# FDI3[(FDI3['buf'].isna() == True) & (FDI3['invf'].isna()==True) & (FDI3['finfree'].isna()==True)]\n",
    "# display (FDI3)"
   ]
  },
  {
   "cell_type": "code",
   "execution_count": 141,
   "id": "6bcc100e",
   "metadata": {},
   "outputs": [],
   "source": [
    "# FDI3['buf'].fillna(FDI3['buf'].median(), inplace=True)"
   ]
  },
  {
   "cell_type": "code",
   "execution_count": 142,
   "id": "972866d1",
   "metadata": {},
   "outputs": [],
   "source": [
    "# display(FDI3)"
   ]
  },
  {
   "cell_type": "code",
   "execution_count": 143,
   "id": "59f31667",
   "metadata": {},
   "outputs": [],
   "source": [
    "# FDI3['invf'].fillna(FDI3['invf'].median(), inplace=True)"
   ]
  },
  {
   "cell_type": "code",
   "execution_count": 144,
   "id": "c552b368",
   "metadata": {},
   "outputs": [],
   "source": [
    "# FDI3['finfree'].fillna(FDI3['finfree'].median(), inplace=True)"
   ]
  },
  {
   "cell_type": "markdown",
   "id": "82e0551e",
   "metadata": {},
   "source": [
    "# Check again the missing values"
   ]
  },
  {
   "cell_type": "code",
   "execution_count": 29,
   "id": "50db1b22",
   "metadata": {},
   "outputs": [
    {
     "data": {
      "text/plain": [
       "commercial_opening_rate          0\n",
       "exchange_rate                    0\n",
       "gross_fixed_capital_formation    0\n",
       "business_climate                 0\n",
       "scoreeasedoingbusiness           0\n",
       "buf                              0\n",
       "invf                             0\n",
       "finfree                          0\n",
       "stock_market                     0\n",
       "year                             0\n",
       "id_countries                     0\n",
       "fdi                              0\n",
       "dtype: int64"
      ]
     },
     "execution_count": 29,
     "metadata": {},
     "output_type": "execute_result"
    }
   ],
   "source": [
    "FDI3_KNN.isna().sum()"
   ]
  },
  {
   "cell_type": "markdown",
   "id": "e5180ed4",
   "metadata": {},
   "source": [
    "we have here a clean data"
   ]
  },
  {
   "cell_type": "markdown",
   "id": "58f64e47",
   "metadata": {},
   "source": [
    "# describing the data"
   ]
  },
  {
   "cell_type": "code",
   "execution_count": 30,
   "id": "ecbe2599",
   "metadata": {},
   "outputs": [
    {
     "data": {
      "text/html": [
       "<div>\n",
       "<style scoped>\n",
       "    .dataframe tbody tr th:only-of-type {\n",
       "        vertical-align: middle;\n",
       "    }\n",
       "\n",
       "    .dataframe tbody tr th {\n",
       "        vertical-align: top;\n",
       "    }\n",
       "\n",
       "    .dataframe thead th {\n",
       "        text-align: right;\n",
       "    }\n",
       "</style>\n",
       "<table border=\"1\" class=\"dataframe\">\n",
       "  <thead>\n",
       "    <tr style=\"text-align: right;\">\n",
       "      <th></th>\n",
       "      <th>count</th>\n",
       "      <th>mean</th>\n",
       "      <th>std</th>\n",
       "      <th>min</th>\n",
       "      <th>25%</th>\n",
       "      <th>50%</th>\n",
       "      <th>75%</th>\n",
       "      <th>max</th>\n",
       "    </tr>\n",
       "  </thead>\n",
       "  <tbody>\n",
       "    <tr>\n",
       "      <th>commercial_opening_rate</th>\n",
       "      <td>330.0</td>\n",
       "      <td>6.454303e+07</td>\n",
       "      <td>1.170231e+08</td>\n",
       "      <td>-6.412492e-01</td>\n",
       "      <td>1.577948e+07</td>\n",
       "      <td>3.510331e+07</td>\n",
       "      <td>6.330626e+07</td>\n",
       "      <td>7.038409e+08</td>\n",
       "    </tr>\n",
       "    <tr>\n",
       "      <th>exchange_rate</th>\n",
       "      <td>330.0</td>\n",
       "      <td>1.331637e+03</td>\n",
       "      <td>4.823952e+03</td>\n",
       "      <td>1.232142e+00</td>\n",
       "      <td>3.329896e+00</td>\n",
       "      <td>2.486804e+01</td>\n",
       "      <td>7.921833e+01</td>\n",
       "      <td>4.086433e+04</td>\n",
       "    </tr>\n",
       "    <tr>\n",
       "      <th>gross_fixed_capital_formation</th>\n",
       "      <td>330.0</td>\n",
       "      <td>2.416401e+11</td>\n",
       "      <td>6.508859e+11</td>\n",
       "      <td>2.625409e+09</td>\n",
       "      <td>2.613547e+10</td>\n",
       "      <td>5.002675e+10</td>\n",
       "      <td>1.882652e+11</td>\n",
       "      <td>4.414250e+12</td>\n",
       "    </tr>\n",
       "    <tr>\n",
       "      <th>business_climate</th>\n",
       "      <td>330.0</td>\n",
       "      <td>5.992981e+01</td>\n",
       "      <td>8.639142e+00</td>\n",
       "      <td>3.378333e+01</td>\n",
       "      <td>5.419167e+01</td>\n",
       "      <td>5.926667e+01</td>\n",
       "      <td>6.659167e+01</td>\n",
       "      <td>7.495000e+01</td>\n",
       "    </tr>\n",
       "    <tr>\n",
       "      <th>scoreeasedoingbusiness</th>\n",
       "      <td>330.0</td>\n",
       "      <td>6.275875e+01</td>\n",
       "      <td>1.065464e+01</td>\n",
       "      <td>2.610000e+01</td>\n",
       "      <td>5.577375e+01</td>\n",
       "      <td>6.330000e+01</td>\n",
       "      <td>7.081500e+01</td>\n",
       "      <td>8.610000e+01</td>\n",
       "    </tr>\n",
       "    <tr>\n",
       "      <th>buf</th>\n",
       "      <td>330.0</td>\n",
       "      <td>6.837566e+01</td>\n",
       "      <td>9.082720e+00</td>\n",
       "      <td>4.000000e+01</td>\n",
       "      <td>6.283333e+01</td>\n",
       "      <td>6.873333e+01</td>\n",
       "      <td>7.379167e+01</td>\n",
       "      <td>8.780000e+01</td>\n",
       "    </tr>\n",
       "    <tr>\n",
       "      <th>invf</th>\n",
       "      <td>330.0</td>\n",
       "      <td>5.115657e+01</td>\n",
       "      <td>2.180826e+01</td>\n",
       "      <td>0.000000e+00</td>\n",
       "      <td>4.666667e+01</td>\n",
       "      <td>5.333333e+01</td>\n",
       "      <td>6.666667e+01</td>\n",
       "      <td>9.000000e+01</td>\n",
       "    </tr>\n",
       "    <tr>\n",
       "      <th>finfree</th>\n",
       "      <td>330.0</td>\n",
       "      <td>4.773737e+01</td>\n",
       "      <td>1.707598e+01</td>\n",
       "      <td>1.000000e+01</td>\n",
       "      <td>4.000000e+01</td>\n",
       "      <td>5.000000e+01</td>\n",
       "      <td>6.000000e+01</td>\n",
       "      <td>7.000000e+01</td>\n",
       "    </tr>\n",
       "    <tr>\n",
       "      <th>stock_market</th>\n",
       "      <td>330.0</td>\n",
       "      <td>4.147970e+01</td>\n",
       "      <td>3.298583e+01</td>\n",
       "      <td>5.339774e-02</td>\n",
       "      <td>1.847838e+01</td>\n",
       "      <td>3.291624e+01</td>\n",
       "      <td>5.383899e+01</td>\n",
       "      <td>1.680671e+02</td>\n",
       "    </tr>\n",
       "    <tr>\n",
       "      <th>fdi</th>\n",
       "      <td>330.0</td>\n",
       "      <td>1.828205e+10</td>\n",
       "      <td>4.312849e+10</td>\n",
       "      <td>-5.377929e+08</td>\n",
       "      <td>1.818047e+09</td>\n",
       "      <td>4.576957e+09</td>\n",
       "      <td>1.326800e+10</td>\n",
       "      <td>2.909280e+11</td>\n",
       "    </tr>\n",
       "  </tbody>\n",
       "</table>\n",
       "</div>"
      ],
      "text/plain": [
       "                               count          mean           std  \\\n",
       "commercial_opening_rate        330.0  6.454303e+07  1.170231e+08   \n",
       "exchange_rate                  330.0  1.331637e+03  4.823952e+03   \n",
       "gross_fixed_capital_formation  330.0  2.416401e+11  6.508859e+11   \n",
       "business_climate               330.0  5.992981e+01  8.639142e+00   \n",
       "scoreeasedoingbusiness         330.0  6.275875e+01  1.065464e+01   \n",
       "buf                            330.0  6.837566e+01  9.082720e+00   \n",
       "invf                           330.0  5.115657e+01  2.180826e+01   \n",
       "finfree                        330.0  4.773737e+01  1.707598e+01   \n",
       "stock_market                   330.0  4.147970e+01  3.298583e+01   \n",
       "fdi                            330.0  1.828205e+10  4.312849e+10   \n",
       "\n",
       "                                        min           25%           50%  \\\n",
       "commercial_opening_rate       -6.412492e-01  1.577948e+07  3.510331e+07   \n",
       "exchange_rate                  1.232142e+00  3.329896e+00  2.486804e+01   \n",
       "gross_fixed_capital_formation  2.625409e+09  2.613547e+10  5.002675e+10   \n",
       "business_climate               3.378333e+01  5.419167e+01  5.926667e+01   \n",
       "scoreeasedoingbusiness         2.610000e+01  5.577375e+01  6.330000e+01   \n",
       "buf                            4.000000e+01  6.283333e+01  6.873333e+01   \n",
       "invf                           0.000000e+00  4.666667e+01  5.333333e+01   \n",
       "finfree                        1.000000e+01  4.000000e+01  5.000000e+01   \n",
       "stock_market                   5.339774e-02  1.847838e+01  3.291624e+01   \n",
       "fdi                           -5.377929e+08  1.818047e+09  4.576957e+09   \n",
       "\n",
       "                                        75%           max  \n",
       "commercial_opening_rate        6.330626e+07  7.038409e+08  \n",
       "exchange_rate                  7.921833e+01  4.086433e+04  \n",
       "gross_fixed_capital_formation  1.882652e+11  4.414250e+12  \n",
       "business_climate               6.659167e+01  7.495000e+01  \n",
       "scoreeasedoingbusiness         7.081500e+01  8.610000e+01  \n",
       "buf                            7.379167e+01  8.780000e+01  \n",
       "invf                           6.666667e+01  9.000000e+01  \n",
       "finfree                        6.000000e+01  7.000000e+01  \n",
       "stock_market                   5.383899e+01  1.680671e+02  \n",
       "fdi                            1.326800e+10  2.909280e+11  "
      ]
     },
     "execution_count": 30,
     "metadata": {},
     "output_type": "execute_result"
    }
   ],
   "source": [
    "FDI3_KNN.describe().T"
   ]
  },
  {
   "cell_type": "markdown",
   "id": "324b2590",
   "metadata": {},
   "source": [
    "# number and object"
   ]
  },
  {
   "cell_type": "code",
   "execution_count": 31,
   "id": "7c085e3a",
   "metadata": {},
   "outputs": [
    {
     "data": {
      "text/html": [
       "<div>\n",
       "<style scoped>\n",
       "    .dataframe tbody tr th:only-of-type {\n",
       "        vertical-align: middle;\n",
       "    }\n",
       "\n",
       "    .dataframe tbody tr th {\n",
       "        vertical-align: top;\n",
       "    }\n",
       "\n",
       "    .dataframe thead th {\n",
       "        text-align: right;\n",
       "    }\n",
       "</style>\n",
       "<table border=\"1\" class=\"dataframe\">\n",
       "  <thead>\n",
       "    <tr style=\"text-align: right;\">\n",
       "      <th></th>\n",
       "      <th>commercial_opening_rate</th>\n",
       "      <th>exchange_rate</th>\n",
       "      <th>gross_fixed_capital_formation</th>\n",
       "      <th>business_climate</th>\n",
       "      <th>scoreeasedoingbusiness</th>\n",
       "      <th>buf</th>\n",
       "      <th>invf</th>\n",
       "      <th>finfree</th>\n",
       "      <th>stock_market</th>\n",
       "      <th>fdi</th>\n",
       "    </tr>\n",
       "  </thead>\n",
       "  <tbody>\n",
       "    <tr>\n",
       "      <th>0</th>\n",
       "      <td>38953960.63</td>\n",
       "      <td>59.512658</td>\n",
       "      <td>1.828646e+10</td>\n",
       "      <td>47.380000</td>\n",
       "      <td>70.0</td>\n",
       "      <td>55.0</td>\n",
       "      <td>50.0</td>\n",
       "      <td>70.0</td>\n",
       "      <td>10.671695</td>\n",
       "      <td>4.489054e+08</td>\n",
       "    </tr>\n",
       "    <tr>\n",
       "      <th>1</th>\n",
       "      <td>51935441.53</td>\n",
       "      <td>64.327475</td>\n",
       "      <td>2.007189e+10</td>\n",
       "      <td>42.400000</td>\n",
       "      <td>70.0</td>\n",
       "      <td>55.0</td>\n",
       "      <td>50.0</td>\n",
       "      <td>70.0</td>\n",
       "      <td>4.751541</td>\n",
       "      <td>7.605043e+08</td>\n",
       "    </tr>\n",
       "    <tr>\n",
       "      <th>2</th>\n",
       "      <td>59714312.41</td>\n",
       "      <td>68.933233</td>\n",
       "      <td>2.205658e+10</td>\n",
       "      <td>50.916667</td>\n",
       "      <td>70.0</td>\n",
       "      <td>70.5</td>\n",
       "      <td>70.0</td>\n",
       "      <td>70.0</td>\n",
       "      <td>5.361124</td>\n",
       "      <td>4.565232e+08</td>\n",
       "    </tr>\n",
       "    <tr>\n",
       "      <th>3</th>\n",
       "      <td>64798835.89</td>\n",
       "      <td>68.874875</td>\n",
       "      <td>2.363294e+10</td>\n",
       "      <td>40.266667</td>\n",
       "      <td>70.0</td>\n",
       "      <td>70.3</td>\n",
       "      <td>60.0</td>\n",
       "      <td>60.0</td>\n",
       "      <td>10.969166</td>\n",
       "      <td>6.510297e+08</td>\n",
       "    </tr>\n",
       "    <tr>\n",
       "      <th>4</th>\n",
       "      <td>62836842.93</td>\n",
       "      <td>68.598275</td>\n",
       "      <td>2.595254e+10</td>\n",
       "      <td>36.650000</td>\n",
       "      <td>70.0</td>\n",
       "      <td>68.4</td>\n",
       "      <td>60.0</td>\n",
       "      <td>60.0</td>\n",
       "      <td>12.791560</td>\n",
       "      <td>1.328423e+09</td>\n",
       "    </tr>\n",
       "  </tbody>\n",
       "</table>\n",
       "</div>"
      ],
      "text/plain": [
       "   commercial_opening_rate  exchange_rate  gross_fixed_capital_formation  \\\n",
       "0              38953960.63      59.512658                   1.828646e+10   \n",
       "1              51935441.53      64.327475                   2.007189e+10   \n",
       "2              59714312.41      68.933233                   2.205658e+10   \n",
       "3              64798835.89      68.874875                   2.363294e+10   \n",
       "4              62836842.93      68.598275                   2.595254e+10   \n",
       "\n",
       "   business_climate  scoreeasedoingbusiness   buf  invf  finfree  \\\n",
       "0         47.380000                    70.0  55.0  50.0     70.0   \n",
       "1         42.400000                    70.0  55.0  50.0     70.0   \n",
       "2         50.916667                    70.0  70.5  70.0     70.0   \n",
       "3         40.266667                    70.0  70.3  60.0     60.0   \n",
       "4         36.650000                    70.0  68.4  60.0     60.0   \n",
       "\n",
       "   stock_market           fdi  \n",
       "0     10.671695  4.489054e+08  \n",
       "1      4.751541  7.605043e+08  \n",
       "2      5.361124  4.565232e+08  \n",
       "3     10.969166  6.510297e+08  \n",
       "4     12.791560  1.328423e+09  "
      ]
     },
     "metadata": {},
     "output_type": "display_data"
    },
    {
     "data": {
      "text/html": [
       "<div>\n",
       "<style scoped>\n",
       "    .dataframe tbody tr th:only-of-type {\n",
       "        vertical-align: middle;\n",
       "    }\n",
       "\n",
       "    .dataframe tbody tr th {\n",
       "        vertical-align: top;\n",
       "    }\n",
       "\n",
       "    .dataframe thead th {\n",
       "        text-align: right;\n",
       "    }\n",
       "</style>\n",
       "<table border=\"1\" class=\"dataframe\">\n",
       "  <thead>\n",
       "    <tr style=\"text-align: right;\">\n",
       "      <th></th>\n",
       "      <th>id_countries</th>\n",
       "    </tr>\n",
       "  </thead>\n",
       "  <tbody>\n",
       "    <tr>\n",
       "      <th>0</th>\n",
       "      <td>BGD</td>\n",
       "    </tr>\n",
       "    <tr>\n",
       "      <th>1</th>\n",
       "      <td>BGD</td>\n",
       "    </tr>\n",
       "    <tr>\n",
       "      <th>2</th>\n",
       "      <td>BGD</td>\n",
       "    </tr>\n",
       "    <tr>\n",
       "      <th>3</th>\n",
       "      <td>BGD</td>\n",
       "    </tr>\n",
       "    <tr>\n",
       "      <th>4</th>\n",
       "      <td>BGD</td>\n",
       "    </tr>\n",
       "  </tbody>\n",
       "</table>\n",
       "</div>"
      ],
      "text/plain": [
       "  id_countries\n",
       "0          BGD\n",
       "1          BGD\n",
       "2          BGD\n",
       "3          BGD\n",
       "4          BGD"
      ]
     },
     "metadata": {},
     "output_type": "display_data"
    }
   ],
   "source": [
    "numericals = FDI3_KNN.select_dtypes(np.number)\n",
    "display(numericals.head())\n",
    "categoricals = FDI3_KNN.select_dtypes(object)\n",
    "display(categoricals.head())"
   ]
  },
  {
   "cell_type": "markdown",
   "id": "9e5d1b25",
   "metadata": {},
   "source": [
    "# Use seaborn library to construct distribution plots for the numerical variables"
   ]
  },
  {
   "cell_type": "code",
   "execution_count": 108,
   "id": "2010ae99",
   "metadata": {
    "scrolled": false
   },
   "outputs": [
    {
     "name": "stderr",
     "output_type": "stream",
     "text": [
      "C:\\Users\\NON\\anaconda3\\lib\\site-packages\\seaborn\\distributions.py:2619: FutureWarning: `distplot` is a deprecated function and will be removed in a future version. Please adapt your code to use either `displot` (a figure-level function with similar flexibility) or `histplot` (an axes-level function for histograms).\n",
      "  warnings.warn(msg, FutureWarning)\n"
     ]
    },
    {
     "data": {
      "image/png": "[encoded data removed]",
      "text/plain": [
       "<Figure size 432x288 with 1 Axes>"
      ]
     },
     "metadata": {
      "needs_background": "light"
     },
     "output_type": "display_data"
    },
    {
     "name": "stderr",
     "output_type": "stream",
     "text": [
      "C:\\Users\\NON\\anaconda3\\lib\\site-packages\\seaborn\\distributions.py:2619: FutureWarning: `distplot` is a deprecated function and will be removed in a future version. Please adapt your code to use either `displot` (a figure-level function with similar flexibility) or `histplot` (an axes-level function for histograms).\n",
      "  warnings.warn(msg, FutureWarning)\n"
     ]
    },
    {
     "data": {
      "image/png": "[encoded data removed]",
      "text/plain": [
       "<Figure size 432x288 with 1 Axes>"
      ]
     },
     "metadata": {
      "needs_background": "light"
     },
     "output_type": "display_data"
    },
    {
     "name": "stderr",
     "output_type": "stream",
     "text": [
      "C:\\Users\\NON\\anaconda3\\lib\\site-packages\\seaborn\\distributions.py:2619: FutureWarning: `distplot` is a deprecated function and will be removed in a future version. Please adapt your code to use either `displot` (a figure-level function with similar flexibility) or `histplot` (an axes-level function for histograms).\n",
      "  warnings.warn(msg, FutureWarning)\n"
     ]
    },
    {
     "data": {
      "image/png": "[encoded data removed]",
      "text/plain": [
       "<Figure size 432x288 with 1 Axes>"
      ]
     },
     "metadata": {
      "needs_background": "light"
     },
     "output_type": "display_data"
    },
    {
     "name": "stderr",
     "output_type": "stream",
     "text": [
      "C:\\Users\\NON\\anaconda3\\lib\\site-packages\\seaborn\\distributions.py:2619: FutureWarning: `distplot` is a deprecated function and will be removed in a future version. Please adapt your code to use either `displot` (a figure-level function with similar flexibility) or `histplot` (an axes-level function for histograms).\n",
      "  warnings.warn(msg, FutureWarning)\n"
     ]
    },
    {
     "data": {
      "image/png": "[encoded data removed]",
      "text/plain": [
       "<Figure size 432x288 with 1 Axes>"
      ]
     },
     "metadata": {
      "needs_background": "light"
     },
     "output_type": "display_data"
    },
    {
     "name": "stderr",
     "output_type": "stream",
     "text": [
      "C:\\Users\\NON\\anaconda3\\lib\\site-packages\\seaborn\\distributions.py:2619: FutureWarning: `distplot` is a deprecated function and will be removed in a future version. Please adapt your code to use either `displot` (a figure-level function with similar flexibility) or `histplot` (an axes-level function for histograms).\n",
      "  warnings.warn(msg, FutureWarning)\n"
     ]
    },
    {
     "data": {
      "image/png": "[encoded data removed]",
      "text/plain": [
       "<Figure size 432x288 with 1 Axes>"
      ]
     },
     "metadata": {
      "needs_background": "light"
     },
     "output_type": "display_data"
    },
    {
     "name": "stderr",
     "output_type": "stream",
     "text": [
      "C:\\Users\\NON\\anaconda3\\lib\\site-packages\\seaborn\\distributions.py:2619: FutureWarning: `distplot` is a deprecated function and will be removed in a future version. Please adapt your code to use either `displot` (a figure-level function with similar flexibility) or `histplot` (an axes-level function for histograms).\n",
      "  warnings.warn(msg, FutureWarning)\n"
     ]
    },
    {
     "data": {
      "image/png": "[encoded data removed]",
      "text/plain": [
       "<Figure size 432x288 with 1 Axes>"
      ]
     },
     "metadata": {
      "needs_background": "light"
     },
     "output_type": "display_data"
    },
    {
     "name": "stderr",
     "output_type": "stream",
     "text": [
      "C:\\Users\\NON\\anaconda3\\lib\\site-packages\\seaborn\\distributions.py:2619: FutureWarning: `distplot` is a deprecated function and will be removed in a future version. Please adapt your code to use either `displot` (a figure-level function with similar flexibility) or `histplot` (an axes-level function for histograms).\n",
      "  warnings.warn(msg, FutureWarning)\n"
     ]
    },
    {
     "data": {
      "image/png": "[encoded data removed]",
      "text/plain": [
       "<Figure size 432x288 with 1 Axes>"
      ]
     },
     "metadata": {
      "needs_background": "light"
     },
     "output_type": "display_data"
    },
    {
     "name": "stderr",
     "output_type": "stream",
     "text": [
      "C:\\Users\\NON\\anaconda3\\lib\\site-packages\\seaborn\\distributions.py:2619: FutureWarning: `distplot` is a deprecated function and will be removed in a future version. Please adapt your code to use either `displot` (a figure-level function with similar flexibility) or `histplot` (an axes-level function for histograms).\n",
      "  warnings.warn(msg, FutureWarning)\n"
     ]
    },
    {
     "data": {
      "image/png": "[encoded data removed]",
      "text/plain": [
       "<Figure size 432x288 with 1 Axes>"
      ]
     },
     "metadata": {
      "needs_background": "light"
     },
     "output_type": "display_data"
    },
    {
     "name": "stderr",
     "output_type": "stream",
     "text": [
      "C:\\Users\\NON\\anaconda3\\lib\\site-packages\\seaborn\\distributions.py:2619: FutureWarning: `distplot` is a deprecated function and will be removed in a future version. Please adapt your code to use either `displot` (a figure-level function with similar flexibility) or `histplot` (an axes-level function for histograms).\n",
      "  warnings.warn(msg, FutureWarning)\n"
     ]
    },
    {
     "data": {
      "image/png": "[encoded data removed]",
      "text/plain": [
       "<Figure size 432x288 with 1 Axes>"
      ]
     },
     "metadata": {
      "needs_background": "light"
     },
     "output_type": "display_data"
    },
    {
     "name": "stderr",
     "output_type": "stream",
     "text": [
      "C:\\Users\\NON\\anaconda3\\lib\\site-packages\\seaborn\\distributions.py:2619: FutureWarning: `distplot` is a deprecated function and will be removed in a future version. Please adapt your code to use either `displot` (a figure-level function with similar flexibility) or `histplot` (an axes-level function for histograms).\n",
      "  warnings.warn(msg, FutureWarning)\n"
     ]
    },
    {
     "data": {
      "image/png": "[encoded data removed]",
      "text/plain": [
       "<Figure size 432x288 with 1 Axes>"
      ]
     },
     "metadata": {
      "needs_background": "light"
     },
     "output_type": "display_data"
    }
   ],
   "source": [
    "for col in numericals:\n",
    "     sns.distplot(numericals[col],bins= 100)\n",
    "     plt.show()"
   ]
  },
  {
   "cell_type": "markdown",
   "id": "c132f9e2",
   "metadata": {},
   "source": [
    "# plotting "
   ]
  },
  {
   "cell_type": "code",
   "execution_count": 32,
   "id": "bbd84c8a",
   "metadata": {
    "scrolled": false
   },
   "outputs": [
    {
     "data": {
      "image/png": "[encoded data removed]",
      "text/plain": [
       "<Figure size 432x288 with 1 Axes>"
      ]
     },
     "metadata": {
      "needs_background": "light"
     },
     "output_type": "display_data"
    },
    {
     "data": {
      "image/png": "[encoded data removed]",
      "text/plain": [
       "<Figure size 432x288 with 1 Axes>"
      ]
     },
     "metadata": {
      "needs_background": "light"
     },
     "output_type": "display_data"
    },
    {
     "data": {
      "image/png": "[encoded data removed]",
      "text/plain": [
       "<Figure size 432x288 with 1 Axes>"
      ]
     },
     "metadata": {
      "needs_background": "light"
     },
     "output_type": "display_data"
    },
    {
     "data": {
      "image/png": "[encoded data removed]",
      "text/plain": [
       "<Figure size 432x288 with 1 Axes>"
      ]
     },
     "metadata": {
      "needs_background": "light"
     },
     "output_type": "display_data"
    },
    {
     "data": {
      "image/png": "[encoded data removed]",
      "text/plain": [
       "<Figure size 432x288 with 1 Axes>"
      ]
     },
     "metadata": {
      "needs_background": "light"
     },
     "output_type": "display_data"
    },
    {
     "data": {
      "image/png": "[encoded data removed]",
      "text/plain": [
       "<Figure size 432x288 with 1 Axes>"
      ]
     },
     "metadata": {
      "needs_background": "light"
     },
     "output_type": "display_data"
    },
    {
     "data": {
      "image/png": "[encoded data removed]",
      "text/plain": [
       "<Figure size 432x288 with 1 Axes>"
      ]
     },
     "metadata": {
      "needs_background": "light"
     },
     "output_type": "display_data"
    },
    {
     "data": {
      "image/png": "[encoded data removed]",
      "text/plain": [
       "<Figure size 432x288 with 1 Axes>"
      ]
     },
     "metadata": {
      "needs_background": "light"
     },
     "output_type": "display_data"
    },
    {
     "data": {
      "image/png": "[encoded data removed]",
      "text/plain": [
       "<Figure size 432x288 with 1 Axes>"
      ]
     },
     "metadata": {
      "needs_background": "light"
     },
     "output_type": "display_data"
    },
    {
     "data": {
      "image/png": "[encoded data removed]",
      "text/plain": [
       "<Figure size 432x288 with 1 Axes>"
      ]
     },
     "metadata": {
      "needs_background": "light"
     },
     "output_type": "display_data"
    }
   ],
   "source": [
    "import matplotlib.pyplot as plt\n",
    "def numericals_plot(df):\n",
    "    for i in df.columns:\n",
    "        sns.histplot(x=i, data = df);\n",
    "        plt.show()\n",
    "    return\n",
    "    \n",
    "numericals_plot(numericals)"
   ]
  },
  {
   "cell_type": "code",
   "execution_count": 149,
   "id": "d2cd1fe5",
   "metadata": {},
   "outputs": [],
   "source": [
    "#numeric_FDI3"
   ]
  },
  {
   "cell_type": "code",
   "execution_count": 33,
   "id": "2ae7f797",
   "metadata": {},
   "outputs": [
    {
     "data": {
      "image/png": "[encoded data removed]",
      "text/plain": [
       "<Figure size 432x288 with 1 Axes>"
      ]
     },
     "metadata": {
      "needs_background": "light"
     },
     "output_type": "display_data"
    }
   ],
   "source": [
    "sns.boxplot(x=numericals['fdi'])\n",
    "plt.show()"
   ]
  },
  {
   "cell_type": "code",
   "execution_count": 34,
   "id": "0f380374",
   "metadata": {},
   "outputs": [],
   "source": [
    "iqr = np.percentile(numericals['fdi'],75) - np.percentile(numericals['fdi'],25)\n",
    "upper_limit = np.percentile(numericals['fdi'],75) + 1.5*iqr\n",
    "lower_limit = np.percentile(numericals['fdi'],25) - 1.5*iqr"
   ]
  },
  {
   "cell_type": "code",
   "execution_count": 35,
   "id": "df92b3c2",
   "metadata": {},
   "outputs": [],
   "source": [
    "numeric_FDI3 = numericals[(numericals['fdi']>lower_limit) & (numericals['fdi']<upper_limit)]"
   ]
  },
  {
   "cell_type": "code",
   "execution_count": 36,
   "id": "83f9c67e",
   "metadata": {},
   "outputs": [
    {
     "data": {
      "image/png": "[encoded data removed]",
      "text/plain": [
       "<Figure size 432x288 with 1 Axes>"
      ]
     },
     "metadata": {
      "needs_background": "light"
     },
     "output_type": "display_data"
    }
   ],
   "source": [
    "sns.boxplot(x=numeric_FDI3['fdi'])\n",
    "plt.show()"
   ]
  },
  {
   "cell_type": "markdown",
   "id": "a9c87795",
   "metadata": {},
   "source": [
    "### Logaritmic transformation"
   ]
  },
  {
   "cell_type": "code",
   "execution_count": 154,
   "id": "5d48ea29",
   "metadata": {},
   "outputs": [],
   "source": [
    "# numeric_FDI3['fdi_log'] = np.log(numeric_FDI3['fdi'])"
   ]
  },
  {
   "cell_type": "code",
   "execution_count": 37,
   "id": "cdcf59ee",
   "metadata": {},
   "outputs": [
    {
     "data": {
      "text/html": [
       "<div>\n",
       "<style scoped>\n",
       "    .dataframe tbody tr th:only-of-type {\n",
       "        vertical-align: middle;\n",
       "    }\n",
       "\n",
       "    .dataframe tbody tr th {\n",
       "        vertical-align: top;\n",
       "    }\n",
       "\n",
       "    .dataframe thead th {\n",
       "        text-align: right;\n",
       "    }\n",
       "</style>\n",
       "<table border=\"1\" class=\"dataframe\">\n",
       "  <thead>\n",
       "    <tr style=\"text-align: right;\">\n",
       "      <th></th>\n",
       "      <th>commercial_opening_rate</th>\n",
       "      <th>exchange_rate</th>\n",
       "      <th>gross_fixed_capital_formation</th>\n",
       "      <th>business_climate</th>\n",
       "      <th>scoreeasedoingbusiness</th>\n",
       "      <th>buf</th>\n",
       "      <th>invf</th>\n",
       "      <th>finfree</th>\n",
       "      <th>stock_market</th>\n",
       "      <th>fdi</th>\n",
       "    </tr>\n",
       "  </thead>\n",
       "  <tbody>\n",
       "    <tr>\n",
       "      <th>0</th>\n",
       "      <td>38953960.63</td>\n",
       "      <td>59.512658</td>\n",
       "      <td>1.828646e+10</td>\n",
       "      <td>47.380000</td>\n",
       "      <td>70.0</td>\n",
       "      <td>55.0</td>\n",
       "      <td>50.0</td>\n",
       "      <td>70.0</td>\n",
       "      <td>10.671695</td>\n",
       "      <td>4.489054e+08</td>\n",
       "    </tr>\n",
       "    <tr>\n",
       "      <th>1</th>\n",
       "      <td>51935441.53</td>\n",
       "      <td>64.327475</td>\n",
       "      <td>2.007189e+10</td>\n",
       "      <td>42.400000</td>\n",
       "      <td>70.0</td>\n",
       "      <td>55.0</td>\n",
       "      <td>50.0</td>\n",
       "      <td>70.0</td>\n",
       "      <td>4.751541</td>\n",
       "      <td>7.605043e+08</td>\n",
       "    </tr>\n",
       "    <tr>\n",
       "      <th>2</th>\n",
       "      <td>59714312.41</td>\n",
       "      <td>68.933233</td>\n",
       "      <td>2.205658e+10</td>\n",
       "      <td>50.916667</td>\n",
       "      <td>70.0</td>\n",
       "      <td>70.5</td>\n",
       "      <td>70.0</td>\n",
       "      <td>70.0</td>\n",
       "      <td>5.361124</td>\n",
       "      <td>4.565232e+08</td>\n",
       "    </tr>\n",
       "    <tr>\n",
       "      <th>3</th>\n",
       "      <td>64798835.89</td>\n",
       "      <td>68.874875</td>\n",
       "      <td>2.363294e+10</td>\n",
       "      <td>40.266667</td>\n",
       "      <td>70.0</td>\n",
       "      <td>70.3</td>\n",
       "      <td>60.0</td>\n",
       "      <td>60.0</td>\n",
       "      <td>10.969166</td>\n",
       "      <td>6.510297e+08</td>\n",
       "    </tr>\n",
       "    <tr>\n",
       "      <th>4</th>\n",
       "      <td>62836842.93</td>\n",
       "      <td>68.598275</td>\n",
       "      <td>2.595254e+10</td>\n",
       "      <td>36.650000</td>\n",
       "      <td>70.0</td>\n",
       "      <td>68.4</td>\n",
       "      <td>60.0</td>\n",
       "      <td>60.0</td>\n",
       "      <td>12.791560</td>\n",
       "      <td>1.328423e+09</td>\n",
       "    </tr>\n",
       "  </tbody>\n",
       "</table>\n",
       "</div>"
      ],
      "text/plain": [
       "   commercial_opening_rate  exchange_rate  gross_fixed_capital_formation  \\\n",
       "0              38953960.63      59.512658                   1.828646e+10   \n",
       "1              51935441.53      64.327475                   2.007189e+10   \n",
       "2              59714312.41      68.933233                   2.205658e+10   \n",
       "3              64798835.89      68.874875                   2.363294e+10   \n",
       "4              62836842.93      68.598275                   2.595254e+10   \n",
       "\n",
       "   business_climate  scoreeasedoingbusiness   buf  invf  finfree  \\\n",
       "0         47.380000                    70.0  55.0  50.0     70.0   \n",
       "1         42.400000                    70.0  55.0  50.0     70.0   \n",
       "2         50.916667                    70.0  70.5  70.0     70.0   \n",
       "3         40.266667                    70.0  70.3  60.0     60.0   \n",
       "4         36.650000                    70.0  68.4  60.0     60.0   \n",
       "\n",
       "   stock_market           fdi  \n",
       "0     10.671695  4.489054e+08  \n",
       "1      4.751541  7.605043e+08  \n",
       "2      5.361124  4.565232e+08  \n",
       "3     10.969166  6.510297e+08  \n",
       "4     12.791560  1.328423e+09  "
      ]
     },
     "execution_count": 37,
     "metadata": {},
     "output_type": "execute_result"
    }
   ],
   "source": [
    "numeric_FDI3.head()"
   ]
  },
  {
   "cell_type": "markdown",
   "id": "db36351a",
   "metadata": {},
   "source": [
    "# power transormation"
   ]
  },
  {
   "cell_type": "markdown",
   "id": "6379644a",
   "metadata": {},
   "source": [
    "Check if any of the log transformations changes the result."
   ]
  },
  {
   "cell_type": "code",
   "execution_count": 38,
   "id": "8de0c234",
   "metadata": {},
   "outputs": [
    {
     "data": {
      "text/html": [
       "<div>\n",
       "<style scoped>\n",
       "    .dataframe tbody tr th:only-of-type {\n",
       "        vertical-align: middle;\n",
       "    }\n",
       "\n",
       "    .dataframe tbody tr th {\n",
       "        vertical-align: top;\n",
       "    }\n",
       "\n",
       "    .dataframe thead th {\n",
       "        text-align: right;\n",
       "    }\n",
       "</style>\n",
       "<table border=\"1\" class=\"dataframe\">\n",
       "  <thead>\n",
       "    <tr style=\"text-align: right;\">\n",
       "      <th></th>\n",
       "      <th>commercial_opening_rate</th>\n",
       "      <th>exchange_rate</th>\n",
       "      <th>gross_fixed_capital_formation</th>\n",
       "      <th>business_climate</th>\n",
       "      <th>scoreeasedoingbusiness</th>\n",
       "      <th>buf</th>\n",
       "      <th>invf</th>\n",
       "      <th>finfree</th>\n",
       "      <th>stock_market</th>\n",
       "      <th>fdi</th>\n",
       "    </tr>\n",
       "  </thead>\n",
       "  <tbody>\n",
       "    <tr>\n",
       "      <th>0</th>\n",
       "      <td>0.091316</td>\n",
       "      <td>0.587494</td>\n",
       "      <td>-0.774379</td>\n",
       "      <td>-1.417695</td>\n",
       "      <td>0.661596</td>\n",
       "      <td>-1.440617</td>\n",
       "      <td>-0.106297</td>\n",
       "      <td>1.591057</td>\n",
       "      <td>-1.081706</td>\n",
       "      <td>-0.444693</td>\n",
       "    </tr>\n",
       "    <tr>\n",
       "      <th>1</th>\n",
       "      <td>0.305318</td>\n",
       "      <td>0.619904</td>\n",
       "      <td>-0.707284</td>\n",
       "      <td>-1.895417</td>\n",
       "      <td>0.661596</td>\n",
       "      <td>-1.440617</td>\n",
       "      <td>-0.106297</td>\n",
       "      <td>1.591057</td>\n",
       "      <td>-1.580889</td>\n",
       "      <td>-0.431908</td>\n",
       "    </tr>\n",
       "    <tr>\n",
       "      <th>2</th>\n",
       "      <td>0.414890</td>\n",
       "      <td>0.648266</td>\n",
       "      <td>-0.639883</td>\n",
       "      <td>-1.055946</td>\n",
       "      <td>0.661596</td>\n",
       "      <td>0.198081</td>\n",
       "      <td>0.896537</td>\n",
       "      <td>1.591057</td>\n",
       "      <td>-1.517545</td>\n",
       "      <td>-0.444369</td>\n",
       "    </tr>\n",
       "    <tr>\n",
       "      <th>3</th>\n",
       "      <td>0.480856</td>\n",
       "      <td>0.647921</td>\n",
       "      <td>-0.590864</td>\n",
       "      <td>-2.088493</td>\n",
       "      <td>0.661596</td>\n",
       "      <td>0.175398</td>\n",
       "      <td>0.387938</td>\n",
       "      <td>0.742700</td>\n",
       "      <td>-1.061439</td>\n",
       "      <td>-0.436306</td>\n",
       "    </tr>\n",
       "    <tr>\n",
       "      <th>4</th>\n",
       "      <td>0.455876</td>\n",
       "      <td>0.646282</td>\n",
       "      <td>-0.524810</td>\n",
       "      <td>-2.399586</td>\n",
       "      <td>0.661596</td>\n",
       "      <td>-0.038130</td>\n",
       "      <td>0.387938</td>\n",
       "      <td>0.742700</td>\n",
       "      <td>-0.943724</td>\n",
       "      <td>-0.410158</td>\n",
       "    </tr>\n",
       "  </tbody>\n",
       "</table>\n",
       "</div>"
      ],
      "text/plain": [
       "   commercial_opening_rate  exchange_rate  gross_fixed_capital_formation  \\\n",
       "0                 0.091316       0.587494                      -0.774379   \n",
       "1                 0.305318       0.619904                      -0.707284   \n",
       "2                 0.414890       0.648266                      -0.639883   \n",
       "3                 0.480856       0.647921                      -0.590864   \n",
       "4                 0.455876       0.646282                      -0.524810   \n",
       "\n",
       "   business_climate  scoreeasedoingbusiness       buf      invf   finfree  \\\n",
       "0         -1.417695                0.661596 -1.440617 -0.106297  1.591057   \n",
       "1         -1.895417                0.661596 -1.440617 -0.106297  1.591057   \n",
       "2         -1.055946                0.661596  0.198081  0.896537  1.591057   \n",
       "3         -2.088493                0.661596  0.175398  0.387938  0.742700   \n",
       "4         -2.399586                0.661596 -0.038130  0.387938  0.742700   \n",
       "\n",
       "   stock_market       fdi  \n",
       "0     -1.081706 -0.444693  \n",
       "1     -1.580889 -0.431908  \n",
       "2     -1.517545 -0.444369  \n",
       "3     -1.061439 -0.436306  \n",
       "4     -0.943724 -0.410158  "
      ]
     },
     "execution_count": 38,
     "metadata": {},
     "output_type": "execute_result"
    }
   ],
   "source": [
    "from sklearn.preprocessing import PowerTransformer\n",
    "pt = PowerTransformer()\n",
    "pt.fit(numericals)\n",
    "numeric_FDI3 = pd.DataFrame(pt.transform(numericals), columns = numericals.columns  )\n",
    "numeric_FDI3.head()"
   ]
  },
  {
   "cell_type": "code",
   "execution_count": 157,
   "id": "622e68df",
   "metadata": {},
   "outputs": [],
   "source": [
    "# numeric_FDI3 = FDI3.apply(lambda x: np.log(x) if np.issubdtype(x.dtype, np.number) else x)"
   ]
  },
  {
   "cell_type": "code",
   "execution_count": null,
   "id": "b44a74e6",
   "metadata": {},
   "outputs": [],
   "source": []
  },
  {
   "cell_type": "code",
   "execution_count": 39,
   "id": "946afd21",
   "metadata": {},
   "outputs": [
    {
     "data": {
      "text/html": [
       "<div>\n",
       "<style scoped>\n",
       "    .dataframe tbody tr th:only-of-type {\n",
       "        vertical-align: middle;\n",
       "    }\n",
       "\n",
       "    .dataframe tbody tr th {\n",
       "        vertical-align: top;\n",
       "    }\n",
       "\n",
       "    .dataframe thead th {\n",
       "        text-align: right;\n",
       "    }\n",
       "</style>\n",
       "<table border=\"1\" class=\"dataframe\">\n",
       "  <thead>\n",
       "    <tr style=\"text-align: right;\">\n",
       "      <th></th>\n",
       "      <th>count</th>\n",
       "      <th>mean</th>\n",
       "      <th>std</th>\n",
       "      <th>min</th>\n",
       "      <th>25%</th>\n",
       "      <th>50%</th>\n",
       "      <th>75%</th>\n",
       "      <th>max</th>\n",
       "    </tr>\n",
       "  </thead>\n",
       "  <tbody>\n",
       "    <tr>\n",
       "      <th>commercial_opening_rate</th>\n",
       "      <td>330.0</td>\n",
       "      <td>-7.175447e-17</td>\n",
       "      <td>1.001519</td>\n",
       "      <td>-2.726421</td>\n",
       "      <td>-0.488424</td>\n",
       "      <td>0.017606</td>\n",
       "      <td>0.461905</td>\n",
       "      <td>3.148435</td>\n",
       "    </tr>\n",
       "    <tr>\n",
       "      <th>exchange_rate</th>\n",
       "      <td>330.0</td>\n",
       "      <td>9.251859e-17</td>\n",
       "      <td>1.001519</td>\n",
       "      <td>-1.527504</td>\n",
       "      <td>-0.964542</td>\n",
       "      <td>0.170815</td>\n",
       "      <td>0.704049</td>\n",
       "      <td>2.024589</td>\n",
       "    </tr>\n",
       "    <tr>\n",
       "      <th>gross_fixed_capital_formation</th>\n",
       "      <td>330.0</td>\n",
       "      <td>4.642751e-16</td>\n",
       "      <td>1.001519</td>\n",
       "      <td>-2.293179</td>\n",
       "      <td>-0.519930</td>\n",
       "      <td>-0.075541</td>\n",
       "      <td>0.762421</td>\n",
       "      <td>2.431483</td>\n",
       "    </tr>\n",
       "    <tr>\n",
       "      <th>business_climate</th>\n",
       "      <td>330.0</td>\n",
       "      <td>1.685520e-16</td>\n",
       "      <td>1.001519</td>\n",
       "      <td>-2.631364</td>\n",
       "      <td>-0.704674</td>\n",
       "      <td>-0.130020</td>\n",
       "      <td>0.762803</td>\n",
       "      <td>1.870386</td>\n",
       "    </tr>\n",
       "    <tr>\n",
       "      <th>scoreeasedoingbusiness</th>\n",
       "      <td>330.0</td>\n",
       "      <td>2.462677e-16</td>\n",
       "      <td>1.001519</td>\n",
       "      <td>-2.735960</td>\n",
       "      <td>-0.716744</td>\n",
       "      <td>-0.019406</td>\n",
       "      <td>0.748255</td>\n",
       "      <td>2.524387</td>\n",
       "    </tr>\n",
       "    <tr>\n",
       "      <th>buf</th>\n",
       "      <td>330.0</td>\n",
       "      <td>-6.546952e-16</td>\n",
       "      <td>1.001519</td>\n",
       "      <td>-2.780774</td>\n",
       "      <td>-0.643083</td>\n",
       "      <td>-0.000925</td>\n",
       "      <td>0.576968</td>\n",
       "      <td>2.303536</td>\n",
       "    </tr>\n",
       "    <tr>\n",
       "      <th>invf</th>\n",
       "      <td>330.0</td>\n",
       "      <td>6.341728e-17</td>\n",
       "      <td>1.001519</td>\n",
       "      <td>-2.198074</td>\n",
       "      <td>-0.267474</td>\n",
       "      <td>0.056725</td>\n",
       "      <td>0.725522</td>\n",
       "      <td>1.950404</td>\n",
       "    </tr>\n",
       "    <tr>\n",
       "      <th>finfree</th>\n",
       "      <td>330.0</td>\n",
       "      <td>2.714159e-16</td>\n",
       "      <td>1.001519</td>\n",
       "      <td>-1.879919</td>\n",
       "      <td>-0.647929</td>\n",
       "      <td>-0.005062</td>\n",
       "      <td>0.742700</td>\n",
       "      <td>1.591057</td>\n",
       "    </tr>\n",
       "    <tr>\n",
       "      <th>stock_market</th>\n",
       "      <td>330.0</td>\n",
       "      <td>-1.147230e-16</td>\n",
       "      <td>1.001519</td>\n",
       "      <td>-2.359208</td>\n",
       "      <td>-0.629804</td>\n",
       "      <td>-0.033728</td>\n",
       "      <td>0.591233</td>\n",
       "      <td>2.573010</td>\n",
       "    </tr>\n",
       "    <tr>\n",
       "      <th>fdi</th>\n",
       "      <td>330.0</td>\n",
       "      <td>5.744563e-17</td>\n",
       "      <td>1.001519</td>\n",
       "      <td>-3.671186</td>\n",
       "      <td>-0.392375</td>\n",
       "      <td>-0.300387</td>\n",
       "      <td>-0.045516</td>\n",
       "      <td>5.781305</td>\n",
       "    </tr>\n",
       "  </tbody>\n",
       "</table>\n",
       "</div>"
      ],
      "text/plain": [
       "                               count          mean       std       min  \\\n",
       "commercial_opening_rate        330.0 -7.175447e-17  1.001519 -2.726421   \n",
       "exchange_rate                  330.0  9.251859e-17  1.001519 -1.527504   \n",
       "gross_fixed_capital_formation  330.0  4.642751e-16  1.001519 -2.293179   \n",
       "business_climate               330.0  1.685520e-16  1.001519 -2.631364   \n",
       "scoreeasedoingbusiness         330.0  2.462677e-16  1.001519 -2.735960   \n",
       "buf                            330.0 -6.546952e-16  1.001519 -2.780774   \n",
       "invf                           330.0  6.341728e-17  1.001519 -2.198074   \n",
       "finfree                        330.0  2.714159e-16  1.001519 -1.879919   \n",
       "stock_market                   330.0 -1.147230e-16  1.001519 -2.359208   \n",
       "fdi                            330.0  5.744563e-17  1.001519 -3.671186   \n",
       "\n",
       "                                    25%       50%       75%       max  \n",
       "commercial_opening_rate       -0.488424  0.017606  0.461905  3.148435  \n",
       "exchange_rate                 -0.964542  0.170815  0.704049  2.024589  \n",
       "gross_fixed_capital_formation -0.519930 -0.075541  0.762421  2.431483  \n",
       "business_climate              -0.704674 -0.130020  0.762803  1.870386  \n",
       "scoreeasedoingbusiness        -0.716744 -0.019406  0.748255  2.524387  \n",
       "buf                           -0.643083 -0.000925  0.576968  2.303536  \n",
       "invf                          -0.267474  0.056725  0.725522  1.950404  \n",
       "finfree                       -0.647929 -0.005062  0.742700  1.591057  \n",
       "stock_market                  -0.629804 -0.033728  0.591233  2.573010  \n",
       "fdi                           -0.392375 -0.300387 -0.045516  5.781305  "
      ]
     },
     "execution_count": 39,
     "metadata": {},
     "output_type": "execute_result"
    }
   ],
   "source": [
    "numeric_FDI3.describe().T"
   ]
  },
  {
   "cell_type": "markdown",
   "id": "5d26108f",
   "metadata": {},
   "source": [
    "# PLOTTING with transf\n"
   ]
  },
  {
   "cell_type": "code",
   "execution_count": 42,
   "id": "f3bc4ae3",
   "metadata": {},
   "outputs": [
    {
     "data": {
      "text/plain": [
       "<seaborn.axisgrid.PairGrid at 0x1f5f425e670>"
      ]
     },
     "execution_count": 42,
     "metadata": {},
     "output_type": "execute_result"
    },
    {
     "data": {
      "image/png": "[encoded data removed]",
      "text/plain": [
       "<Figure size 360x360 with 6 Axes>"
      ]
     },
     "metadata": {
      "needs_background": "light"
     },
     "output_type": "display_data"
    }
   ],
   "source": [
    "import seaborn as sns\n",
    "sns.pairplot(numeric_FDI3[['fdi','stock_market' ]])\n"
   ]
  },
  {
   "cell_type": "code",
   "execution_count": 43,
   "id": "2e0f44a4",
   "metadata": {},
   "outputs": [
    {
     "data": {
      "image/png": "[encoded data removed]",
      "text/plain": [
       "<Figure size 432x288 with 1 Axes>"
      ]
     },
     "metadata": {
      "needs_background": "light"
     },
     "output_type": "display_data"
    },
    {
     "data": {
      "image/png": "[encoded data removed]",
      "text/plain": [
       "<Figure size 432x288 with 1 Axes>"
      ]
     },
     "metadata": {
      "needs_background": "light"
     },
     "output_type": "display_data"
    },
    {
     "data": {
      "image/png": "[encoded data removed]",
      "text/plain": [
       "<Figure size 432x288 with 1 Axes>"
      ]
     },
     "metadata": {
      "needs_background": "light"
     },
     "output_type": "display_data"
    },
    {
     "data": {
      "image/png": "[encoded data removed]",
      "text/plain": [
       "<Figure size 432x288 with 1 Axes>"
      ]
     },
     "metadata": {
      "needs_background": "light"
     },
     "output_type": "display_data"
    },
    {
     "data": {
      "image/png": "[encoded data removed]",
      "text/plain": [
       "<Figure size 432x288 with 1 Axes>"
      ]
     },
     "metadata": {
      "needs_background": "light"
     },
     "output_type": "display_data"
    },
    {
     "data": {
      "image/png": "[encoded data removed]",
      "text/plain": [
       "<Figure size 432x288 with 1 Axes>"
      ]
     },
     "metadata": {
      "needs_background": "light"
     },
     "output_type": "display_data"
    },
    {
     "data": {
      "image/png": "[encoded data removed]",
      "text/plain": [
       "<Figure size 432x288 with 1 Axes>"
      ]
     },
     "metadata": {
      "needs_background": "light"
     },
     "output_type": "display_data"
    },
    {
     "data": {
      "image/png": "[encoded data removed]",
      "text/plain": [
       "<Figure size 432x288 with 1 Axes>"
      ]
     },
     "metadata": {
      "needs_background": "light"
     },
     "output_type": "display_data"
    },
    {
     "data": {
      "image/png": "[encoded data removed]",
      "text/plain": [
       "<Figure size 432x288 with 1 Axes>"
      ]
     },
     "metadata": {
      "needs_background": "light"
     },
     "output_type": "display_data"
    },
    {
     "data": {
      "image/png": "[encoded data removed]",
      "text/plain": [
       "<Figure size 432x288 with 1 Axes>"
      ]
     },
     "metadata": {
      "needs_background": "light"
     },
     "output_type": "display_data"
    }
   ],
   "source": [
    "def numericals_plot2(df):\n",
    "    for i in df.columns:\n",
    "        sns.histplot(x=i, data = df, bins=10);\n",
    "        plt.show()\n",
    "    \n",
    "numericals_plot2(numeric_FDI3)\n"
   ]
  },
  {
   "cell_type": "markdown",
   "id": "39abf64f",
   "metadata": {},
   "source": [
    "# correlation"
   ]
  },
  {
   "cell_type": "code",
   "execution_count": 44,
   "id": "86f67cc2",
   "metadata": {},
   "outputs": [
    {
     "data": {
      "image/png": "[encoded data removed]",
      "text/plain": [
       "<Figure size 1080x576 with 2 Axes>"
      ]
     },
     "metadata": {
      "needs_background": "light"
     },
     "output_type": "display_data"
    }
   ],
   "source": [
    "import seaborn as sb\n",
    "dataplot=sb.heatmap(numeric_FDI3.corr(), annot=True,  )\n",
    "plt.gcf().set_size_inches(15, 8)"
   ]
  },
  {
   "cell_type": "code",
   "execution_count": null,
   "id": "c180492c",
   "metadata": {},
   "outputs": [],
   "source": [
    "#corr_FDI3 = numeric_FDI3[['fdi','gross_fixed_capital_formation','invf','finfree', 'stock market']].corr()\n",
    "#corr_FDI3"
   ]
  },
  {
   "cell_type": "markdown",
   "id": "433a35d9",
   "metadata": {},
   "source": [
    " we have multicolinearity here with gross_fixed_capital_formation . We need to drop one of these columns. \n",
    "We will drop gross_fixed_capital_formation "
   ]
  },
  {
   "cell_type": "code",
   "execution_count": null,
   "id": "3b66a314",
   "metadata": {},
   "outputs": [],
   "source": [
    "# we have multicolinearity here with gross_fixed_capital_formation . We need to drop one of these columns. \n",
    "# We will drop gross_fixed_capital_formation \n",
    "\n",
    "# numeric_FDI3 = numeric_FDI3.drop(['gross_fixed_capital_formation'], axis=1)"
   ]
  },
  {
   "cell_type": "markdown",
   "id": "9999ad0d",
   "metadata": {},
   "source": [
    "# Ploting fdi"
   ]
  },
  {
   "cell_type": "code",
   "execution_count": 45,
   "id": "4585d2fb",
   "metadata": {},
   "outputs": [
    {
     "data": {
      "image/png": "[encoded data removed]",
      "text/plain": [
       "<Figure size 360x360 with 1 Axes>"
      ]
     },
     "metadata": {
      "needs_background": "light"
     },
     "output_type": "display_data"
    }
   ],
   "source": [
    "sns.displot(numeric_FDI3['fdi'])\n",
    "plt.show()"
   ]
  },
  {
   "cell_type": "code",
   "execution_count": 46,
   "id": "0ca56ef1",
   "metadata": {},
   "outputs": [
    {
     "data": {
      "image/png": "[encoded data removed]",
      "text/plain": [
       "<Figure size 432x288 with 1 Axes>"
      ]
     },
     "metadata": {
      "needs_background": "light"
     },
     "output_type": "display_data"
    }
   ],
   "source": [
    "sns.boxplot(x=numeric_FDI3['fdi'])\n",
    "plt.show()"
   ]
  },
  {
   "cell_type": "code",
   "execution_count": 47,
   "id": "3a37f8c9",
   "metadata": {},
   "outputs": [],
   "source": [
    "iqr = np.percentile(numeric_FDI3['fdi'],75) - np.percentile(numeric_FDI3['fdi'],25)\n",
    "upper_limit = np.percentile(numeric_FDI3['fdi'],75) + 1.5*iqr\n",
    "lower_limit = np.percentile(numeric_FDI3['fdi'],25) - 1.5*iqr"
   ]
  },
  {
   "cell_type": "code",
   "execution_count": 48,
   "id": "0795f0a6",
   "metadata": {},
   "outputs": [],
   "source": [
    "numeric_FDI3 = numeric_FDI3[(numeric_FDI3['fdi']>lower_limit) & (numeric_FDI3['fdi']<upper_limit)]"
   ]
  },
  {
   "cell_type": "code",
   "execution_count": null,
   "id": "b4d9970b",
   "metadata": {},
   "outputs": [],
   "source": [
    "# numeric_FDI3['fdi_log'] = np.log(numeric_FDI3['fdi']+1)"
   ]
  },
  {
   "cell_type": "code",
   "execution_count": null,
   "id": "84b0e2a4",
   "metadata": {},
   "outputs": [],
   "source": [
    "# sns.displot(numeric_FDI3['fdi_log'])"
   ]
  },
  {
   "cell_type": "code",
   "execution_count": 49,
   "id": "b5515fbd",
   "metadata": {},
   "outputs": [
    {
     "data": {
      "text/plain": [
       "<seaborn.axisgrid.FacetGrid at 0x1f5f4273700>"
      ]
     },
     "execution_count": 49,
     "metadata": {},
     "output_type": "execute_result"
    },
    {
     "data": {
      "image/png": "[encoded data removed]",
      "text/plain": [
       "<Figure size 360x360 with 1 Axes>"
      ]
     },
     "metadata": {
      "needs_background": "light"
     },
     "output_type": "display_data"
    }
   ],
   "source": [
    "sns.displot(numeric_FDI3['fdi'])"
   ]
  },
  {
   "cell_type": "code",
   "execution_count": 50,
   "id": "41d83019",
   "metadata": {},
   "outputs": [
    {
     "data": {
      "image/png": "[encoded data removed]",
      "text/plain": [
       "<Figure size 432x288 with 1 Axes>"
      ]
     },
     "metadata": {
      "needs_background": "light"
     },
     "output_type": "display_data"
    }
   ],
   "source": [
    "sns.boxplot(x=numeric_FDI3['fdi'])\n",
    "plt.show()"
   ]
  },
  {
   "cell_type": "code",
   "execution_count": null,
   "id": "498f25f0",
   "metadata": {},
   "outputs": [],
   "source": [
    "#regression_line = lm.intercept_ + lm.coef_[0]*numeric_FDI3['stock market'] # b_0 + b_1 * x\n",
    "#plt.plot(numeric_FDI3['stock market'], regression_line, c = 'orange')\n",
    "#sns.scatterplot(x='stock market',y='fdi',data=numeric_FDI3)\n",
    "#plt.show()"
   ]
  },
  {
   "cell_type": "code",
   "execution_count": 52,
   "id": "30d0229d",
   "metadata": {},
   "outputs": [
    {
     "data": {
      "image/png": "[encoded data removed]",
      "text/plain": [
       "<Figure size 432x288 with 1 Axes>"
      ]
     },
     "metadata": {
      "needs_background": "light"
     },
     "output_type": "display_data"
    }
   ],
   "source": [
    "sns.boxplot(x=numeric_FDI3['stock_market'])\n",
    "plt.show()"
   ]
  },
  {
   "cell_type": "code",
   "execution_count": 53,
   "id": "9bf24a20",
   "metadata": {},
   "outputs": [
    {
     "data": {
      "image/png": "[encoded data removed]",
      "text/plain": [
       "<Figure size 432x288 with 1 Axes>"
      ]
     },
     "metadata": {
      "needs_background": "light"
     },
     "output_type": "display_data"
    }
   ],
   "source": [
    "sns.boxplot(x=numeric_FDI3['gross_fixed_capital_formation'])\n",
    "plt.show()"
   ]
  },
  {
   "cell_type": "markdown",
   "id": "05bd92e4",
   "metadata": {},
   "source": [
    "# split another variable"
   ]
  },
  {
   "cell_type": "code",
   "execution_count": null,
   "id": "b3a0b43c",
   "metadata": {},
   "outputs": [],
   "source": [
    "#y = numeric_FDI3['stock market']\n",
    "#X = numeric_FDI3[['buf']] \n",
    "\n",
    "#from sklearn.model_selection import train_test_split\n",
    "\n",
    "#X_train, X_test, y_train, y_test = train_test_split(X,y,test_size=0.3)"
   ]
  },
  {
   "cell_type": "code",
   "execution_count": null,
   "id": "eb786edc",
   "metadata": {},
   "outputs": [],
   "source": [
    "from sklearn.preprocessing import MinMaxScaler\n",
    "\n",
    "# PowerTransformer()\n",
    "#MinMaxtransformer = MinMaxScaler()\n",
    "#MinMaxtransformer.fit(X_train)\n",
    "\n",
    "#X_train_scaled = MinMaxtransformer.transform(X_train)\n",
    "#X_test_scaled  = MinMaxtransformer.transform(X_test)\n",
    "\n",
    "#X_train_scaled_df = pd.DataFrame(X_train_scaled, columns=X_train.columns)\n",
    "#X_test_scaled_df  = pd.DataFrame(X_test_scaled, columns=X_test.columns)"
   ]
  },
  {
   "cell_type": "code",
   "execution_count": null,
   "id": "57c02324",
   "metadata": {},
   "outputs": [],
   "source": [
    "#from sklearn import linear_model\n",
    "#from sklearn.metrics import mean_squared_error, r2_score\n",
    "\n",
    "#y = y_train\n",
    "#X = X_train_scaled_df\n",
    "\n",
    "#lm = linear_model.LinearRegression()\n",
    "#lm.fit(X_train_scaled_df,y_train)\n",
    "#print(lm.intercept_)\n",
    "#print(lm.coef_)\n",
    "#print(lm.score(X,y))"
   ]
  },
  {
   "cell_type": "code",
   "execution_count": null,
   "id": "7f4c45bf",
   "metadata": {},
   "outputs": [],
   "source": [
    "#from sklearn.metrics import r2_score\n",
    "\n",
    "#y_pred_train = lm.predict(X_train_scaled_df)\n",
    "#y_pred_test  = lm.predict(X_test_scaled_df)\n",
    "#r2_score(y_train, y_pred_train)\n",
    "\n",
    "\n",
    "#from sklearn.metrics import r2_score\n",
    "#y_pred = lm.predict(X)\n",
    "#r2_score(y, y_pred)"
   ]
  },
  {
   "cell_type": "code",
   "execution_count": null,
   "id": "3a165d31",
   "metadata": {},
   "outputs": [],
   "source": [
    "#fig, ax = plt.subplots(2,2,figsize=(20,10))\n",
    "#sns.scatterplot(x=y_train, y=y_pred_train, ax = ax[0,0])\n",
    "#sns.histplot(x=y_train-y_pred_train, ax = ax[0,1], bins = 50)\n",
    "#ax[0,0].plot(y_train, y_train, color = \"black\")\n",
    "#sns.scatterplot(x=y_test, y=y_pred_test, ax = ax[1,0])\n",
    "#sns.histplot(x=y_test-y_pred_test, ax = ax[1,1], bins=50)\n",
    "#ax[1,0].plot(y_test, y_test, color=\"black\")\n",
    "#plt.show()"
   ]
  },
  {
   "cell_type": "code",
   "execution_count": null,
   "id": "0933f611",
   "metadata": {},
   "outputs": [],
   "source": []
  },
  {
   "cell_type": "markdown",
   "id": "a8705436",
   "metadata": {},
   "source": [
    "# split"
   ]
  },
  {
   "cell_type": "code",
   "execution_count": 54,
   "id": "54b4d731",
   "metadata": {},
   "outputs": [],
   "source": [
    "y = numeric_FDI3['fdi']\n",
    "X = numeric_FDI3.drop(columns='fdi') \n",
    "\n",
    "from sklearn.model_selection import train_test_split\n",
    "\n",
    "X_train, X_test, y_train, y_test = train_test_split(X,y,test_size=0.3)"
   ]
  },
  {
   "cell_type": "code",
   "execution_count": 55,
   "id": "2edbd16d",
   "metadata": {},
   "outputs": [
    {
     "data": {
      "image/png": "[encoded data removed]",
      "text/plain": [
       "<Figure size 432x288 with 1 Axes>"
      ]
     },
     "metadata": {
      "needs_background": "light"
     },
     "output_type": "display_data"
    }
   ],
   "source": [
    "sns.histplot(y);"
   ]
  },
  {
   "cell_type": "code",
   "execution_count": null,
   "id": "c196b64c",
   "metadata": {},
   "outputs": [],
   "source": [
    "#y_powertransformer = PowerTransformer()\n",
    "#y_powertransformer.fit(y)\n",
    "#y_transformed = y_powertransformer.transform(y)\n",
    "#y_transformed_s = pd.Series(y_transformed)\n",
    "\n",
    "#y_powertransformer.inverse_transform(y_transformed_s)\n",
    "\n",
    "#x_powertransformer = PowerTransformer()\n"
   ]
  },
  {
   "cell_type": "markdown",
   "id": "5e81c73f",
   "metadata": {},
   "source": [
    "\n",
    "# Normalization"
   ]
  },
  {
   "cell_type": "code",
   "execution_count": 56,
   "id": "0269a842",
   "metadata": {},
   "outputs": [],
   "source": [
    "\n",
    "from sklearn.preprocessing import MinMaxScaler\n",
    "\n",
    "PowerTransformer()\n",
    "MinMaxtransformer = MinMaxScaler()\n",
    "MinMaxtransformer.fit(X_train)\n",
    "\n",
    "X_train_minmax_scaled = MinMaxtransformer.transform(X_train)\n",
    "X_test_minmax_scaled  = MinMaxtransformer.transform(X_test)\n",
    "\n",
    "X_train_minmax_scaled_df = pd.DataFrame(X_train_minmax_scaled, columns=X_train.columns)\n",
    "X_test_minmax_scaled_df  = pd.DataFrame(X_test_minmax_scaled, columns=X_test.columns)"
   ]
  },
  {
   "cell_type": "code",
   "execution_count": 215,
   "id": "cd40843f",
   "metadata": {},
   "outputs": [],
   "source": [
    "#from sklearn.preprocessing import PowerTransformer\n",
    "#powertransformer = PowerTransformer()\n",
    "#powertransformer.fit(X_train)\n",
    "#print(powertransformer.lambdas_)\n",
    "\n",
    "#X_train_scaled = powertransformer.transform(X_train)\n",
    "#X_test_scaled  = powertransformer.transform(X_test)\n",
    "\n",
    "#X_train_scaled_df = pd.DataFrame(X_train_scaled, columns=X_train.columns)\n",
    "#X_test_scaled_df  = pd.DataFrame(X_test_scaled, columns=X_test.columns)"
   ]
  },
  {
   "cell_type": "markdown",
   "id": "cbaf7ab3",
   "metadata": {},
   "source": [
    "# Let us have a look at the error rate for different k values"
   ]
  },
  {
   "cell_type": "code",
   "execution_count": 57,
   "id": "ba3647f8",
   "metadata": {},
   "outputs": [],
   "source": [
    "#import required packages\n",
    "from sklearn import neighbors\n",
    "from sklearn.metrics import mean_squared_error \n",
    "from math import sqrt\n",
    "import matplotlib.pyplot as plt\n",
    "%matplotlib inline"
   ]
  },
  {
   "cell_type": "code",
   "execution_count": 60,
   "id": "af7243be",
   "metadata": {},
   "outputs": [
    {
     "name": "stdout",
     "output_type": "stream",
     "text": [
      "r2_score value for k=  1 is: 0.6935699032700314\n",
      "r2_score value for k=  2 is: 0.7209880706116953\n",
      "r2_score value for k=  3 is: 0.7299580721414105\n",
      "r2_score value for k=  4 is: 0.6965240564386137\n",
      "r2_score value for k=  5 is: 0.7019486556082928\n",
      "r2_score value for k=  6 is: 0.7066334095334558\n",
      "r2_score value for k=  7 is: 0.6938598966914669\n",
      "r2_score value for k=  8 is: 0.6872813723940134\n",
      "r2_score value for k=  9 is: 0.7068377098144144\n",
      "r2_score value for k=  10 is: 0.6761588858179239\n",
      "r2_score value for k=  11 is: 0.6725746573911502\n",
      "r2_score value for k=  12 is: 0.6411316179582498\n",
      "r2_score value for k=  13 is: 0.6242718446340545\n",
      "r2_score value for k=  14 is: 0.6263561416144804\n",
      "r2_score value for k=  15 is: 0.6116417402605427\n",
      "r2_score value for k=  16 is: 0.5974673240275248\n",
      "r2_score value for k=  17 is: 0.5770759503591649\n",
      "r2_score value for k=  18 is: 0.5650939017966901\n",
      "r2_score value for k=  19 is: 0.5467745538474349\n"
     ]
    }
   ],
   "source": [
    "rmse_val = [] #to store rmse values for different k\n",
    "knn_models = {}\n",
    "for K in range(1,20):\n",
    "    \n",
    "    model_knn = neighbors.KNeighborsRegressor(n_neighbors = K)\n",
    "    model_knn.fit(X_train, y_train)  #fit the model\n",
    "    \n",
    "    knn_models[K] = model_knn \n",
    "    pred=model_knn.predict(X_test) #make prediction on test set\n",
    "    error = (r2_score(y_test,pred)) #calculate rmse\n",
    "    rmse_val.append(error) #store rmse values\n",
    "    print('r2_score value for k= ' , K , 'is:', error)"
   ]
  },
  {
   "cell_type": "code",
   "execution_count": 61,
   "id": "ee0aac05",
   "metadata": {},
   "outputs": [
    {
     "data": {
      "text/html": [
       "<style>#sk-container-id-1 {color: black;background-color: white;}#sk-container-id-1 pre{padding: 0;}#sk-container-id-1 div.sk-toggleable {background-color: white;}#sk-container-id-1 label.sk-toggleable__label {cursor: pointer;display: block;width: 100%;margin-bottom: 0;padding: 0.3em;box-sizing: border-box;text-align: center;}#sk-container-id-1 label.sk-toggleable__label-arrow:before {content: \"▸\";float: left;margin-right: 0.25em;color: #696969;}#sk-container-id-1 label.sk-toggleable__label-arrow:hover:before {color: black;}#sk-container-id-1 div.sk-estimator:hover label.sk-toggleable__label-arrow:before {color: black;}#sk-container-id-1 div.sk-toggleable__content {max-height: 0;max-width: 0;overflow: hidden;text-align: left;background-color: #f0f8ff;}#sk-container-id-1 div.sk-toggleable__content pre {margin: 0.2em;color: black;border-radius: 0.25em;background-color: #f0f8ff;}#sk-container-id-1 input.sk-toggleable__control:checked~div.sk-toggleable__content {max-height: 200px;max-width: 100%;overflow: auto;}#sk-container-id-1 input.sk-toggleable__control:checked~label.sk-toggleable__label-arrow:before {content: \"▾\";}#sk-container-id-1 div.sk-estimator input.sk-toggleable__control:checked~label.sk-toggleable__label {background-color: #d4ebff;}#sk-container-id-1 div.sk-label input.sk-toggleable__control:checked~label.sk-toggleable__label {background-color: #d4ebff;}#sk-container-id-1 input.sk-hidden--visually {border: 0;clip: rect(1px 1px 1px 1px);clip: rect(1px, 1px, 1px, 1px);height: 1px;margin: -1px;overflow: hidden;padding: 0;position: absolute;width: 1px;}#sk-container-id-1 div.sk-estimator {font-family: monospace;background-color: #f0f8ff;border: 1px dotted black;border-radius: 0.25em;box-sizing: border-box;margin-bottom: 0.5em;}#sk-container-id-1 div.sk-estimator:hover {background-color: #d4ebff;}#sk-container-id-1 div.sk-parallel-item::after {content: \"\";width: 100%;border-bottom: 1px solid gray;flex-grow: 1;}#sk-container-id-1 div.sk-label:hover label.sk-toggleable__label {background-color: #d4ebff;}#sk-container-id-1 div.sk-serial::before {content: \"\";position: absolute;border-left: 1px solid gray;box-sizing: border-box;top: 0;bottom: 0;left: 50%;z-index: 0;}#sk-container-id-1 div.sk-serial {display: flex;flex-direction: column;align-items: center;background-color: white;padding-right: 0.2em;padding-left: 0.2em;position: relative;}#sk-container-id-1 div.sk-item {position: relative;z-index: 1;}#sk-container-id-1 div.sk-parallel {display: flex;align-items: stretch;justify-content: center;background-color: white;position: relative;}#sk-container-id-1 div.sk-item::before, #sk-container-id-1 div.sk-parallel-item::before {content: \"\";position: absolute;border-left: 1px solid gray;box-sizing: border-box;top: 0;bottom: 0;left: 50%;z-index: -1;}#sk-container-id-1 div.sk-parallel-item {display: flex;flex-direction: column;z-index: 1;position: relative;background-color: white;}#sk-container-id-1 div.sk-parallel-item:first-child::after {align-self: flex-end;width: 50%;}#sk-container-id-1 div.sk-parallel-item:last-child::after {align-self: flex-start;width: 50%;}#sk-container-id-1 div.sk-parallel-item:only-child::after {width: 0;}#sk-container-id-1 div.sk-dashed-wrapped {border: 1px dashed gray;margin: 0 0.4em 0.5em 0.4em;box-sizing: border-box;padding-bottom: 0.4em;background-color: white;}#sk-container-id-1 div.sk-label label {font-family: monospace;font-weight: bold;display: inline-block;line-height: 1.2em;}#sk-container-id-1 div.sk-label-container {text-align: center;}#sk-container-id-1 div.sk-container {/* jupyter's `normalize.less` sets `[hidden] { display: none; }` but bootstrap.min.css set `[hidden] { display: none !important; }` so we also need the `!important` here to be able to override the default hidden behavior on the sphinx rendered scikit-learn.org. See: https://github.com/scikit-learn/scikit-learn/issues/21755 */display: inline-block !important;position: relative;}#sk-container-id-1 div.sk-text-repr-fallback {display: none;}</style><div id=\"sk-container-id-1\" class=\"sk-top-container\"><div class=\"sk-text-repr-fallback\"><pre>KNeighborsRegressor(n_neighbors=19)</pre><b>In a Jupyter environment, please rerun this cell to show the HTML representation or trust the notebook. <br />On GitHub, the HTML representation is unable to render, please try loading this page with nbviewer.org.</b></div><div class=\"sk-container\" hidden><div class=\"sk-item\"><div class=\"sk-estimator sk-toggleable\"><input class=\"sk-toggleable__control sk-hidden--visually\" id=\"sk-estimator-id-1\" type=\"checkbox\" checked><label for=\"sk-estimator-id-1\" class=\"sk-toggleable__label sk-toggleable__label-arrow\">KNeighborsRegressor</label><div class=\"sk-toggleable__content\"><pre>KNeighborsRegressor(n_neighbors=19)</pre></div></div></div></div></div>"
      ],
      "text/plain": [
       "KNeighborsRegressor(n_neighbors=19)"
      ]
     },
     "execution_count": 61,
     "metadata": {},
     "output_type": "execute_result"
    }
   ],
   "source": [
    "model_knn"
   ]
  },
  {
   "cell_type": "code",
   "execution_count": 62,
   "id": "0c7e4ccd",
   "metadata": {},
   "outputs": [
    {
     "name": "stdout",
     "output_type": "stream",
     "text": [
      "r2_score_test:  0.7299580721414105\n",
      "r2_score_train:  0.896629666254085\n"
     ]
    }
   ],
   "source": [
    "# Choose K=5\n",
    "model_knn = neighbors.KNeighborsRegressor(n_neighbors = 3)\n",
    "model_knn.fit(X_train, y_train)  #fit the model\n",
    "    \n",
    "knn_models[K] = model_knn \n",
    "pred_test=model_knn.predict(X_test) #make prediction on test set\n",
    "pred_train=model_knn.predict(X_train) #make prediction on test set\n",
    "print('r2_score_test: ', r2_score(y_test,pred_test))\n",
    "print('r2_score_train: ', r2_score(y_train,pred_train))"
   ]
  },
  {
   "cell_type": "code",
   "execution_count": 226,
   "id": "98145dfd",
   "metadata": {},
   "outputs": [],
   "source": [
    "# rmse_lm_test_KNN= sqrt(mean_squared_error(y_test,pred))\n",
    "# print (rmse_lm_test_KNN)"
   ]
  },
  {
   "cell_type": "code",
   "execution_count": 227,
   "id": "8219dfe5",
   "metadata": {},
   "outputs": [],
   "source": [
    "# knn_models[K] = model_knn \n",
    "# pred=model_knn.predict(X_train) #make prediction on train set\n",
    "# rmse_lm_train_KNN=sqrt(mean_squared_error(y_train,pred))\n",
    "# print (rmse_lm_train_KNN)"
   ]
  },
  {
   "cell_type": "code",
   "execution_count": 63,
   "id": "e28ab57f",
   "metadata": {},
   "outputs": [],
   "source": [
    "r2_score_test_knn = r2_score(y_test,pred_test)"
   ]
  },
  {
   "cell_type": "code",
   "execution_count": 64,
   "id": "b7b437e3",
   "metadata": {},
   "outputs": [],
   "source": [
    "r2_score_train_knn = r2_score(y_train,pred_train)"
   ]
  },
  {
   "cell_type": "code",
   "execution_count": 115,
   "id": "f974733b",
   "metadata": {},
   "outputs": [
    {
     "ename": "NameError",
     "evalue": "name 'y_pred_train_lm' is not defined",
     "output_type": "error",
     "traceback": [
      "\u001b[1;31m---------------------------------------------------------------------------\u001b[0m",
      "\u001b[1;31mNameError\u001b[0m                                 Traceback (most recent call last)",
      "\u001b[1;32m~\\AppData\\Local\\Temp/ipykernel_18932/2918746364.py\u001b[0m in \u001b[0;36m<module>\u001b[1;34m\u001b[0m\n\u001b[1;32m----> 1\u001b[1;33m \u001b[0mmatrix2\u001b[0m\u001b[1;33m=\u001b[0m \u001b[0mpd\u001b[0m\u001b[1;33m.\u001b[0m\u001b[0mDataFrame\u001b[0m\u001b[1;33m(\u001b[0m\u001b[1;33m{\u001b[0m\u001b[1;34m'y_train'\u001b[0m\u001b[1;33m:\u001b[0m \u001b[0my_train\u001b[0m\u001b[1;33m,\u001b[0m \u001b[1;34m'y_train_pred_lm'\u001b[0m\u001b[1;33m:\u001b[0m \u001b[0my_pred_train_lm\u001b[0m\u001b[1;33m,\u001b[0m \u001b[1;34m'Residuals_train_lm'\u001b[0m\u001b[1;33m:\u001b[0m \u001b[0my_train\u001b[0m \u001b[1;33m-\u001b[0m \u001b[0my_pred_train_lm\u001b[0m\u001b[1;33m,\u001b[0m \u001b[1;34m'y_train_pred_knn'\u001b[0m\u001b[1;33m:\u001b[0m \u001b[0my_train_pred_knn\u001b[0m\u001b[1;33m,\u001b[0m \u001b[1;34m'Residuals_train_knn'\u001b[0m\u001b[1;33m:\u001b[0m  \u001b[0my_train\u001b[0m \u001b[1;33m-\u001b[0m \u001b[0my_train_pred_knn\u001b[0m \u001b[1;33m}\u001b[0m\u001b[1;33m)\u001b[0m\u001b[1;33m\u001b[0m\u001b[1;33m\u001b[0m\u001b[0m\n\u001b[0m",
      "\u001b[1;31mNameError\u001b[0m: name 'y_pred_train_lm' is not defined"
     ]
    }
   ],
   "source": [
    "matrix2= pd.DataFrame({'y_train': y_train, 'y_train_pred_lm': y_pred_train_lm, 'Residuals_train_lm': y_train - y_pred_train_lm, 'y_train_pred_knn': y_train_pred_knn, 'Residuals_train_knn':  y_train - y_train_pred_knn })"
   ]
  },
  {
   "cell_type": "code",
   "execution_count": 96,
   "id": "0a0a3f91",
   "metadata": {},
   "outputs": [],
   "source": [
    "matrix= pd.DataFrame({'Model': ['model_lm', 'model_knn'], 'Train': [r2_score_train,r2_score_train_knn], 'Test': [r2_score_test, r2_score_test_knn]})\n"
   ]
  },
  {
   "cell_type": "code",
   "execution_count": 235,
   "id": "7527b8a2",
   "metadata": {},
   "outputs": [
    {
     "data": {
      "text/html": [
       "<div>\n",
       "<style scoped>\n",
       "    .dataframe tbody tr th:only-of-type {\n",
       "        vertical-align: middle;\n",
       "    }\n",
       "\n",
       "    .dataframe tbody tr th {\n",
       "        vertical-align: top;\n",
       "    }\n",
       "\n",
       "    .dataframe thead th {\n",
       "        text-align: right;\n",
       "    }\n",
       "</style>\n",
       "<table border=\"1\" class=\"dataframe\">\n",
       "  <thead>\n",
       "    <tr style=\"text-align: right;\">\n",
       "      <th></th>\n",
       "      <th>Model</th>\n",
       "      <th>Train</th>\n",
       "      <th>Test</th>\n",
       "    </tr>\n",
       "  </thead>\n",
       "  <tbody>\n",
       "    <tr>\n",
       "      <th>0</th>\n",
       "      <td>model_lm</td>\n",
       "      <td>0.098317</td>\n",
       "      <td>0.072878</td>\n",
       "    </tr>\n",
       "    <tr>\n",
       "      <th>1</th>\n",
       "      <td>model_knn</td>\n",
       "      <td>0.819401</td>\n",
       "      <td>0.748948</td>\n",
       "    </tr>\n",
       "  </tbody>\n",
       "</table>\n",
       "</div>"
      ],
      "text/plain": [
       "       Model     Train      Test\n",
       "0   model_lm  0.098317  0.072878\n",
       "1  model_knn  0.819401  0.748948"
      ]
     },
     "execution_count": 235,
     "metadata": {},
     "output_type": "execute_result"
    }
   ],
   "source": [
    "matrix"
   ]
  },
  {
   "cell_type": "code",
   "execution_count": 116,
   "id": "e72a1688",
   "metadata": {},
   "outputs": [
    {
     "ename": "NameError",
     "evalue": "name 'y_pred_train_lm' is not defined",
     "output_type": "error",
     "traceback": [
      "\u001b[1;31m---------------------------------------------------------------------------\u001b[0m",
      "\u001b[1;31mNameError\u001b[0m                                 Traceback (most recent call last)",
      "\u001b[1;32m~\\AppData\\Local\\Temp/ipykernel_18932/3595083678.py\u001b[0m in \u001b[0;36m<module>\u001b[1;34m\u001b[0m\n\u001b[1;32m----> 1\u001b[1;33m \u001b[0my_train\u001b[0m \u001b[1;33m-\u001b[0m \u001b[0my_pred_train_lm\u001b[0m\u001b[1;33m\u001b[0m\u001b[1;33m\u001b[0m\u001b[0m\n\u001b[0m",
      "\u001b[1;31mNameError\u001b[0m: name 'y_pred_train_lm' is not defined"
     ]
    }
   ],
   "source": [
    "y_train - y_pred_train_lm"
   ]
  },
  {
   "cell_type": "code",
   "execution_count": 195,
   "id": "4c31ffa0",
   "metadata": {},
   "outputs": [
    {
     "data": {
      "text/plain": [
       "122   -0.028452\n",
       "62     0.005765\n",
       "327    0.226803\n",
       "177   -0.018550\n",
       "312   -0.184939\n",
       "         ...   \n",
       "84     0.045393\n",
       "76    -0.170981\n",
       "206   -0.017379\n",
       "141   -0.085854\n",
       "63    -0.012961\n",
       "Name: fdi, Length: 203, dtype: float64"
      ]
     },
     "execution_count": 195,
     "metadata": {},
     "output_type": "execute_result"
    }
   ],
   "source": [
    "y_train - y_train_pred_knn"
   ]
  },
  {
   "cell_type": "code",
   "execution_count": 71,
   "id": "598740e3",
   "metadata": {},
   "outputs": [
    {
     "data": {
      "text/plain": [
       "array([-0.13009192, -0.42427708, -0.3466287 , -0.43071895, -0.44004462,\n",
       "       -0.44004462, -0.38909847, -0.28658833,  0.33049093, -0.17860422,\n",
       "       -0.30412957, -0.32386619, -0.33708532,  0.15146812, -0.41642149,\n",
       "       -0.38067653,  0.21608705, -0.37069947, -0.38884856,  0.03249803,\n",
       "       -0.31262484,  0.05058064, -0.08554325, -0.43248666, -0.43248666,\n",
       "       -0.15979694, -0.41418535, -0.11708436, -0.41642149, -0.24836472,\n",
       "       -0.37369963, -0.37981699,  0.10240295, -0.38877694, -0.260517  ,\n",
       "       -0.2861857 ,  0.11667885, -0.30936047, -0.24042109, -0.25505648,\n",
       "       -0.2230325 , -0.2861857 , -0.30097727,  0.24083258, -0.17075657,\n",
       "       -0.42758189,  0.11650634,  0.21928258, -0.46396514, -0.40122344,\n",
       "       -0.32953939, -0.389763  , -0.37369963, -0.2849105 , -0.21267904,\n",
       "       -0.31262484, -0.46033327, -0.23999649, -0.33671746, -0.39241863,\n",
       "       -0.32106226, -0.05719572, -0.00795643, -0.2034401 , -0.29969153,\n",
       "       -0.3896851 , -0.11708436, -0.46033327, -0.11816691, -0.21267904,\n",
       "        0.24083258, -0.42758189, -0.37613182, -0.42441195, -0.31262484,\n",
       "        0.3977469 , -0.13009192, -0.35032036, -0.17860422, -0.17409789,\n",
       "       -0.32050173, -0.40901368, -0.42427708, -0.33922642, -0.39044908,\n",
       "       -0.2230325 , -0.44907116, -0.33922642, -0.14298071, -0.44777328,\n",
       "       -0.42142076, -0.30850592, -0.42441195, -0.30850592, -0.32346095,\n",
       "       -0.42823912, -0.34727273, -0.40901368, -0.27996153, -0.17684127,\n",
       "       -0.18604257, -0.39157712, -0.40585597, -0.2230325 , -0.27019869,\n",
       "       -0.34899218, -0.36390429, -0.39957599, -0.36130134, -0.32953939,\n",
       "        0.33049093, -0.06562889, -0.39044908, -0.3865493 , -0.10533583,\n",
       "        0.33049093, -0.38416052, -0.42076837, -0.2314548 , -0.18483131,\n",
       "       -0.12714201, -0.21861344, -0.13009192,  0.10240295, -0.36934989,\n",
       "       -0.39315977, -0.14883013, -0.40901368, -0.39251058, -0.17860422,\n",
       "       -0.44777328, -0.21267904, -0.36934989, -0.35905659, -0.18696719,\n",
       "       -0.37069947, -0.3082164 , -0.36390429, -0.11618269, -0.04342258,\n",
       "       -0.43071895, -0.2314548 , -0.42427708, -0.00795643, -0.37369963,\n",
       "        0.12155694, -0.19679186, -0.35827017, -0.39157712,  0.1541808 ,\n",
       "        0.20684829, -0.11816691, -0.25064264, -0.41433026, -0.24755365,\n",
       "        0.21608705, -0.3896851 ,  0.15146812, -0.19679186, -0.30936047,\n",
       "       -0.40117559, -0.42648144, -0.38274374, -0.32050173, -0.43429537,\n",
       "       -0.17931041, -0.40585597, -0.41507757, -0.36934989,  0.11044558,\n",
       "       -0.22536422, -0.39241863, -0.26810278, -0.32953939, -0.24042109,\n",
       "       -0.21861344, -0.2861857 , -0.42076837, -0.38632917, -0.38597192,\n",
       "       -0.38877694, -0.28658833, -0.46396514, -0.00729048, -0.3082164 ,\n",
       "       -0.38153346, -0.24042109, -0.39315977, -0.39806363, -0.16648647,\n",
       "       -0.32050173, -0.26688185, -0.2314548 , -0.38632917, -0.27540369,\n",
       "       -0.28658833, -0.12714201, -0.15587316,  0.05373025, -0.05689354,\n",
       "       -0.29899197,  0.15146812, -0.44777328])"
      ]
     },
     "execution_count": 71,
     "metadata": {},
     "output_type": "execute_result"
    }
   ],
   "source": [
    "y_train_pred_knn"
   ]
  },
  {
   "cell_type": "code",
   "execution_count": null,
   "id": "08978789",
   "metadata": {},
   "outputs": [],
   "source": [
    "y_train"
   ]
  },
  {
   "cell_type": "code",
   "execution_count": 65,
   "id": "51022747",
   "metadata": {},
   "outputs": [
    {
     "name": "stdout",
     "output_type": "stream",
     "text": [
      "[-0.389763   -0.32204412  0.11667885 -0.3466287  -0.42345683 -0.43199475\n",
      " -0.43152144 -0.40585597 -0.40585597  0.12155694 -0.39806363 -0.32953939\n",
      " -0.33708532 -0.42345683 -0.38632917 -0.35985282 -0.20254401 -0.4316551\n",
      " -0.30850592 -0.2324863  -0.38597192 -0.4282778   0.15146812 -0.389763\n",
      " -0.38597192 -0.35126398 -0.05719572 -0.36934989 -0.08685706  0.15146812\n",
      " -0.05719572 -0.31318519  0.11667885 -0.31487231 -0.2314548  -0.43071895\n",
      " -0.46033327 -0.06050305  0.11862711 -0.16181967 -0.38653426 -0.42379377\n",
      " -0.3736094  -0.37249524 -0.33708532  0.15146812  0.28574727 -0.37099626\n",
      " -0.36390429 -0.39806363 -0.34080006  0.05373025 -0.37069947  0.03142665\n",
      " -0.25505648 -0.46033327 -0.16648647 -0.28658833 -0.11708436 -0.40748234\n",
      " -0.44777328 -0.27540369 -0.20281295 -0.38632917 -0.35468735 -0.43248666\n",
      " -0.12714201 -0.18005673 -0.26688185  0.05373025 -0.38597192 -0.32386619\n",
      " -0.43071895 -0.19679186 -0.43774374 -0.40235735 -0.2314548  -0.36390429\n",
      " -0.44085054 -0.05719572 -0.41507757 -0.37525538 -0.29969153 -0.43121086\n",
      " -0.26385146 -0.32050173 -0.18696719]\n"
     ]
    }
   ],
   "source": [
    "pred_X_test_knn=model_knn.predict(X_test) #make prediction on test set\n",
    "print (pred_X_test_knn)"
   ]
  },
  {
   "cell_type": "code",
   "execution_count": 66,
   "id": "e33ec7b7",
   "metadata": {},
   "outputs": [
    {
     "name": "stdout",
     "output_type": "stream",
     "text": [
      "[-0.13009192 -0.42427708 -0.3466287  -0.43071895 -0.44004462 -0.44004462\n",
      " -0.38909847 -0.28658833  0.33049093 -0.17860422 -0.30412957 -0.32386619\n",
      " -0.33708532  0.15146812 -0.41642149 -0.38067653  0.21608705 -0.37069947\n",
      " -0.38884856  0.03249803 -0.31262484  0.05058064 -0.08554325 -0.43248666\n",
      " -0.43248666 -0.15979694 -0.41418535 -0.11708436 -0.41642149 -0.24836472\n",
      " -0.37369963 -0.37981699  0.10240295 -0.38877694 -0.260517   -0.2861857\n",
      "  0.11667885 -0.30936047 -0.24042109 -0.25505648 -0.2230325  -0.2861857\n",
      " -0.30097727  0.24083258 -0.17075657 -0.42758189  0.11650634  0.21928258\n",
      " -0.46396514 -0.40122344 -0.32953939 -0.389763   -0.37369963 -0.2849105\n",
      " -0.21267904 -0.31262484 -0.46033327 -0.23999649 -0.33671746 -0.39241863\n",
      " -0.32106226 -0.05719572 -0.00795643 -0.2034401  -0.29969153 -0.3896851\n",
      " -0.11708436 -0.46033327 -0.11816691 -0.21267904  0.24083258 -0.42758189\n",
      " -0.37613182 -0.42441195 -0.31262484  0.3977469  -0.13009192 -0.35032036\n",
      " -0.17860422 -0.17409789 -0.32050173 -0.40901368 -0.42427708 -0.33922642\n",
      " -0.39044908 -0.2230325  -0.44907116 -0.33922642 -0.14298071 -0.44777328\n",
      " -0.42142076 -0.30850592 -0.42441195 -0.30850592 -0.32346095 -0.42823912\n",
      " -0.34727273 -0.40901368 -0.27996153 -0.17684127 -0.18604257 -0.39157712\n",
      " -0.40585597 -0.2230325  -0.27019869 -0.34899218 -0.36390429 -0.39957599\n",
      " -0.36130134 -0.32953939  0.33049093 -0.06562889 -0.39044908 -0.3865493\n",
      " -0.10533583  0.33049093 -0.38416052 -0.42076837 -0.2314548  -0.18483131\n",
      " -0.12714201 -0.21861344 -0.13009192  0.10240295 -0.36934989 -0.39315977\n",
      " -0.14883013 -0.40901368 -0.39251058 -0.17860422 -0.44777328 -0.21267904\n",
      " -0.36934989 -0.35905659 -0.18696719 -0.37069947 -0.3082164  -0.36390429\n",
      " -0.11618269 -0.04342258 -0.43071895 -0.2314548  -0.42427708 -0.00795643\n",
      " -0.37369963  0.12155694 -0.19679186 -0.35827017 -0.39157712  0.1541808\n",
      "  0.20684829 -0.11816691 -0.25064264 -0.41433026 -0.24755365  0.21608705\n",
      " -0.3896851   0.15146812 -0.19679186 -0.30936047 -0.40117559 -0.42648144\n",
      " -0.38274374 -0.32050173 -0.43429537 -0.17931041 -0.40585597 -0.41507757\n",
      " -0.36934989  0.11044558 -0.22536422 -0.39241863 -0.26810278 -0.32953939\n",
      " -0.24042109 -0.21861344 -0.2861857  -0.42076837 -0.38632917 -0.38597192\n",
      " -0.38877694 -0.28658833 -0.46396514 -0.00729048 -0.3082164  -0.38153346\n",
      " -0.24042109 -0.39315977 -0.39806363 -0.16648647 -0.32050173 -0.26688185\n",
      " -0.2314548  -0.38632917 -0.27540369 -0.28658833 -0.12714201 -0.15587316\n",
      "  0.05373025 -0.05689354 -0.29899197  0.15146812 -0.44777328]\n"
     ]
    }
   ],
   "source": [
    "\n",
    "pred_X_train_knn=model_knn.predict(X_train) #make prediction on test set\n",
    "print (pred_X_train_knn)"
   ]
  },
  {
   "cell_type": "markdown",
   "id": "122f1f3e",
   "metadata": {},
   "source": [
    "# plotting the rmse values against k values\n"
   ]
  },
  {
   "cell_type": "code",
   "execution_count": 67,
   "id": "09db9adb",
   "metadata": {},
   "outputs": [
    {
     "data": {
      "text/plain": [
       "<AxesSubplot:>"
      ]
     },
     "execution_count": 67,
     "metadata": {},
     "output_type": "execute_result"
    },
    {
     "data": {
      "image/png": "[encoded data removed]",
      "text/plain": [
       "<Figure size 432x288 with 1 Axes>"
      ]
     },
     "metadata": {
      "needs_background": "light"
     },
     "output_type": "display_data"
    }
   ],
   "source": [
    "curve = pd.DataFrame(rmse_val) #elbow curve \n",
    "curve.plot()"
   ]
  },
  {
   "cell_type": "code",
   "execution_count": 112,
   "id": "6aad5f8b",
   "metadata": {},
   "outputs": [
    {
     "ename": "ValueError",
     "evalue": "x and y must have same first dimension, but have shapes (13,) and (19,)",
     "output_type": "error",
     "traceback": [
      "\u001b[1;31m---------------------------------------------------------------------------\u001b[0m",
      "\u001b[1;31mValueError\u001b[0m                                Traceback (most recent call last)",
      "\u001b[1;32m~\\AppData\\Local\\Temp/ipykernel_18932/3299076087.py\u001b[0m in \u001b[0;36m<module>\u001b[1;34m\u001b[0m\n\u001b[0;32m      1\u001b[0m \u001b[0mplt\u001b[0m\u001b[1;33m.\u001b[0m\u001b[0mfigure\u001b[0m\u001b[1;33m(\u001b[0m\u001b[0mfigsize\u001b[0m\u001b[1;33m=\u001b[0m\u001b[1;33m(\u001b[0m\u001b[1;36m10\u001b[0m\u001b[1;33m,\u001b[0m\u001b[1;36m6\u001b[0m\u001b[1;33m)\u001b[0m\u001b[1;33m)\u001b[0m\u001b[1;33m\u001b[0m\u001b[1;33m\u001b[0m\u001b[0m\n\u001b[1;32m----> 2\u001b[1;33m \u001b[0mplt\u001b[0m\u001b[1;33m.\u001b[0m\u001b[0mplot\u001b[0m\u001b[1;33m(\u001b[0m\u001b[0mrange\u001b[0m\u001b[1;33m(\u001b[0m\u001b[1;36m2\u001b[0m\u001b[1;33m,\u001b[0m\u001b[1;36m15\u001b[0m\u001b[1;33m)\u001b[0m\u001b[1;33m,\u001b[0m\u001b[0mrmse_val\u001b[0m\u001b[1;33m,\u001b[0m\u001b[0mcolor\u001b[0m \u001b[1;33m=\u001b[0m \u001b[1;34m'blue'\u001b[0m\u001b[1;33m,\u001b[0m \u001b[0mlinestyle\u001b[0m\u001b[1;33m=\u001b[0m\u001b[1;34m'dashed'\u001b[0m\u001b[1;33m,\u001b[0m \u001b[0mmarker\u001b[0m\u001b[1;33m=\u001b[0m\u001b[1;34m'o'\u001b[0m\u001b[1;33m,\u001b[0m \u001b[0mmarkerfacecolor\u001b[0m\u001b[1;33m=\u001b[0m\u001b[1;34m'red'\u001b[0m\u001b[1;33m,\u001b[0m \u001b[0mmarkersize\u001b[0m\u001b[1;33m=\u001b[0m\u001b[1;36m10\u001b[0m\u001b[1;33m)\u001b[0m\u001b[1;33m\u001b[0m\u001b[1;33m\u001b[0m\u001b[0m\n\u001b[0m\u001b[0;32m      3\u001b[0m \u001b[0mplt\u001b[0m\u001b[1;33m.\u001b[0m\u001b[0mtitle\u001b[0m\u001b[1;33m(\u001b[0m\u001b[1;34m'r2_score vs. k value'\u001b[0m\u001b[1;33m)\u001b[0m\u001b[1;33m\u001b[0m\u001b[1;33m\u001b[0m\u001b[0m\n\u001b[0;32m      4\u001b[0m \u001b[0mplt\u001b[0m\u001b[1;33m.\u001b[0m\u001b[0mxticks\u001b[0m\u001b[1;33m(\u001b[0m\u001b[0mrange\u001b[0m\u001b[1;33m(\u001b[0m\u001b[1;36m1\u001b[0m\u001b[1;33m,\u001b[0m\u001b[1;36m16\u001b[0m\u001b[1;33m)\u001b[0m\u001b[1;33m)\u001b[0m\u001b[1;33m\u001b[0m\u001b[1;33m\u001b[0m\u001b[0m\n\u001b[0;32m      5\u001b[0m \u001b[0mplt\u001b[0m\u001b[1;33m.\u001b[0m\u001b[0mxlabel\u001b[0m\u001b[1;33m(\u001b[0m\u001b[1;34m'K'\u001b[0m\u001b[1;33m)\u001b[0m\u001b[1;33m\u001b[0m\u001b[1;33m\u001b[0m\u001b[0m\n",
      "\u001b[1;32m~\\anaconda3\\lib\\site-packages\\matplotlib\\pyplot.py\u001b[0m in \u001b[0;36mplot\u001b[1;34m(scalex, scaley, data, *args, **kwargs)\u001b[0m\n\u001b[0;32m   3017\u001b[0m \u001b[1;33m@\u001b[0m\u001b[0m_copy_docstring_and_deprecators\u001b[0m\u001b[1;33m(\u001b[0m\u001b[0mAxes\u001b[0m\u001b[1;33m.\u001b[0m\u001b[0mplot\u001b[0m\u001b[1;33m)\u001b[0m\u001b[1;33m\u001b[0m\u001b[1;33m\u001b[0m\u001b[0m\n\u001b[0;32m   3018\u001b[0m \u001b[1;32mdef\u001b[0m \u001b[0mplot\u001b[0m\u001b[1;33m(\u001b[0m\u001b[1;33m*\u001b[0m\u001b[0margs\u001b[0m\u001b[1;33m,\u001b[0m \u001b[0mscalex\u001b[0m\u001b[1;33m=\u001b[0m\u001b[1;32mTrue\u001b[0m\u001b[1;33m,\u001b[0m \u001b[0mscaley\u001b[0m\u001b[1;33m=\u001b[0m\u001b[1;32mTrue\u001b[0m\u001b[1;33m,\u001b[0m \u001b[0mdata\u001b[0m\u001b[1;33m=\u001b[0m\u001b[1;32mNone\u001b[0m\u001b[1;33m,\u001b[0m \u001b[1;33m**\u001b[0m\u001b[0mkwargs\u001b[0m\u001b[1;33m)\u001b[0m\u001b[1;33m:\u001b[0m\u001b[1;33m\u001b[0m\u001b[1;33m\u001b[0m\u001b[0m\n\u001b[1;32m-> 3019\u001b[1;33m     return gca().plot(\n\u001b[0m\u001b[0;32m   3020\u001b[0m         \u001b[1;33m*\u001b[0m\u001b[0margs\u001b[0m\u001b[1;33m,\u001b[0m \u001b[0mscalex\u001b[0m\u001b[1;33m=\u001b[0m\u001b[0mscalex\u001b[0m\u001b[1;33m,\u001b[0m \u001b[0mscaley\u001b[0m\u001b[1;33m=\u001b[0m\u001b[0mscaley\u001b[0m\u001b[1;33m,\u001b[0m\u001b[1;33m\u001b[0m\u001b[1;33m\u001b[0m\u001b[0m\n\u001b[0;32m   3021\u001b[0m         **({\"data\": data} if data is not None else {}), **kwargs)\n",
      "\u001b[1;32m~\\anaconda3\\lib\\site-packages\\matplotlib\\axes\\_axes.py\u001b[0m in \u001b[0;36mplot\u001b[1;34m(self, scalex, scaley, data, *args, **kwargs)\u001b[0m\n\u001b[0;32m   1603\u001b[0m         \"\"\"\n\u001b[0;32m   1604\u001b[0m         \u001b[0mkwargs\u001b[0m \u001b[1;33m=\u001b[0m \u001b[0mcbook\u001b[0m\u001b[1;33m.\u001b[0m\u001b[0mnormalize_kwargs\u001b[0m\u001b[1;33m(\u001b[0m\u001b[0mkwargs\u001b[0m\u001b[1;33m,\u001b[0m \u001b[0mmlines\u001b[0m\u001b[1;33m.\u001b[0m\u001b[0mLine2D\u001b[0m\u001b[1;33m)\u001b[0m\u001b[1;33m\u001b[0m\u001b[1;33m\u001b[0m\u001b[0m\n\u001b[1;32m-> 1605\u001b[1;33m         \u001b[0mlines\u001b[0m \u001b[1;33m=\u001b[0m \u001b[1;33m[\u001b[0m\u001b[1;33m*\u001b[0m\u001b[0mself\u001b[0m\u001b[1;33m.\u001b[0m\u001b[0m_get_lines\u001b[0m\u001b[1;33m(\u001b[0m\u001b[1;33m*\u001b[0m\u001b[0margs\u001b[0m\u001b[1;33m,\u001b[0m \u001b[0mdata\u001b[0m\u001b[1;33m=\u001b[0m\u001b[0mdata\u001b[0m\u001b[1;33m,\u001b[0m \u001b[1;33m**\u001b[0m\u001b[0mkwargs\u001b[0m\u001b[1;33m)\u001b[0m\u001b[1;33m]\u001b[0m\u001b[1;33m\u001b[0m\u001b[1;33m\u001b[0m\u001b[0m\n\u001b[0m\u001b[0;32m   1606\u001b[0m         \u001b[1;32mfor\u001b[0m \u001b[0mline\u001b[0m \u001b[1;32min\u001b[0m \u001b[0mlines\u001b[0m\u001b[1;33m:\u001b[0m\u001b[1;33m\u001b[0m\u001b[1;33m\u001b[0m\u001b[0m\n\u001b[0;32m   1607\u001b[0m             \u001b[0mself\u001b[0m\u001b[1;33m.\u001b[0m\u001b[0madd_line\u001b[0m\u001b[1;33m(\u001b[0m\u001b[0mline\u001b[0m\u001b[1;33m)\u001b[0m\u001b[1;33m\u001b[0m\u001b[1;33m\u001b[0m\u001b[0m\n",
      "\u001b[1;32m~\\anaconda3\\lib\\site-packages\\matplotlib\\axes\\_base.py\u001b[0m in \u001b[0;36m__call__\u001b[1;34m(self, data, *args, **kwargs)\u001b[0m\n\u001b[0;32m    313\u001b[0m                 \u001b[0mthis\u001b[0m \u001b[1;33m+=\u001b[0m \u001b[0margs\u001b[0m\u001b[1;33m[\u001b[0m\u001b[1;36m0\u001b[0m\u001b[1;33m]\u001b[0m\u001b[1;33m,\u001b[0m\u001b[1;33m\u001b[0m\u001b[1;33m\u001b[0m\u001b[0m\n\u001b[0;32m    314\u001b[0m                 \u001b[0margs\u001b[0m \u001b[1;33m=\u001b[0m \u001b[0margs\u001b[0m\u001b[1;33m[\u001b[0m\u001b[1;36m1\u001b[0m\u001b[1;33m:\u001b[0m\u001b[1;33m]\u001b[0m\u001b[1;33m\u001b[0m\u001b[1;33m\u001b[0m\u001b[0m\n\u001b[1;32m--> 315\u001b[1;33m             \u001b[1;32myield\u001b[0m \u001b[1;32mfrom\u001b[0m \u001b[0mself\u001b[0m\u001b[1;33m.\u001b[0m\u001b[0m_plot_args\u001b[0m\u001b[1;33m(\u001b[0m\u001b[0mthis\u001b[0m\u001b[1;33m,\u001b[0m \u001b[0mkwargs\u001b[0m\u001b[1;33m)\u001b[0m\u001b[1;33m\u001b[0m\u001b[1;33m\u001b[0m\u001b[0m\n\u001b[0m\u001b[0;32m    316\u001b[0m \u001b[1;33m\u001b[0m\u001b[0m\n\u001b[0;32m    317\u001b[0m     \u001b[1;32mdef\u001b[0m \u001b[0mget_next_color\u001b[0m\u001b[1;33m(\u001b[0m\u001b[0mself\u001b[0m\u001b[1;33m)\u001b[0m\u001b[1;33m:\u001b[0m\u001b[1;33m\u001b[0m\u001b[1;33m\u001b[0m\u001b[0m\n",
      "\u001b[1;32m~\\anaconda3\\lib\\site-packages\\matplotlib\\axes\\_base.py\u001b[0m in \u001b[0;36m_plot_args\u001b[1;34m(self, tup, kwargs, return_kwargs)\u001b[0m\n\u001b[0;32m    499\u001b[0m \u001b[1;33m\u001b[0m\u001b[0m\n\u001b[0;32m    500\u001b[0m         \u001b[1;32mif\u001b[0m \u001b[0mx\u001b[0m\u001b[1;33m.\u001b[0m\u001b[0mshape\u001b[0m\u001b[1;33m[\u001b[0m\u001b[1;36m0\u001b[0m\u001b[1;33m]\u001b[0m \u001b[1;33m!=\u001b[0m \u001b[0my\u001b[0m\u001b[1;33m.\u001b[0m\u001b[0mshape\u001b[0m\u001b[1;33m[\u001b[0m\u001b[1;36m0\u001b[0m\u001b[1;33m]\u001b[0m\u001b[1;33m:\u001b[0m\u001b[1;33m\u001b[0m\u001b[1;33m\u001b[0m\u001b[0m\n\u001b[1;32m--> 501\u001b[1;33m             raise ValueError(f\"x and y must have same first dimension, but \"\n\u001b[0m\u001b[0;32m    502\u001b[0m                              f\"have shapes {x.shape} and {y.shape}\")\n\u001b[0;32m    503\u001b[0m         \u001b[1;32mif\u001b[0m \u001b[0mx\u001b[0m\u001b[1;33m.\u001b[0m\u001b[0mndim\u001b[0m \u001b[1;33m>\u001b[0m \u001b[1;36m2\u001b[0m \u001b[1;32mor\u001b[0m \u001b[0my\u001b[0m\u001b[1;33m.\u001b[0m\u001b[0mndim\u001b[0m \u001b[1;33m>\u001b[0m \u001b[1;36m2\u001b[0m\u001b[1;33m:\u001b[0m\u001b[1;33m\u001b[0m\u001b[1;33m\u001b[0m\u001b[0m\n",
      "\u001b[1;31mValueError\u001b[0m: x and y must have same first dimension, but have shapes (13,) and (19,)"
     ]
    },
    {
     "data": {
      "image/png": "[encoded data removed]",
      "text/plain": [
       "<Figure size 720x432 with 1 Axes>"
      ]
     },
     "metadata": {
      "needs_background": "light"
     },
     "output_type": "display_data"
    }
   ],
   "source": [
    "plt.figure(figsize=(10,6))\n",
    "plt.plot(range(2,15),error,color = 'blue', linestyle='dashed', marker='o', markerfacecolor='red', markersize=10)\n",
    "plt.title('r2_score vs. k value')\n",
    "plt.xticks(range(1,16))\n",
    "plt.xlabel('K')\n",
    "plt.ylabel('RMSE')"
   ]
  },
  {
   "cell_type": "code",
   "execution_count": 68,
   "id": "53464dd3",
   "metadata": {},
   "outputs": [
    {
     "data": {
      "image/png": "[encoded data removed]",
      "text/plain": [
       "<Figure size 400x400 with 1 Axes>"
      ]
     },
     "metadata": {
      "needs_background": "light"
     },
     "output_type": "display_data"
    }
   ],
   "source": [
    "from matplotlib.ticker import MultipleLocator\n",
    "\n",
    "fig, ax = plt.subplots(figsize=(4,4), dpi = 100)\n",
    "ax.plot(list(range(1,20)),rmse_val);\n",
    "ax.set_xlim(0,20)\n",
    "ax.xaxis.set_minor_locator(MultipleLocator(1))\n",
    "ax.set_xlabel(\"K\")\n",
    "ax.set_ylabel(\"RMSE\")\n",
    "plt.show()"
   ]
  },
  {
   "cell_type": "raw",
   "id": "a40f1eb4",
   "metadata": {},
   "source": [
    "# As we can see, when we take k=1, we get the very high RMSE value. The RMSE value decreases as we increase the k value. At k= , the RMSE is approximately 1219.06, and shoots up on further increasing the k value. We can safely say that k=3 the RMSE is approximately 0,32 and shoots up on further increasing the k value"
   ]
  },
  {
   "cell_type": "code",
   "execution_count": 69,
   "id": "5ad727cf",
   "metadata": {},
   "outputs": [
    {
     "name": "stdout",
     "output_type": "stream",
     "text": [
      "[-0.389763   -0.32204412  0.11667885 -0.3466287  -0.42345683 -0.43199475\n",
      " -0.43152144 -0.40585597 -0.40585597  0.12155694 -0.39806363 -0.32953939\n",
      " -0.33708532 -0.42345683 -0.38632917 -0.35985282 -0.20254401 -0.4316551\n",
      " -0.30850592 -0.2324863  -0.38597192 -0.4282778   0.15146812 -0.389763\n",
      " -0.38597192 -0.35126398 -0.05719572 -0.36934989 -0.08685706  0.15146812\n",
      " -0.05719572 -0.31318519  0.11667885 -0.31487231 -0.2314548  -0.43071895\n",
      " -0.46033327 -0.06050305  0.11862711 -0.16181967 -0.38653426 -0.42379377\n",
      " -0.3736094  -0.37249524 -0.33708532  0.15146812  0.28574727 -0.37099626\n",
      " -0.36390429 -0.39806363 -0.34080006  0.05373025 -0.37069947  0.03142665\n",
      " -0.25505648 -0.46033327 -0.16648647 -0.28658833 -0.11708436 -0.40748234\n",
      " -0.44777328 -0.27540369 -0.20281295 -0.38632917 -0.35468735 -0.43248666\n",
      " -0.12714201 -0.18005673 -0.26688185  0.05373025 -0.38597192 -0.32386619\n",
      " -0.43071895 -0.19679186 -0.43774374 -0.40235735 -0.2314548  -0.36390429\n",
      " -0.44085054 -0.05719572 -0.41507757 -0.37525538 -0.29969153 -0.43121086\n",
      " -0.26385146 -0.32050173 -0.18696719]\n"
     ]
    }
   ],
   "source": [
    "y_test_pred_knn = knn_models[3].predict(X_test)\n",
    "print (y_test_pred_knn)"
   ]
  },
  {
   "cell_type": "code",
   "execution_count": 70,
   "id": "113a808e",
   "metadata": {},
   "outputs": [
    {
     "name": "stdout",
     "output_type": "stream",
     "text": [
      "[-0.13009192 -0.42427708 -0.3466287  -0.43071895 -0.44004462 -0.44004462\n",
      " -0.38909847 -0.28658833  0.33049093 -0.17860422 -0.30412957 -0.32386619\n",
      " -0.33708532  0.15146812 -0.41642149 -0.38067653  0.21608705 -0.37069947\n",
      " -0.38884856  0.03249803 -0.31262484  0.05058064 -0.08554325 -0.43248666\n",
      " -0.43248666 -0.15979694 -0.41418535 -0.11708436 -0.41642149 -0.24836472\n",
      " -0.37369963 -0.37981699  0.10240295 -0.38877694 -0.260517   -0.2861857\n",
      "  0.11667885 -0.30936047 -0.24042109 -0.25505648 -0.2230325  -0.2861857\n",
      " -0.30097727  0.24083258 -0.17075657 -0.42758189  0.11650634  0.21928258\n",
      " -0.46396514 -0.40122344 -0.32953939 -0.389763   -0.37369963 -0.2849105\n",
      " -0.21267904 -0.31262484 -0.46033327 -0.23999649 -0.33671746 -0.39241863\n",
      " -0.32106226 -0.05719572 -0.00795643 -0.2034401  -0.29969153 -0.3896851\n",
      " -0.11708436 -0.46033327 -0.11816691 -0.21267904  0.24083258 -0.42758189\n",
      " -0.37613182 -0.42441195 -0.31262484  0.3977469  -0.13009192 -0.35032036\n",
      " -0.17860422 -0.17409789 -0.32050173 -0.40901368 -0.42427708 -0.33922642\n",
      " -0.39044908 -0.2230325  -0.44907116 -0.33922642 -0.14298071 -0.44777328\n",
      " -0.42142076 -0.30850592 -0.42441195 -0.30850592 -0.32346095 -0.42823912\n",
      " -0.34727273 -0.40901368 -0.27996153 -0.17684127 -0.18604257 -0.39157712\n",
      " -0.40585597 -0.2230325  -0.27019869 -0.34899218 -0.36390429 -0.39957599\n",
      " -0.36130134 -0.32953939  0.33049093 -0.06562889 -0.39044908 -0.3865493\n",
      " -0.10533583  0.33049093 -0.38416052 -0.42076837 -0.2314548  -0.18483131\n",
      " -0.12714201 -0.21861344 -0.13009192  0.10240295 -0.36934989 -0.39315977\n",
      " -0.14883013 -0.40901368 -0.39251058 -0.17860422 -0.44777328 -0.21267904\n",
      " -0.36934989 -0.35905659 -0.18696719 -0.37069947 -0.3082164  -0.36390429\n",
      " -0.11618269 -0.04342258 -0.43071895 -0.2314548  -0.42427708 -0.00795643\n",
      " -0.37369963  0.12155694 -0.19679186 -0.35827017 -0.39157712  0.1541808\n",
      "  0.20684829 -0.11816691 -0.25064264 -0.41433026 -0.24755365  0.21608705\n",
      " -0.3896851   0.15146812 -0.19679186 -0.30936047 -0.40117559 -0.42648144\n",
      " -0.38274374 -0.32050173 -0.43429537 -0.17931041 -0.40585597 -0.41507757\n",
      " -0.36934989  0.11044558 -0.22536422 -0.39241863 -0.26810278 -0.32953939\n",
      " -0.24042109 -0.21861344 -0.2861857  -0.42076837 -0.38632917 -0.38597192\n",
      " -0.38877694 -0.28658833 -0.46396514 -0.00729048 -0.3082164  -0.38153346\n",
      " -0.24042109 -0.39315977 -0.39806363 -0.16648647 -0.32050173 -0.26688185\n",
      " -0.2314548  -0.38632917 -0.27540369 -0.28658833 -0.12714201 -0.15587316\n",
      "  0.05373025 -0.05689354 -0.29899197  0.15146812 -0.44777328]\n"
     ]
    }
   ],
   "source": [
    "y_train_pred_knn = knn_models[3].predict(X_train)\n",
    "print (y_train_pred_knn)"
   ]
  },
  {
   "cell_type": "markdown",
   "id": "3c69b6ed",
   "metadata": {},
   "source": [
    "# Plotting with KNN regression"
   ]
  },
  {
   "cell_type": "code",
   "execution_count": 72,
   "id": "6f308208",
   "metadata": {},
   "outputs": [
    {
     "data": {
      "image/png": "[encoded data removed]",
      "text/plain": [
       "<Figure size 1440x720 with 4 Axes>"
      ]
     },
     "metadata": {
      "needs_background": "light"
     },
     "output_type": "display_data"
    }
   ],
   "source": [
    "fig, ax = plt.subplots(2,2,figsize=(20,10))\n",
    "sns.scatterplot(x=y_train, y=y_train_pred_knn, ax = ax[0,0])\n",
    "sns.histplot(x=y_train-y_train_pred_knn, ax = ax[0,1], bins = 50)\n",
    "ax[0,0].plot(y_train, y_train, color = \"black\")\n",
    "sns.scatterplot(x=y_test, y=y_test_pred_knn, ax = ax[1,0])\n",
    "sns.histplot(x=y_test-y_test_pred_knn, ax = ax[1,1], bins=50)\n",
    "ax[1,0].plot(y_test, y_test, color=\"black\")\n",
    "plt.show()"
   ]
  },
  {
   "cell_type": "code",
   "execution_count": null,
   "id": "125d1df0",
   "metadata": {},
   "outputs": [],
   "source": [
    "#metrics = pd.DataFrame({'Model': ['Linear Model', 'K-NN'], 'Train': ['RMSE_LM','RMSE_KNN'], 'Test': ['RMSE_LM', 'RMSE_KNN']})"
   ]
  },
  {
   "cell_type": "code",
   "execution_count": null,
   "id": "7f9bf96f",
   "metadata": {},
   "outputs": [],
   "source": [
    "#pd.DataFrame{'y_train': y_train, 'y_train_pred_lm': y_train_pred_lm, 'Residuals_train_lm': y_train - y_train_pred_lm, 'y_train_pred_knn': y_train_pred_knn, 'Residuals_train_knn': }"
   ]
  },
  {
   "cell_type": "markdown",
   "id": "44fdf9dc",
   "metadata": {},
   "source": [
    "# Predictions on the test dataset"
   ]
  },
  {
   "cell_type": "code",
   "execution_count": null,
   "id": "08ca3229",
   "metadata": {},
   "outputs": [],
   "source": [
    "#from sklearn.neighbors import KNeighborsRegressor\n",
    "#neigh = KNeighborsRegressor(n_neighbors=1)\n",
    "#neigh.fit(X, y)\n",
    "#KNeighborsRegressor(n_neighbors=2)\n",
    "#print(neigh.predict([[1.5]]))\n"
   ]
  },
  {
   "cell_type": "markdown",
   "id": "080fe79a",
   "metadata": {},
   "source": [
    "# lm regression"
   ]
  },
  {
   "cell_type": "code",
   "execution_count": 117,
   "id": "58e510ea",
   "metadata": {},
   "outputs": [
    {
     "name": "stdout",
     "output_type": "stream",
     "text": [
      "-0.22383330387574157\n",
      "[ 0.00226185  0.18157033  0.07824851 -0.01500415  0.015244   -0.00842735\n",
      "  0.0290174   0.01538504]\n",
      "0.6536099934122812\n"
     ]
    }
   ],
   "source": [
    "\n",
    "\n",
    "from sklearn import linear_model\n",
    "from sklearn.metrics import mean_squared_error, r2_score\n",
    "\n",
    "y = y_train\n",
    "X = X_train\n",
    "\n",
    "model_lm = linear_model.LinearRegression()\n",
    "model_lm.fit(X_train,y_train)\n",
    "print(model_lm.intercept_)\n",
    "print(model_lm.coef_)\n",
    "print(model_lm.score(X,y))"
   ]
  },
  {
   "cell_type": "code",
   "execution_count": 118,
   "id": "21baf306",
   "metadata": {},
   "outputs": [
    {
     "data": {
      "text/html": [
       "<style>#sk-container-id-3 {color: black;background-color: white;}#sk-container-id-3 pre{padding: 0;}#sk-container-id-3 div.sk-toggleable {background-color: white;}#sk-container-id-3 label.sk-toggleable__label {cursor: pointer;display: block;width: 100%;margin-bottom: 0;padding: 0.3em;box-sizing: border-box;text-align: center;}#sk-container-id-3 label.sk-toggleable__label-arrow:before {content: \"▸\";float: left;margin-right: 0.25em;color: #696969;}#sk-container-id-3 label.sk-toggleable__label-arrow:hover:before {color: black;}#sk-container-id-3 div.sk-estimator:hover label.sk-toggleable__label-arrow:before {color: black;}#sk-container-id-3 div.sk-toggleable__content {max-height: 0;max-width: 0;overflow: hidden;text-align: left;background-color: #f0f8ff;}#sk-container-id-3 div.sk-toggleable__content pre {margin: 0.2em;color: black;border-radius: 0.25em;background-color: #f0f8ff;}#sk-container-id-3 input.sk-toggleable__control:checked~div.sk-toggleable__content {max-height: 200px;max-width: 100%;overflow: auto;}#sk-container-id-3 input.sk-toggleable__control:checked~label.sk-toggleable__label-arrow:before {content: \"▾\";}#sk-container-id-3 div.sk-estimator input.sk-toggleable__control:checked~label.sk-toggleable__label {background-color: #d4ebff;}#sk-container-id-3 div.sk-label input.sk-toggleable__control:checked~label.sk-toggleable__label {background-color: #d4ebff;}#sk-container-id-3 input.sk-hidden--visually {border: 0;clip: rect(1px 1px 1px 1px);clip: rect(1px, 1px, 1px, 1px);height: 1px;margin: -1px;overflow: hidden;padding: 0;position: absolute;width: 1px;}#sk-container-id-3 div.sk-estimator {font-family: monospace;background-color: #f0f8ff;border: 1px dotted black;border-radius: 0.25em;box-sizing: border-box;margin-bottom: 0.5em;}#sk-container-id-3 div.sk-estimator:hover {background-color: #d4ebff;}#sk-container-id-3 div.sk-parallel-item::after {content: \"\";width: 100%;border-bottom: 1px solid gray;flex-grow: 1;}#sk-container-id-3 div.sk-label:hover label.sk-toggleable__label {background-color: #d4ebff;}#sk-container-id-3 div.sk-serial::before {content: \"\";position: absolute;border-left: 1px solid gray;box-sizing: border-box;top: 0;bottom: 0;left: 50%;z-index: 0;}#sk-container-id-3 div.sk-serial {display: flex;flex-direction: column;align-items: center;background-color: white;padding-right: 0.2em;padding-left: 0.2em;position: relative;}#sk-container-id-3 div.sk-item {position: relative;z-index: 1;}#sk-container-id-3 div.sk-parallel {display: flex;align-items: stretch;justify-content: center;background-color: white;position: relative;}#sk-container-id-3 div.sk-item::before, #sk-container-id-3 div.sk-parallel-item::before {content: \"\";position: absolute;border-left: 1px solid gray;box-sizing: border-box;top: 0;bottom: 0;left: 50%;z-index: -1;}#sk-container-id-3 div.sk-parallel-item {display: flex;flex-direction: column;z-index: 1;position: relative;background-color: white;}#sk-container-id-3 div.sk-parallel-item:first-child::after {align-self: flex-end;width: 50%;}#sk-container-id-3 div.sk-parallel-item:last-child::after {align-self: flex-start;width: 50%;}#sk-container-id-3 div.sk-parallel-item:only-child::after {width: 0;}#sk-container-id-3 div.sk-dashed-wrapped {border: 1px dashed gray;margin: 0 0.4em 0.5em 0.4em;box-sizing: border-box;padding-bottom: 0.4em;background-color: white;}#sk-container-id-3 div.sk-label label {font-family: monospace;font-weight: bold;display: inline-block;line-height: 1.2em;}#sk-container-id-3 div.sk-label-container {text-align: center;}#sk-container-id-3 div.sk-container {/* jupyter's `normalize.less` sets `[hidden] { display: none; }` but bootstrap.min.css set `[hidden] { display: none !important; }` so we also need the `!important` here to be able to override the default hidden behavior on the sphinx rendered scikit-learn.org. See: https://github.com/scikit-learn/scikit-learn/issues/21755 */display: inline-block !important;position: relative;}#sk-container-id-3 div.sk-text-repr-fallback {display: none;}</style><div id=\"sk-container-id-3\" class=\"sk-top-container\"><div class=\"sk-text-repr-fallback\"><pre>LinearRegression()</pre><b>In a Jupyter environment, please rerun this cell to show the HTML representation or trust the notebook. <br />On GitHub, the HTML representation is unable to render, please try loading this page with nbviewer.org.</b></div><div class=\"sk-container\" hidden><div class=\"sk-item\"><div class=\"sk-estimator sk-toggleable\"><input class=\"sk-toggleable__control sk-hidden--visually\" id=\"sk-estimator-id-3\" type=\"checkbox\" checked><label for=\"sk-estimator-id-3\" class=\"sk-toggleable__label sk-toggleable__label-arrow\">LinearRegression</label><div class=\"sk-toggleable__content\"><pre>LinearRegression()</pre></div></div></div></div></div>"
      ],
      "text/plain": [
       "LinearRegression()"
      ]
     },
     "execution_count": 118,
     "metadata": {},
     "output_type": "execute_result"
    }
   ],
   "source": [
    "model_lm"
   ]
  },
  {
   "cell_type": "code",
   "execution_count": 75,
   "id": "72d5fa4f",
   "metadata": {},
   "outputs": [
    {
     "data": {
      "text/html": [
       "<div>\n",
       "<style scoped>\n",
       "    .dataframe tbody tr th:only-of-type {\n",
       "        vertical-align: middle;\n",
       "    }\n",
       "\n",
       "    .dataframe tbody tr th {\n",
       "        vertical-align: top;\n",
       "    }\n",
       "\n",
       "    .dataframe thead th {\n",
       "        text-align: right;\n",
       "    }\n",
       "</style>\n",
       "<table border=\"1\" class=\"dataframe\">\n",
       "  <thead>\n",
       "    <tr style=\"text-align: right;\">\n",
       "      <th></th>\n",
       "      <th>commercial_opening_rate</th>\n",
       "      <th>exchange_rate</th>\n",
       "      <th>gross_fixed_capital_formation</th>\n",
       "      <th>business_climate</th>\n",
       "      <th>scoreeasedoingbusiness</th>\n",
       "      <th>buf</th>\n",
       "      <th>invf</th>\n",
       "      <th>finfree</th>\n",
       "      <th>stock_market</th>\n",
       "    </tr>\n",
       "  </thead>\n",
       "  <tbody>\n",
       "    <tr>\n",
       "      <th>count</th>\n",
       "      <td>203.000000</td>\n",
       "      <td>203.000000</td>\n",
       "      <td>203.000000</td>\n",
       "      <td>203.000000</td>\n",
       "      <td>203.000000</td>\n",
       "      <td>203.000000</td>\n",
       "      <td>203.000000</td>\n",
       "      <td>203.000000</td>\n",
       "      <td>203.000000</td>\n",
       "    </tr>\n",
       "    <tr>\n",
       "      <th>mean</th>\n",
       "      <td>0.067711</td>\n",
       "      <td>0.027076</td>\n",
       "      <td>-0.199411</td>\n",
       "      <td>0.077549</td>\n",
       "      <td>0.087141</td>\n",
       "      <td>0.073734</td>\n",
       "      <td>0.091716</td>\n",
       "      <td>0.065708</td>\n",
       "      <td>-0.095930</td>\n",
       "    </tr>\n",
       "    <tr>\n",
       "      <th>std</th>\n",
       "      <td>0.730108</td>\n",
       "      <td>1.024687</td>\n",
       "      <td>0.809676</td>\n",
       "      <td>1.001009</td>\n",
       "      <td>0.991883</td>\n",
       "      <td>1.003248</td>\n",
       "      <td>1.010405</td>\n",
       "      <td>0.992018</td>\n",
       "      <td>1.011387</td>\n",
       "    </tr>\n",
       "    <tr>\n",
       "      <th>min</th>\n",
       "      <td>-1.371351</td>\n",
       "      <td>-1.527504</td>\n",
       "      <td>-2.293179</td>\n",
       "      <td>-2.631364</td>\n",
       "      <td>-2.606012</td>\n",
       "      <td>-2.780774</td>\n",
       "      <td>-2.198074</td>\n",
       "      <td>-1.879919</td>\n",
       "      <td>-2.359208</td>\n",
       "    </tr>\n",
       "    <tr>\n",
       "      <th>25%</th>\n",
       "      <td>-0.445307</td>\n",
       "      <td>-0.968676</td>\n",
       "      <td>-0.599667</td>\n",
       "      <td>-0.531177</td>\n",
       "      <td>-0.634833</td>\n",
       "      <td>-0.643083</td>\n",
       "      <td>-0.106297</td>\n",
       "      <td>-0.647929</td>\n",
       "      <td>-0.754096</td>\n",
       "    </tr>\n",
       "    <tr>\n",
       "      <th>50%</th>\n",
       "      <td>0.010300</td>\n",
       "      <td>0.328574</td>\n",
       "      <td>-0.183143</td>\n",
       "      <td>0.009189</td>\n",
       "      <td>0.154035</td>\n",
       "      <td>-0.000925</td>\n",
       "      <td>0.138898</td>\n",
       "      <td>-0.005062</td>\n",
       "      <td>-0.146396</td>\n",
       "    </tr>\n",
       "    <tr>\n",
       "      <th>75%</th>\n",
       "      <td>0.459570</td>\n",
       "      <td>0.710190</td>\n",
       "      <td>0.303801</td>\n",
       "      <td>0.832806</td>\n",
       "      <td>0.791089</td>\n",
       "      <td>0.754141</td>\n",
       "      <td>0.896537</td>\n",
       "      <td>0.742700</td>\n",
       "      <td>0.480958</td>\n",
       "    </tr>\n",
       "    <tr>\n",
       "      <th>max</th>\n",
       "      <td>3.148435</td>\n",
       "      <td>2.024589</td>\n",
       "      <td>1.479084</td>\n",
       "      <td>1.870386</td>\n",
       "      <td>2.524387</td>\n",
       "      <td>2.303536</td>\n",
       "      <td>1.950404</td>\n",
       "      <td>1.591057</td>\n",
       "      <td>2.573010</td>\n",
       "    </tr>\n",
       "  </tbody>\n",
       "</table>\n",
       "</div>"
      ],
      "text/plain": [
       "       commercial_opening_rate  exchange_rate  gross_fixed_capital_formation  \\\n",
       "count               203.000000     203.000000                     203.000000   \n",
       "mean                  0.067711       0.027076                      -0.199411   \n",
       "std                   0.730108       1.024687                       0.809676   \n",
       "min                  -1.371351      -1.527504                      -2.293179   \n",
       "25%                  -0.445307      -0.968676                      -0.599667   \n",
       "50%                   0.010300       0.328574                      -0.183143   \n",
       "75%                   0.459570       0.710190                       0.303801   \n",
       "max                   3.148435       2.024589                       1.479084   \n",
       "\n",
       "       business_climate  scoreeasedoingbusiness         buf        invf  \\\n",
       "count        203.000000              203.000000  203.000000  203.000000   \n",
       "mean           0.077549                0.087141    0.073734    0.091716   \n",
       "std            1.001009                0.991883    1.003248    1.010405   \n",
       "min           -2.631364               -2.606012   -2.780774   -2.198074   \n",
       "25%           -0.531177               -0.634833   -0.643083   -0.106297   \n",
       "50%            0.009189                0.154035   -0.000925    0.138898   \n",
       "75%            0.832806                0.791089    0.754141    0.896537   \n",
       "max            1.870386                2.524387    2.303536    1.950404   \n",
       "\n",
       "          finfree  stock_market  \n",
       "count  203.000000    203.000000  \n",
       "mean     0.065708     -0.095930  \n",
       "std      0.992018      1.011387  \n",
       "min     -1.879919     -2.359208  \n",
       "25%     -0.647929     -0.754096  \n",
       "50%     -0.005062     -0.146396  \n",
       "75%      0.742700      0.480958  \n",
       "max      1.591057      2.573010  "
      ]
     },
     "execution_count": 75,
     "metadata": {},
     "output_type": "execute_result"
    }
   ],
   "source": [
    "X_train.describe()"
   ]
  },
  {
   "cell_type": "markdown",
   "id": "08063a01",
   "metadata": {},
   "source": [
    "# we train/fit our model and evaluate it"
   ]
  },
  {
   "cell_type": "code",
   "execution_count": 119,
   "id": "d4005351",
   "metadata": {},
   "outputs": [
    {
     "name": "stderr",
     "output_type": "stream",
     "text": [
      "C:\\Users\\NON\\anaconda3\\lib\\site-packages\\sklearn\\base.py:450: UserWarning: X does not have valid feature names, but LinearRegression was fitted with feature names\n",
      "  warnings.warn(\n"
     ]
    },
    {
     "ename": "ValueError",
     "evalue": "X has 9 features, but LinearRegression is expecting 8 features as input.",
     "output_type": "error",
     "traceback": [
      "\u001b[1;31m---------------------------------------------------------------------------\u001b[0m",
      "\u001b[1;31mValueError\u001b[0m                                Traceback (most recent call last)",
      "\u001b[1;32m~\\AppData\\Local\\Temp/ipykernel_18932/1764001572.py\u001b[0m in \u001b[0;36m<module>\u001b[1;34m\u001b[0m\n\u001b[0;32m      1\u001b[0m \u001b[1;32mfrom\u001b[0m \u001b[0msklearn\u001b[0m\u001b[1;33m.\u001b[0m\u001b[0mmetrics\u001b[0m \u001b[1;32mimport\u001b[0m \u001b[0mr2_score\u001b[0m\u001b[1;33m\u001b[0m\u001b[1;33m\u001b[0m\u001b[0m\n\u001b[0;32m      2\u001b[0m \u001b[1;33m\u001b[0m\u001b[0m\n\u001b[1;32m----> 3\u001b[1;33m \u001b[0my_pred_train\u001b[0m \u001b[1;33m=\u001b[0m \u001b[0mmodel_lm\u001b[0m\u001b[1;33m.\u001b[0m\u001b[0mpredict\u001b[0m\u001b[1;33m(\u001b[0m\u001b[0mX_train_minmax_scaled\u001b[0m\u001b[1;33m)\u001b[0m\u001b[1;33m\u001b[0m\u001b[1;33m\u001b[0m\u001b[0m\n\u001b[0m\u001b[0;32m      4\u001b[0m \u001b[0my_pred_test\u001b[0m  \u001b[1;33m=\u001b[0m \u001b[0mmodel_lm\u001b[0m\u001b[1;33m.\u001b[0m\u001b[0mpredict\u001b[0m\u001b[1;33m(\u001b[0m\u001b[0mX_test_minmax_scaled\u001b[0m\u001b[1;33m)\u001b[0m\u001b[1;33m\u001b[0m\u001b[1;33m\u001b[0m\u001b[0m\n\u001b[0;32m      5\u001b[0m \u001b[0mr2_score\u001b[0m\u001b[1;33m(\u001b[0m\u001b[0my_train\u001b[0m\u001b[1;33m,\u001b[0m \u001b[0my_pred_train\u001b[0m\u001b[1;33m)\u001b[0m\u001b[1;33m\u001b[0m\u001b[1;33m\u001b[0m\u001b[0m\n",
      "\u001b[1;32m~\\anaconda3\\lib\\site-packages\\sklearn\\linear_model\\_base.py\u001b[0m in \u001b[0;36mpredict\u001b[1;34m(self, X)\u001b[0m\n\u001b[0;32m    384\u001b[0m             \u001b[0mReturns\u001b[0m \u001b[0mpredicted\u001b[0m \u001b[0mvalues\u001b[0m\u001b[1;33m.\u001b[0m\u001b[1;33m\u001b[0m\u001b[1;33m\u001b[0m\u001b[0m\n\u001b[0;32m    385\u001b[0m         \"\"\"\n\u001b[1;32m--> 386\u001b[1;33m         \u001b[1;32mreturn\u001b[0m \u001b[0mself\u001b[0m\u001b[1;33m.\u001b[0m\u001b[0m_decision_function\u001b[0m\u001b[1;33m(\u001b[0m\u001b[0mX\u001b[0m\u001b[1;33m)\u001b[0m\u001b[1;33m\u001b[0m\u001b[1;33m\u001b[0m\u001b[0m\n\u001b[0m\u001b[0;32m    387\u001b[0m \u001b[1;33m\u001b[0m\u001b[0m\n\u001b[0;32m    388\u001b[0m     \u001b[1;32mdef\u001b[0m \u001b[0m_set_intercept\u001b[0m\u001b[1;33m(\u001b[0m\u001b[0mself\u001b[0m\u001b[1;33m,\u001b[0m \u001b[0mX_offset\u001b[0m\u001b[1;33m,\u001b[0m \u001b[0my_offset\u001b[0m\u001b[1;33m,\u001b[0m \u001b[0mX_scale\u001b[0m\u001b[1;33m)\u001b[0m\u001b[1;33m:\u001b[0m\u001b[1;33m\u001b[0m\u001b[1;33m\u001b[0m\u001b[0m\n",
      "\u001b[1;32m~\\anaconda3\\lib\\site-packages\\sklearn\\linear_model\\_base.py\u001b[0m in \u001b[0;36m_decision_function\u001b[1;34m(self, X)\u001b[0m\n\u001b[0;32m    367\u001b[0m         \u001b[0mcheck_is_fitted\u001b[0m\u001b[1;33m(\u001b[0m\u001b[0mself\u001b[0m\u001b[1;33m)\u001b[0m\u001b[1;33m\u001b[0m\u001b[1;33m\u001b[0m\u001b[0m\n\u001b[0;32m    368\u001b[0m \u001b[1;33m\u001b[0m\u001b[0m\n\u001b[1;32m--> 369\u001b[1;33m         \u001b[0mX\u001b[0m \u001b[1;33m=\u001b[0m \u001b[0mself\u001b[0m\u001b[1;33m.\u001b[0m\u001b[0m_validate_data\u001b[0m\u001b[1;33m(\u001b[0m\u001b[0mX\u001b[0m\u001b[1;33m,\u001b[0m \u001b[0maccept_sparse\u001b[0m\u001b[1;33m=\u001b[0m\u001b[1;33m[\u001b[0m\u001b[1;34m\"csr\"\u001b[0m\u001b[1;33m,\u001b[0m \u001b[1;34m\"csc\"\u001b[0m\u001b[1;33m,\u001b[0m \u001b[1;34m\"coo\"\u001b[0m\u001b[1;33m]\u001b[0m\u001b[1;33m,\u001b[0m \u001b[0mreset\u001b[0m\u001b[1;33m=\u001b[0m\u001b[1;32mFalse\u001b[0m\u001b[1;33m)\u001b[0m\u001b[1;33m\u001b[0m\u001b[1;33m\u001b[0m\u001b[0m\n\u001b[0m\u001b[0;32m    370\u001b[0m         \u001b[1;32mreturn\u001b[0m \u001b[0msafe_sparse_dot\u001b[0m\u001b[1;33m(\u001b[0m\u001b[0mX\u001b[0m\u001b[1;33m,\u001b[0m \u001b[0mself\u001b[0m\u001b[1;33m.\u001b[0m\u001b[0mcoef_\u001b[0m\u001b[1;33m.\u001b[0m\u001b[0mT\u001b[0m\u001b[1;33m,\u001b[0m \u001b[0mdense_output\u001b[0m\u001b[1;33m=\u001b[0m\u001b[1;32mTrue\u001b[0m\u001b[1;33m)\u001b[0m \u001b[1;33m+\u001b[0m \u001b[0mself\u001b[0m\u001b[1;33m.\u001b[0m\u001b[0mintercept_\u001b[0m\u001b[1;33m\u001b[0m\u001b[1;33m\u001b[0m\u001b[0m\n\u001b[0;32m    371\u001b[0m \u001b[1;33m\u001b[0m\u001b[0m\n",
      "\u001b[1;32m~\\anaconda3\\lib\\site-packages\\sklearn\\base.py\u001b[0m in \u001b[0;36m_validate_data\u001b[1;34m(self, X, y, reset, validate_separately, **check_params)\u001b[0m\n\u001b[0;32m    598\u001b[0m \u001b[1;33m\u001b[0m\u001b[0m\n\u001b[0;32m    599\u001b[0m         \u001b[1;32mif\u001b[0m \u001b[1;32mnot\u001b[0m \u001b[0mno_val_X\u001b[0m \u001b[1;32mand\u001b[0m \u001b[0mcheck_params\u001b[0m\u001b[1;33m.\u001b[0m\u001b[0mget\u001b[0m\u001b[1;33m(\u001b[0m\u001b[1;34m\"ensure_2d\"\u001b[0m\u001b[1;33m,\u001b[0m \u001b[1;32mTrue\u001b[0m\u001b[1;33m)\u001b[0m\u001b[1;33m:\u001b[0m\u001b[1;33m\u001b[0m\u001b[1;33m\u001b[0m\u001b[0m\n\u001b[1;32m--> 600\u001b[1;33m             \u001b[0mself\u001b[0m\u001b[1;33m.\u001b[0m\u001b[0m_check_n_features\u001b[0m\u001b[1;33m(\u001b[0m\u001b[0mX\u001b[0m\u001b[1;33m,\u001b[0m \u001b[0mreset\u001b[0m\u001b[1;33m=\u001b[0m\u001b[0mreset\u001b[0m\u001b[1;33m)\u001b[0m\u001b[1;33m\u001b[0m\u001b[1;33m\u001b[0m\u001b[0m\n\u001b[0m\u001b[0;32m    601\u001b[0m \u001b[1;33m\u001b[0m\u001b[0m\n\u001b[0;32m    602\u001b[0m         \u001b[1;32mreturn\u001b[0m \u001b[0mout\u001b[0m\u001b[1;33m\u001b[0m\u001b[1;33m\u001b[0m\u001b[0m\n",
      "\u001b[1;32m~\\anaconda3\\lib\\site-packages\\sklearn\\base.py\u001b[0m in \u001b[0;36m_check_n_features\u001b[1;34m(self, X, reset)\u001b[0m\n\u001b[0;32m    398\u001b[0m \u001b[1;33m\u001b[0m\u001b[0m\n\u001b[0;32m    399\u001b[0m         \u001b[1;32mif\u001b[0m \u001b[0mn_features\u001b[0m \u001b[1;33m!=\u001b[0m \u001b[0mself\u001b[0m\u001b[1;33m.\u001b[0m\u001b[0mn_features_in_\u001b[0m\u001b[1;33m:\u001b[0m\u001b[1;33m\u001b[0m\u001b[1;33m\u001b[0m\u001b[0m\n\u001b[1;32m--> 400\u001b[1;33m             raise ValueError(\n\u001b[0m\u001b[0;32m    401\u001b[0m                 \u001b[1;34mf\"X has {n_features} features, but {self.__class__.__name__} \"\u001b[0m\u001b[1;33m\u001b[0m\u001b[1;33m\u001b[0m\u001b[0m\n\u001b[0;32m    402\u001b[0m                 \u001b[1;34mf\"is expecting {self.n_features_in_} features as input.\"\u001b[0m\u001b[1;33m\u001b[0m\u001b[1;33m\u001b[0m\u001b[0m\n",
      "\u001b[1;31mValueError\u001b[0m: X has 9 features, but LinearRegression is expecting 8 features as input."
     ]
    }
   ],
   "source": [
    "from sklearn.metrics import r2_score\n",
    "\n",
    "y_pred_train = model_lm.predict(X_train_minmax_scaled)\n",
    "y_pred_test  = model_lm.predict(X_test_minmax_scaled)\n",
    "r2_score(y_train, y_pred_train)\n",
    "\n",
    "\n",
    "from sklearn.metrics import r2_score\n",
    "y_pred = model_lm.predict(X)\n",
    "r2_score_train= r2_score(y, y_pred)\n",
    "print (r2_score_train)\n"
   ]
  },
  {
   "cell_type": "code",
   "execution_count": 77,
   "id": "8db1d795",
   "metadata": {},
   "outputs": [
    {
     "name": "stdout",
     "output_type": "stream",
     "text": [
      "-0.2\n",
      "[ 0.  -0.   0.2  0.1 -0.   0.  -0.   0.   0. ]\n",
      "r^2:  -0.57\n"
     ]
    },
    {
     "name": "stderr",
     "output_type": "stream",
     "text": [
      "C:\\Users\\NON\\anaconda3\\lib\\site-packages\\sklearn\\base.py:450: UserWarning: X does not have valid feature names, but LinearRegression was fitted with feature names\n",
      "  warnings.warn(\n"
     ]
    }
   ],
   "source": [
    "print(round(model_lm.intercept_,1))\n",
    "print(model_lm.coef_.round(1))\n",
    "print(\"r^2: \",round(model_lm.score(X_train_minmax_scaled,y_train),2))"
   ]
  },
  {
   "cell_type": "code",
   "execution_count": 245,
   "id": "b414ef1f",
   "metadata": {},
   "outputs": [
    {
     "name": "stdout",
     "output_type": "stream",
     "text": [
      "[-6.88147376e-02 -4.42907751e-02 -3.70831109e-02 -6.79846700e-02\n",
      " -5.63521676e-02 -1.64467244e-01  3.04535148e-02  8.15341886e-03\n",
      " -7.28298694e-02 -1.17462267e-01 -6.34283047e-02 -4.92339645e-02\n",
      " -5.50309096e-02 -5.79707116e-02 -3.32571665e-03 -5.85824229e-02\n",
      " -1.35419579e-01 -4.79759534e-02 -1.21524752e-01 -7.78406436e-02\n",
      " -6.79072707e-04 -1.26333702e-02 -7.77914523e-02  1.23676835e-03\n",
      " -5.12498731e-02 -3.78600635e-02 -8.59564605e-02 -3.77770023e-02\n",
      "  1.23243492e-02 -1.28666734e-01 -4.14506668e-02  7.89569965e-03\n",
      " -7.32142472e-02 -1.27841871e-01 -8.63321560e-02 -9.73931136e-02\n",
      " -7.48828304e-02 -1.26873404e-01 -5.13704876e-02 -8.78874704e-02\n",
      " -8.93519468e-02 -5.17824052e-02 -1.20956211e-01 -9.55143886e-02\n",
      " -7.53403064e-02 -5.31146359e-02 -1.21397511e-01 -8.98207640e-02\n",
      " -4.31213600e-02 -6.83879746e-02  6.38004434e-03 -1.33444963e-01\n",
      " -8.14261088e-02 -9.03465566e-02 -1.02721902e-01 -1.77442408e-02\n",
      " -7.12802673e-02 -4.93993350e-02 -7.56609234e-02  2.06151923e-02\n",
      " -8.01343557e-02 -1.26282677e-01 -6.28942373e-02 -5.15181624e-02\n",
      "  2.00675868e-02 -6.64554676e-02 -4.26944825e-02 -4.63924287e-02\n",
      " -1.36667140e-02 -7.85086113e-02 -8.03993689e-02 -3.80507193e-04\n",
      " -4.27967584e-02 -8.22243512e-02 -1.28385192e-01 -7.14026808e-02\n",
      " -5.60887071e-02 -7.38971492e-02 -4.87555558e-02 -1.26655108e-01\n",
      " -1.72567645e-02 -2.97256931e-02 -6.20215746e-02 -5.70246334e-02\n",
      " -8.79646521e-02 -7.75331298e-02 -8.83484802e-02 -8.27901709e-02\n",
      " -6.55887601e-02 -1.62576664e-01 -1.11059175e-01 -4.33723989e-02\n",
      " -5.15111637e-02  2.88365051e-02 -7.54420685e-02 -4.60529310e-02\n",
      " -1.24848783e-01 -1.27710666e-01 -1.74942201e-02 -2.12385211e-02\n",
      " -6.13972218e-02 -7.02064444e-02 -6.00311491e-02  8.70003169e-03\n",
      " -5.57753034e-02 -6.65204362e-02 -6.30545302e-02 -8.21696877e-02\n",
      " -1.21171698e-01 -6.52650863e-02 -2.29249533e-02  8.93755687e-03\n",
      " -4.64834725e-03 -3.21000971e-03 -7.63900140e-02 -6.36859363e-02\n",
      " -6.53130618e-02 -2.75567158e-02 -6.82391589e-02 -8.48968192e-02\n",
      " -6.10781095e-02  1.21091701e-02 -1.11948499e-01 -1.08889838e-01\n",
      " -1.05493441e-01 -7.97866711e-02 -4.45189754e-02 -5.36975745e-02\n",
      " -4.08051142e-02 -8.52160013e-02 -4.15451264e-02 -8.46364874e-02\n",
      "  3.61841488e-02  3.63241271e-02  2.56570971e-03 -1.09145451e-01\n",
      "  3.94659952e-03 -8.26233508e-02 -6.26547752e-02 -8.11118232e-02\n",
      " -9.41526278e-02 -5.49718211e-02 -2.64552398e-02 -1.32348489e-01\n",
      " -5.13116986e-02 -2.04318664e-02 -5.20795679e-02 -1.46147267e-01\n",
      " -1.22675076e-01 -7.26854624e-02 -3.16142947e-02 -4.09569789e-02\n",
      " -6.05047041e-02 -5.02677660e-02 -3.21591899e-02 -1.11631702e-01\n",
      " -1.17680224e-01 -5.32405079e-02 -1.12977563e-01 -6.36272342e-02\n",
      " -2.97452127e-03 -1.88758987e-02 -7.05497438e-02 -7.99553461e-02\n",
      " -1.36345429e-01 -4.19367125e-02 -5.48934987e-02 -8.79663260e-02\n",
      "  5.25459070e-03 -3.71009902e-02 -1.31763110e-01 -7.78856170e-02\n",
      " -8.62403573e-02 -8.55367249e-04  9.63629232e-04 -8.02183781e-02\n",
      " -6.29230739e-02 -8.80519904e-02 -6.40878449e-02 -5.17883853e-02\n",
      " -8.27127542e-02 -1.31113397e-04 -4.72243948e-02 -5.27819972e-02\n",
      "  1.73989041e-02 -4.37300670e-03 -3.83322994e-02 -1.24640909e-01\n",
      " -7.16313288e-02 -8.30800866e-02 -8.55959625e-02 -5.27483748e-02\n",
      " -5.13776095e-03 -1.04789277e-01 -1.27821769e-01 -2.90334107e-02\n",
      " -6.85735384e-02 -1.54135264e-02 -2.36899647e-02 -8.97533321e-02\n",
      " -5.10402050e-02 -6.91826301e-02 -4.15489721e-02]\n"
     ]
    },
    {
     "name": "stderr",
     "output_type": "stream",
     "text": [
      "C:\\Users\\NON\\anaconda3\\lib\\site-packages\\sklearn\\base.py:450: UserWarning: X does not have valid feature names, but LinearRegression was fitted with feature names\n",
      "  warnings.warn(\n"
     ]
    }
   ],
   "source": [
    "y_pred_train_lm = model_lm.predict(X_train_minmax_scaled)\n",
    "print(y_pred_train_lm )"
   ]
  },
  {
   "cell_type": "code",
   "execution_count": 78,
   "id": "ea2d0037",
   "metadata": {},
   "outputs": [
    {
     "name": "stdout",
     "output_type": "stream",
     "text": [
      "[-0.08711682 -0.07769305 -0.00052387 -0.05600418 -0.11252328 -0.14100326\n",
      " -0.12473112 -0.08223847 -0.08166178  0.01760696 -0.08376866 -0.07125628\n",
      " -0.06706024 -0.10753158 -0.0822362  -0.06989896 -0.01766778 -0.08883986\n",
      " -0.06240044 -0.0196583  -0.05678617 -0.11613941  0.02511922 -0.08676218\n",
      " -0.05688652 -0.06462542  0.0123307  -0.07430043 -0.01546261  0.03039032\n",
      "  0.01198209 -0.05128202 -0.00533996 -0.06814298 -0.04361338 -0.13721539\n",
      " -0.13328631 -0.02425562  0.0240154  -0.03849549 -0.06065611 -0.11604726\n",
      " -0.11004402 -0.06643012 -0.0609402   0.024211    0.024201   -0.06159311\n",
      " -0.06609899 -0.08319353 -0.07537115 -0.00671602 -0.13028622 -0.01060338\n",
      " -0.0896102  -0.12565224 -0.00556704 -0.06836364 -0.0190214  -0.08462398\n",
      " -0.12831767 -0.06961116 -0.0373913  -0.08631494 -0.06858102 -0.14223495\n",
      " -0.05601159 -0.08064642 -0.03874594 -0.01174686 -0.08629373 -0.0436946\n",
      " -0.12825843 -0.03671559 -0.14378237 -0.08325525 -0.02285292 -0.06269297\n",
      " -0.13151104  0.01431888 -0.1144941  -0.05995541 -0.04454645 -0.13782927\n",
      " -0.0203303  -0.09456268 -0.02637856]\n"
     ]
    },
    {
     "name": "stderr",
     "output_type": "stream",
     "text": [
      "C:\\Users\\NON\\anaconda3\\lib\\site-packages\\sklearn\\base.py:450: UserWarning: X does not have valid feature names, but LinearRegression was fitted with feature names\n",
      "  warnings.warn(\n"
     ]
    }
   ],
   "source": [
    "y_pred_test_lm  = model_lm.predict(X_test_minmax_scaled)\n",
    "print (y_pred_test_lm)"
   ]
  },
  {
   "cell_type": "code",
   "execution_count": 79,
   "id": "0343f9d9",
   "metadata": {},
   "outputs": [
    {
     "data": {
      "image/png": "[encoded data removed]",
      "text/plain": [
       "<Figure size 1440x720 with 4 Axes>"
      ]
     },
     "metadata": {
      "needs_background": "light"
     },
     "output_type": "display_data"
    }
   ],
   "source": [
    "fig, ax = plt.subplots(2,2,figsize=(20,10))\n",
    "sns.scatterplot(x=y_train, y=y_pred_train, ax = ax[0,0])\n",
    "sns.histplot(x=y_train-y_pred_train, ax = ax[0,1], bins = 50)\n",
    "ax[0,0].plot(y_train, y_train, color = \"black\")\n",
    "sns.scatterplot(x=y_test, y=y_pred_test, ax = ax[1,0])\n",
    "sns.histplot(x=y_test-y_pred_test, ax = ax[1,1], bins=50)\n",
    "ax[1,0].plot(y_test, y_test, color=\"black\")\n",
    "plt.show()"
   ]
  },
  {
   "cell_type": "code",
   "execution_count": 80,
   "id": "cbb80fb6",
   "metadata": {},
   "outputs": [
    {
     "ename": "IndexError",
     "evalue": "only integers, slices (`:`), ellipsis (`...`), numpy.newaxis (`None`) and integer or boolean arrays are valid indices",
     "output_type": "error",
     "traceback": [
      "\u001b[1;31m---------------------------------------------------------------------------\u001b[0m",
      "\u001b[1;31mIndexError\u001b[0m                                Traceback (most recent call last)",
      "\u001b[1;32m~\\AppData\\Local\\Temp/ipykernel_18932/4275194278.py\u001b[0m in \u001b[0;36m<module>\u001b[1;34m\u001b[0m\n\u001b[0;32m      1\u001b[0m \u001b[0mfig\u001b[0m\u001b[1;33m,\u001b[0m \u001b[0max\u001b[0m \u001b[1;33m=\u001b[0m \u001b[0mplt\u001b[0m\u001b[1;33m.\u001b[0m\u001b[0msubplots\u001b[0m\u001b[1;33m(\u001b[0m\u001b[1;33m)\u001b[0m\u001b[1;33m\u001b[0m\u001b[1;33m\u001b[0m\u001b[0m\n\u001b[1;32m----> 2\u001b[1;33m \u001b[0msns\u001b[0m\u001b[1;33m.\u001b[0m\u001b[0mscatterplot\u001b[0m\u001b[1;33m(\u001b[0m\u001b[0mX_train_minmax_scaled\u001b[0m\u001b[1;33m[\u001b[0m\u001b[1;34m'gross_fixed_capital_formation'\u001b[0m\u001b[1;33m]\u001b[0m\u001b[1;33m.\u001b[0m\u001b[0mvalues\u001b[0m\u001b[1;33m,\u001b[0m\u001b[0my_train\u001b[0m\u001b[1;33m)\u001b[0m\u001b[1;33m\u001b[0m\u001b[1;33m\u001b[0m\u001b[0m\n\u001b[0m\u001b[0;32m      3\u001b[0m \u001b[0mplt\u001b[0m\u001b[1;33m.\u001b[0m\u001b[0mshow\u001b[0m\u001b[1;33m(\u001b[0m\u001b[1;33m)\u001b[0m\u001b[1;33m\u001b[0m\u001b[1;33m\u001b[0m\u001b[0m\n",
      "\u001b[1;31mIndexError\u001b[0m: only integers, slices (`:`), ellipsis (`...`), numpy.newaxis (`None`) and integer or boolean arrays are valid indices"
     ]
    },
    {
     "data": {
      "image/png": "[encoded data removed]",
      "text/plain": [
       "<Figure size 432x288 with 1 Axes>"
      ]
     },
     "metadata": {
      "needs_background": "light"
     },
     "output_type": "display_data"
    }
   ],
   "source": [
    "fig, ax = plt.subplots()\n",
    "sns.scatterplot(X_train_minmax_scaled['gross_fixed_capital_formation'].values,y_train)\n",
    "plt.show()"
   ]
  },
  {
   "cell_type": "raw",
   "id": "0d69c04e",
   "metadata": {},
   "source": [
    "powertransformer.lambdas_"
   ]
  },
  {
   "cell_type": "markdown",
   "id": "bd4f0117",
   "metadata": {},
   "source": [
    "# Evaluation of the TEST portion of the data, that we did not use for training."
   ]
  },
  {
   "cell_type": "code",
   "execution_count": 81,
   "id": "723e2f5a",
   "metadata": {},
   "outputs": [
    {
     "name": "stdout",
     "output_type": "stream",
     "text": [
      "0.6270912699725022\n"
     ]
    }
   ],
   "source": [
    "y_pred_test = model_lm.predict(X_test)\n",
    "r2_score_test = r2_score(y_test, y_pred_test)\n",
    "print (r2_score_test)"
   ]
  },
  {
   "cell_type": "code",
   "execution_count": null,
   "id": "4b6ca5de",
   "metadata": {},
   "outputs": [],
   "source": [
    "#regression_line = lm.intercept_ + lm.coef_[0]*numeric_FDI3['stock market'] # b_0 + b_1 * x\n",
    "#plt.plot(numeric_FDI3['stock market'], regression_line, c = 'orange')\n",
    "#sns.scatterplot(x='stock market',y='fdi',data=numeric_FDI3)\n",
    "#plt.show()"
   ]
  },
  {
   "cell_type": "markdown",
   "id": "481f5aa3",
   "metadata": {},
   "source": [
    "# Checking linearity"
   ]
  },
  {
   "cell_type": "code",
   "execution_count": 106,
   "id": "49f66415",
   "metadata": {},
   "outputs": [],
   "source": [
    "np.random.seed(29)\n",
    "x = np.random.randn(200)"
   ]
  },
  {
   "cell_type": "code",
   "execution_count": 107,
   "id": "15e22b50",
   "metadata": {},
   "outputs": [],
   "source": [
    "y = x * 10 + np.random.randn(200) * 2"
   ]
  },
  {
   "cell_type": "code",
   "execution_count": 108,
   "id": "0cdc9c7e",
   "metadata": {},
   "outputs": [],
   "source": [
    "numeric_FDI3 = pd.DataFrame([x, y]).T\n",
    "numeric_FDI3.columns = ['X', 'y']"
   ]
  },
  {
   "cell_type": "code",
   "execution_count": 109,
   "id": "17179b62",
   "metadata": {},
   "outputs": [
    {
     "data": {
      "text/plain": [
       "Text(0.5, 20.80000000000002, 'stock market')"
      ]
     },
     "execution_count": 109,
     "metadata": {},
     "output_type": "execute_result"
    },
    {
     "data": {
      "image/png": "[encoded data removed]",
      "text/plain": [
       "<Figure size 360x360 with 1 Axes>"
      ]
     },
     "metadata": {
      "needs_background": "light"
     },
     "output_type": "display_data"
    }
   ],
   "source": [
    "sns.lmplot(x=\"X\", y=\"y\", data=numeric_FDI3, order=1)\n",
    "plt.ylabel('fdi')\n",
    "plt.xlabel('stock market')"
   ]
  },
  {
   "cell_type": "markdown",
   "id": "2ff26bc1",
   "metadata": {},
   "source": [
    "# checking relation"
   ]
  },
  {
   "cell_type": "code",
   "execution_count": 82,
   "id": "b9926c83",
   "metadata": {},
   "outputs": [],
   "source": [
    "import scipy.stats as st"
   ]
  },
  {
   "cell_type": "code",
   "execution_count": 83,
   "id": "1353a406",
   "metadata": {},
   "outputs": [
    {
     "data": {
      "text/html": [
       "<div>\n",
       "<style scoped>\n",
       "    .dataframe tbody tr th:only-of-type {\n",
       "        vertical-align: middle;\n",
       "    }\n",
       "\n",
       "    .dataframe tbody tr th {\n",
       "        vertical-align: top;\n",
       "    }\n",
       "\n",
       "    .dataframe thead th {\n",
       "        text-align: right;\n",
       "    }\n",
       "</style>\n",
       "<table border=\"1\" class=\"dataframe\">\n",
       "  <thead>\n",
       "    <tr style=\"text-align: right;\">\n",
       "      <th></th>\n",
       "      <th>commercial_opening_rate</th>\n",
       "      <th>exchange_rate</th>\n",
       "      <th>gross_fixed_capital_formation</th>\n",
       "      <th>business_climate</th>\n",
       "      <th>scoreeasedoingbusiness</th>\n",
       "      <th>buf</th>\n",
       "      <th>invf</th>\n",
       "      <th>finfree</th>\n",
       "      <th>stock_market</th>\n",
       "      <th>fdi</th>\n",
       "    </tr>\n",
       "  </thead>\n",
       "  <tbody>\n",
       "    <tr>\n",
       "      <th>0</th>\n",
       "      <td>0.091316</td>\n",
       "      <td>0.587494</td>\n",
       "      <td>-0.774379</td>\n",
       "      <td>-1.417695</td>\n",
       "      <td>0.661596</td>\n",
       "      <td>-1.440617</td>\n",
       "      <td>-0.106297</td>\n",
       "      <td>1.591057</td>\n",
       "      <td>-1.081706</td>\n",
       "      <td>-0.444693</td>\n",
       "    </tr>\n",
       "    <tr>\n",
       "      <th>1</th>\n",
       "      <td>0.305318</td>\n",
       "      <td>0.619904</td>\n",
       "      <td>-0.707284</td>\n",
       "      <td>-1.895417</td>\n",
       "      <td>0.661596</td>\n",
       "      <td>-1.440617</td>\n",
       "      <td>-0.106297</td>\n",
       "      <td>1.591057</td>\n",
       "      <td>-1.580889</td>\n",
       "      <td>-0.431908</td>\n",
       "    </tr>\n",
       "    <tr>\n",
       "      <th>2</th>\n",
       "      <td>0.414890</td>\n",
       "      <td>0.648266</td>\n",
       "      <td>-0.639883</td>\n",
       "      <td>-1.055946</td>\n",
       "      <td>0.661596</td>\n",
       "      <td>0.198081</td>\n",
       "      <td>0.896537</td>\n",
       "      <td>1.591057</td>\n",
       "      <td>-1.517545</td>\n",
       "      <td>-0.444369</td>\n",
       "    </tr>\n",
       "    <tr>\n",
       "      <th>3</th>\n",
       "      <td>0.480856</td>\n",
       "      <td>0.647921</td>\n",
       "      <td>-0.590864</td>\n",
       "      <td>-2.088493</td>\n",
       "      <td>0.661596</td>\n",
       "      <td>0.175398</td>\n",
       "      <td>0.387938</td>\n",
       "      <td>0.742700</td>\n",
       "      <td>-1.061439</td>\n",
       "      <td>-0.436306</td>\n",
       "    </tr>\n",
       "    <tr>\n",
       "      <th>4</th>\n",
       "      <td>0.455876</td>\n",
       "      <td>0.646282</td>\n",
       "      <td>-0.524810</td>\n",
       "      <td>-2.399586</td>\n",
       "      <td>0.661596</td>\n",
       "      <td>-0.038130</td>\n",
       "      <td>0.387938</td>\n",
       "      <td>0.742700</td>\n",
       "      <td>-0.943724</td>\n",
       "      <td>-0.410158</td>\n",
       "    </tr>\n",
       "    <tr>\n",
       "      <th>...</th>\n",
       "      <td>...</td>\n",
       "      <td>...</td>\n",
       "      <td>...</td>\n",
       "      <td>...</td>\n",
       "      <td>...</td>\n",
       "      <td>...</td>\n",
       "      <td>...</td>\n",
       "      <td>...</td>\n",
       "      <td>...</td>\n",
       "      <td>...</td>\n",
       "    </tr>\n",
       "    <tr>\n",
       "      <th>325</th>\n",
       "      <td>0.022737</td>\n",
       "      <td>-1.213818</td>\n",
       "      <td>1.021005</td>\n",
       "      <td>1.063682</td>\n",
       "      <td>2.190009</td>\n",
       "      <td>-0.540268</td>\n",
       "      <td>0.221498</td>\n",
       "      <td>0.232769</td>\n",
       "      <td>-0.402052</td>\n",
       "      <td>-0.043602</td>\n",
       "    </tr>\n",
       "    <tr>\n",
       "      <th>326</th>\n",
       "      <td>0.012928</td>\n",
       "      <td>-1.086020</td>\n",
       "      <td>1.072169</td>\n",
       "      <td>0.840255</td>\n",
       "      <td>1.490001</td>\n",
       "      <td>-0.540268</td>\n",
       "      <td>0.221498</td>\n",
       "      <td>-0.005062</td>\n",
       "      <td>-0.470490</td>\n",
       "      <td>0.116868</td>\n",
       "    </tr>\n",
       "    <tr>\n",
       "      <th>327</th>\n",
       "      <td>0.009179</td>\n",
       "      <td>-1.023403</td>\n",
       "      <td>1.084916</td>\n",
       "      <td>0.876499</td>\n",
       "      <td>1.092581</td>\n",
       "      <td>-0.331803</td>\n",
       "      <td>0.896537</td>\n",
       "      <td>1.014495</td>\n",
       "      <td>-0.567819</td>\n",
       "      <td>-0.026669</td>\n",
       "    </tr>\n",
       "    <tr>\n",
       "      <th>328</th>\n",
       "      <td>0.011055</td>\n",
       "      <td>-0.909239</td>\n",
       "      <td>1.130210</td>\n",
       "      <td>0.759630</td>\n",
       "      <td>0.973696</td>\n",
       "      <td>-1.226457</td>\n",
       "      <td>-0.583853</td>\n",
       "      <td>-0.838003</td>\n",
       "      <td>-0.274145</td>\n",
       "      <td>-0.093661</td>\n",
       "    </tr>\n",
       "    <tr>\n",
       "      <th>329</th>\n",
       "      <td>0.010118</td>\n",
       "      <td>-0.738744</td>\n",
       "      <td>1.126836</td>\n",
       "      <td>0.704780</td>\n",
       "      <td>1.080960</td>\n",
       "      <td>-1.189723</td>\n",
       "      <td>0.221498</td>\n",
       "      <td>0.232769</td>\n",
       "      <td>-0.595492</td>\n",
       "      <td>-0.051258</td>\n",
       "    </tr>\n",
       "  </tbody>\n",
       "</table>\n",
       "<p>290 rows × 10 columns</p>\n",
       "</div>"
      ],
      "text/plain": [
       "     commercial_opening_rate  exchange_rate  gross_fixed_capital_formation  \\\n",
       "0                   0.091316       0.587494                      -0.774379   \n",
       "1                   0.305318       0.619904                      -0.707284   \n",
       "2                   0.414890       0.648266                      -0.639883   \n",
       "3                   0.480856       0.647921                      -0.590864   \n",
       "4                   0.455876       0.646282                      -0.524810   \n",
       "..                       ...            ...                            ...   \n",
       "325                 0.022737      -1.213818                       1.021005   \n",
       "326                 0.012928      -1.086020                       1.072169   \n",
       "327                 0.009179      -1.023403                       1.084916   \n",
       "328                 0.011055      -0.909239                       1.130210   \n",
       "329                 0.010118      -0.738744                       1.126836   \n",
       "\n",
       "     business_climate  scoreeasedoingbusiness       buf      invf   finfree  \\\n",
       "0           -1.417695                0.661596 -1.440617 -0.106297  1.591057   \n",
       "1           -1.895417                0.661596 -1.440617 -0.106297  1.591057   \n",
       "2           -1.055946                0.661596  0.198081  0.896537  1.591057   \n",
       "3           -2.088493                0.661596  0.175398  0.387938  0.742700   \n",
       "4           -2.399586                0.661596 -0.038130  0.387938  0.742700   \n",
       "..                ...                     ...       ...       ...       ...   \n",
       "325          1.063682                2.190009 -0.540268  0.221498  0.232769   \n",
       "326          0.840255                1.490001 -0.540268  0.221498 -0.005062   \n",
       "327          0.876499                1.092581 -0.331803  0.896537  1.014495   \n",
       "328          0.759630                0.973696 -1.226457 -0.583853 -0.838003   \n",
       "329          0.704780                1.080960 -1.189723  0.221498  0.232769   \n",
       "\n",
       "     stock_market       fdi  \n",
       "0       -1.081706 -0.444693  \n",
       "1       -1.580889 -0.431908  \n",
       "2       -1.517545 -0.444369  \n",
       "3       -1.061439 -0.436306  \n",
       "4       -0.943724 -0.410158  \n",
       "..            ...       ...  \n",
       "325     -0.402052 -0.043602  \n",
       "326     -0.470490  0.116868  \n",
       "327     -0.567819 -0.026669  \n",
       "328     -0.274145 -0.093661  \n",
       "329     -0.595492 -0.051258  \n",
       "\n",
       "[290 rows x 10 columns]"
      ]
     },
     "execution_count": 83,
     "metadata": {},
     "output_type": "execute_result"
    }
   ],
   "source": [
    "numeric_FDI3"
   ]
  },
  {
   "cell_type": "code",
   "execution_count": 84,
   "id": "36952d99",
   "metadata": {},
   "outputs": [
    {
     "data": {
      "text/plain": [
       "0     -0.444693\n",
       "1     -0.431908\n",
       "2     -0.444369\n",
       "3     -0.436306\n",
       "4     -0.410158\n",
       "         ...   \n",
       "325   -0.043602\n",
       "326    0.116868\n",
       "327   -0.026669\n",
       "328   -0.093661\n",
       "329   -0.051258\n",
       "Name: fdi, Length: 290, dtype: float64"
      ]
     },
     "execution_count": 84,
     "metadata": {},
     "output_type": "execute_result"
    }
   ],
   "source": [
    "matrix_donors = numeric_FDI3['fdi']\n",
    "matrix_donors"
   ]
  },
  {
   "cell_type": "code",
   "execution_count": 88,
   "id": "7ed5f4ab",
   "metadata": {},
   "outputs": [
    {
     "data": {
      "text/html": [
       "<div>\n",
       "<style scoped>\n",
       "    .dataframe tbody tr th:only-of-type {\n",
       "        vertical-align: middle;\n",
       "    }\n",
       "\n",
       "    .dataframe tbody tr th {\n",
       "        vertical-align: top;\n",
       "    }\n",
       "\n",
       "    .dataframe thead th {\n",
       "        text-align: right;\n",
       "    }\n",
       "</style>\n",
       "<table border=\"1\" class=\"dataframe\">\n",
       "  <thead>\n",
       "    <tr style=\"text-align: right;\">\n",
       "      <th>fdi</th>\n",
       "      <th>-0.465033</th>\n",
       "      <th>-0.463561</th>\n",
       "      <th>-0.463301</th>\n",
       "      <th>-0.460892</th>\n",
       "      <th>-0.459917</th>\n",
       "      <th>-0.459837</th>\n",
       "      <th>-0.457060</th>\n",
       "      <th>-0.456806</th>\n",
       "      <th>-0.456438</th>\n",
       "      <th>-0.447075</th>\n",
       "      <th>...</th>\n",
       "      <th>0.268795</th>\n",
       "      <th>0.271531</th>\n",
       "      <th>0.291692</th>\n",
       "      <th>0.326676</th>\n",
       "      <th>0.345767</th>\n",
       "      <th>0.429047</th>\n",
       "      <th>0.436222</th>\n",
       "      <th>0.447487</th>\n",
       "      <th>0.465327</th>\n",
       "      <th>0.468611</th>\n",
       "    </tr>\n",
       "    <tr>\n",
       "      <th>stock_market</th>\n",
       "      <th></th>\n",
       "      <th></th>\n",
       "      <th></th>\n",
       "      <th></th>\n",
       "      <th></th>\n",
       "      <th></th>\n",
       "      <th></th>\n",
       "      <th></th>\n",
       "      <th></th>\n",
       "      <th></th>\n",
       "      <th></th>\n",
       "      <th></th>\n",
       "      <th></th>\n",
       "      <th></th>\n",
       "      <th></th>\n",
       "      <th></th>\n",
       "      <th></th>\n",
       "      <th></th>\n",
       "      <th></th>\n",
       "      <th></th>\n",
       "      <th></th>\n",
       "    </tr>\n",
       "  </thead>\n",
       "  <tbody>\n",
       "    <tr>\n",
       "      <th>-2.359208</th>\n",
       "      <td>0</td>\n",
       "      <td>0</td>\n",
       "      <td>0</td>\n",
       "      <td>0</td>\n",
       "      <td>0</td>\n",
       "      <td>0</td>\n",
       "      <td>0</td>\n",
       "      <td>0</td>\n",
       "      <td>0</td>\n",
       "      <td>0</td>\n",
       "      <td>...</td>\n",
       "      <td>0</td>\n",
       "      <td>0</td>\n",
       "      <td>0</td>\n",
       "      <td>0</td>\n",
       "      <td>0</td>\n",
       "      <td>0</td>\n",
       "      <td>0</td>\n",
       "      <td>0</td>\n",
       "      <td>0</td>\n",
       "      <td>0</td>\n",
       "    </tr>\n",
       "    <tr>\n",
       "      <th>-2.355461</th>\n",
       "      <td>0</td>\n",
       "      <td>0</td>\n",
       "      <td>0</td>\n",
       "      <td>0</td>\n",
       "      <td>0</td>\n",
       "      <td>0</td>\n",
       "      <td>0</td>\n",
       "      <td>0</td>\n",
       "      <td>0</td>\n",
       "      <td>0</td>\n",
       "      <td>...</td>\n",
       "      <td>0</td>\n",
       "      <td>0</td>\n",
       "      <td>0</td>\n",
       "      <td>0</td>\n",
       "      <td>0</td>\n",
       "      <td>0</td>\n",
       "      <td>0</td>\n",
       "      <td>0</td>\n",
       "      <td>0</td>\n",
       "      <td>0</td>\n",
       "    </tr>\n",
       "    <tr>\n",
       "      <th>-2.355391</th>\n",
       "      <td>0</td>\n",
       "      <td>0</td>\n",
       "      <td>0</td>\n",
       "      <td>0</td>\n",
       "      <td>0</td>\n",
       "      <td>0</td>\n",
       "      <td>0</td>\n",
       "      <td>0</td>\n",
       "      <td>0</td>\n",
       "      <td>0</td>\n",
       "      <td>...</td>\n",
       "      <td>0</td>\n",
       "      <td>0</td>\n",
       "      <td>0</td>\n",
       "      <td>0</td>\n",
       "      <td>0</td>\n",
       "      <td>0</td>\n",
       "      <td>0</td>\n",
       "      <td>0</td>\n",
       "      <td>0</td>\n",
       "      <td>0</td>\n",
       "    </tr>\n",
       "    <tr>\n",
       "      <th>-2.353515</th>\n",
       "      <td>0</td>\n",
       "      <td>0</td>\n",
       "      <td>0</td>\n",
       "      <td>0</td>\n",
       "      <td>0</td>\n",
       "      <td>0</td>\n",
       "      <td>0</td>\n",
       "      <td>0</td>\n",
       "      <td>0</td>\n",
       "      <td>0</td>\n",
       "      <td>...</td>\n",
       "      <td>0</td>\n",
       "      <td>0</td>\n",
       "      <td>0</td>\n",
       "      <td>0</td>\n",
       "      <td>0</td>\n",
       "      <td>0</td>\n",
       "      <td>0</td>\n",
       "      <td>0</td>\n",
       "      <td>0</td>\n",
       "      <td>0</td>\n",
       "    </tr>\n",
       "    <tr>\n",
       "      <th>-2.351350</th>\n",
       "      <td>0</td>\n",
       "      <td>0</td>\n",
       "      <td>0</td>\n",
       "      <td>0</td>\n",
       "      <td>0</td>\n",
       "      <td>0</td>\n",
       "      <td>0</td>\n",
       "      <td>0</td>\n",
       "      <td>0</td>\n",
       "      <td>0</td>\n",
       "      <td>...</td>\n",
       "      <td>0</td>\n",
       "      <td>0</td>\n",
       "      <td>0</td>\n",
       "      <td>0</td>\n",
       "      <td>0</td>\n",
       "      <td>0</td>\n",
       "      <td>0</td>\n",
       "      <td>0</td>\n",
       "      <td>0</td>\n",
       "      <td>0</td>\n",
       "    </tr>\n",
       "    <tr>\n",
       "      <th>...</th>\n",
       "      <td>...</td>\n",
       "      <td>...</td>\n",
       "      <td>...</td>\n",
       "      <td>...</td>\n",
       "      <td>...</td>\n",
       "      <td>...</td>\n",
       "      <td>...</td>\n",
       "      <td>...</td>\n",
       "      <td>...</td>\n",
       "      <td>...</td>\n",
       "      <td>...</td>\n",
       "      <td>...</td>\n",
       "      <td>...</td>\n",
       "      <td>...</td>\n",
       "      <td>...</td>\n",
       "      <td>...</td>\n",
       "      <td>...</td>\n",
       "      <td>...</td>\n",
       "      <td>...</td>\n",
       "      <td>...</td>\n",
       "      <td>...</td>\n",
       "    </tr>\n",
       "    <tr>\n",
       "      <th>2.312726</th>\n",
       "      <td>0</td>\n",
       "      <td>0</td>\n",
       "      <td>0</td>\n",
       "      <td>0</td>\n",
       "      <td>0</td>\n",
       "      <td>0</td>\n",
       "      <td>0</td>\n",
       "      <td>0</td>\n",
       "      <td>0</td>\n",
       "      <td>0</td>\n",
       "      <td>...</td>\n",
       "      <td>0</td>\n",
       "      <td>0</td>\n",
       "      <td>0</td>\n",
       "      <td>0</td>\n",
       "      <td>0</td>\n",
       "      <td>0</td>\n",
       "      <td>0</td>\n",
       "      <td>0</td>\n",
       "      <td>0</td>\n",
       "      <td>0</td>\n",
       "    </tr>\n",
       "    <tr>\n",
       "      <th>2.328118</th>\n",
       "      <td>0</td>\n",
       "      <td>0</td>\n",
       "      <td>0</td>\n",
       "      <td>0</td>\n",
       "      <td>0</td>\n",
       "      <td>0</td>\n",
       "      <td>0</td>\n",
       "      <td>0</td>\n",
       "      <td>0</td>\n",
       "      <td>0</td>\n",
       "      <td>...</td>\n",
       "      <td>0</td>\n",
       "      <td>1</td>\n",
       "      <td>0</td>\n",
       "      <td>0</td>\n",
       "      <td>0</td>\n",
       "      <td>0</td>\n",
       "      <td>0</td>\n",
       "      <td>0</td>\n",
       "      <td>0</td>\n",
       "      <td>0</td>\n",
       "    </tr>\n",
       "    <tr>\n",
       "      <th>2.399625</th>\n",
       "      <td>0</td>\n",
       "      <td>0</td>\n",
       "      <td>0</td>\n",
       "      <td>0</td>\n",
       "      <td>0</td>\n",
       "      <td>0</td>\n",
       "      <td>0</td>\n",
       "      <td>0</td>\n",
       "      <td>0</td>\n",
       "      <td>0</td>\n",
       "      <td>...</td>\n",
       "      <td>0</td>\n",
       "      <td>0</td>\n",
       "      <td>0</td>\n",
       "      <td>0</td>\n",
       "      <td>0</td>\n",
       "      <td>0</td>\n",
       "      <td>0</td>\n",
       "      <td>0</td>\n",
       "      <td>0</td>\n",
       "      <td>0</td>\n",
       "    </tr>\n",
       "    <tr>\n",
       "      <th>2.472174</th>\n",
       "      <td>0</td>\n",
       "      <td>0</td>\n",
       "      <td>0</td>\n",
       "      <td>0</td>\n",
       "      <td>0</td>\n",
       "      <td>0</td>\n",
       "      <td>0</td>\n",
       "      <td>0</td>\n",
       "      <td>0</td>\n",
       "      <td>0</td>\n",
       "      <td>...</td>\n",
       "      <td>0</td>\n",
       "      <td>0</td>\n",
       "      <td>0</td>\n",
       "      <td>0</td>\n",
       "      <td>0</td>\n",
       "      <td>0</td>\n",
       "      <td>0</td>\n",
       "      <td>0</td>\n",
       "      <td>0</td>\n",
       "      <td>0</td>\n",
       "    </tr>\n",
       "    <tr>\n",
       "      <th>2.573010</th>\n",
       "      <td>0</td>\n",
       "      <td>0</td>\n",
       "      <td>0</td>\n",
       "      <td>0</td>\n",
       "      <td>0</td>\n",
       "      <td>0</td>\n",
       "      <td>0</td>\n",
       "      <td>0</td>\n",
       "      <td>0</td>\n",
       "      <td>0</td>\n",
       "      <td>...</td>\n",
       "      <td>0</td>\n",
       "      <td>0</td>\n",
       "      <td>0</td>\n",
       "      <td>0</td>\n",
       "      <td>0</td>\n",
       "      <td>0</td>\n",
       "      <td>0</td>\n",
       "      <td>0</td>\n",
       "      <td>0</td>\n",
       "      <td>0</td>\n",
       "    </tr>\n",
       "  </tbody>\n",
       "</table>\n",
       "<p>290 rows × 290 columns</p>\n",
       "</div>"
      ],
      "text/plain": [
       "fdi           -0.465033  -0.463561  -0.463301  -0.460892  -0.459917  \\\n",
       "stock_market                                                          \n",
       "-2.359208             0          0          0          0          0   \n",
       "-2.355461             0          0          0          0          0   \n",
       "-2.355391             0          0          0          0          0   \n",
       "-2.353515             0          0          0          0          0   \n",
       "-2.351350             0          0          0          0          0   \n",
       "...                 ...        ...        ...        ...        ...   \n",
       " 2.312726             0          0          0          0          0   \n",
       " 2.328118             0          0          0          0          0   \n",
       " 2.399625             0          0          0          0          0   \n",
       " 2.472174             0          0          0          0          0   \n",
       " 2.573010             0          0          0          0          0   \n",
       "\n",
       "fdi           -0.459837  -0.457060  -0.456806  -0.456438  -0.447075  ...  \\\n",
       "stock_market                                                         ...   \n",
       "-2.359208             0          0          0          0          0  ...   \n",
       "-2.355461             0          0          0          0          0  ...   \n",
       "-2.355391             0          0          0          0          0  ...   \n",
       "-2.353515             0          0          0          0          0  ...   \n",
       "-2.351350             0          0          0          0          0  ...   \n",
       "...                 ...        ...        ...        ...        ...  ...   \n",
       " 2.312726             0          0          0          0          0  ...   \n",
       " 2.328118             0          0          0          0          0  ...   \n",
       " 2.399625             0          0          0          0          0  ...   \n",
       " 2.472174             0          0          0          0          0  ...   \n",
       " 2.573010             0          0          0          0          0  ...   \n",
       "\n",
       "fdi            0.268795   0.271531   0.291692   0.326676   0.345767  \\\n",
       "stock_market                                                          \n",
       "-2.359208             0          0          0          0          0   \n",
       "-2.355461             0          0          0          0          0   \n",
       "-2.355391             0          0          0          0          0   \n",
       "-2.353515             0          0          0          0          0   \n",
       "-2.351350             0          0          0          0          0   \n",
       "...                 ...        ...        ...        ...        ...   \n",
       " 2.312726             0          0          0          0          0   \n",
       " 2.328118             0          1          0          0          0   \n",
       " 2.399625             0          0          0          0          0   \n",
       " 2.472174             0          0          0          0          0   \n",
       " 2.573010             0          0          0          0          0   \n",
       "\n",
       "fdi            0.429047   0.436222   0.447487   0.465327   0.468611  \n",
       "stock_market                                                         \n",
       "-2.359208             0          0          0          0          0  \n",
       "-2.355461             0          0          0          0          0  \n",
       "-2.355391             0          0          0          0          0  \n",
       "-2.353515             0          0          0          0          0  \n",
       "-2.351350             0          0          0          0          0  \n",
       "...                 ...        ...        ...        ...        ...  \n",
       " 2.312726             0          0          0          0          0  \n",
       " 2.328118             0          0          0          0          0  \n",
       " 2.399625             0          0          0          0          0  \n",
       " 2.472174             0          0          0          0          0  \n",
       " 2.573010             0          0          0          0          0  \n",
       "\n",
       "[290 rows x 290 columns]"
      ]
     },
     "execution_count": 88,
     "metadata": {},
     "output_type": "execute_result"
    }
   ],
   "source": [
    "\n",
    "FDI4 = pd.crosstab(numeric_FDI3['stock_market'] , numeric_FDI3['fdi'], margins = False)\n",
    "FDI4"
   ]
  },
  {
   "cell_type": "markdown",
   "id": "6387660a",
   "metadata": {},
   "source": [
    "# compute chi2 "
   ]
  },
  {
   "cell_type": "code",
   "execution_count": 89,
   "id": "97462f4b",
   "metadata": {},
   "outputs": [
    {
     "data": {
      "text/plain": [
       "(83810.0,\n",
       " 0.23949637231211704,\n",
       " 83521,\n",
       " array([[0.00344828, 0.00344828, 0.00344828, ..., 0.00344828, 0.00344828,\n",
       "         0.00344828],\n",
       "        [0.00344828, 0.00344828, 0.00344828, ..., 0.00344828, 0.00344828,\n",
       "         0.00344828],\n",
       "        [0.00344828, 0.00344828, 0.00344828, ..., 0.00344828, 0.00344828,\n",
       "         0.00344828],\n",
       "        ...,\n",
       "        [0.00344828, 0.00344828, 0.00344828, ..., 0.00344828, 0.00344828,\n",
       "         0.00344828],\n",
       "        [0.00344828, 0.00344828, 0.00344828, ..., 0.00344828, 0.00344828,\n",
       "         0.00344828],\n",
       "        [0.00344828, 0.00344828, 0.00344828, ..., 0.00344828, 0.00344828,\n",
       "         0.00344828]]))"
      ]
     },
     "execution_count": 89,
     "metadata": {},
     "output_type": "execute_result"
    }
   ],
   "source": [
    "st.chi2_contingency(FDI4)"
   ]
  },
  {
   "cell_type": "raw",
   "id": "028cdbef",
   "metadata": {},
   "source": [
    "#Ho: no relationship , here the pvalue is 0.2394963723121170\n",
    "\n",
    "#pvalue > 0.05 so we accept the null hypothesis there is no relationship between stock market and fdi"
   ]
  },
  {
   "cell_type": "markdown",
   "id": "fad340cf",
   "metadata": {},
   "source": [
    "# CHEcKING Multicollinearity and  Variance Inflation Factor"
   ]
  },
  {
   "cell_type": "code",
   "execution_count": 90,
   "id": "d6921197",
   "metadata": {},
   "outputs": [
    {
     "data": {
      "image/png": "[encoded data removed]",
      "text/plain": [
       "<Figure size 432x288 with 2 Axes>"
      ]
     },
     "metadata": {
      "needs_background": "light"
     },
     "output_type": "display_data"
    }
   ],
   "source": [
    "sns.heatmap(numeric_FDI3.corr(), annot=True)\n",
    "plt.show()"
   ]
  },
  {
   "cell_type": "markdown",
   "id": "803e6481",
   "metadata": {},
   "source": [
    "#we suspect that fdi correlated with the other"
   ]
  },
  {
   "cell_type": "code",
   "execution_count": 102,
   "id": "a96f2cfb",
   "metadata": {},
   "outputs": [
    {
     "data": {
      "text/html": [
       "<div>\n",
       "<style scoped>\n",
       "    .dataframe tbody tr th:only-of-type {\n",
       "        vertical-align: middle;\n",
       "    }\n",
       "\n",
       "    .dataframe tbody tr th {\n",
       "        vertical-align: top;\n",
       "    }\n",
       "\n",
       "    .dataframe thead th {\n",
       "        text-align: right;\n",
       "    }\n",
       "</style>\n",
       "<table border=\"1\" class=\"dataframe\">\n",
       "  <thead>\n",
       "    <tr style=\"text-align: right;\">\n",
       "      <th></th>\n",
       "      <th>commercial_opening_rate</th>\n",
       "      <th>exchange_rate</th>\n",
       "      <th>gross_fixed_capital_formation</th>\n",
       "      <th>business_climate</th>\n",
       "      <th>scoreeasedoingbusiness</th>\n",
       "      <th>buf</th>\n",
       "      <th>invf</th>\n",
       "      <th>finfree</th>\n",
       "      <th>stock_market</th>\n",
       "      <th>fdi</th>\n",
       "      <th>total</th>\n",
       "    </tr>\n",
       "  </thead>\n",
       "  <tbody>\n",
       "    <tr>\n",
       "      <th>0</th>\n",
       "      <td>0.091316</td>\n",
       "      <td>0.587494</td>\n",
       "      <td>-0.774379</td>\n",
       "      <td>-1.417695</td>\n",
       "      <td>0.661596</td>\n",
       "      <td>-1.440617</td>\n",
       "      <td>-0.106297</td>\n",
       "      <td>1.591057</td>\n",
       "      <td>-1.081706</td>\n",
       "      <td>-0.444693</td>\n",
       "      <td>-2.476724</td>\n",
       "    </tr>\n",
       "    <tr>\n",
       "      <th>1</th>\n",
       "      <td>0.305318</td>\n",
       "      <td>0.619904</td>\n",
       "      <td>-0.707284</td>\n",
       "      <td>-1.895417</td>\n",
       "      <td>0.661596</td>\n",
       "      <td>-1.440617</td>\n",
       "      <td>-0.106297</td>\n",
       "      <td>1.591057</td>\n",
       "      <td>-1.580889</td>\n",
       "      <td>-0.431908</td>\n",
       "      <td>-3.172532</td>\n",
       "    </tr>\n",
       "    <tr>\n",
       "      <th>2</th>\n",
       "      <td>0.414890</td>\n",
       "      <td>0.648266</td>\n",
       "      <td>-0.639883</td>\n",
       "      <td>-1.055946</td>\n",
       "      <td>0.661596</td>\n",
       "      <td>0.198081</td>\n",
       "      <td>0.896537</td>\n",
       "      <td>1.591057</td>\n",
       "      <td>-1.517545</td>\n",
       "      <td>-0.444369</td>\n",
       "      <td>0.548787</td>\n",
       "    </tr>\n",
       "    <tr>\n",
       "      <th>3</th>\n",
       "      <td>0.480856</td>\n",
       "      <td>0.647921</td>\n",
       "      <td>-0.590864</td>\n",
       "      <td>-2.088493</td>\n",
       "      <td>0.661596</td>\n",
       "      <td>0.175398</td>\n",
       "      <td>0.387938</td>\n",
       "      <td>0.742700</td>\n",
       "      <td>-1.061439</td>\n",
       "      <td>-0.436306</td>\n",
       "      <td>-1.292307</td>\n",
       "    </tr>\n",
       "    <tr>\n",
       "      <th>4</th>\n",
       "      <td>0.455876</td>\n",
       "      <td>0.646282</td>\n",
       "      <td>-0.524810</td>\n",
       "      <td>-2.399586</td>\n",
       "      <td>0.661596</td>\n",
       "      <td>-0.038130</td>\n",
       "      <td>0.387938</td>\n",
       "      <td>0.742700</td>\n",
       "      <td>-0.943724</td>\n",
       "      <td>-0.410158</td>\n",
       "      <td>-1.658141</td>\n",
       "    </tr>\n",
       "  </tbody>\n",
       "</table>\n",
       "</div>"
      ],
      "text/plain": [
       "   commercial_opening_rate  exchange_rate  gross_fixed_capital_formation  \\\n",
       "0                 0.091316       0.587494                      -0.774379   \n",
       "1                 0.305318       0.619904                      -0.707284   \n",
       "2                 0.414890       0.648266                      -0.639883   \n",
       "3                 0.480856       0.647921                      -0.590864   \n",
       "4                 0.455876       0.646282                      -0.524810   \n",
       "\n",
       "   business_climate  scoreeasedoingbusiness       buf      invf   finfree  \\\n",
       "0         -1.417695                0.661596 -1.440617 -0.106297  1.591057   \n",
       "1         -1.895417                0.661596 -1.440617 -0.106297  1.591057   \n",
       "2         -1.055946                0.661596  0.198081  0.896537  1.591057   \n",
       "3         -2.088493                0.661596  0.175398  0.387938  0.742700   \n",
       "4         -2.399586                0.661596 -0.038130  0.387938  0.742700   \n",
       "\n",
       "   stock_market       fdi     total  \n",
       "0     -1.081706 -0.444693 -2.476724  \n",
       "1     -1.580889 -0.431908 -3.172532  \n",
       "2     -1.517545 -0.444369  0.548787  \n",
       "3     -1.061439 -0.436306 -1.292307  \n",
       "4     -0.943724 -0.410158 -1.658141  "
      ]
     },
     "execution_count": 102,
     "metadata": {},
     "output_type": "execute_result"
    }
   ],
   "source": [
    "numeric_FDI3['total'] = numeric_FDI3['commercial_opening_rate'] +numeric_FDI3['gross_fixed_capital_formation'] +numeric_FDI3['business_climate'] +numeric_FDI3['scoreeasedoingbusiness'] +numeric_FDI3['buf'] +numeric_FDI3['invf']+numeric_FDI3['finfree']+numeric_FDI3['stock_market'] \n",
    "numeric_FDI3.head()"
   ]
  },
  {
   "cell_type": "code",
   "execution_count": 93,
   "id": "535d646d",
   "metadata": {},
   "outputs": [],
   "source": [
    "from sklearn import neighbors\n",
    "from sklearn.model_selection import train_test_split\n",
    "from sklearn.metrics import r2_score"
   ]
  },
  {
   "cell_type": "code",
   "execution_count": 94,
   "id": "45fdd92f",
   "metadata": {},
   "outputs": [],
   "source": [
    "y = numeric_FDI3['fdi']\n",
    "X = numeric_FDI3[['commercial_opening_rate','gross_fixed_capital_formation','business_climate','scoreeasedoingbusiness','buf','invf','finfree','stock_market']] \n",
    "X_train, X_test, y_train, y_test = train_test_split(X,y)"
   ]
  },
  {
   "cell_type": "code",
   "execution_count": 103,
   "id": "ba0580e6",
   "metadata": {},
   "outputs": [],
   "source": [
    "KNN = model_knn.fit(X_train, y_train)"
   ]
  },
  {
   "cell_type": "code",
   "execution_count": 104,
   "id": "aed8e5e2",
   "metadata": {},
   "outputs": [],
   "source": [
    "y_pred = model_knn.predict(X_test)"
   ]
  },
  {
   "cell_type": "code",
   "execution_count": 105,
   "id": "c101a606",
   "metadata": {},
   "outputs": [
    {
     "data": {
      "text/plain": [
       "0.43400252072584566"
      ]
     },
     "execution_count": 105,
     "metadata": {},
     "output_type": "execute_result"
    }
   ],
   "source": [
    "r2_score(y_pred,y_test)"
   ]
  }
 ],
 "metadata": {
  "kernelspec": {
   "display_name": "Python 3 (ipykernel)",
   "language": "python",
   "name": "python3"
  },
  "language_info": {
   "codemirror_mode": {
    "name": "ipython",
    "version": 3
   },
   "file_extension": ".py",
   "mimetype": "text/x-python",
   "name": "python",
   "nbconvert_exporter": "python",
   "pygments_lexer": "ipython3",
   "version": "3.9.7"
  }
 },
 "nbformat": 4,
 "nbformat_minor": 5
}
